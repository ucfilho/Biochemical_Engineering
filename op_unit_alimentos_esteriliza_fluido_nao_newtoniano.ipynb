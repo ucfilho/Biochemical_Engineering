{
  "nbformat": 4,
  "nbformat_minor": 0,
  "metadata": {
    "colab": {
      "provenance": [],
      "include_colab_link": true
    },
    "kernelspec": {
      "name": "python3",
      "display_name": "Python 3"
    },
    "language_info": {
      "name": "python"
    }
  },
  "cells": [
    {
      "cell_type": "markdown",
      "metadata": {
        "id": "view-in-github",
        "colab_type": "text"
      },
      "source": [
        "<a href=\"https://colab.research.google.com/github/ucfilho/Biochemical_Engineering/blob/master/op_unit_alimentos_esteriliza_fluido_nao_newtoniano.ipynb\" target=\"_parent\"><img src=\"https://colab.research.google.com/assets/colab-badge.svg\" alt=\"Open In Colab\"/></a>"
      ]
    },
    {
      "cell_type": "markdown",
      "source": [
        "# Esteriliza fluido não newtoniano: tubo de espera"
      ],
      "metadata": {
        "id": "fSFGq_5aHUQY"
      }
    },
    {
      "cell_type": "markdown",
      "source": [
        "Uma mistura para sorvete deve ser submetida ao processo de\n",
        "esterilização contínua seguido de enchimento asséptico. O fluido\n",
        "apresenta comportamento reológico que segue a Lei da Potência\n",
        "cujo índice de fluxo na T do processo é 0,80 (n). O tubo de\n",
        "retenção, de diâmetro interno de 2,54 cm, deve ter um\n",
        "comprimento suficiente para garantir um valor de esterilização de\n",
        "5D para o microrganismo Bacillus stearothermophilus.\n",
        "Está prevista uma vazão volumétrica de 1,15 m3\n",
        "/h com\n",
        "escoamento laminar no tubo e a temperatura de saída no tubo\n",
        "de 141oC. Calcular o comprimento do tubo com base na velocidade\n",
        "máxima, sendo"
      ],
      "metadata": {
        "id": "rHTDKBAujxVc"
      }
    },
    {
      "cell_type": "code",
      "execution_count": 1,
      "metadata": {
        "id": "6iLlKCSrjwkZ"
      },
      "outputs": [],
      "source": [
        "# v_max = (3n+1)/(n+1)*v_avg # laminar\n",
        "# v_max = 2* v_avg  # turbulento fluido newtoniano\n",
        "# v_max = v_avg /(0.0336*log(Re)+0.662*d) # turbulento não newtoniano\n",
        "# Dref = 0.32 seg, Tref=160 celsius, Z= 11.2 celcius"
      ]
    },
    {
      "cell_type": "code",
      "source": [
        "import numpy as np\n",
        "N0_N = 1e5\n",
        "n = 0.8\n",
        "F = 1.5 # m3/h\n",
        "d =2.54 # cm\n",
        "T0 = 160 # celcius\n",
        "D0 = 0.32 # seg\n",
        "T0 = 160\n",
        "Z = 11.2\n",
        "T = 141\n",
        "L = 10**((T-T0)/Z)\n",
        "D = D0/L; print('D=',D,'seg')\n",
        "k = np.log(10)/D; print('k=',k,'1/seg')\n",
        "F = F *(1/60)*(1/60); print('F=',F,'m3/s')# m3/h* 1h/60min * 1min/60s = m3/s\n",
        "d = 2.54* 1/100 # m\n",
        "A = np.pi*d**2/4\n",
        "u = F/A ; print('u=',u,'m/s') # veloc media\n",
        "theta = 1/k*np.log(N0_N); print('theta=',theta,'s')\n",
        "u_max = (3*n+1)/(n+1)*u; print('u_max=',u_max,'m/s')\n",
        "L = u_max* theta; print('L=',L,'m pseudoplastico')\n",
        "L = u*theta; print('L=',L,'m-plug flow')"
      ],
      "metadata": {
        "colab": {
          "base_uri": "https://localhost:8080/"
        },
        "id": "_GpzpzuDCZe7",
        "outputId": "af4ac300-b1c8-432e-bf74-2e31dd3b2721"
      },
      "execution_count": 2,
      "outputs": [
        {
          "output_type": "stream",
          "name": "stdout",
          "text": [
            "D= 15.906643572599663 seg\n",
            "k= 0.14475618834889933 1/seg\n",
            "F= 0.0004166666666666667 m3/s\n",
            "u= 0.8223021839124939 m/s\n",
            "theta= 79.53321786299831 s\n",
            "u_max= 1.5532374585013775 m/s\n",
            "L= 123.53397317995986 m pseudoplastico\n",
            "L= 65.40033874233168 m-plug flow\n"
          ]
        }
      ]
    }
  ]
}