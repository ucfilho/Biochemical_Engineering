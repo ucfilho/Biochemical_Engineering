{
  "nbformat": 4,
  "nbformat_minor": 0,
  "metadata": {
    "colab": {
      "name": "Reator_001_enche_reator.ipynb",
      "provenance": [],
      "authorship_tag": "ABX9TyOKMUBDFtHo8G4Li88bP+mg",
      "include_colab_link": true
    },
    "kernelspec": {
      "name": "python3",
      "display_name": "Python 3"
    },
    "language_info": {
      "name": "python"
    }
  },
  "cells": [
    {
      "cell_type": "markdown",
      "metadata": {
        "id": "view-in-github",
        "colab_type": "text"
      },
      "source": [
        "<a href=\"https://colab.research.google.com/github/ucfilho/Biochemical_Engineering/blob/master/Class_jul_nov_2021/Reator_001_enche_reator.ipynb\" target=\"_parent\"><img src=\"https://colab.research.google.com/assets/colab-badge.svg\" alt=\"Open In Colab\"/></a>"
      ]
    },
    {
      "cell_type": "code",
      "metadata": {
        "id": "k3lhfkHw6jf1"
      },
      "source": [
        "import numpy as np\n",
        "import matplotlib.pyplot as plt\n",
        "from scipy.integrate import odeint"
      ],
      "execution_count": 1,
      "outputs": []
    },
    {
      "cell_type": "code",
      "metadata": {
        "id": "LTHxFQ3b6qzU"
      },
      "source": [
        "Flow = 100000 # 100 m3/h= 100000 L/h\n",
        "Vol = 600000 # 600 m3 = 600000 L\n",
        "t0=0;tf=10;\n",
        "Vol_Ini=Vol*1/10;# cheio com 10%\n",
        "x0=[Vol_Ini];"
      ],
      "execution_count": 2,
      "outputs": []
    },
    {
      "cell_type": "code",
      "metadata": {
        "id": "w3qwWJmc6kp8"
      },
      "source": [
        "def f(Var,t):\n",
        "  Cdot=np.zeros(1)\n",
        "  Cdot[0]= np.copy(Flow) # volume\n",
        "  return Cdot\n"
      ],
      "execution_count": 3,
      "outputs": []
    },
    {
      "cell_type": "code",
      "metadata": {
        "id": "EFqKno-X7O5h"
      },
      "source": [
        "t = np.linspace(t0, tf, 100)\n",
        "x = odeint(f, x0, t )"
      ],
      "execution_count": 4,
      "outputs": []
    },
    {
      "cell_type": "code",
      "metadata": {
        "colab": {
          "base_uri": "https://localhost:8080/",
          "height": 312
        },
        "id": "vkP4u5_P7nkJ",
        "outputId": "8a7668d6-41b2-4a41-a6fb-aacbc5fe79a5"
      },
      "source": [
        "plt.plot(t,x[:,0]/1000)\n",
        "plt.title('Volume ocupado')\n",
        "plt.xlabel('tempo-h')\n",
        "plt.ylabel('Volume-m3')"
      ],
      "execution_count": 5,
      "outputs": [
        {
          "output_type": "execute_result",
          "data": {
            "text/plain": [
              "Text(0, 0.5, 'Volume-m3')"
            ]
          },
          "metadata": {},
          "execution_count": 5
        },
        {
          "output_type": "display_data",
          "data": {
            "image/png": "[encoded data removed]",
            "text/plain": [
              "<Figure size 432x288 with 1 Axes>"
            ]
          },
          "metadata": {
            "needs_background": "light"
          }
        }
      ]
    },
    {
      "cell_type": "code",
      "metadata": {
        "id": "WJEpP0K8Uffi"
      },
      "source": [
        ""
      ],
      "execution_count": null,
      "outputs": []
    }
  ]
}