{
  "nbformat": 4,
  "nbformat_minor": 0,
  "metadata": {
    "colab": {
      "name": "Class_001_Projeto_Economico_Funcional_jul_12_2021.ipynb",
      "provenance": [],
      "authorship_tag": "ABX9TyPfg0tHeA5Aq3ZLDutSh16o",
      "include_colab_link": true
    },
    "kernelspec": {
      "name": "python3",
      "display_name": "Python 3"
    },
    "language_info": {
      "name": "python"
    }
  },
  "cells": [
    {
      "cell_type": "markdown",
      "metadata": {
        "id": "view-in-github",
        "colab_type": "text"
      },
      "source": [
        "<a href=\"https://colab.research.google.com/github/ucfilho/Biochemical_Engineering/blob/master/Class_jul_nov_2021/Class_001_Projeto_Economico_Funcional_jul_12_2021.ipynb\" target=\"_parent\"><img src=\"https://colab.research.google.com/assets/colab-badge.svg\" alt=\"Open In Colab\"/></a>"
      ]
    },
    {
      "cell_type": "code",
      "metadata": {
        "id": "xpokYNedUHmY"
      },
      "source": [
        "import numpy as np"
      ],
      "execution_count": 1,
      "outputs": []
    },
    {
      "cell_type": "code",
      "metadata": {
        "colab": {
          "base_uri": "https://localhost:8080/"
        },
        "id": "IW48t0XaUQGX",
        "outputId": "f8fe695c-0c4b-4fda-dde5-e08984d2d836"
      },
      "source": [
        "Vol = 300\n",
        "\n",
        "D = (4*Vol/np.pi)**(1/3)\n",
        "HL = D\n",
        "Di = D/3\n",
        "Wb = D/10\n",
        "print('D=',D)\n",
        "print('HL=',HL)\n",
        "print('Di=',Di)\n",
        "print('Wb=',Wb)\n"
      ],
      "execution_count": 2,
      "outputs": [
        {
          "output_type": "stream",
          "text": [
            "D= 7.255663357195618\n",
            "HL= 7.255663357195618\n",
            "Di= 2.4185544523985394\n",
            "Wb= 0.7255663357195619\n"
          ],
          "name": "stdout"
        }
      ]
    }
  ]
}