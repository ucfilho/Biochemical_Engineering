{
  "nbformat": 4,
  "nbformat_minor": 0,
  "metadata": {
    "colab": {
      "name": "Reator_002_enche_reator.ipynb",
      "provenance": [],
      "authorship_tag": "ABX9TyNf8fcl+RzNpvN15oPkOukD",
      "include_colab_link": true
    },
    "kernelspec": {
      "name": "python3",
      "display_name": "Python 3"
    },
    "language_info": {
      "name": "python"
    }
  },
  "cells": [
    {
      "cell_type": "markdown",
      "metadata": {
        "id": "view-in-github",
        "colab_type": "text"
      },
      "source": [
        "<a href=\"https://colab.research.google.com/github/ucfilho/Biochemical_Engineering/blob/master/Class_jul_nov_2021/Reator_002_enche_reator.ipynb\" target=\"_parent\"><img src=\"https://colab.research.google.com/assets/colab-badge.svg\" alt=\"Open In Colab\"/></a>"
      ]
    },
    {
      "cell_type": "code",
      "metadata": {
        "id": "k3lhfkHw6jf1"
      },
      "source": [
        "import numpy as np\n",
        "import matplotlib.pyplot as plt\n",
        "from scipy.integrate import odeint"
      ],
      "execution_count": null,
      "outputs": []
    },
    {
      "cell_type": "code",
      "metadata": {
        "id": "LTHxFQ3b6qzU"
      },
      "source": [
        "Flow = 100000 # 100 m3/h= 100000 L/h\n",
        "Vol = 600000 # 600 m3 = 600000 L\n",
        "t0=0;tf=10;\n",
        "Vol_Ini=Vol*1/10;# cheio com 10%\n",
        "x0=[Vol_Ini];"
      ],
      "execution_count": null,
      "outputs": []
    },
    {
      "cell_type": "code",
      "metadata": {
        "id": "w3qwWJmc6kp8"
      },
      "source": [
        "def f(Var,t):\n",
        "\n",
        "  Volume=Var[0]\n",
        "\n",
        "  Cdot = np.zeros(1)\n",
        "\n",
        "  if(Volume > Vol):\n",
        "    Flow_value=0\n",
        "  else:\n",
        "    Flow_value=Flow\n",
        "\n",
        "  Cdot[0]= np.copy(Flow_value) # volume\n",
        "\n",
        "  return Cdot\n"
      ],
      "execution_count": null,
      "outputs": []
    },
    {
      "cell_type": "code",
      "metadata": {
        "id": "EFqKno-X7O5h"
      },
      "source": [
        "t = np.linspace(t0, tf, 100)\n",
        "x = odeint(f, x0, t )"
      ],
      "execution_count": null,
      "outputs": []
    },
    {
      "cell_type": "code",
      "metadata": {
        "colab": {
          "base_uri": "https://localhost:8080/",
          "height": 313
        },
        "id": "vkP4u5_P7nkJ",
        "outputId": "237523b8-d00d-4c28-f43e-65be07eef027"
      },
      "source": [
        "plt.plot(t,x[:,0]/1000)\n",
        "plt.title('Volume ocupado')\n",
        "plt.xlabel('tempo-h')\n",
        "plt.ylabel('Volume-m3')"
      ],
      "execution_count": null,
      "outputs": [
        {
          "output_type": "execute_result",
          "data": {
            "text/plain": [
              "Text(0, 0.5, 'Volume-m3')"
            ]
          },
          "metadata": {},
          "execution_count": 5
        },
        {
          "output_type": "display_data",
          "data": {
            "image/png": "[encoded data removed]",
            "text/plain": [
              "<Figure size 432x288 with 1 Axes>"
            ]
          },
          "metadata": {
            "needs_background": "light"
          }
        }
      ]
    }
  ]
}