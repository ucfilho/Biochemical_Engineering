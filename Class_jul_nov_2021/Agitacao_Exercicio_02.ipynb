{
  "nbformat": 4,
  "nbformat_minor": 0,
  "metadata": {
    "colab": {
      "name": "Agitacao_Exercicio_02.ipynb",
      "provenance": [],
      "include_colab_link": true
    },
    "kernelspec": {
      "name": "python3",
      "display_name": "Python 3"
    },
    "language_info": {
      "name": "python"
    }
  },
  "cells": [
    {
      "cell_type": "markdown",
      "metadata": {
        "id": "view-in-github",
        "colab_type": "text"
      },
      "source": [
        "<a href=\"https://colab.research.google.com/github/ucfilho/Biochemical_Engineering/blob/master/Class_jul_nov_2021/Agitacao_Exercicio_02.ipynb\" target=\"_parent\"><img src=\"https://colab.research.google.com/assets/colab-badge.svg\" alt=\"Open In Colab\"/></a>"
      ]
    },
    {
      "cell_type": "code",
      "metadata": {
        "id": "2F6auqRbhlv7"
      },
      "source": [
        "import numpy as np"
      ],
      "execution_count": 1,
      "outputs": []
    },
    {
      "cell_type": "markdown",
      "metadata": {
        "id": "vsfIMotTdrWn"
      },
      "source": [
        "Questão 2 Uma empresa tem fermentadores de 600 m3\n",
        "com agitadores do tipo hidrofoil, pede-se:\n",
        "a) explique que informações são necessárias para especi\u001ccar o motor e explique porque a energia\n",
        "transferida para o líquido não deve ultrapassar 1 HP/m3\n",
        "b) calcule o gasto de energia do motor ao longo de um mês caso a empresa pague 0.31 reais por\n",
        "kWh ( 1 kWh = 3600000 watt.s)\n",
        "c) discuta qual o motor deve ser utilizado se o fator de serviço é fs=1.4\n",
        "d) discuta qual o tempo de mistura associado ao sistema de agitação\n",
        "Nota: considere que o eixo do agitador deve girar a pelo menos 30 rpm e que o motor tem 1750\n",
        "rpm em seu eixo. Também considere que o fluido tem 0.003 Pa.s e 1200 kg/m3"
      ]
    },
    {
      "cell_type": "markdown",
      "metadata": {
        "id": "VqV0btr7sa4S"
      },
      "source": [
        "Motores Pot HP: 1/3,1/2,3/4,1 , 1 1/2,2 ,3 ,5,7 1\n",
        "2\n",
        ", 10, 15, 20, 30, 40, 50, 75, 100, 125, 200, 300, 350, 400, 450,\n",
        "500, 600, 700, 800, 900, 1000, 1250, 1500, 1750, 2000, 2250, 2500, 3000, 3500, 4000"
      ]
    },
    {
      "cell_type": "code",
      "metadata": {
        "colab": {
          "base_uri": "https://localhost:8080/"
        },
        "id": "hV2cYhxhdzHo",
        "outputId": "f494b4b6-0629-47c5-c627-0e1e8f44384e"
      },
      "source": [
        "Np = 0.28 # valor no livro da disciplina (pag 16)\n",
        "ro = 1200; MI = 0.003 # densidade e viscosidade (kg/m3 e Pa.s)\n",
        "fs = 1.4\n",
        "Vol = 800 # m3 (volume do fermentador)\n",
        "HP = 745.7 # conversao para HP\n",
        "d = (4*Vol/np.pi)**(1/3); print('d=',d,'m (diametro do fermentador)')\n",
        "di = d/3 ; print('di=',di,'m (diametro do agitador)')\n",
        "RPM = 60; print('Rotacoes',RPM,'rpm') # rotacao escolhida para o motor\n",
        "Nrps = RPM/60 # dever ser um valor maior ou igual a 30 rpm\n",
        "Pot = Np*ro*di**5*Nrps**3;print('Pot=',Pot,'W');print('Pot=',Pot/HP,'HP')\n",
        "Pot_Vol = Pot/(Vol*HP);print('Pot/Vol=',Pot_Vol,'HP/m3');\n",
        "Re = ro*di**2*Nrps/MI; print('Re =',Re)\n",
        "Pmot = Pot* fs / HP; print('Motor (Pot: HP)', Pmot)\n",
        "Torque = Pot /(2*np.pi*Nrps);print('Torque no eixo (N.m)',Torque)\n",
        "I = 1750/RPM\n",
        "Tmotor = Torque/(I*fs); print('Torque motor (N.m)',Tmotor)\n",
        "Tempo = 30 # 30 dias (um mes)\n",
        "Custo = 0.31/3600000\n",
        "Tempo = Tempo*24*60*60\n",
        "Gasto = Tempo*Pot*Custo; print( 'Energia (R$/mes)',Gasto)"
      ],
      "execution_count": 2,
      "outputs": [
        {
          "output_type": "stream",
          "text": [
            "d= 10.061591983208716 m (diametro do fermentador)\n",
            "di= 3.3538639944029054 m (diametro do agitador)\n",
            "Rotacoes 60 rpm\n",
            "Pot= 142582.59453025073 W\n",
            "Pot= 191.20637592899385 HP\n",
            "Pot/Vol= 0.23900796991124235 HP/m3\n",
            "Re = 4499361.477180885\n",
            "Motor (Pot: HP) 267.6889263005914\n",
            "Torque no eixo (N.m) 22692.724718356843\n",
            "Torque motor (N.m) 555.7401971842492\n",
            "Energia (R$/mes) 31824.435099151964\n"
          ],
          "name": "stdout"
        }
      ]
    }
  ]
}