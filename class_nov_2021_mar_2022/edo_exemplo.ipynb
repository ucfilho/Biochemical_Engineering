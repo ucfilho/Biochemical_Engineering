{
  "nbformat": 4,
  "nbformat_minor": 0,
  "metadata": {
    "colab": {
      "name": "edo_exemplo.ipynb",
      "provenance": [],
      "authorship_tag": "ABX9TyMHb+t6U46BEW3UPwILPKF/",
      "include_colab_link": true
    },
    "kernelspec": {
      "name": "python3",
      "display_name": "Python 3"
    },
    "language_info": {
      "name": "python"
    }
  },
  "cells": [
    {
      "cell_type": "markdown",
      "metadata": {
        "id": "view-in-github",
        "colab_type": "text"
      },
      "source": [
        "<a href=\"https://colab.research.google.com/github/ucfilho/Biochemical_Engineering/blob/master/class_nov_2021_mar_2022/edo_exemplo.ipynb\" target=\"_parent\"><img src=\"https://colab.research.google.com/assets/colab-badge.svg\" alt=\"Open In Colab\"/></a>"
      ]
    },
    {
      "cell_type": "code",
      "execution_count": 1,
      "metadata": {
        "id": "l4mhYTv6UylV"
      },
      "outputs": [],
      "source": [
        "# Bibliotecas de interesse\n",
        "import numpy as np\n",
        "import matplotlib.pyplot as plt\n",
        "from scipy.integrate import odeint"
      ]
    },
    {
      "cell_type": "markdown",
      "source": [
        "$\\quad\n",
        "\\frac{dy}{dx} + y = x, \\quad \\quad y(0) = 1.$\n"
      ],
      "metadata": {
        "id": "DcHn3tk_VHxy"
      }
    },
    {
      "cell_type": "markdown",
      "source": [
        "$\\quad\n",
        "y = x - 1 + 2e^{-x}\n",
        "$"
      ],
      "metadata": {
        "id": "ps776CAJWTt_"
      }
    },
    {
      "cell_type": "code",
      "source": [
        "# Define a function which calculates the derivative\n",
        "def dy_dx(y, x):\n",
        "    derivada = x -y \n",
        "    return derivada"
      ],
      "metadata": {
        "id": "-lxY4KEJVKQx"
      },
      "execution_count": 2,
      "outputs": []
    },
    {
      "cell_type": "code",
      "source": [
        "xs = np.linspace(0,5,101)\n",
        "y0 = 1.0  #  condicao inicial\n",
        "ys = odeint(dy_dx, y0, xs)\n",
        "# ys = np.array(ys).flatten()"
      ],
      "metadata": {
        "id": "DWWcs9qZW6uO"
      },
      "execution_count": 3,
      "outputs": []
    },
    {
      "cell_type": "code",
      "source": [
        "plt.xlabel(\"x\")\n",
        "plt.ylabel(\"y\")\n",
        "plt.plot(xs, ys);"
      ],
      "metadata": {
        "colab": {
          "base_uri": "https://localhost:8080/",
          "height": 279
        },
        "id": "062_30K0WyM-",
        "outputId": "456d6414-ab60-45d1-9b83-fb005623f410"
      },
      "execution_count": 4,
      "outputs": [
        {
          "output_type": "display_data",
          "data": {
            "image/png": "[encoded data removed]",
            "text/plain": [
              "<Figure size 432x288 with 1 Axes>"
            ]
          },
          "metadata": {
            "needs_background": "light"
          }
        }
      ]
    }
  ]
}