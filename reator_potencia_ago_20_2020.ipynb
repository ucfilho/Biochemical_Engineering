{
  "nbformat": 4,
  "nbformat_minor": 0,
  "metadata": {
    "colab": {
      "name": "reator_potencia.ipynb",
      "provenance": [],
      "authorship_tag": "ABX9TyMb8OqefPTBeHgx7FPfWADn",
      "include_colab_link": true
    },
    "kernelspec": {
      "name": "python3",
      "display_name": "Python 3"
    }
  },
  "cells": [
    {
      "cell_type": "markdown",
      "metadata": {
        "id": "view-in-github",
        "colab_type": "text"
      },
      "source": [
        "<a href=\"https://colab.research.google.com/github/ucfilho/Biochemical_Engineering/blob/master/reator_potencia_ago_20_2020.ipynb\" target=\"_parent\"><img src=\"https://colab.research.google.com/assets/colab-badge.svg\" alt=\"Open In Colab\"/></a>"
      ]
    },
    {
      "cell_type": "code",
      "metadata": {
        "id": "Im5oe7UDj1vK",
        "colab_type": "code",
        "colab": {}
      },
      "source": [
        "import matplotlib.pyplot as plt"
      ],
      "execution_count": 1,
      "outputs": []
    },
    {
      "cell_type": "code",
      "metadata": {
        "id": "HRYd7LK7QHMW",
        "colab_type": "code",
        "colab": {}
      },
      "source": [
        "ro=1100\n",
        "D=3\n",
        "Di=D/3\n",
        "Nrps=41/60\n",
        "Hl=6.3\n",
        "Mi=0.01\n",
        "Np=1.27\n",
        "fs=1.2\n",
        "Motor=[]\n",
        "Altura=[]\n",
        "Hmin=1\n",
        "Hmax=9\n",
        "Num=10\n",
        "deltaH=(Hmax-Hmin)/(Num-1)\n",
        "for i in range(Num):\n",
        "  Hl=Hmin+deltaH*i\n",
        "  if(Hl<3):\n",
        "    N=1\n",
        "  elif(Hl>6):\n",
        "    N=3\n",
        "  else:\n",
        "    N=2\n",
        "  Fc=((Hl/Di*D/Di)/(3*3))**0.5\n",
        "  Re=ro*Di**2*Nrps/Mi\n",
        "  Pot=N*Fc*Np*ro*Di**5*Nrps**3\n",
        "  Pmot=N*fs*Pot\n",
        "  Motor.append(Pmot)\n",
        "  Altura.append(Hl)\n"
      ],
      "execution_count": 2,
      "outputs": []
    },
    {
      "cell_type": "code",
      "metadata": {
        "id": "3BLF5ZEaj-Qb",
        "colab_type": "code",
        "colab": {
          "base_uri": "https://localhost:8080/",
          "height": 282
        },
        "outputId": "519389d7-6836-4e1f-86ab-da7cbf8c64a3"
      },
      "source": [
        "plt.plot(Altura,Motor)"
      ],
      "execution_count": 3,
      "outputs": [
        {
          "output_type": "execute_result",
          "data": {
            "text/plain": [
              "[<matplotlib.lines.Line2D at 0x7f605f27d438>]"
            ]
          },
          "metadata": {
            "tags": []
          },
          "execution_count": 3
        },
        {
          "output_type": "display_data",
          "data": {
            "image/png": "[encoded data removed]",
            "text/plain": [
              "<Figure size 432x288 with 1 Axes>"
            ]
          },
          "metadata": {
            "tags": [],
            "needs_background": "light"
          }
        }
      ]
    },
    {
      "cell_type": "code",
      "metadata": {
        "id": "Si8Co7E6SK4o",
        "colab_type": "code",
        "colab": {
          "base_uri": "https://localhost:8080/",
          "height": 86
        },
        "outputId": "9e3a8013-3de2-4ab0-f7f5-23557cbffc7f"
      },
      "source": [
        "print('Re=',Re)\n",
        "print('Fc=',Fc)\n",
        "print('Pot (W)=',Pot)\n",
        "print('Pmot(W)=',Pmot)"
      ],
      "execution_count": 4,
      "outputs": [
        {
          "output_type": "stream",
          "text": [
            "Re= 75166.66666666666\n",
            "Fc= 1.7320508075688772\n",
            "Pot (W)= 2316.200266259876\n",
            "Pmot(W)= 8338.320958535553\n"
          ],
          "name": "stdout"
        }
      ]
    },
    {
      "cell_type": "code",
      "metadata": {
        "id": "aaEglVRBUAkh",
        "colab_type": "code",
        "colab": {}
      },
      "source": [
        "Pot=Pot*3\n",
        "Pmot=Pmot*3"
      ],
      "execution_count": 5,
      "outputs": []
    },
    {
      "cell_type": "code",
      "metadata": {
        "id": "jDg4m5awUIow",
        "colab_type": "code",
        "colab": {
          "base_uri": "https://localhost:8080/",
          "height": 86
        },
        "outputId": "90dabf2f-ac42-48e3-efe3-85ca6e7f9965"
      },
      "source": [
        "print('Re=',Re)\n",
        "print('Fc=',Fc)\n",
        "print('Pot (W)=',Pot)\n",
        "print('Pmot(W)=',Pmot)"
      ],
      "execution_count": 6,
      "outputs": [
        {
          "output_type": "stream",
          "text": [
            "Re= 75166.66666666666\n",
            "Fc= 1.7320508075688772\n",
            "Pot (W)= 6948.600798779628\n",
            "Pmot(W)= 25014.96287560666\n"
          ],
          "name": "stdout"
        }
      ]
    },
    {
      "cell_type": "code",
      "metadata": {
        "id": "9BjtDohRXnIq",
        "colab_type": "code",
        "colab": {}
      },
      "source": [
        "ro=1100\n",
        "D=3\n",
        "Di=D/3\n",
        "Np=1.27\n",
        "Nrps=41/60\n",
        "Pmot=2000 \n",
        "fs=1.2\n",
        "Pot=Pmot/fs\n",
        "Fc=Pot/(2*Np*ro*Di**5*Nrps**3)\n",
        "# Pot=Fc*Np*ro*Di**5*Nrps**3\n",
        "Hl=Fc**2*(3*3)/(D/Di)*Di\n",
        "# Fc=((Hl/Di*D/Di)/(3*3))**0.5\n"
      ],
      "execution_count": 7,
      "outputs": []
    },
    {
      "cell_type": "code",
      "metadata": {
        "id": "Ck-WV5v9Y7m8",
        "colab_type": "code",
        "colab": {
          "base_uri": "https://localhost:8080/",
          "height": 68
        },
        "outputId": "069806a4-e0c8-4a95-dd00-f35ae8d8e8b9"
      },
      "source": [
        "print('Pmot=',Pmot)\n",
        "print('Fc=',Fc)\n",
        "print('Hl=',Hl)"
      ],
      "execution_count": 8,
      "outputs": [
        {
          "output_type": "stream",
          "text": [
            "Pmot= 2000\n",
            "Fc= 1.8694959507600524\n",
            "Hl= 10.485045329724697\n"
          ],
          "name": "stdout"
        }
      ]
    }
  ]
}