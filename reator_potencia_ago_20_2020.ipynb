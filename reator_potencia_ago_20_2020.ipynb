{
  "nbformat": 4,
  "nbformat_minor": 0,
  "metadata": {
    "colab": {
      "name": "reator_potencia.ipynb",
      "provenance": [],
      "authorship_tag": "ABX9TyOl1nun7rnbx3mIjI/8j+A5",
      "include_colab_link": true
    },
    "kernelspec": {
      "name": "python3",
      "display_name": "Python 3"
    }
  },
  "cells": [
    {
      "cell_type": "markdown",
      "metadata": {
        "id": "view-in-github",
        "colab_type": "text"
      },
      "source": [
        "<a href=\"https://colab.research.google.com/github/ucfilho/Biochemical_Engineering/blob/master/reator_potencia_ago_20_2020.ipynb\" target=\"_parent\"><img src=\"https://colab.research.google.com/assets/colab-badge.svg\" alt=\"Open In Colab\"/></a>"
      ]
    },
    {
      "cell_type": "code",
      "metadata": {
        "id": "Im5oe7UDj1vK",
        "colab_type": "code",
        "colab": {}
      },
      "source": [
        "import matplotlib.pyplot as plt\n",
        "import pandas as pd"
      ],
      "execution_count": 1,
      "outputs": []
    },
    {
      "cell_type": "code",
      "metadata": {
        "id": "HRYd7LK7QHMW",
        "colab_type": "code",
        "colab": {}
      },
      "source": [
        "ro=1100\n",
        "D=3\n",
        "Di=D/3\n",
        "Nrps=41/60\n",
        "Hl=6.3\n",
        "Mi=0.01\n",
        "Np=1.27\n",
        "fs=1.2\n",
        "Motor=[]\n",
        "Altura=[]\n",
        "Hmin=6\n",
        "Hmax=6.1\n",
        "Num=50\n",
        "deltaH=(Hmax-Hmin)/(Num-1)\n",
        "for i in range(Num):\n",
        "  Hl=Hmin+deltaH*i\n",
        "  if(Hl<3):\n",
        "    N=1\n",
        "  elif(Hl>6):\n",
        "    N=3\n",
        "  else:\n",
        "    N=2\n",
        "  Fc=((Hl/Di*D/Di)/(3*3))**0.5\n",
        "  Re=ro*Di**2*Nrps/Mi\n",
        "  Pot=N*Fc*Np*ro*Di**5*Nrps**3\n",
        "  Pmot=fs*Pot\n",
        "  Motor.append(Pmot)\n",
        "  Altura.append(Hl)\n"
      ],
      "execution_count": 2,
      "outputs": []
    },
    {
      "cell_type": "code",
      "metadata": {
        "id": "3BLF5ZEaj-Qb",
        "colab_type": "code",
        "colab": {
          "base_uri": "https://localhost:8080/",
          "height": 296
        },
        "outputId": "7acc550a-ae3b-4f7a-c347-6eda7c57d376"
      },
      "source": [
        "plt.plot(Altura,Motor)\n",
        "plt.xlabel('Hl')\n",
        "plt.ylabel('Pmotor')"
      ],
      "execution_count": 3,
      "outputs": [
        {
          "output_type": "execute_result",
          "data": {
            "text/plain": [
              "Text(0, 0.5, 'Pmotor')"
            ]
          },
          "metadata": {
            "tags": []
          },
          "execution_count": 3
        },
        {
          "output_type": "display_data",
          "data": {
            "image/png": "[encoded data removed]",
            "text/plain": [
              "<Figure size 432x288 with 1 Axes>"
            ]
          },
          "metadata": {
            "tags": [],
            "needs_background": "light"
          }
        }
      ]
    },
    {
      "cell_type": "code",
      "metadata": {
        "id": "OqZ9jplv0OAd",
        "colab_type": "code",
        "colab": {
          "base_uri": "https://localhost:8080/",
          "height": 86
        },
        "outputId": "ff7bc776-22a5-489b-bc23-e7d32f57740b"
      },
      "source": [
        "ro=1100\n",
        "D=3\n",
        "Di=D/3\n",
        "Nrps=41/60\n",
        "Hl=6.3\n",
        "Mi=0.01\n",
        "Np=1.27\n",
        "fs=1.2\n",
        "N=3\n",
        "Fc=((Hl/Di*D/Di)/(3*3))**0.5\n",
        "Re=ro*Di**2*Nrps/Mi\n",
        "Pot=N*Fc*Np*ro*Di**5*Nrps**3\n",
        "Pmot=fs*Pot\n",
        "print('Pot (W)=',Pot)\n",
        "print('Pmot(W)=',Pmot)\n",
        "print('Re=',Re)\n",
        "print('Fc=',Fc)\n"
      ],
      "execution_count": 4,
      "outputs": [
        {
          "output_type": "stream",
          "text": [
            "Pot (W)= 1937.8721762272203\n",
            "Pmot(W)= 2325.4466114726642\n",
            "Re= 75166.66666666666\n",
            "Fc= 1.4491376746189437\n"
          ],
          "name": "stdout"
        }
      ]
    },
    {
      "cell_type": "code",
      "metadata": {
        "id": "9BjtDohRXnIq",
        "colab_type": "code",
        "colab": {
          "base_uri": "https://localhost:8080/",
          "height": 891
        },
        "outputId": "ef9da5f6-f18d-4f1e-e4f8-d167fe93abe3"
      },
      "source": [
        "print(pd.DataFrame({'Hl':Altura,'Motor':Motor}))\n"
      ],
      "execution_count": 5,
      "outputs": [
        {
          "output_type": "stream",
          "text": [
            "          Hl        Motor\n",
            "0   6.000000  1512.935679\n",
            "1   6.002041  2269.789438\n",
            "2   6.004082  2270.175293\n",
            "3   6.006122  2270.561081\n",
            "4   6.008163  2270.946805\n",
            "5   6.010204  2271.332463\n",
            "6   6.012245  2271.718055\n",
            "7   6.014286  2272.103582\n",
            "8   6.016327  2272.489044\n",
            "9   6.018367  2272.874440\n",
            "10  6.020408  2273.259771\n",
            "11  6.022449  2273.645037\n",
            "12  6.024490  2274.030237\n",
            "13  6.026531  2274.415372\n",
            "14  6.028571  2274.800442\n",
            "15  6.030612  2275.185447\n",
            "16  6.032653  2275.570387\n",
            "17  6.034694  2275.955261\n",
            "18  6.036735  2276.340070\n",
            "19  6.038776  2276.724815\n",
            "20  6.040816  2277.109494\n",
            "21  6.042857  2277.494109\n",
            "22  6.044898  2277.878658\n",
            "23  6.046939  2278.263143\n",
            "24  6.048980  2278.647562\n",
            "25  6.051020  2279.031917\n",
            "26  6.053061  2279.416207\n",
            "27  6.055102  2279.800432\n",
            "28  6.057143  2280.184593\n",
            "29  6.059184  2280.568689\n",
            "30  6.061224  2280.952720\n",
            "31  6.063265  2281.336686\n",
            "32  6.065306  2281.720588\n",
            "33  6.067347  2282.104425\n",
            "34  6.069388  2282.488198\n",
            "35  6.071429  2282.871906\n",
            "36  6.073469  2283.255550\n",
            "37  6.075510  2283.639129\n",
            "38  6.077551  2284.022644\n",
            "39  6.079592  2284.406094\n",
            "40  6.081633  2284.789481\n",
            "41  6.083673  2285.172802\n",
            "42  6.085714  2285.556060\n",
            "43  6.087755  2285.939253\n",
            "44  6.089796  2286.322382\n",
            "45  6.091837  2286.705447\n",
            "46  6.093878  2287.088448\n",
            "47  6.095918  2287.471384\n",
            "48  6.097959  2287.854257\n",
            "49  6.100000  2288.237065\n"
          ],
          "name": "stdout"
        }
      ]
    }
  ]
}