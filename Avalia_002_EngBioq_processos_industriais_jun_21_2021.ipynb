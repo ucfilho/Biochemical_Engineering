{
  "nbformat": 4,
  "nbformat_minor": 0,
  "metadata": {
    "colab": {
      "name": "Avalia_002_EngBioq_processos_industriais.ipynb",
      "provenance": [],
      "authorship_tag": "ABX9TyNXo0jn6zqoEXTPg9vEAhHe",
      "include_colab_link": true
    },
    "kernelspec": {
      "name": "python3",
      "display_name": "Python 3"
    },
    "language_info": {
      "name": "python"
    }
  },
  "cells": [
    {
      "cell_type": "markdown",
      "metadata": {
        "id": "view-in-github",
        "colab_type": "text"
      },
      "source": [
        "<a href=\"https://colab.research.google.com/github/ucfilho/Biochemical_Engineering/blob/master/Avalia_002_EngBioq_processos_industriais_jun_21_2021.ipynb\" target=\"_parent\"><img src=\"https://colab.research.google.com/assets/colab-badge.svg\" alt=\"Open In Colab\"/></a>"
      ]
    },
    {
      "cell_type": "code",
      "metadata": {
        "id": "F8RFckif2KLx"
      },
      "source": [
        "import numpy as np"
      ],
      "execution_count": null,
      "outputs": []
    },
    {
      "cell_type": "markdown",
      "metadata": {
        "id": "az8wmVl41tyK"
      },
      "source": [
        "Questão 1 Na instalação de uma unidade de produção de etanol um dos fatores a ser observado\n",
        "na instação é é a quantidade de água diária que a usina precisa referente a este fato e ao tamanho\n",
        "de uma nova usina pede-se\n",
        "a) discuta qual a captação de água necessária (m3\n",
        "por dia) para uma usina necessário para produzir\n",
        "1000 m3\n",
        "de etanol por dia\n",
        "b) descreva pelo menos três exemplos do uso do vapor gerado com esta água na caldeira\n",
        "c) Calcule quantas dornas de 600 m3\n",
        "são necessárias nesta usina para produzir 1000 m3\n",
        "de etanol\n",
        "por dia"
      ]
    },
    {
      "cell_type": "code",
      "metadata": {
        "colab": {
          "base_uri": "https://localhost:8080/"
        },
        "id": "mVO98XVl1s5-",
        "outputId": "b5296a35-be73-480f-aaaa-daa55ce1857b"
      },
      "source": [
        "#==item a==========\n",
        "Etanol = 1000 # m3/dia\n",
        "Agua =  13.76 # m3/ton (somente etanol) \n",
        "Etanol_ton =  82.3 # litro/ton\n",
        "Agua = Etanol * 1000 * 1/Etanol_ton * Agua   # m3/dia * 1000 litro/m3 * ton/litro\n",
        "print('item a:')\n",
        "print( '  Agua (m3/dia):', Agua)\n",
        "#==item b========\n",
        "print('item b:')\n",
        "print(' uso para movimentar as turbinas (gerar eletricidade)') \n",
        "print(' uso  na destilacao, uso para pasteurizar/esterilizar o mosto') \n",
        "print(' uso para concentrar o caldo')\n",
        "\n",
        "#==item c========\n",
        "ro = 780 # kg/m3 :'\"\\\"\n",
        "Et = 85 # g/litro\n",
        "Vol = 600 # m3/dorna\n",
        "Dornas =  Etanol* 1/2 * ro * 1000 * 1/Et * 1/1000 * 1/Vol\n",
        "#          m3/dia* dia/lote * kg/m3 * g/kg * litro/g * m3/litro * dorna/vol\n",
        "print('item c:')\n",
        "print( '  Num dornas:', Dornas)"
      ],
      "execution_count": null,
      "outputs": [
        {
          "output_type": "stream",
          "text": [
            "item a:\n",
            "  Agua (m3/dia): 167193.19562575943\n",
            "item b:\n",
            " uso para movimentar as turbinas (gerar eletricidade)\n",
            " uso  na destilacao, uso para pasteurizar/esterilizar o mosto\n",
            " uso para concentrar o caldo\n",
            "item c:\n",
            "  Num dornas: 7.647058823529411\n"
          ],
          "name": "stdout"
        }
      ]
    },
    {
      "cell_type": "markdown",
      "metadata": {
        "id": "lKiSNzvNDiLk"
      },
      "source": [
        "Questão 2 Considere que você tem interesse em comprar uma fábrica de cachaça usada vendida por R\\$ 321500,00 e que tem as especificações abaixo. Referente a esta situação pede-se:\n",
        "a) para o volume total de dornas fornecido (o vendedor chamou de caixas de fermentação e correspondente a 14000 litros) calcule a quantidade de cachaça mensal que você se torna capaz de produzir\n",
        "b) Discuta qual deve ser o preço de venda de cada garrafa (considere a garrafa de 700 mL) que\n",
        "garante que você consiga pagar R\\$ 7534,18 por mês associado ao investimento para a situação em\n",
        "que o valor pago corresponde a 10% das vendas mensais\n",
        "c) Considerando que a cachaça precisa ser envelhecida por um ano, discuta se os volumes das duas\n",
        "dornas de 10000 litros (cada uma) de madeira umburana é suficiente para armazenar toda cachaça\n",
        "produduzida por ano ou se é preciso comprar novas dornas de madeira umburana\n",
        "d) Explique o que acontece com a cachaça durante o envelhecimento nas dornas de madeira."
      ]
    },
    {
      "cell_type": "code",
      "metadata": {
        "colab": {
          "base_uri": "https://localhost:8080/"
        },
        "id": "z_UuIjsE6kVt",
        "outputId": "eb945dbf-8aea-4c3f-b827-e76cbfe1be6a"
      },
      "source": [
        "print('item a')\n",
        "Vol_lote = 14000 # litros/lote\n",
        "Mosto = 6.3 # hL/hL\n",
        "Receita = 7534.18 * 10\n",
        "Vol_garrafa = 0.7 # litros\n",
        "tp = 24 ; tad = 24; # tempo do processo e adicional\n",
        "Lote_dia =  24  /(tp + tad)  # lotes/horas * horas/dia\n",
        "Vol_mes = Vol_lote* Lote_dia * 30/1 * 1/Mosto\n",
        "Garrafas = int(Vol_mes/Vol_garrafa)\n",
        "Valor_garrafa = Receita / Garrafas\n",
        "print(' Vol cachaca por mes (litros)', Vol_mes)\n",
        "print(' Num garrafas por mes', Garrafas )\n",
        "print(' Valor de venda da garrafa',Valor_garrafa)\n",
        "print('item c:')\n",
        "print( '   O envelhecimento a cachaca altera as propriedades da cachaca ele faz com que a mesma')\n",
        "print( '   adquiri uma cor e aroma associada a madeira.  ')\n",
        "print('     no envelhecimento tambem ocorre a reducao de aproximadamente 1 GL no teor alcoolico')"
      ],
      "execution_count": null,
      "outputs": [
        {
          "output_type": "stream",
          "text": [
            "item a\n",
            " Vol cachaca por mes (litros) 33333.333333333336\n",
            " Num garrafas por mes 47619\n",
            " Valor de venda da garrafa 1.5821793821793821\n"
          ],
          "name": "stdout"
        }
      ]
    },
    {
      "cell_type": "markdown",
      "metadata": {
        "id": "s57iry0PJvCU"
      },
      "source": [
        "Questão3 Caso você monte uma microcevejaria com sala de brassagem de 1000 litros por lote\n",
        "discuta quantos litros totais por dia de cerveja no máximo você consegue produzir e quantas dornas\n",
        "você totais você necessita para manter o negócio funcionando sem dornas ociosas para as situações\n",
        "que as dornas sejam de 1000 litros e para o caso de 5000 litros. Considere que o volume de mosto\n",
        "diário capaz de ser fermentado corresponde a cinco vezes o tamanho do lote associado a brassagem."
      ]
    },
    {
      "cell_type": "code",
      "metadata": {
        "colab": {
          "base_uri": "https://localhost:8080/"
        },
        "id": "tim9glBNLYL1",
        "outputId": "55d176a3-cdb4-4858-cc5f-c739f4cf7c30"
      },
      "source": [
        "Brassagem = 1000.0 # litros/lote\n",
        "Mosto = 5* Brassagem\n",
        "Dornas = 1000 # litros\n",
        "Tempo_ferm = 7 # dias\n",
        "Tempo_mat = 2 # dias\n",
        "Tempo_ad = 1 # dia\n",
        "Cerveja = Mosto # litros/dia\n",
        "Vol_fermenta = Cerveja * (Tempo_ferm + Tempo_ad)\n",
        "Vol_matura = Cerveja * (Tempo_mat+ Tempo_ad)\n",
        "Dornas_fermenta = Vol_fermenta / Dornas\n",
        "Dornas_matura = Vol_matura / Dornas\n",
        "print('Volume matura (litros)', Vol_matura)\n",
        "print('Volume fermenta (litros)', Vol_fermenta)\n",
        "print('Dornas matura (litros)', Dornas_matura)\n",
        "print('Dornas fermenta (litros)', Dornas_fermenta)"
      ],
      "execution_count": null,
      "outputs": [
        {
          "output_type": "stream",
          "text": [
            "Volume matura (litros) 15000.0\n",
            "Volume fermenta (litros) 40000.0\n",
            "Dornas matura (litros) 15.0\n",
            "Dornas fermenta (litros) 40.0\n"
          ],
          "name": "stdout"
        }
      ]
    },
    {
      "cell_type": "markdown",
      "metadata": {
        "id": "DsvPpsOgOqvN"
      },
      "source": [
        "Questão 4 Na produção de cerveja escolha quatro entre os equipamentos ou insumos abaixos\n",
        "explique o qual o uso dos equipamentos ou insumos na cervejaria e que tipo de controle é feito nos\n",
        "equipamentos em questão ou nos equipamentos que recebe os insumos escolhidos. \\\\\n",
        "a) mosturador \\\\\n",
        "b) filtros de terra de diatomácia \\\\\n",
        "c) túnel de pasteurização \\\\\n",
        "d) caldeira \\\\\n",
        "e) malte \\\\\n",
        "f) adjuvante de fermentação"
      ]
    },
    {
      "cell_type": "code",
      "metadata": {
        "id": "GIitbjhNJ4GJ",
        "colab": {
          "base_uri": "https://localhost:8080/"
        },
        "outputId": "29ca7cf8-8403-423d-b4b1-873dc35f89fd"
      },
      "source": [
        "print('Mosturador: solubilizacao do amido do malte e liberacao de enzimas gerando')\n",
        "print('             os acucares da fermentacao. Controle da temperatura' )\n",
        "print('Filtros terra de diatomacia: retirada da turbidez da cerveja')\n",
        "print('             pode ser controlada a turbidez e pressao ' )\n",
        "print('Tunel de pasteurizacao: pasteurizacao da cerveja')\n",
        "print('             controle da temperatura' )\n",
        "print('Malte: principal fonte de acucares da cerveja e enzimas ')\n",
        "print('             O malte e processado no mosturador que tem controle da temperatura' )\n",
        "print('Adjuvante de fermentacao: fonte secundaria de  acucares da cerveja para reduzir custos ')\n",
        "print('             os adjuntos sao processados com o lupulo na tina de fervura sendo controlado')\n",
        "print('              tempo e temperatura (o tempo tem grande importancia no sabor)')"
      ],
      "execution_count": null,
      "outputs": [
        {
          "output_type": "stream",
          "text": [
            "Mosturador: solubilizacao do amido do malte e enzimas gerando\n",
            "             os acucares da fermentacao. Controle da temperatura\n",
            "Filtros terra de diatomacia: retirada da turbidez da cerveja\n",
            "             pode ser controlada a turbidez e pressao \n",
            "Tunel de pasteurizacao: pasteurizacao da cerveja\n",
            "             controle da temperatura\n",
            "Malte: principal fonte de acucares da cerveja e enzimas \n",
            "             O malte e processado no mosturador que tem controle da temperatura\n",
            "Adjuvante de fermentacao: fonte secundaria de  acucares da cerveja para reduzir custos \n",
            "             os adjuntos sao processados com o lupulo na tina de fervura sendo controlado\n",
            "              tempo e temperatura (o tempo tem grande importancia no sabor)\n"
          ],
          "name": "stdout"
        }
      ]
    }
  ]
}