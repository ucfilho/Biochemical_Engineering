{
  "nbformat": 4,
  "nbformat_minor": 0,
  "metadata": {
    "colab": {
      "name": "Eng_Bioq_avalia_02_out_14_2020.ipynb",
      "provenance": [],
      "authorship_tag": "ABX9TyNmYQgQnoO0pA18sxlewTPt",
      "include_colab_link": true
    },
    "kernelspec": {
      "name": "python3",
      "display_name": "Python 3"
    }
  },
  "cells": [
    {
      "cell_type": "markdown",
      "metadata": {
        "id": "view-in-github",
        "colab_type": "text"
      },
      "source": [
        "<a href=\"https://colab.research.google.com/github/ucfilho/Biochemical_Engineering/blob/master/Eng_Bioq_avalia_02_out_14_2020.ipynb\" target=\"_parent\"><img src=\"https://colab.research.google.com/assets/colab-badge.svg\" alt=\"Open In Colab\"/></a>"
      ]
    },
    {
      "cell_type": "code",
      "metadata": {
        "id": "dLRYQriKLH09"
      },
      "source": [
        "import numpy as np"
      ],
      "execution_count": 1,
      "outputs": []
    },
    {
      "cell_type": "markdown",
      "metadata": {
        "id": "ehKVZh_TKduB"
      },
      "source": [
        "Calcule as dimensões um filtro em profundidade na qual um ensaio de estudo do\n",
        "mesmo mostrou LRV=3 para uma espessura de 5 cm e diâmetro de 15 cm e calcule as dimensões de\n",
        "um novo filtro em profundidade que atenda LRV=5. Considere que o ensaio com o filtro foi feito\n",
        "com a vazão de ar de 100 cm 3 /s e que o projeto necessita de 2 m 3 /s."
      ]
    },
    {
      "cell_type": "code",
      "metadata": {
        "id": "J-24Xy2NJlzo",
        "outputId": "9de2e1c0-8fcb-4d56-c1d7-cdc7dd46f147",
        "colab": {
          "base_uri": "https://localhost:8080/",
          "height": 170
        }
      },
      "source": [
        "LRV = 3 # para z= 3 cm, d =15 cm e q = 100 cm3/s\n",
        "z =5; d = 15 ; q = 100\n",
        "#ln(N_N0)=-k*z --> k = -1/z*ln(N_N0)\n",
        "# q = area* u --> u = q / area\n",
        "# area =np.pi* d**2 / 4.0\n",
        "q2 =2 # m3/s\n",
        "area =np.pi* d**2 / 4.0 ; print('area= %f cm²'% area)\n",
        "u = q / area; print('u= %f cm/s'% u)\n",
        "N_N0 = 10**(-LRV)\n",
        "k = -1.0 / z * np.log(N_N0); print('k= %f cm-1'% k)\n",
        "k2 = k * 100 ; print('k= %f m-1'% k2)\n",
        "LRV2 = 5.0\n",
        "N_N02=10**(-LRV2); print('N_N02= %e '% N_N02)\n",
        "z2 = -1.0/k2 * np.log(N_N02); print('z2= %f m '% z2)\n",
        "u2 = u / 100.0 ; print('u2= %e m/s'% u2)\n",
        "area2 = q2 / u2 ; print('area2= %e '% area2)\n",
        "d2 = (4.0*area2/np.pi)** 0.5 ; print('d2= %e '% d2)\n"
      ],
      "execution_count": 2,
      "outputs": [
        {
          "output_type": "stream",
          "text": [
            "area= 176.714587 cm²\n",
            "u= 0.565884 cm/s\n",
            "k= 1.381551 cm-1\n",
            "k= 138.155106 m-1\n",
            "N_N02= 1.000000e-05 \n",
            "z2= 0.083333 m \n",
            "u2= 5.658842e-03 m/s\n",
            "area2= 3.534292e+02 \n",
            "d2= 2.121320e+01 \n"
          ],
          "name": "stdout"
        }
      ]
    },
    {
      "cell_type": "markdown",
      "metadata": {
        "id": "s06bRCM3RKHz"
      },
      "source": [
        "(Questão 2) Considere a construção de uma nova fábrica de produção de cerveja no triâgulo\n",
        "mineiro para que t em quatro linhas capacitadas para o envase de 256 mil latas/hora e 140 mil\n",
        "garrafas/hora. Caso as latas sejam de 350 mL e garrafas de 600 mL, pede-se:\n",
        "a) quantidade de dornas de fermentação primária e maturação necessárias para esta produção de\n",
        "cerveja\n",
        "b) Consumo diário de malte, adjuvante e lúpulo na condição de máxima produção"
      ]
    },
    {
      "cell_type": "code",
      "metadata": {
        "id": "ixHMdFCmRNR3",
        "outputId": "26b5f359-4a9d-47a5-cbfd-ab8996a7db54",
        "colab": {
          "base_uri": "https://localhost:8080/",
          "height": 153
        }
      },
      "source": [
        "Latas= 256*1e3 # latas/h\n",
        "Garrafas = 140*1e3 # garrafas/h\n",
        "ferm_prim = (2+1) * 24.0 # horas\n",
        "ferm_matura = (7+1) * 24.0 # horas \n",
        "dorna = 4400 ; # hL (volume da dorna)\n",
        "malte = 14 # kg/hL\n",
        "adjuvante = 5 # kg/hl\n",
        "lupulo = 0.35 # kg/hl\n",
        "Cerveja = (Latas* 350 + Garrafas * 600) / 1000.0 # litros/h\n",
        "Cerveja = Cerveja / 100.0 ; print('Cerveja= %f hL/h '% Cerveja)  # hectolitros / h\n",
        "vol_prim = Cerveja * ferm_prim ; print('vol prim= %f hL  '% vol_prim)# hL totais\n",
        "n_prim = vol_prim / dorna ; print('dornas primarias= %f dornas '% n_prim)\n",
        "vol_mat = Cerveja * ferm_matura ; print('vol matura= %f hL  '% vol_mat)# hL totais\n",
        "n_matura = vol_mat / dorna ; print('dornas primarias= %f dornas '% n_matura)\n",
        "malte_amount = 24.0 * Cerveja * malte ; print('malte = %f kg/dia '% malte_amount)\n",
        "adjuvante_amount = 24.0 * Cerveja * adjuvante ; print('adjuvante = %f kg/dia '% adjuvante_amount)\n",
        "lupulo_amount = 24.0 * Cerveja * lupulo ; print('lupulo = %f kg/dia '% lupulo_amount)"
      ],
      "execution_count": 10,
      "outputs": [
        {
          "output_type": "stream",
          "text": [
            "Cerveja= 1736.000000 hL/h \n",
            "vol prim= 124992.000000 hL  \n",
            "dornas primarias= 28.407273 dornas \n",
            "vol matura= 333312.000000 hL  \n",
            "dornas primarias= 75.752727 dornas \n",
            "malte = 583296.000000 kg/dia \n",
            "adjuvante = 208320.000000 kg/dia \n",
            "lupulo = 14582.400000 kg/dia \n"
          ],
          "name": "stdout"
        }
      ]
    },
    {
      "cell_type": "markdown",
      "metadata": {
        "id": "6uUASjtkcHZj"
      },
      "source": [
        "Quantos hectolitros por mês de cerveja podem ser produzidos por uma fábrica que\n",
        "possui 40 dornas de 4400 hL destinadas a fase de fermentação primária? Referente a esta fábrica\n",
        "pede-se também:\n",
        "a) captação de água (m3/dia)\n",
        "b) quantidade de garrafas que a fábrica precisa ter em estoque para atender um mês de produção\n",
        "c) toneladas de malte que os cilos para armazenamento deve ser capaz de armazenar. Considere que\n",
        "os cilos devem em conjunto serem capazes de armazenar malte suficiente para 20 dias de produção\n",
        "de cerveja."
      ]
    },
    {
      "cell_type": "code",
      "metadata": {
        "id": "NqcQAMlKZgRM",
        "outputId": "b8a0e354-3b49-4b4e-8499-698bbcd5987f",
        "colab": {
          "base_uri": "https://localhost:8080/",
          "height": 85
        }
      },
      "source": [
        "vol_prim =40.0 * 4400; print('volume dornas primarias = %f hL '% vol_prim) # hL\n",
        "ferm_prim = (2+ 1)/ 30.0 # meses\n",
        "malte = 14 # kg/hL\n",
        "Cerveja = vol_prim/ ferm_prim ; print('Cerveja = %f hL/mes '% Cerveja)\n",
        "agua = 3.3 * Cerveja /30 ; print('Agua = %f hL/dia '% agua)\n",
        "Cilos = malte* Cerveja / 30 *20 ; print('Cilos= %f kg total '% Cilos)"
      ],
      "execution_count": 15,
      "outputs": [
        {
          "output_type": "stream",
          "text": [
            "volume dornas primarias = 176000.000000 hL \n",
            "Cerveja = 1760000.000000 hL/mes \n",
            "Agua = 193600.000000 hL/dia \n",
            "Cilos= 16426666.666667 kg total \n"
          ],
          "name": "stdout"
        }
      ]
    }
  ]
}