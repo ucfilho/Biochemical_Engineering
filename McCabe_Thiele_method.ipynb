{
  "nbformat": 4,
  "nbformat_minor": 0,
  "metadata": {
    "colab": {
      "provenance": [],
      "include_colab_link": true
    },
    "kernelspec": {
      "name": "python3",
      "display_name": "Python 3"
    },
    "language_info": {
      "name": "python"
    }
  },
  "cells": [
    {
      "cell_type": "markdown",
      "metadata": {
        "id": "view-in-github",
        "colab_type": "text"
      },
      "source": [
        "<a href=\"https://colab.research.google.com/github/ucfilho/Biochemical_Engineering/blob/master/McCabe_Thiele_method.ipynb\" target=\"_parent\"><img src=\"https://colab.research.google.com/assets/colab-badge.svg\" alt=\"Open In Colab\"/></a>"
      ]
    },
    {
      "cell_type": "code",
      "source": [
        "import sympy as sp\n",
        "import pandas as pd\n",
        "import matplotlib.pyplot as plt\n",
        "from math import floor, ceil\n",
        "import numpy as np\n",
        "from scipy.optimize import curve_fit\n",
        "from scipy.optimize import  differential_evolution\n",
        "from scipy.optimize import fsolve"
      ],
      "metadata": {
        "id": "pSJmBRgp9D5l"
      },
      "execution_count": 1,
      "outputs": []
    },
    {
      "cell_type": "code",
      "source": [
        "# equilibrium data-ethanol\n",
        "xeq_d =[0.0010, 0.0061, 0.0145, 0.0237, 0.0310, 0.0490, 0.0652, 0.0968, \n",
        "        0.1394, 0.3261, 0.4635, 0.5413, 0.6856, 0.7760, 0.8403, 0.9037, 0.9725, 0.9804]\n",
        "\n",
        "yeq_d =[0.0047, 0.0721, 0.1539, 0.2301, 0.2851, 0.3559, 0.4181, 0.4534, 0.5314, 0.6047,\n",
        "        0.6518, 0.6751, 0.7451, 0.8005, 0.8457, 0.9010, 0.9721, 0.9774]\n",
        "\n",
        "curve = 1\n",
        "# Test function with coefficients as parameters\n",
        "def test(x, a,b,c,d): # curve 1\n",
        "  y=((a+b*x)/(1+c*x+d*x**2))\n",
        "  return y\n",
        "\n",
        "# Test function with coefficients as parameters\n",
        "def test2(x, a,b,c,d,e,f): #curve 2\n",
        "  y=((a+b*x+c*x**2)/(1+d*x+e*x**2+f*x**3))\n",
        "  return y\n",
        "\n",
        "# curve_fit() function takes the test-function\n",
        "# x-data and y-data as argument and returns \n",
        "# the coefficients a and b in param and\n",
        "# the estimated covariance of param in param_cov\n",
        "if curve == 1:\n",
        "  param, param_cov = curve_fit(test, xeq_d, yeq_d)\n",
        "else:\n",
        "  param, param_cov = curve_fit(test2, xeq_d, yeq_d)  \n",
        "  \n",
        "print(\"Sine funcion coefficients:\")\n",
        "print(param)\n",
        "print(\"Covariance of coefficients:\")\n",
        "print(param_cov)"
      ],
      "metadata": {
        "colab": {
          "base_uri": "https://localhost:8080/"
        },
        "id": "QegIYShL9An5",
        "outputId": "08b81ca1-eddc-427c-e2a7-99543e2465f9"
      },
      "execution_count": 2,
      "outputs": [
        {
          "output_type": "stream",
          "name": "stdout",
          "text": [
            "Sine funcion coefficients:\n",
            "[-3.23759793e-02  2.09090072e+01  3.74014471e+01 -1.70175744e+01]\n",
            "Covariance of coefficients:\n",
            "[[ 3.70331731e-04 -3.42296427e-02 -6.79681444e-02  3.38414382e-02]\n",
            " [-3.42296427e-02  5.44393977e+00  1.13476298e+01 -5.95901316e+00]\n",
            " [-6.79681444e-02  1.13476298e+01  2.43014018e+01 -1.31615210e+01]\n",
            " [ 3.38414382e-02 -5.95901316e+00 -1.31615210e+01  7.42387637e+00]]\n"
          ]
        }
      ]
    },
    {
      "cell_type": "code",
      "source": [
        "\n"
      ],
      "metadata": {
        "id": "at3z9gSpenzR"
      },
      "execution_count": 2,
      "outputs": []
    },
    {
      "cell_type": "code",
      "source": [
        "def ELV(xeq_d, curve = curve):\n",
        "  y_ans = []\n",
        "  for xi in xeq_d:\n",
        "    if curve ==1:\n",
        "      yi = test(xi,*param)\n",
        "    else:\n",
        "      yi = test2(xi,*param)\n",
        "    y_ans.append(yi)\n",
        "  return y_ans\n",
        "  "
      ],
      "metadata": {
        "id": "Rr5VXalk9HPX"
      },
      "execution_count": 3,
      "outputs": []
    },
    {
      "cell_type": "code",
      "source": [
        "plt.plot(xeq_d,yeq_d,'o')\n",
        "plt.plot(xeq_d,ELV(xeq_d))"
      ],
      "metadata": {
        "colab": {
          "base_uri": "https://localhost:8080/",
          "height": 448
        },
        "id": "_DYP6G5D9Ou2",
        "outputId": "530c1ba0-4365-4761-9497-12fc3ecce0b6"
      },
      "execution_count": 4,
      "outputs": [
        {
          "output_type": "execute_result",
          "data": {
            "text/plain": [
              "[<matplotlib.lines.Line2D at 0x7f598077c9a0>]"
            ]
          },
          "metadata": {},
          "execution_count": 4
        },
        {
          "output_type": "display_data",
          "data": {
            "text/plain": [
              "<Figure size 640x480 with 1 Axes>"
            ],
            "image/png": "[encoded data removed]"
          },
          "metadata": {}
        }
      ]
    },
    {
      "cell_type": "code",
      "source": [
        "\n",
        "# 95.63 wt% ethanol and 4.37 wt% water\n",
        "xD = (95.63/46)/(95.63/46+4.37/18);print('xD:',xD)\n",
        "#D = D_et/xD; print('D (kmol/d):',D)\n",
        "xW = (0.5/46)/(0.5/46+99.5/18);print('xW:',xW)\n",
        "x0 = 85/46/(85/46+915/18);print('x0:',x0)\n",
        "F = 400*780/85;print('F m3/d:',F)\n",
        "Feed = F*(85/46+915/18); print('Feed:',Feed)\n",
        "D =Feed*(x0-xW)/(xD-xW);print('D:',D)\n",
        "W = Feed -D; print('W:',W)\n",
        "\n",
        "Ln = 3*D # reflux ratio of 3 kmolkmol product\n",
        "Lm = Ln + Feed\n",
        "Vn = Ln + D\n",
        "Vm = Lm - W\n",
        "# yn = Ln/Vn*x+ D/Vn*xD\n",
        "# ym = Lm/Vm*x- W/Vm*xW\n",
        "# yn = ym\n",
        "#  Lm/Vm*x- W/Vm*xW = Ln/Vn*x+ D/Vn*xD\n",
        "#  (Lm/Vm-Ln/Vn)*x =  D/Vn*xD+ W/Vm*xW\n",
        "#  xI = (D/Vn*xD+ W/Vm*xW)/(Lm/Vm-Ln/Vn)\n",
        "xInt = (D/Vn*xD+ W/Vm*xW)/(Lm/Vm-Ln/Vn); print('xInt:',xInt)\n",
        "ya = Ln/Vn*xInt+ D/Vn*xD\n",
        "yb = Lm/Vm*xInt- W/Vm*xW\n",
        "print('interc',ya,yb)\n",
        "def yn(x,Ln=Ln,xD=xD,Vn=Vn, D = D):\n",
        "  yn = Ln/Vn*x+ D/Vn*xD\n",
        "  return yn\n",
        "\n",
        "def ym(x,Lm=Lm,xW=xW,Vm=Vm, W = W):\n",
        "  ym = Lm/Vm*x- W/Vm*xW\n",
        "  return ym\n",
        "'''\n",
        "Feed = D + W--> W = Feed - D\n",
        "Feed*x0 = D*xD + W*xW\n",
        "Feed*x0 = D*xD +(Feed-D)*xW--> Feed*x0-Feed*xW = D(xD-xW)--> D =Feed*(x0-xW)/(xD-xW)\n",
        "\n",
        "'''"
      ],
      "metadata": {
        "colab": {
          "base_uri": "https://localhost:8080/",
          "height": 200
        },
        "id": "bnQ9n6hmzji6",
        "outputId": "0ec89902-e17f-4c02-a671-ce9ff11e81c3"
      },
      "execution_count": 5,
      "outputs": [
        {
          "output_type": "stream",
          "name": "stdout",
          "text": [
            "xD: 0.8954306165338437\n",
            "xW: 0.0019624945486262538\n",
            "x0: 0.035075653370013754\n",
            "F m3/d: 3670.5882352941176\n",
            "Feed: 193370.84398976984\n",
            "D: 7166.58973151919\n",
            "W: 186204.25425825064\n",
            "xInt: 0.03507565337001376\n",
            "interc 0.25016439416097125 0.25016439416097125\n"
          ]
        },
        {
          "output_type": "execute_result",
          "data": {
            "text/plain": [
              "'\\nFeed = D + W--> W = Feed - D\\nFeed*x0 = D*xD + W*xW\\nFeed*x0 = D*xD +(Feed-D)*xW--> Feed*x0-Feed*xW = D(xD-xW)--> D =Feed*(x0-xW)/(xD-xW)\\n\\n'"
            ],
            "application/vnd.google.colaboratory.intrinsic+json": {
              "type": "string"
            }
          },
          "metadata": {},
          "execution_count": 5
        }
      ]
    },
    {
      "cell_type": "code",
      "source": [
        "y1,y2=[],[]\n",
        "x1,x2=[],[]\n",
        "x = np.linspace(0,1,1001)\n",
        "for xi in x:\n",
        "  if xi > xInt:\n",
        "    y2.append(yn(xi))\n",
        "    x2.append(xi)\n",
        "  else:\n",
        "    y1.append(ym(xi))\n",
        "    x1.append(xi)"
      ],
      "metadata": {
        "id": "DGPN03wtDa5A"
      },
      "execution_count": 6,
      "outputs": []
    },
    {
      "cell_type": "code",
      "source": [
        "#y2\n",
        "Lm,Ln,Vn,Vm,Feed"
      ],
      "metadata": {
        "colab": {
          "base_uri": "https://localhost:8080/"
        },
        "id": "gtI-Qy4MHxiB",
        "outputId": "7650fbff-dc7e-4858-9909-99b9cba184e7"
      },
      "execution_count": 7,
      "outputs": [
        {
          "output_type": "execute_result",
          "data": {
            "text/plain": [
              "(214870.6131843274,\n",
              " 21499.769194557568,\n",
              " 28666.35892607676,\n",
              " 28666.358926076762,\n",
              " 193370.84398976984)"
            ]
          },
          "metadata": {},
          "execution_count": 7
        }
      ]
    },
    {
      "cell_type": "code",
      "source": [
        "x #"
      ],
      "metadata": {
        "colab": {
          "base_uri": "https://localhost:8080/"
        },
        "id": "RgIP7XGfJBgN",
        "outputId": "306de34d-9ebe-477e-8701-4869daf811f8"
      },
      "execution_count": 8,
      "outputs": [
        {
          "output_type": "execute_result",
          "data": {
            "text/plain": [
              "array([0.   , 0.001, 0.002, ..., 0.998, 0.999, 1.   ])"
            ]
          },
          "metadata": {},
          "execution_count": 8
        }
      ]
    },
    {
      "cell_type": "code",
      "source": [
        "from ssl import PROTOCOL_TLSv1_2\n",
        "plt.plot(xeq_d,ELV(xeq_d))\n",
        "plt.plot(xeq_d,xeq_d)\n",
        "plt.plot(x1,y1,'--k')\n",
        "plt.plot(x2,y2,'g')\n",
        "plt.plot(xD,ELV([xD]),'ob')"
      ],
      "metadata": {
        "colab": {
          "base_uri": "https://localhost:8080/",
          "height": 448
        },
        "id": "wqPHXYUVHJqw",
        "outputId": "f5e2b1e4-5904-4f84-94f3-911da725b294"
      },
      "execution_count": 9,
      "outputs": [
        {
          "output_type": "execute_result",
          "data": {
            "text/plain": [
              "[<matplotlib.lines.Line2D at 0x7f59bb439d80>]"
            ]
          },
          "metadata": {},
          "execution_count": 9
        },
        {
          "output_type": "display_data",
          "data": {
            "text/plain": [
              "<Figure size 640x480 with 1 Axes>"
            ],
            "image/png": "[encoded data removed]"
          },
          "metadata": {}
        }
      ]
    },
    {
      "cell_type": "code",
      "source": [
        "def Feed(x):\n",
        "    f=[]\n",
        "    f.append(x[0]+x[1]-100)#                    #Overall mass Balance\n",
        "    f.append(0.9*x[0]+.1*x[1]-(100*.4))        #A balance on MVC,benzene\n",
        "    return f\n",
        "x = [50, 50]\n",
        "product = fsolve(Feed,x)"
      ],
      "metadata": {
        "id": "jjun1aVb1zw0"
      },
      "execution_count": 10,
      "outputs": []
    },
    {
      "cell_type": "code",
      "source": [
        "x = np.linspace(0,1,1001)\n",
        "y =  ELV(x)\n",
        "y_eq, x_eq = y, x"
      ],
      "metadata": {
        "id": "pfsicIOt9-Yu"
      },
      "execution_count": 11,
      "outputs": []
    },
    {
      "cell_type": "code",
      "source": [],
      "metadata": {
        "id": "GNw3-7nEzdSJ"
      },
      "execution_count": 11,
      "outputs": []
    },
    {
      "cell_type": "code",
      "source": [
        "xF = 0.35        # Light component mole fraction in feed, -\n",
        "xD = 0.975       # Light component mole fraction in distillate, -\n",
        "xW = 0.025       # Light component mole fraction in reboiler, -\n",
        "R = 1.5          # Reflux ratio (L/D), -\n",
        "a = 2.5          # Separation factor\n",
        "q = 1.5          # Feed condition"
      ],
      "metadata": {
        "id": "Pd6y42iWdqy1"
      },
      "execution_count": 12,
      "outputs": []
    },
    {
      "cell_type": "code",
      "source": [
        "######## Feed line ########\n",
        "def fed(xF,q,param=param):   \n",
        "  def funSolve(x,param=param, q=q, xF = xF):\n",
        "    a, b, c, d, e , f = param\n",
        "    y1 = q/(q-1)*x - xF/(q-1)\n",
        "    y2=((a+b*x+c*x**2)/(1+d*x+e*x**2+f*x**3))\n",
        "    fun = y2 -y1\n",
        "    return fun\n",
        "\n",
        "  bounds = [(0,1)]\n",
        "  res = differential_evolution(funSolve, bounds)\n",
        "  xiE =res.x\n",
        "  #print(xiE)\n",
        "  #yiE = ELV(xiE)\n",
        "  yiE = test2(xiE,*param)\n",
        "  xiE,yiE =xiE[0],yiE[0]\n",
        "  if yiE>1:\n",
        "    yiE =1 \n",
        "  #print(yiE)\n",
        "  if q == 1:\n",
        "    x_fed = [xF, xF]\n",
        "    y_fed = [xF, yiE]\n",
        "  else:\n",
        "    x_fed = np.linspace(xF, xiE, 51)\n",
        "    y_fed = q/(q-1)*x_fed - xF/(q-1)\n",
        "    \n",
        "  return xiE, yiE, y_fed, x_fed\n",
        "\n",
        "xiE, yiE, y_fed, x_fed = fed(xF,q,param=param)"
      ],
      "metadata": {
        "id": "WK2DLulIdz0F",
        "colab": {
          "base_uri": "https://localhost:8080/",
          "height": 447
        },
        "outputId": "f358bd9f-ec0e-4645-fa1c-5e40ab533f3f"
      },
      "execution_count": 13,
      "outputs": [
        {
          "output_type": "error",
          "ename": "RuntimeError",
          "evalue": "ignored",
          "traceback": [
            "\u001b[0;31m---------------------------------------------------------------------------\u001b[0m",
            "\u001b[0;31mValueError\u001b[0m                                Traceback (most recent call last)",
            "\u001b[0;32m/usr/local/lib/python3.10/dist-packages/scipy/optimize/_differentialevolution.py\u001b[0m in \u001b[0;36m_calculate_population_energies\u001b[0;34m(self, population)\u001b[0m\n\u001b[1;32m   1121\u001b[0m         \u001b[0;32mtry\u001b[0m\u001b[0;34m:\u001b[0m\u001b[0;34m\u001b[0m\u001b[0;34m\u001b[0m\u001b[0m\n\u001b[0;32m-> 1122\u001b[0;31m             calc_energies = list(\n\u001b[0m\u001b[1;32m   1123\u001b[0m                 \u001b[0mself\u001b[0m\u001b[0;34m.\u001b[0m\u001b[0m_mapwrapper\u001b[0m\u001b[0;34m(\u001b[0m\u001b[0mself\u001b[0m\u001b[0;34m.\u001b[0m\u001b[0mfunc\u001b[0m\u001b[0;34m,\u001b[0m \u001b[0mparameters_pop\u001b[0m\u001b[0;34m[\u001b[0m\u001b[0;36m0\u001b[0m\u001b[0;34m:\u001b[0m\u001b[0mS\u001b[0m\u001b[0;34m]\u001b[0m\u001b[0;34m)\u001b[0m\u001b[0;34m\u001b[0m\u001b[0;34m\u001b[0m\u001b[0m\n",
            "\u001b[0;32m/usr/local/lib/python3.10/dist-packages/scipy/_lib/_util.py\u001b[0m in \u001b[0;36m__call__\u001b[0;34m(self, x)\u001b[0m\n\u001b[1;32m    371\u001b[0m     \u001b[0;32mdef\u001b[0m \u001b[0m__call__\u001b[0m\u001b[0;34m(\u001b[0m\u001b[0mself\u001b[0m\u001b[0;34m,\u001b[0m \u001b[0mx\u001b[0m\u001b[0;34m)\u001b[0m\u001b[0;34m:\u001b[0m\u001b[0;34m\u001b[0m\u001b[0;34m\u001b[0m\u001b[0m\n\u001b[0;32m--> 372\u001b[0;31m         \u001b[0;32mreturn\u001b[0m \u001b[0mself\u001b[0m\u001b[0;34m.\u001b[0m\u001b[0mf\u001b[0m\u001b[0;34m(\u001b[0m\u001b[0mx\u001b[0m\u001b[0;34m,\u001b[0m \u001b[0;34m*\u001b[0m\u001b[0mself\u001b[0m\u001b[0;34m.\u001b[0m\u001b[0margs\u001b[0m\u001b[0;34m)\u001b[0m\u001b[0;34m\u001b[0m\u001b[0;34m\u001b[0m\u001b[0m\n\u001b[0m\u001b[1;32m    373\u001b[0m \u001b[0;34m\u001b[0m\u001b[0m\n",
            "\u001b[0;32m<ipython-input-13-6d60b662bc8d>\u001b[0m in \u001b[0;36mfunSolve\u001b[0;34m(x, param, q, xF)\u001b[0m\n\u001b[1;32m      3\u001b[0m   \u001b[0;32mdef\u001b[0m \u001b[0mfunSolve\u001b[0m\u001b[0;34m(\u001b[0m\u001b[0mx\u001b[0m\u001b[0;34m,\u001b[0m\u001b[0mparam\u001b[0m\u001b[0;34m=\u001b[0m\u001b[0mparam\u001b[0m\u001b[0;34m,\u001b[0m \u001b[0mq\u001b[0m\u001b[0;34m=\u001b[0m\u001b[0mq\u001b[0m\u001b[0;34m,\u001b[0m \u001b[0mxF\u001b[0m \u001b[0;34m=\u001b[0m \u001b[0mxF\u001b[0m\u001b[0;34m)\u001b[0m\u001b[0;34m:\u001b[0m\u001b[0;34m\u001b[0m\u001b[0;34m\u001b[0m\u001b[0m\n\u001b[0;32m----> 4\u001b[0;31m     \u001b[0ma\u001b[0m\u001b[0;34m,\u001b[0m \u001b[0mb\u001b[0m\u001b[0;34m,\u001b[0m \u001b[0mc\u001b[0m\u001b[0;34m,\u001b[0m \u001b[0md\u001b[0m\u001b[0;34m,\u001b[0m \u001b[0me\u001b[0m \u001b[0;34m,\u001b[0m \u001b[0mf\u001b[0m \u001b[0;34m=\u001b[0m \u001b[0mparam\u001b[0m\u001b[0;34m\u001b[0m\u001b[0;34m\u001b[0m\u001b[0m\n\u001b[0m\u001b[1;32m      5\u001b[0m     \u001b[0my1\u001b[0m \u001b[0;34m=\u001b[0m \u001b[0mq\u001b[0m\u001b[0;34m/\u001b[0m\u001b[0;34m(\u001b[0m\u001b[0mq\u001b[0m\u001b[0;34m-\u001b[0m\u001b[0;36m1\u001b[0m\u001b[0;34m)\u001b[0m\u001b[0;34m*\u001b[0m\u001b[0mx\u001b[0m \u001b[0;34m-\u001b[0m \u001b[0mxF\u001b[0m\u001b[0;34m/\u001b[0m\u001b[0;34m(\u001b[0m\u001b[0mq\u001b[0m\u001b[0;34m-\u001b[0m\u001b[0;36m1\u001b[0m\u001b[0;34m)\u001b[0m\u001b[0;34m\u001b[0m\u001b[0;34m\u001b[0m\u001b[0m\n",
            "\u001b[0;31mValueError\u001b[0m: not enough values to unpack (expected 6, got 4)",
            "\nThe above exception was the direct cause of the following exception:\n",
            "\u001b[0;31mRuntimeError\u001b[0m                              Traceback (most recent call last)",
            "\u001b[0;32m<ipython-input-13-6d60b662bc8d>\u001b[0m in \u001b[0;36m<cell line: 29>\u001b[0;34m()\u001b[0m\n\u001b[1;32m     27\u001b[0m   \u001b[0;32mreturn\u001b[0m \u001b[0mxiE\u001b[0m\u001b[0;34m,\u001b[0m \u001b[0myiE\u001b[0m\u001b[0;34m,\u001b[0m \u001b[0my_fed\u001b[0m\u001b[0;34m,\u001b[0m \u001b[0mx_fed\u001b[0m\u001b[0;34m\u001b[0m\u001b[0;34m\u001b[0m\u001b[0m\n\u001b[1;32m     28\u001b[0m \u001b[0;34m\u001b[0m\u001b[0m\n\u001b[0;32m---> 29\u001b[0;31m \u001b[0mxiE\u001b[0m\u001b[0;34m,\u001b[0m \u001b[0myiE\u001b[0m\u001b[0;34m,\u001b[0m \u001b[0my_fed\u001b[0m\u001b[0;34m,\u001b[0m \u001b[0mx_fed\u001b[0m \u001b[0;34m=\u001b[0m \u001b[0mfed\u001b[0m\u001b[0;34m(\u001b[0m\u001b[0mxF\u001b[0m\u001b[0;34m,\u001b[0m\u001b[0mq\u001b[0m\u001b[0;34m,\u001b[0m\u001b[0mparam\u001b[0m\u001b[0;34m=\u001b[0m\u001b[0mparam\u001b[0m\u001b[0;34m)\u001b[0m\u001b[0;34m\u001b[0m\u001b[0;34m\u001b[0m\u001b[0m\n\u001b[0m",
            "\u001b[0;32m<ipython-input-13-6d60b662bc8d>\u001b[0m in \u001b[0;36mfed\u001b[0;34m(xF, q, param)\u001b[0m\n\u001b[1;32m      9\u001b[0m \u001b[0;34m\u001b[0m\u001b[0m\n\u001b[1;32m     10\u001b[0m   \u001b[0mbounds\u001b[0m \u001b[0;34m=\u001b[0m \u001b[0;34m[\u001b[0m\u001b[0;34m(\u001b[0m\u001b[0;36m0\u001b[0m\u001b[0;34m,\u001b[0m\u001b[0;36m1\u001b[0m\u001b[0;34m)\u001b[0m\u001b[0;34m]\u001b[0m\u001b[0;34m\u001b[0m\u001b[0;34m\u001b[0m\u001b[0m\n\u001b[0;32m---> 11\u001b[0;31m   \u001b[0mres\u001b[0m \u001b[0;34m=\u001b[0m \u001b[0mdifferential_evolution\u001b[0m\u001b[0;34m(\u001b[0m\u001b[0mfunSolve\u001b[0m\u001b[0;34m,\u001b[0m \u001b[0mbounds\u001b[0m\u001b[0;34m)\u001b[0m\u001b[0;34m\u001b[0m\u001b[0;34m\u001b[0m\u001b[0m\n\u001b[0m\u001b[1;32m     12\u001b[0m   \u001b[0mxiE\u001b[0m \u001b[0;34m=\u001b[0m\u001b[0mres\u001b[0m\u001b[0;34m.\u001b[0m\u001b[0mx\u001b[0m\u001b[0;34m\u001b[0m\u001b[0;34m\u001b[0m\u001b[0m\n\u001b[1;32m     13\u001b[0m   \u001b[0;31m#print(xiE)\u001b[0m\u001b[0;34m\u001b[0m\u001b[0;34m\u001b[0m\u001b[0m\n",
            "\u001b[0;32m/usr/local/lib/python3.10/dist-packages/scipy/optimize/_differentialevolution.py\u001b[0m in \u001b[0;36mdifferential_evolution\u001b[0;34m(func, bounds, args, strategy, maxiter, popsize, tol, mutation, recombination, seed, callback, disp, polish, init, atol, updating, workers, constraints, x0, integrality, vectorized)\u001b[0m\n\u001b[1;32m    395\u001b[0m                                      \u001b[0mintegrality\u001b[0m\u001b[0;34m=\u001b[0m\u001b[0mintegrality\u001b[0m\u001b[0;34m,\u001b[0m\u001b[0;34m\u001b[0m\u001b[0;34m\u001b[0m\u001b[0m\n\u001b[1;32m    396\u001b[0m                                      vectorized=vectorized) as solver:\n\u001b[0;32m--> 397\u001b[0;31m         \u001b[0mret\u001b[0m \u001b[0;34m=\u001b[0m \u001b[0msolver\u001b[0m\u001b[0;34m.\u001b[0m\u001b[0msolve\u001b[0m\u001b[0;34m(\u001b[0m\u001b[0;34m)\u001b[0m\u001b[0;34m\u001b[0m\u001b[0;34m\u001b[0m\u001b[0m\n\u001b[0m\u001b[1;32m    398\u001b[0m \u001b[0;34m\u001b[0m\u001b[0m\n\u001b[1;32m    399\u001b[0m     \u001b[0;32mreturn\u001b[0m \u001b[0mret\u001b[0m\u001b[0;34m\u001b[0m\u001b[0;34m\u001b[0m\u001b[0m\n",
            "\u001b[0;32m/usr/local/lib/python3.10/dist-packages/scipy/optimize/_differentialevolution.py\u001b[0m in \u001b[0;36msolve\u001b[0;34m(self)\u001b[0m\n\u001b[1;32m    987\u001b[0m             \u001b[0;31m# only work out population energies for feasible solutions\u001b[0m\u001b[0;34m\u001b[0m\u001b[0;34m\u001b[0m\u001b[0m\n\u001b[1;32m    988\u001b[0m             self.population_energies[self.feasible] = (\n\u001b[0;32m--> 989\u001b[0;31m                 self._calculate_population_energies(\n\u001b[0m\u001b[1;32m    990\u001b[0m                     self.population[self.feasible]))\n\u001b[1;32m    991\u001b[0m \u001b[0;34m\u001b[0m\u001b[0m\n",
            "\u001b[0;32m/usr/local/lib/python3.10/dist-packages/scipy/optimize/_differentialevolution.py\u001b[0m in \u001b[0;36m_calculate_population_energies\u001b[0;34m(self, population)\u001b[0m\n\u001b[1;32m   1127\u001b[0m             \u001b[0;31m# wrong number of arguments for _mapwrapper\u001b[0m\u001b[0;34m\u001b[0m\u001b[0;34m\u001b[0m\u001b[0m\n\u001b[1;32m   1128\u001b[0m             \u001b[0;31m# or wrong length returned from the mapper\u001b[0m\u001b[0;34m\u001b[0m\u001b[0;34m\u001b[0m\u001b[0m\n\u001b[0;32m-> 1129\u001b[0;31m             raise RuntimeError(\n\u001b[0m\u001b[1;32m   1130\u001b[0m                 \u001b[0;34m\"The map-like callable must be of the form f(func, iterable), \"\u001b[0m\u001b[0;34m\u001b[0m\u001b[0;34m\u001b[0m\u001b[0m\n\u001b[1;32m   1131\u001b[0m                 \u001b[0;34m\"returning a sequence of numbers the same length as 'iterable'\"\u001b[0m\u001b[0;34m\u001b[0m\u001b[0;34m\u001b[0m\u001b[0m\n",
            "\u001b[0;31mRuntimeError\u001b[0m: The map-like callable must be of the form f(func, iterable), returning a sequence of numbers the same length as 'iterable'"
          ]
        }
      ]
    },
    {
      "cell_type": "code",
      "source": [
        "######## R_min & R (new) ########\n",
        "R_min = (xD-yiE)/(yiE-xiE)\n",
        "R = R*R_min"
      ],
      "metadata": {
        "id": "CrZaToa4kP0V"
      },
      "execution_count": null,
      "outputs": []
    },
    {
      "cell_type": "code",
      "source": [
        "######## Feed Point ########\n",
        "xiF = (xF/(q-1)+xD/(R+1))/(q/(q-1)-R/(R+1))\n",
        "yiF = R/(R+1)*xiF + xD/(R+1)\n",
        "######## Rectifying section ########\n",
        "def rect(R,xD,xiF):\n",
        "    x_rect = np.linspace(xiF-0.025,xD,51)    \n",
        "    y_rect = R/(R+1)*x_rect + xD/(R+1)\n",
        "    return y_rect,x_rect\n",
        "y_rect, x_rect = rect(R, xD,xiF)\n",
        "######## Stripping section ########\n",
        "def stp(xiF,yiF,xW):\n",
        "    x_stp = np.linspace(xW,xiF+0.025,51)    \n",
        "    y_stp = ((yiF-xW)/(xiF-xW))*(x_stp-xW) + xW\n",
        "    return y_stp,x_stp\n",
        "y_stp, x_stp = stp(xiF,yiF,xW)"
      ],
      "metadata": {
        "id": "M9hCejpvkTm7"
      },
      "execution_count": null,
      "outputs": []
    },
    {
      "cell_type": "code",
      "source": [
        "######## Stage Construction ########\n",
        "s = np.zeros((1000,5)) # Empty array (s) to calculate coordinates of stages\n",
        "for i in range(1,1000):\n",
        "    # (s[i,0],s[i,1]) = (x1,y1) --> First point\n",
        "    # (s[i,2],s[i,3]) = (x2,y2) --> Second point\n",
        "    # Joining (x1,y1) and (x2,y2) will result into stages\n",
        "    \n",
        "    s[0,0] = xD\n",
        "    s[0,1] = xD\n",
        "    s[0,2] =  test2(xD,*param)\n",
        "    #s[0,2] = s[0,1]/(a-s[0,1]*(a-1))\n",
        "    s[0,3] = s[0,1]\n",
        "    s[0,4] = 0\n",
        "# x1\n",
        "    s[i,0] = s[i-1,2]\n",
        "    \n",
        "    # Breaking step once (x1,y1) < (xW,xW)\n",
        "    if s[i,0] < xW:\n",
        "        s[i,1] = s[i,0] \n",
        "        s[i,2] = s[i,0]\n",
        "        s[i,3] = s[i,0]\n",
        "        s[i,4] = i\n",
        "        break  \n",
        "    \n",
        "    # y1\n",
        "    if s[i,0] > xiF:\n",
        "        s[i,1] = R/(R+1)*s[i,0] + xD/(R+1)\n",
        "    elif s[i,0] < xiF:\n",
        "        s[i,1] = ((yiF-xW)/(xiF-xW))*(s[i,0]-xW) + xW\n",
        "    else:\n",
        "        s[i,1] = s[i-1,3]\n",
        "    \n",
        "    # x2\n",
        "    if s[i,0] > xW:\n",
        "        #s[i,2] = s[i,1]/(a-s[i,1]*(a-1))\n",
        "        s[i,2] =  test2(s[i,1],*param)\n",
        "        #print(s[i,2],'======')\n",
        "    else:\n",
        "        s[i,2] = s[i,0]\n",
        "    \n",
        "    # y2\n",
        "    s[i,3] = s[i,1]\n",
        "    \n",
        "    # No of stages\n",
        "    if s[i,0] < xiF:\n",
        "        s[i,4] = i\n",
        "    else:\n",
        "        s[i,4] = 0\n",
        "s = s[~np.all(s == 0, axis=1)] # Clearing up zero containing rows\n",
        "s_rows = np.size(s,0)  \n",
        "#print(s)\n",
        "S = np.zeros((s_rows*2,2)) # Empty array to rearragne 's' array for plotting\n",
        "for i in range(0,s_rows):\n",
        "    S[i*2,0] = s[i,0]\n",
        "    S[i*2,1] = s[i,1]\n",
        "    S[i*2+1,0] = s[i,2]\n",
        "    S[i*2+1,1] = s[i,3]\n",
        "######## Stage Numbering ########\n",
        "# (x2,y2) from 's' array as (x_s,y_s) used for stage numbering\n",
        "x_s = s[:,2:3]\n",
        "y_s = s[:,3:4]\n",
        "stage = np.char.mod('%d', np.linspace(1,s_rows-1,s_rows-1))"
      ],
      "metadata": {
        "id": "HWosvMdfkdED"
      },
      "execution_count": null,
      "outputs": []
    },
    {
      "cell_type": "code",
      "source": [
        "# The location of feed plate is determined by:\n",
        "s_f = s_rows-np.count_nonzero(s[:,4:5], axis=0)\n",
        "print(s_f)"
      ],
      "metadata": {
        "id": "OTHDF060kkZj"
      },
      "execution_count": null,
      "outputs": []
    },
    {
      "cell_type": "code",
      "source": [
        "#x_fed"
      ],
      "metadata": {
        "id": "_NE0Tu12mx8k"
      },
      "execution_count": null,
      "outputs": []
    },
    {
      "cell_type": "code",
      "source": [
        "#x_stp,y_stp"
      ],
      "metadata": {
        "id": "aZJyoGYrsG4M"
      },
      "execution_count": null,
      "outputs": []
    },
    {
      "cell_type": "code",
      "source": [
        "fig = plt.figure(num=None, figsize=(7, 6), dpi=600)\n",
        "# Parity line\n",
        "plt.plot([0,1],[0,1],\"k-\")\n",
        "# Equilibrium curve\n",
        "plt.plot(x_eq,y_eq,\"r-\", label=\"Equilibrium Curve\")\n",
        "# Rectifying section line\n",
        "plt.plot(x_rect,y_rect,'k--', label=\"Rectifying Section OL\") \n",
        "# Stripping section line\n",
        "plt.plot(x_stp,y_stp,'k-.', label=\"Stripping Section OL\")\n",
        "# Feed line\n",
        "plt.plot(x_fed,y_fed,'k:', label=\"Feed OL\")\n",
        "# Stages\n",
        "plt.plot(S[:,0],S[:,1],'b-', label=\"Stages\")\n",
        "# Stage numbers\n",
        "for label, x, y in zip(stage, x_s, y_s):\n",
        "    plt.annotate(label,\n",
        "                 xy=(x, y),\n",
        "                 xytext=(0,5),\n",
        "                 textcoords='offset points', \n",
        "                 ha='right')\n",
        "# Feed, Distillate and Reboiler points\n",
        "plt.plot(xF,xF,'go',xD,xD,'go',xW,xW,'go',markersize=5)   \n",
        "plt.text(xF+0.05,xF-0.03,'($x_{F}, x_{F}$)',horizontalalignment='center')\n",
        "plt.text(xD+0.05,xD-0.03,'($x_{D}, x_{D}$)',horizontalalignment='center')\n",
        "plt.text(xW+0.05,xW-0.03,'($x_{W}, x_{W}$)',horizontalalignment='center')\n",
        "# Intersection: Rectifying + Stripping + Feedline\n",
        "plt.plot(xiF,yiF,'go',markersize=5)\n",
        "plt.text(xiF+0.05,yiF-0.05,'($x_{iF}, y_{iF}$)',horizontalalignment='center')\n",
        "# Creating a nice output boxes\n",
        "textstr1 = '\\n'.join((\n",
        "    r'$Input:$',\n",
        "    r'$\\alpha=%.1f$' % (a, ),\n",
        "    r'$q=%.2f$' % (q, ),\n",
        "    r'$x_F=%.2f$' % (xF, ),\n",
        "    r'$x_D=%.2f$' % (xD, ),\n",
        "    r'$x_B=%.2f$' % (xW, )))\n",
        "textstr2 = '\\n'.join((\n",
        "    r'$Output:$',\n",
        "    r'$R_{min}=%.2f$' % (R_min, ),\n",
        "    r'$R=%.2f$' % (R, ),\n",
        "    r'$Stages=%.0f$' % (s_rows-1, ),\n",
        "    r'$Feed \\:Stage=%.0f$' % (s_f, )))\n",
        "# place a text box in upper left in axes coords\n",
        "props = dict(boxstyle='round', facecolor='wheat', alpha=0.5)\n",
        "plt.text(0.65, 0.25, textstr1, fontsize=10, verticalalignment='bottom', bbox=props)\n",
        "plt.text(0.65, 0.0, textstr2, fontsize=10, verticalalignment='bottom', bbox=props)\n",
        "# General plot settings\n",
        "#plt.grid(b=True, which='major',linestyle=':',alpha=0.6)\n",
        "#plt.grid(b=True, which='minor',linestyle=':',alpha=0.3)\n",
        "plt.minorticks_on()\n",
        "plt.legend(loc=\"upper left\")\n",
        "plt.xlabel(\"x (-)\")\n",
        "plt.ylabel(\"y (-)\")\n",
        "plt.savefig('McCabe - Thiele Method.jpeg', dpi=fig.dpi)\n",
        "plt.title(\"Binary Distillation : McCabe - Thiele Method\")\n",
        "plt.show()"
      ],
      "metadata": {
        "id": "GEf03KWlko_L"
      },
      "execution_count": null,
      "outputs": []
    },
    {
      "cell_type": "code",
      "source": [
        "xiF"
      ],
      "metadata": {
        "id": "k8GxNeIpyMLh"
      },
      "execution_count": null,
      "outputs": []
    },
    {
      "cell_type": "code",
      "source": [
        "from scipy.optimize import fsolve\n",
        "%matplotlib inline\n",
        "from matplotlib.pyplot import plot,title,xlabel,ylabel,show\n",
        "from numpy import arange\n",
        "\n",
        "\n",
        "# https://tbc-python.fossee.in/convert-notebook/Coulson_And_Richardsons_Chemical_Engineering,_Volume_2_by_J._M._Coulson,_J._F._Richardson,_J._R._Backhurst_And_J._H._Harker/Chapter11.ipynb#disqus_thread\n",
        "\n",
        "\n",
        "# Find Number of theoretical plates needed and the position of entry for the feed by mccabe thiele method\n",
        "\n",
        "F = 100#                #Feed [kmol]\n",
        "\n",
        "def Feed(x):\n",
        "    f=[]\n",
        "    f.append(x[0]+x[1]-100)#                    #Overall mass Balance\n",
        "    f.append(0.9*x[0]+.1*x[1]-(100*.4))        #A balance on MVC,benzene\n",
        "    return f\n",
        "x = [50, 50]\n",
        "product = fsolve(Feed,x)\n",
        "\n",
        "#Using notation of figure 11.13\n",
        "Ln = 3*product[0]\n",
        "Vn = Ln + product[0]\n",
        "\n",
        "#Reflux to the plate\n",
        "Lm = Ln + F\n",
        "Vm = Lm - product[1]\n",
        "\n",
        "#Equilibrium Data\n",
        "y=[0, .127, .252 ,.379 ,.498, .594, .708, .818, .9, 1]\n",
        "x=[0 ,.048, .12, .208, .298, .382 ,.492, .644, .79, 1]\n",
        "#Diagnol Line\n",
        "y3 = [0, 1]\n",
        "x3 = [0 ,1]\n",
        "#Top Equilibrium Line equation 11.35\n",
        "x1 = arange(0,.985,100)\n",
        "y1 = (Ln/Vn)*x1 + (product[0]/Vn)\n",
        "#Equilibrium Line equation 11.37\n",
        "x2 = arange(0.048,.44,100)\n",
        "y2 = (Lm/Vm)*x2 - (product[1]/Vm)*.1\n",
        "\n",
        "#Setting initial point A x =  .985 at top eqm line\n",
        "xm = [.985, .965, .965, .92 ,.92 ,.825 ,.825 ,.655 ,.655 ,.44 ,.44 ,.255 ,.255 ,.125 ,.125 ,.048]\n",
        "ym = [.985 ,.985, .965, .965, .92 ,.92 ,.825 ,.825 ,.655 ,.655 ,.44 ,.44 ,.255, .255, .125, .125]\n",
        "xp = [.985 ,.965 ,.92 ,.825, .655, .44 ,.255 ,.125 ,.048]\n",
        "yp = [.985, .965 ,.92 ,.825 ,.655 ,.44, .255, .125, .048]\n",
        "plot(x,y,x3,y3,x1,y1,x2,y2,xm,ym)\n",
        "#plot(x,y,x3,y3,x1,y1,x2,y2)#,xm,ym)\n",
        "title(\"Mccabe Thiele Method\")\n",
        "xlabel( \"Mole fraction of C6H6 in Liwuid (x)\")\n",
        "ylabel( \"Mole Fraction C6H6 in Vapor (y)\")\n",
        "show()\n",
        "#for i in range(1:8):\n",
        "plot(xp[1:8],yp[1:8])\n",
        "title(\"Equilibrium plot\")\n",
        "xlabel(\"mole fraction C6H6 in liquid(x)\")\n",
        "ylabel(\"mole fractionC6H6 in vapour(y)\")\n",
        "show()\n",
        "\n",
        "print(\"\\n\\n The Number of stages are then counted highlighted points that is number of plates required as 7\")"
      ],
      "metadata": {
        "id": "XGZtumFJ1vVw"
      },
      "execution_count": null,
      "outputs": []
    },
    {
      "cell_type": "code",
      "source": [
        "x1,x2,y1,y2"
      ],
      "metadata": {
        "id": "6tIxcy_N3b7R"
      },
      "execution_count": null,
      "outputs": []
    }
  ]
}