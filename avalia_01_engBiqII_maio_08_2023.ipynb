{
  "nbformat": 4,
  "nbformat_minor": 0,
  "metadata": {
    "colab": {
      "provenance": [],
      "authorship_tag": "ABX9TyPmFdB/5fxYoUWUpNaxNcZr",
      "include_colab_link": true
    },
    "kernelspec": {
      "name": "python3",
      "display_name": "Python 3"
    },
    "language_info": {
      "name": "python"
    }
  },
  "cells": [
    {
      "cell_type": "markdown",
      "metadata": {
        "id": "view-in-github",
        "colab_type": "text"
      },
      "source": [
        "<a href=\"https://colab.research.google.com/github/ucfilho/Biochemical_Engineering/blob/master/avalia_01_engBiqII_maio_08_2023.ipynb\" target=\"_parent\"><img src=\"https://colab.research.google.com/assets/colab-badge.svg\" alt=\"Open In Colab\"/></a>"
      ]
    },
    {
      "cell_type": "markdown",
      "source": [
        "1)\tReferente a um fermentador com mistura perfeita para um volume de 900 m3 sem aeração com tempo de mistura inferior a 3 min, pede-se:\n",
        "a)\tdimensione o motor (Potência e Torque) e calcule as condições operacionais e dimensões\n",
        "b)\tcalcule o consumo mensal de energia elétrica associada a este reator desprezando perdas de energia elétrica associadas a atrito e outras falhas\n",
        "c)\tescolha qual seria um bom critério para mudança de escala para este fermentador no caso que se queira construir uma unidade de bancada para testar diferentes mudanças e explique por que esta escolha é uma boa opção neste estudo\n",
        "Considere: i) propriedades do meio fermentado: 1200 kg/m3 e 0.001 Pa.s;  ii) Agitador e motor com:   Np =1.3, Nq = 1.4 e fator de serviço 1.2; iii) a rotação não pode ser inferior a 30 rpm, e, também, que a cada dois dias de operação o motor fica um dia sem ser usado para que se tenha o preparo do mesmo para nova fermentação\n",
        "\n"
      ],
      "metadata": {
        "id": "Vquz7-85h77s"
      }
    },
    {
      "cell_type": "code",
      "execution_count": 12,
      "metadata": {
        "colab": {
          "base_uri": "https://localhost:8080/"
        },
        "id": "hvGIj1aThchO",
        "outputId": "781de249-a7eb-42dd-d50e-b3295e2add39"
      },
      "outputs": [
        {
          "output_type": "stream",
          "name": "stdout",
          "text": [
            "d: 10.464580235953207\n",
            "di: 3.4881934119844025\n",
            "Pot: 100701.83837806653\n",
            "Re: 7300495.967646833\n",
            "Q: 29.709798928325103\n",
            "tm: 1.514651785714286 90.87910714285717\n",
            "Pmot: 162.05203976623284\n",
            "Torque: 32055.336106339815\n",
            "I: 58.333333333333336\n",
            "Tmot: 457.93337294771163\n",
            "gasto: 48336.88242147194\n"
          ]
        }
      ],
      "source": [
        "V = 900 #m3\n",
        "pi = 3.1415\n",
        "Np = 1.3\n",
        "Nq = 1.4\n",
        "fs = 1.2\n",
        "ro = 1200\n",
        "mi = 0.001\n",
        "Nrps = 30/60 \n",
        "d = (4*V/pi)**(1/3);print('d:',d)\n",
        "di = d/3;print('di:',di)\n",
        "Pot = Np*ro*di**5*Nrps**3;print('Pot:',Pot)\n",
        "Re = ro*di**2*Nrps/mi; print('Re:',Re)\n",
        "Q = Nq*Nrps*di**3;print('Q:',Q)\n",
        "tm = 3 * V/Q;print('tm:',tm/60,tm)\n",
        "Pmot = Pot*fs/745.7;print('Pmot:',Pmot)\n",
        "Torque = Pot/(2*pi*Nrps);print('Torque:',Torque)\n",
        "I = 1750/(60*Nrps);print('I:',I)\n",
        "Tmot = Torque/(I*fs);print('Tmot:',Tmot)\n",
        "tempo = 30*2/3*24*60*60\n",
        "Energia = Pot*tempo/3.6e6;print('gasto:',Energia*1)"
      ]
    },
    {
      "cell_type": "markdown",
      "source": [
        "2)\tReferente a esterilização do ar por filtração que tem 1000 esporos/m3, pede-se: a) calcule a LRV de um filtro que garante que um reator de 750 m3 de volume útil recebendo 1 vvm possa funcionar 20 dias apresentando a condição de uma única falha para cada 20 fermentações. b) discuta como pode ser calculada a transferência de oxigênio neste reator e descreva duas situações que este cálculo pode ser útil."
      ],
      "metadata": {
        "id": "AOjMzYAyx_FP"
      }
    },
    {
      "cell_type": "code",
      "source": [
        "N0=1000 #esporos/m3\n",
        "Vol = 750 # m3\n",
        "tempo = 20*24*60 #minutos\n",
        "Vazao = 1*Vol #m3/min\n",
        "final = 1/20\n",
        "inicial = N0*Vazao*tempo; print('inicial:%.2E'%inicial)\n",
        "import numpy as np\n",
        "LRV = np.log10(inicial/final);print('LRV:',LRV)"
      ],
      "metadata": {
        "colab": {
          "base_uri": "https://localhost:8080/"
        },
        "id": "LvyIujBSyBPP",
        "outputId": "4ac82eb8-62a4-4c6e-e40b-b0f7cd51f320"
      },
      "execution_count": 17,
      "outputs": [
        {
          "output_type": "stream",
          "name": "stdout",
          "text": [
            "inicial:2.16E+10\n",
            "LRV: 11.635483746814913\n"
          ]
        }
      ]
    },
    {
      "cell_type": "markdown",
      "source": [
        "3)\tSe a figura abaixo representa ln(k) com k em min-1 em função do inverso da temperatura para cinética de morte celular de um microrganismo, calcule os parâmetros da equação de Arrhenius associada a cinética de morte celular e discuta qual o valor adequado de temperatura que garante a redução 12D para um tempo de residência de 30s no tubo de espera do trocador de calor que o microrganismo segue esta cinética de morte celular. \n",
        " \t\n"
      ],
      "metadata": {
        "id": "-5JNOZhA4wFJ"
      }
    },
    {
      "cell_type": "markdown",
      "source": [
        "![Imagem1.png](data:image/png;base64,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)"
      ],
      "metadata": {
        "id": "6gfDNyBT43qn"
      }
    },
    {
      "cell_type": "code",
      "source": [
        "y1 =-2\n",
        "y2 =-3\n",
        "x1 = 0.0031\n",
        "x2=0.0033\n",
        "R =8.314\n",
        "# y = a + b*x\n",
        "b =(y2-y1)/(x2-x1);print('b:',b)\n",
        "Ea = -R*b;print('Ea:',Ea)\n",
        "a = y1-b*x1;print('a:',a)\n",
        "A0=np.exp(a);print('A0:%.2E'%A0)\n",
        "k = np.log(1e12)/0.5;print('k:',k)\n",
        "T= -Ea/R/np.log(k/A0);print('T:',T,T-273.15)"
      ],
      "metadata": {
        "colab": {
          "base_uri": "https://localhost:8080/"
        },
        "id": "4M8tdOQc42vo",
        "outputId": "c8d5b734-aee4-4114-def4-847164ea5adc"
      },
      "execution_count": 25,
      "outputs": [
        {
          "output_type": "stream",
          "name": "stdout",
          "text": [
            "b: -4999.999999999998\n",
            "Ea: 41569.999999999985\n",
            "a: 13.499999999999995\n",
            "A0:7.29E+05\n",
            "k: 55.262042231857095\n",
            "T: 526.9862422061635 253.83624220616355\n"
          ]
        }
      ]
    }
  ]
}