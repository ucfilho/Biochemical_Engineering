{
  "nbformat": 4,
  "nbformat_minor": 0,
  "metadata": {
    "colab": {
      "name": "Avalia_01_Eng_Bioq_2020_02.ipynb",
      "provenance": [],
      "authorship_tag": "ABX9TyNDGC32ANBfNs1feYJjHSoq",
      "include_colab_link": true
    },
    "kernelspec": {
      "name": "python3",
      "display_name": "Python 3"
    }
  },
  "cells": [
    {
      "cell_type": "markdown",
      "metadata": {
        "id": "view-in-github",
        "colab_type": "text"
      },
      "source": [
        "<a href=\"https://colab.research.google.com/github/ucfilho/Biochemical_Engineering/blob/master/Avalia_01_Eng_Bioq_2020_02.ipynb\" target=\"_parent\"><img src=\"https://colab.research.google.com/assets/colab-badge.svg\" alt=\"Open In Colab\"/></a>"
      ]
    },
    {
      "cell_type": "code",
      "metadata": {
        "id": "1hAQBfpH1Srz"
      },
      "source": [
        "import numpy as np"
      ],
      "execution_count": 1,
      "outputs": []
    },
    {
      "cell_type": "markdown",
      "metadata": {
        "id": "qiQXP3GLCJR8"
      },
      "source": [
        "Questão 1 Considere a necessidade de 2000 m3 por mês de meio fermentado em reatores CSTR\r\n",
        "sem aeração discuta a maior quantidade de reatores exatemente iguais que tem o gasto energético\r\n",
        "de 0.8 HP/m3 que juntos atendem este volume e calcule a especi\u001ccação técnica dos motores idênticos presente em cada reator"
      ]
    },
    {
      "cell_type": "code",
      "metadata": {
        "colab": {
          "base_uri": "https://localhost:8080/",
          "height": 0
        },
        "id": "qDJgJct-zuBD",
        "outputId": "c7433f68-ff24-46f6-f51f-04d09c85d5fe"
      },
      "source": [
        "Vol = 2000\r\n",
        "Pot_Vol = 0.8\r\n",
        "HP = 746\r\n",
        "Pot = Pot_Vol * Vol * HP\r\n",
        "Np=1.27\r\n",
        "rho = 1000\r\n",
        "Nrps= 0.5\r\n",
        "di = (Pot /(Np * rho * Nrps**3) ) ** (1/5) # Pot = Np * rho * di**5 * Nrps**3\r\n",
        "D= 3* di\r\n",
        "H = D\r\n",
        "Vol = (np.pi * D**3)/ 4\r\n",
        "print('Di=',di,'m')\r\n",
        "print('D=', D,'m')\r\n",
        "print('Vol=', Vol, 'm3')\r\n"
      ],
      "execution_count": 4,
      "outputs": [
        {
          "output_type": "stream",
          "text": [
            "Di= 5.959763351303199 m\n",
            "D= 17.879290053909596 m\n",
            "Vol= 4488.907861290217 m3\n"
          ],
          "name": "stdout"
        }
      ]
    },
    {
      "cell_type": "code",
      "metadata": {
        "colab": {
          "base_uri": "https://localhost:8080/"
        },
        "id": "UPXolXiz2MZI",
        "outputId": "1836fd03-0b2b-4ad8-a2c5-c6ca078393dc"
      },
      "source": [
        "Vol =2000.0 # caso considere dois reatores de 1000 m3, pode ser tres de 2000/3 = 667 m3 etc\r\n",
        "fs = 1.2\r\n",
        "mi =0.001 \r\n",
        "d = (4*Vol / np.pi)**(1/3)\r\n",
        "di = d/3\r\n",
        "HP = 746\r\n",
        "Np=1.27\r\n",
        "rho = 1000\r\n",
        "Pot_Vol =0.8\r\n",
        "Nrps = (Pot_Vol*HP*Vol / (Np * rho * di**5 ))**(1.0/3.0)  # Pot_Vol = Np * rho * di**5 * Nrps**3/HP/Vol\r\n",
        "Pot = Np * rho * di**5 * Nrps**3\r\n",
        "Re =rho*di**2*Nrps/mi\r\n",
        "Pmot= Pot * fs\r\n",
        "Torque = Pot /(2.0 * np.pi* Nrps)\r\n",
        "I = 1750/60/Nrps\r\n",
        "Tmotor = Torque/(I*fs)\r\n",
        "print('Di=',di,'m')\r\n",
        "print('D=', d,'m')\r\n",
        "print('Vol=', Vol, 'm3')\r\n",
        "Vol = np.pi* d**3/ 4\r\n",
        "print('Vol=', Vol, 'm3')\r\n",
        "print('Nrps =', Nrps, 'rps')\r\n",
        "print('Pmot =',Pmot/HP,'HP')\r\n",
        "print('Torque =',Torque,'N.m')\r\n",
        "print('Re =',Re)\r\n",
        "print('Tmotor =',Tmotor,'N.m')"
      ],
      "execution_count": 24,
      "outputs": [
        {
          "output_type": "stream",
          "text": [
            "Di= 4.551893755035304 m\n",
            "D= 13.655681265105912 m\n",
            "Vol= 2000.0 m3\n",
            "Vol= 1999.999999999999 m3\n",
            "Nrps = 0.7834864714719485 rps\n",
            "Pmot = 1920.0000000000002 HP\n",
            "Torque = 242464.0973284346 N.m\n",
            "Re = 16233633.44167095\n",
            "Tmotor = 5427.6382878424665 N.m\n"
          ],
          "name": "stdout"
        }
      ]
    },
    {
      "cell_type": "markdown",
      "metadata": {
        "id": "q5frZkHYCuUE"
      },
      "source": [
        "Questão 2 Uma empresa precisa de um tangue agitado de 250000 litros destinado a produção\r\n",
        "de aminoácido na etapa de separação do produto do meio fermentado que funciona quinze vezes\r\n",
        "durante o mês \u001ccando ligado por 24h cada vez que funciona. Considerando a necessidade de um\r\n",
        "tempo de mistura inferior a 8 min e gasto energético inferior a 1 HP/m3 pede-se:\r\n",
        "a) forneça todas as dimensões do equipamento e especi\u001ccações do motor considerando um agitador\r\n",
        "4PBT45\r\n",
        "b) discuta a economia por mês de energia que será gerada em dinheiro se substituir o agitador por\r\n",
        "um hidrofoil. Considere que a energia custa R$0.51 por kWh e que o número de kWh corresponde a:\r\n",
        "kWh = Pot × tempo(h)/1000\r\n",
        "sendo Pot a potência transferida para o líquido em watts e o tempo signi\u001ca o tempo total de\r\n",
        "funcionamento do equipamento no período de análise."
      ]
    },
    {
      "cell_type": "code",
      "metadata": {
        "colab": {
          "base_uri": "https://localhost:8080/"
        },
        "id": "p2hiUXY18lHa",
        "outputId": "caae3670-44b4-4297-f6b4-2dd536ad2541"
      },
      "source": [
        "Vol = 250 # m3\r\n",
        "fs = 1.2\r\n",
        "mi =0.001 \r\n",
        "HP = 746\r\n",
        "Np=1.27\r\n",
        "Nrps =0.5\r\n",
        "rho = 1000\r\n",
        "Nq =0.8 ; Np =1.27 # 3PBT45\r\n",
        "#Nq =0.28 ; Np =0.65 # Hydrofoil\r\n",
        "d = (4*Vol/np.pi)**(1/3)\r\n",
        "di = d/3\r\n",
        "Pot =  Np * rho * di**5 * Nrps**3\r\n",
        "Q = Nq* Nrps*di**3\r\n",
        "tm =3.0* Vol/ Q\r\n",
        "tempo = 15* 24\r\n",
        "Gasto =0.51*Pot*tempo/1000\r\n",
        "Re = rho* di**2* Nrps /mi\r\n",
        "Pmot= Pot * fs\r\n",
        "Torque = Pot /(2.0 * np.pi* Nrps)\r\n",
        "I = 1750/60/Nrps\r\n",
        "Tmotor = Torque/(I*fs)\r\n",
        "print('tm=',tm/60,'min')\r\n",
        "print('Pot =',Pot,'W')\r\n",
        "print('Di=',di,'m')\r\n",
        "print('D=', d,'m')\r\n",
        "print('Pot/Vol =',Pot/(Vol*HP),'Hp/m3')\r\n",
        "print('Gasto =',Gasto,'$')\r\n",
        "print('Re =',Re)\r\n",
        "print('Pmot =',Pmot/HP,'HP')\r\n",
        "print('Torque =',Torque,'N.m')\r\n",
        "print('Tmotor =',Tmotor,'N.m')"
      ],
      "execution_count": 37,
      "outputs": [
        {
          "output_type": "stream",
          "text": [
            "tm= 2.6507188014663883 min\n",
            "Pot = 9694.475986259667 W\n",
            "Di= 2.275946877517652 m\n",
            "D= 6.827840632552956 m\n",
            "Pot/Vol = 0.05198110448396605 Hp/m3\n",
            "Gasto = 1779.905791077275 $\n",
            "Re = 2589967.0946411756\n",
            "Pmot = 15.594331345189813 HP\n",
            "Torque = 3085.847547797807 N.m\n",
            "Tmotor = 44.08353639711152 N.m\n"
          ],
          "name": "stdout"
        }
      ]
    },
    {
      "cell_type": "markdown",
      "metadata": {
        "id": "pQvXtvc6NMOg"
      },
      "source": [
        "Questão 3 Para fermentação aerada realizada em um reator com 0.4 VVM com volume de 500000\r\n",
        "litros pede-se:\r\n",
        "a) calcule a potência aerada e não aerada.\r\n",
        "b) discuta se a aeração altera a turbulêncida do sistema e porque em alguns casos as bolhas de ar\r\n",
        "em excesso atrapalham sendo necessário, inclusive, adicionar antiespumante.\r\n",
        "Obs: considere que seja válido o mesmo grá\u001cco Pg/Po visto em sala de aula."
      ]
    },
    {
      "cell_type": "code",
      "metadata": {
        "colab": {
          "base_uri": "https://localhost:8080/"
        },
        "id": "pssF4X_TJCel",
        "outputId": "622671fa-58dc-47c1-efac-545fdaaa0b23"
      },
      "source": [
        "Vol =500 \r\n",
        "fs = 1.2\r\n",
        "mi =0.001 \r\n",
        "HP = 746\r\n",
        "Np=5.5\r\n",
        "rho = 1000\r\n",
        "d = (4*Vol/np.pi)**(1/3)\r\n",
        "di = d/3.0\r\n",
        "VVM = 0.4\r\n",
        "Nrps=0.5;\r\n",
        "Q = Vol* VVM /60\r\n",
        "Na = Q /(Nrps*di**3)\r\n",
        "Re = rho* di**2* Nrps /mi\r\n",
        "Pot =  Np * rho * di**5 * Nrps**3\r\n",
        "Pg_Pot= 0.5 # leitura no grafico para Na dado\r\n",
        "Pg = Pot * Pg_Pot\r\n",
        "print('Pot =',Pot,'W')\r\n",
        "print('Pg =',Pg,'W')\r\n",
        "print('Di=',di,'m')\r\n",
        "print('D=', d,'m')\r\n",
        "print('Na =',Na)\r\n"
      ],
      "execution_count": 43,
      "outputs": [
        {
          "output_type": "stream",
          "text": [
            "Pot = 133290.73635240903 W\n",
            "Pg = 66645.36817620452 W\n",
            "Di= 2.8675133794269985 m\n",
            "D= 8.602540138280995 m\n",
            "Na = 0.2827433388230815\n"
          ],
          "name": "stdout"
        }
      ]
    },
    {
      "cell_type": "markdown",
      "metadata": {
        "id": "bD1Nk4w7Q0iS"
      },
      "source": [
        "Questão 4 Referente a um motor de 400 HP destinado a agitação de um fermentador, pedese:\r\n",
        "a) Qual o maior fermentador que um motor de 400 HP pode atender?\r\n",
        "b) Discuta qual é o torque que o mesmo deve ser capaz de gerar\r\n",
        "c) Discuta o que pode acontecer se o motor não tiver este torque"
      ]
    },
    {
      "cell_type": "code",
      "metadata": {
        "colab": {
          "base_uri": "https://localhost:8080/"
        },
        "id": "MV_QDIGsQ0CE",
        "outputId": "28288d60-de9f-49b2-e148-655ecb681b12"
      },
      "source": [
        "Pmot = 400 \r\n",
        "Np =1.27\r\n",
        "HP =746\r\n",
        "fs=1.2\r\n",
        "Nrps = 0.5\r\n",
        "Pot= Pmot* HP / fs\r\n",
        "di = (Pot/(Np*rho*Nrps**3))**(1.0/5.0)\r\n",
        "d=3*di\r\n",
        "Vol = np.pi*d**3/4\r\n",
        "Torque = Pot /(2.0 * np.pi* Nrps)\r\n",
        "I = 1750/60/Nrps\r\n",
        "Tmotor = Torque/(I*fs)\r\n",
        "Re = rho* di**2* Nrps /mi\r\n",
        "print('Vol =',Vol,'m3')\r\n",
        "print('Pot=',Pot,'W')\r\n",
        "print('di=',di,'m')\r\n",
        "print('d =',d ,'m')\r\n",
        "print('Torque =',Torque,'N.m')\r\n",
        "print('Tmotor =',Tmotor,'N.m')\r\n",
        "print('Re =',Re)"
      ],
      "execution_count": 52,
      "outputs": [
        {
          "output_type": "stream",
          "text": [
            "Vol = 1751.4427614656622 m3\n",
            "Pot= 248666.6666666667 W\n",
            "di= 4.354925879595692 m\n",
            "d = 13.064777638787076 m\n",
            "Torque = 79153.0583643693 N.m\n",
            "Tmotor = 1130.757976633847 N.m\n",
            "Re = 9482689.708386155\n"
          ],
          "name": "stdout"
        }
      ]
    }
  ]
}