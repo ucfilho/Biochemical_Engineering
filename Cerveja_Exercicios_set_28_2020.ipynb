{
  "nbformat": 4,
  "nbformat_minor": 0,
  "metadata": {
    "colab": {
      "name": "Cerveja_Exercicios_set_28_2020.ipynb",
      "provenance": [],
      "authorship_tag": "ABX9TyPdlYQKVxonyF+nvkJBD44M",
      "include_colab_link": true
    },
    "kernelspec": {
      "name": "python3",
      "display_name": "Python 3"
    }
  },
  "cells": [
    {
      "cell_type": "markdown",
      "metadata": {
        "id": "view-in-github",
        "colab_type": "text"
      },
      "source": [
        "<a href=\"https://colab.research.google.com/github/ucfilho/Biochemical_Engineering/blob/master/Cerveja_Exercicios_set_28_2020.ipynb\" target=\"_parent\"><img src=\"https://colab.research.google.com/assets/colab-badge.svg\" alt=\"Open In Colab\"/></a>"
      ]
    },
    {
      "cell_type": "code",
      "metadata": {
        "id": "hGQuORxgBtxp",
        "outputId": "290b2468-8b92-4517-a60f-2426cf73e382",
        "colab": {
          "base_uri": "https://localhost:8080/",
          "height": 34
        }
      },
      "source": [
        "Gar=400000\n",
        "Vol=0.6\n",
        "Tem=7\n",
        "hL=1/100\n",
        "Adj=5\n",
        "Valor=Gar*Vol*Tem*hL*Adj\n",
        "print('Valor=',Valor)"
      ],
      "execution_count": 5,
      "outputs": [
        {
          "output_type": "stream",
          "text": [
            "Valor= 84000.0\n"
          ],
          "name": "stdout"
        }
      ]
    },
    {
      "cell_type": "code",
      "metadata": {
        "id": "4feMa8_fD1RM",
        "outputId": "361023f0-0d1e-48d4-d934-2fc03f9a266d",
        "colab": {
          "base_uri": "https://localhost:8080/",
          "height": 50
        }
      },
      "source": [
        "tempRef=3 # dias\n",
        "Total=Gar*Vol*tempRef\n",
        "print('Total=',Total)\n",
        "VolRef=4400*100 # 800hL\n",
        "Num=Total/VolRef\n",
        "print(Num)"
      ],
      "execution_count": 6,
      "outputs": [
        {
          "output_type": "stream",
          "text": [
            "Total= 720000.0\n",
            "1.6363636363636365\n"
          ],
          "name": "stdout"
        }
      ]
    },
    {
      "cell_type": "code",
      "metadata": {
        "id": "TUdjzUzaGGdE",
        "outputId": "e10cd61f-41b3-49a9-c0df-4189a2afdc66",
        "colab": {
          "base_uri": "https://localhost:8080/",
          "height": 50
        }
      },
      "source": [
        "tempRef=7+1 # dias\n",
        "Total=Gar*Vol*tempRef\n",
        "print('Total=',Total)\n",
        "VolRef=4400*100 # 800hL\n",
        "Num=Total/VolRef\n",
        "print(Num)"
      ],
      "execution_count": 7,
      "outputs": [
        {
          "output_type": "stream",
          "text": [
            "Total= 1920000.0\n",
            "4.363636363636363\n"
          ],
          "name": "stdout"
        }
      ]
    },
    {
      "cell_type": "code",
      "metadata": {
        "id": "kgSxyqr_I3GS",
        "outputId": "80fdc1bc-3e13-42dc-f8b3-8bd16ca1a469",
        "colab": {
          "base_uri": "https://localhost:8080/",
          "height": 84
        }
      },
      "source": [
        "V2=40/(3/(8*2200)+1/2200)\n",
        "print(V2)\n",
        "V1=V2*3/8\n",
        "print(V1)\n",
        "N1=V1/2200\n",
        "N2=V2/2200\n",
        "print(N1)\n",
        "print(N2)"
      ],
      "execution_count": 10,
      "outputs": [
        {
          "output_type": "stream",
          "text": [
            "64000.0\n",
            "24000.0\n",
            "10.909090909090908\n",
            "29.09090909090909\n"
          ],
          "name": "stdout"
        }
      ]
    },
    {
      "cell_type": "code",
      "metadata": {
        "id": "aI8bSQFJKh9Z",
        "outputId": "bf596e6c-01d1-4f57-c9ec-b8571d2aecdf",
        "colab": {
          "base_uri": "https://localhost:8080/",
          "height": 50
        }
      },
      "source": [
        "Cerv=30*3*8000\n",
        "print(Cerv)\n",
        "N=40e6/Cerv\n",
        "print(N)"
      ],
      "execution_count": 12,
      "outputs": [
        {
          "output_type": "stream",
          "text": [
            "720000\n",
            "55.55555555555556\n"
          ],
          "name": "stdout"
        }
      ]
    }
  ]
}