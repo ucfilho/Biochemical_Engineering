{
  "nbformat": 4,
  "nbformat_minor": 0,
  "metadata": {
    "colab": {
      "provenance": [],
      "authorship_tag": "ABX9TyOyI9luRKKZ5AxbSe2+/YWt",
      "include_colab_link": true
    },
    "kernelspec": {
      "name": "python3",
      "display_name": "Python 3"
    },
    "language_info": {
      "name": "python"
    }
  },
  "cells": [
    {
      "cell_type": "markdown",
      "metadata": {
        "id": "view-in-github",
        "colab_type": "text"
      },
      "source": [
        "<a href=\"https://colab.research.google.com/github/ucfilho/Biochemical_Engineering/blob/master/Courses/Eng_Bioq_2025_01/aula_03_reator_transiente.ipynb\" target=\"_parent\"><img src=\"https://colab.research.google.com/assets/colab-badge.svg\" alt=\"Open In Colab\"/></a>"
      ]
    },
    {
      "cell_type": "code",
      "source": [
        "import numpy as np\n",
        "from scipy.integrate import odeint\n",
        "import matplotlib.pyplot as plt"
      ],
      "metadata": {
        "id": "vrr8qK2hODFA"
      },
      "execution_count": 1,
      "outputs": []
    },
    {
      "cell_type": "code",
      "execution_count": 2,
      "metadata": {
        "id": "45n8KiCsL3pM"
      },
      "outputs": [],
      "source": [
        "mi_m = 0.4\n",
        "X0 = 0\n",
        "S0 = 100\n",
        "P0 = 0\n",
        "ks =2\n",
        "yxs = 0.5\n",
        "yps =0.4\n",
        "ypx = yps/yxs\n",
        "F = 20\n",
        "Vol = 100"
      ]
    },
    {
      "cell_type": "code",
      "source": [
        "def fun(y,t):\n",
        "  X,S,P = y\n",
        "  mi = mi_m*S/(S+ks)\n",
        "  dX_dt = F/Vol*(X0-X)+mi*X\n",
        "  dS_dt = F/Vol*(S0-S)-mi*X/yxs\n",
        "  dP_dt = F/Vol*(P0-P)+mi*X/ypx\n",
        "  derivadas = [dX_dt, dS_dt, dP_dt]\n",
        "  return derivadas\n"
      ],
      "metadata": {
        "id": "7WH7g3YHMB4h"
      },
      "execution_count": 3,
      "outputs": []
    },
    {
      "cell_type": "code",
      "source": [
        "y0 =[50,10,40]\n",
        "t = np.linspace(0, 60, 1001)"
      ],
      "metadata": {
        "id": "IAGuYho_Ndo3"
      },
      "execution_count": 4,
      "outputs": []
    },
    {
      "cell_type": "code",
      "source": [
        "sol = odeint(fun, y0, t)"
      ],
      "metadata": {
        "id": "jBGhmzx1MCEZ"
      },
      "execution_count": 5,
      "outputs": []
    },
    {
      "cell_type": "code",
      "source": [
        "import matplotlib.pyplot as plt\n",
        "plt.plot(t, sol[:, 0], 'b', label='X(t)')\n",
        "plt.plot(t, sol[:, 1], 'g', label='S(t)')\n",
        "plt.plot(t, sol[:, 2], 'k', label='P(t)')\n",
        "plt.legend(loc='best')\n",
        "plt.xlabel('t')\n",
        "plt.grid()\n",
        "plt.show()"
      ],
      "metadata": {
        "colab": {
          "base_uri": "https://localhost:8080/",
          "height": 449
        },
        "id": "oDe2fp3TO2rY",
        "outputId": "c770a284-f5ad-4524-97bb-5fac7af5c938"
      },
      "execution_count": 6,
      "outputs": [
        {
          "output_type": "display_data",
          "data": {
            "text/plain": [
              "<Figure size 640x480 with 1 Axes>"
            ],
            "image/png": "[encoded data removed]"
          },
          "metadata": {}
        }
      ]
    },
    {
      "cell_type": "code",
      "source": [
        "sol.shape"
      ],
      "metadata": {
        "colab": {
          "base_uri": "https://localhost:8080/"
        },
        "id": "sD9Zs7WlQOsR",
        "outputId": "f94d191c-46b8-4e9c-e7ca-b56ca483a681"
      },
      "execution_count": 7,
      "outputs": [
        {
          "output_type": "execute_result",
          "data": {
            "text/plain": [
              "(1001, 3)"
            ]
          },
          "metadata": {},
          "execution_count": 7
        }
      ]
    },
    {
      "cell_type": "code",
      "source": [
        "sol[1000]"
      ],
      "metadata": {
        "colab": {
          "base_uri": "https://localhost:8080/"
        },
        "id": "YmOcQXZ-rJD8",
        "outputId": "e94e0368-8447-4c58-c5a2-e096c2909714"
      },
      "execution_count": 8,
      "outputs": [
        {
          "output_type": "execute_result",
          "data": {
            "text/plain": [
              "array([49.00003227,  1.99999737, 61.24990104])"
            ]
          },
          "metadata": {},
          "execution_count": 8
        }
      ]
    },
    {
      "cell_type": "code",
      "source": [],
      "metadata": {
        "id": "IHw7JNVnQdPC"
      },
      "execution_count": 8,
      "outputs": []
    }
  ]
}