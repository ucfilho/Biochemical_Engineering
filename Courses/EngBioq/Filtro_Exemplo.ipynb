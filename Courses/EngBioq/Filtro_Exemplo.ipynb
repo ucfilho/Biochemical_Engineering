{
  "nbformat": 4,
  "nbformat_minor": 0,
  "metadata": {
    "colab": {
      "provenance": [],
      "authorship_tag": "ABX9TyMftiqEnxHczzbALkiGOUM9",
      "include_colab_link": true
    },
    "kernelspec": {
      "name": "python3",
      "display_name": "Python 3"
    },
    "language_info": {
      "name": "python"
    }
  },
  "cells": [
    {
      "cell_type": "markdown",
      "metadata": {
        "id": "view-in-github",
        "colab_type": "text"
      },
      "source": [
        "<a href=\"https://colab.research.google.com/github/ucfilho/Biochemical_Engineering/blob/master/Courses/EngBioq/Filtro_Exemplo.ipynb\" target=\"_parent\"><img src=\"https://colab.research.google.com/assets/colab-badge.svg\" alt=\"Open In Colab\"/></a>"
      ]
    },
    {
      "cell_type": "code",
      "source": [
        "import numpy as np"
      ],
      "metadata": {
        "id": "NdPTAV8tyiVZ"
      },
      "execution_count": 3,
      "outputs": []
    },
    {
      "cell_type": "code",
      "execution_count": 4,
      "metadata": {
        "colab": {
          "base_uri": "https://localhost:8080/"
        },
        "id": "eYoCRNtBxjE0",
        "outputId": "eae29ffc-e928-46ef-c7f0-2fbe72ea65a1"
      },
      "outputs": [
        {
          "output_type": "stream",
          "name": "stdout",
          "text": [
            "N_N0 =  1.0000000005838672e-07\n",
            "LRV =  6.9999999997464295\n"
          ]
        }
      ],
      "source": [
        "retem = 99.99999\n",
        "N_N0 = 1-retem/100\n",
        "print('N_N0 = ', N_N0)\n",
        "LRV = -np.log10(N_N0)\n",
        "print('LRV = ', LRV)"
      ]
    }
  ]
}