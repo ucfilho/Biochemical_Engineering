{
  "nbformat": 4,
  "nbformat_minor": 0,
  "metadata": {
    "colab": {
      "provenance": [],
      "authorship_tag": "ABX9TyOxZcfLnSIE2PyGB/1B3x9+",
      "include_colab_link": true
    },
    "kernelspec": {
      "name": "python3",
      "display_name": "Python 3"
    },
    "language_info": {
      "name": "python"
    }
  },
  "cells": [
    {
      "cell_type": "markdown",
      "metadata": {
        "id": "view-in-github",
        "colab_type": "text"
      },
      "source": [
        "<a href=\"https://colab.research.google.com/github/ucfilho/Biochemical_Engineering/blob/master/Courses/EngBioq_2024_01/Aula_01_maio_22_2024.ipynb\" target=\"_parent\"><img src=\"https://colab.research.google.com/assets/colab-badge.svg\" alt=\"Open In Colab\"/></a>"
      ]
    },
    {
      "cell_type": "code",
      "execution_count": 1,
      "metadata": {
        "colab": {
          "base_uri": "https://localhost:8080/"
        },
        "id": "6I7FbaQEftXy",
        "outputId": "c94427de-ca6a-4cb5-cfc9-1ed9f2e4be70"
      },
      "outputs": [
        {
          "output_type": "stream",
          "name": "stdout",
          "text": [
            "3 4 12\n"
          ]
        }
      ],
      "source": [
        "x = 3\n",
        "y = 4\n",
        "z = x * y\n",
        "print(x,y,z)"
      ]
    },
    {
      "cell_type": "code",
      "source": [
        "print(x**y)"
      ],
      "metadata": {
        "colab": {
          "base_uri": "https://localhost:8080/"
        },
        "id": "Pl7XTr_LhfWp",
        "outputId": "85bde596-a709-45df-dcfe-5d95bafb861d"
      },
      "execution_count": 2,
      "outputs": [
        {
          "output_type": "stream",
          "name": "stdout",
          "text": [
            "81\n"
          ]
        }
      ]
    },
    {
      "cell_type": "code",
      "source": [
        "print(y % x)"
      ],
      "metadata": {
        "colab": {
          "base_uri": "https://localhost:8080/"
        },
        "id": "TYbCNniAhyXS",
        "outputId": "2e9f628e-52d9-421b-cdfb-507500454dfe"
      },
      "execution_count": 3,
      "outputs": [
        {
          "output_type": "stream",
          "name": "stdout",
          "text": [
            "1\n"
          ]
        }
      ]
    },
    {
      "cell_type": "code",
      "source": [
        "lista = [1,2,3,4,5,6,7,8]\n",
        "for wi in lista:\n",
        "  if wi % 2 == 0:\n",
        "    print(wi,'numero par')\n",
        "  else:\n",
        "    print(wi,'numero impar')"
      ],
      "metadata": {
        "colab": {
          "base_uri": "https://localhost:8080/"
        },
        "id": "GHIPOOhSjENa",
        "outputId": "40b45f5d-b2c0-4d3f-db47-cf6069388024"
      },
      "execution_count": 4,
      "outputs": [
        {
          "output_type": "stream",
          "name": "stdout",
          "text": [
            "1 numero impar\n",
            "2 numero par\n",
            "3 numero impar\n",
            "4 numero par\n",
            "5 numero impar\n",
            "6 numero par\n",
            "7 numero impar\n",
            "8 numero par\n"
          ]
        }
      ]
    },
    {
      "cell_type": "code",
      "source": [
        "pi = 3.141516\n",
        "Vol = 600 # volume em metros cubicos\n",
        "d = (4*Vol/pi)**(1/3) # diametro tanque com altura igual diametro\n",
        "print('diametro:', d, 'metros')\n",
        "di = d/3\n",
        "print('diametro do agitador:', di, 'metros')"
      ],
      "metadata": {
        "id": "MLS10F4SmD3o",
        "colab": {
          "base_uri": "https://localhost:8080/"
        },
        "outputId": "a4a3ebb7-1660-4d75-b6c0-e797a6ff3f52"
      },
      "execution_count": 5,
      "outputs": [
        {
          "output_type": "stream",
          "name": "stdout",
          "text": [
            "diametro: 9.141637346037356 metros\n",
            "diametro do agitador: 3.047212448679119 metros\n"
          ]
        }
      ]
    },
    {
      "cell_type": "code",
      "source": [
        "pi = 3.141516\n",
        "Vol = 600 # volume em metros cubicos\n",
        "d = (4*Vol/pi)**(1/3) # diametro tanque com altura igual diametro\n",
        "print(f'diametro: {d:.2f} metros')\n",
        "di = d/3\n",
        "print(f'diametro do agitador:{di:.2f} metros')"
      ],
      "metadata": {
        "id": "42Y57Ak1mMRv",
        "colab": {
          "base_uri": "https://localhost:8080/"
        },
        "outputId": "bc82c57e-03b9-4419-c936-3c61116bb0cc"
      },
      "execution_count": 6,
      "outputs": [
        {
          "output_type": "stream",
          "name": "stdout",
          "text": [
            "diametro: 9.14 metros\n",
            "diametro do agitador:3.05 metros\n"
          ]
        }
      ]
    },
    {
      "cell_type": "code",
      "source": [
        "pi = 3.141516\n",
        "Vol = [400,500,600,700,800,1000] # lista de volumes em metros cubicos\n",
        "for Vi in Vol:\n",
        "  d = (4*Vi/pi)**(1/3) # diametro tanque com altura igual diametro\n",
        "  di = d/3\n",
        "  print(f'diametro: {d:.2f} metros  diametro do agitador:{di:.2f} metros')"
      ],
      "metadata": {
        "colab": {
          "base_uri": "https://localhost:8080/"
        },
        "id": "0fPdcLg6mVAh",
        "outputId": "b1d5989b-d270-43d7-8552-e1c2ef56bea4"
      },
      "execution_count": 7,
      "outputs": [
        {
          "output_type": "stream",
          "name": "stdout",
          "text": [
            "diametro: 7.99 metros  diametro do agitador:2.66 metros\n",
            "diametro: 8.60 metros  diametro do agitador:2.87 metros\n",
            "diametro: 9.14 metros  diametro do agitador:3.05 metros\n",
            "diametro: 9.62 metros  diametro do agitador:3.21 metros\n",
            "diametro: 10.06 metros  diametro do agitador:3.35 metros\n",
            "diametro: 10.84 metros  diametro do agitador:3.61 metros\n"
          ]
        }
      ]
    },
    {
      "cell_type": "code",
      "source": [
        "import numpy as np # importa a biblioteca numpy"
      ],
      "metadata": {
        "id": "WTkJnVkvyoLT"
      },
      "execution_count": 8,
      "outputs": []
    },
    {
      "cell_type": "code",
      "source": [
        "import numpy as np # importa a biblioteca numpy\n",
        "alpha= np.pi/4\n",
        "print(np.sin(alpha),np.cos(alpha),np.tan(alpha))\n",
        "N0_N = 1e10 # razao entre as concentracoes entrada e saida do filtro\n",
        "print('LRV do filtro: ', np.log10(N0_N))\n"
      ],
      "metadata": {
        "colab": {
          "base_uri": "https://localhost:8080/"
        },
        "id": "d43uos-rnEtI",
        "outputId": "acf3de45-3002-42f3-e099-ed6e0f794dc0"
      },
      "execution_count": 9,
      "outputs": [
        {
          "output_type": "stream",
          "name": "stdout",
          "text": [
            "0.7071067811865475 0.7071067811865476 0.9999999999999999\n",
            "LRV do filtro:  10.0\n"
          ]
        }
      ]
    },
    {
      "cell_type": "code",
      "source": [
        "matriz = np.array([[1,2,3],[4,5,6],[7,8,9]]) # fornecendo uma matriz\n",
        "print(matriz) # imprime a matriz\n",
        "print(matriz.shape) # dimensao da matriz\n",
        "print(np.linalg.det(matriz)) # calculo do determinante\n",
        "print(np.linalg.eigvals(matriz)) # calculo dos autovalores"
      ],
      "metadata": {
        "colab": {
          "base_uri": "https://localhost:8080/"
        },
        "id": "-Ss4OBjnnfIZ",
        "outputId": "bbf5e297-6e47-4041-9dc7-0bcf170d9446"
      },
      "execution_count": 10,
      "outputs": [
        {
          "output_type": "stream",
          "name": "stdout",
          "text": [
            "[[1 2 3]\n",
            " [4 5 6]\n",
            " [7 8 9]]\n",
            "(3, 3)\n",
            "0.0\n",
            "[ 1.61168440e+01 -1.11684397e+00 -1.30367773e-15]\n"
          ]
        }
      ]
    },
    {
      "cell_type": "code",
      "source": [
        "# fazendo uma regressao linear com o numpy:\n",
        "x = [1,2,3,4]\n",
        "y = [3,5,7,9] # neste caso y = 2x+1\n",
        "a,b = np.polyfit(x,y,1)\n",
        "print(a,b)"
      ],
      "metadata": {
        "colab": {
          "base_uri": "https://localhost:8080/"
        },
        "id": "tMYHXXmqzQ6z",
        "outputId": "a64f50a5-0bf9-4b64-afb0-7da6f77cb162"
      },
      "execution_count": 11,
      "outputs": [
        {
          "output_type": "stream",
          "name": "stdout",
          "text": [
            "2.0000000000000004 0.9999999999999974\n"
          ]
        }
      ]
    },
    {
      "cell_type": "code",
      "source": [
        "# fazendo regressao linear usando a biblioteca sklearn\n",
        "from sklearn.linear_model import LinearRegression\n",
        "# fazendo uma regressao linear com o numpy:\n",
        "x = [1,2,3,4]\n",
        "y = [3,5,7,9] # neste caso y = 2x+1\n",
        "x = np.array(x).reshape(-1,1) #alterando o formato para forma que a biblioteca usa\n",
        "y = np.array(y) # alterando o formato para forma q biblioteca aceita\n",
        "reg = LinearRegression().fit(x,y) # ajuste do modelo\n",
        "# impressao das informacoes .coef_ e  .intercept_ que estao dentro do modelo reg\n",
        "print(reg.coef_,reg.intercept_)\n",
        "r_sq = reg.score(x, y)\n",
        "print(f\"R^2: {r_sq}\")"
      ],
      "metadata": {
        "colab": {
          "base_uri": "https://localhost:8080/"
        },
        "id": "0CPsTH440RWp",
        "outputId": "2b37872c-f562-4c75-edc1-7c6daf60287c"
      },
      "execution_count": 12,
      "outputs": [
        {
          "output_type": "stream",
          "name": "stdout",
          "text": [
            "[2.] 1.0\n",
            "R^2: 1.0\n"
          ]
        }
      ]
    },
    {
      "cell_type": "code",
      "source": [
        "# tipos de dados\n",
        "a = [1,2,3] # lista\n",
        "b = np.array([1,2,3]) # numpy array\n",
        "c = (1,2,3) # tuple\n",
        "d = {1,2,3,2} # set\n"
      ],
      "metadata": {
        "id": "oY0Ubg9t1y-W"
      },
      "execution_count": 13,
      "outputs": []
    },
    {
      "cell_type": "code",
      "source": [
        "d"
      ],
      "metadata": {
        "colab": {
          "base_uri": "https://localhost:8080/"
        },
        "id": "FZzbsQlR2QtE",
        "outputId": "0cac5ee9-d3e2-4eaa-f4cc-46b96432b1c1"
      },
      "execution_count": 14,
      "outputs": [
        {
          "output_type": "execute_result",
          "data": {
            "text/plain": [
              "{1, 2, 3}"
            ]
          },
          "metadata": {},
          "execution_count": 14
        }
      ]
    }
  ]
}