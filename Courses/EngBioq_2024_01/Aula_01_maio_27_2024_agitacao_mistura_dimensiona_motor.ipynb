{
  "nbformat": 4,
  "nbformat_minor": 0,
  "metadata": {
    "colab": {
      "provenance": [],
      "authorship_tag": "ABX9TyN2GzZbxUGZEcoR3WnHNG2W",
      "include_colab_link": true
    },
    "kernelspec": {
      "name": "python3",
      "display_name": "Python 3"
    },
    "language_info": {
      "name": "python"
    }
  },
  "cells": [
    {
      "cell_type": "markdown",
      "metadata": {
        "id": "view-in-github",
        "colab_type": "text"
      },
      "source": [
        "<a href=\"https://colab.research.google.com/github/ucfilho/Biochemical_Engineering/blob/master/Courses/EngBioq_2024_01/Aula_01_maio_27_2024_agitacao_mistura_dimensiona_motor.ipynb\" target=\"_parent\"><img src=\"https://colab.research.google.com/assets/colab-badge.svg\" alt=\"Open In Colab\"/></a>"
      ]
    },
    {
      "cell_type": "code",
      "source": [
        "import numpy as np\n",
        "import pandas as pd"
      ],
      "metadata": {
        "id": "wqimIHgpN2l0"
      },
      "execution_count": 3,
      "outputs": []
    },
    {
      "cell_type": "code",
      "execution_count": 2,
      "metadata": {
        "colab": {
          "base_uri": "https://localhost:8080/"
        },
        "id": "xNG_vznYNV4Y",
        "outputId": "912b807f-91b9-4c28-dee5-21f0b90c2fe6"
      },
      "outputs": [
        {
          "name": "stdout",
          "output_type": "stream",
          "text": [
            "Vol: 600\n",
            "Nrps: 0.5\n",
            "Np: 1.65\n",
            "Continue? (y/n): y\n",
            "Vol: 600.00Nrps :0.50 Np: 1.65 d: 9.14 di: 3.05 Pot: 65023.63Re: 1.84e+07\n",
            "Vol: 700\n",
            "Nrps: 0.6\n",
            "Np: 1.67\n",
            "Continue? (y/n): y\n",
            "Vol: 700.00Nrps :0.60 Np: 1.67 d: 9.62 di: 3.21 Pot: 147036.60Re: 2.06e+07\n",
            "Vol: 600\n",
            "Nrps: 0.7\n",
            "Np: 0.8\n",
            "Continue? (y/n): n\n"
          ]
        }
      ],
      "source": [
        "\n",
        "ro =1200\n",
        "mi =1e-3\n",
        "\n",
        "while True:\n",
        "  Vol = input('Vol: ')\n",
        "  Nrps = input('Nrps: ')\n",
        "  Np = input('Np: ')\n",
        "  resp = input('Continue? (y/n): ')\n",
        "  if resp == 'n':\n",
        "    break\n",
        "\n",
        "  Nrps = float(Nrps)\n",
        "  Np = float(Np)\n",
        "  Vol = float(Vol)\n",
        "  d = (4*Vol/np.pi)**(1/3)\n",
        "  di = d/3\n",
        "  Pot = Np*ro*di**5*Nrps**3\n",
        "  Re = ro*Np*di**2/mi\n",
        "  print(f'Vol: {Vol:.2f} Nrps :{Nrps:.2f} Np: {Np:.2f} d: {d:.2f} di: {di:.2f} Pot: {Pot:.2f} Re: {Re:.2e}')"
      ]
    },
    {
      "cell_type": "code",
      "source": [
        "\n",
        "ro =1200\n",
        "mi =1e-3\n",
        "df = pd.DataFrame(columns=['Vol', 'Nrps', 'Np', 'd', 'di', 'Pot', 'Re'])\n",
        "k = 0\n",
        "while True:\n",
        "\n",
        "  Vol = input('Vol: ')\n",
        "  Nrps = input('Nrps: ')\n",
        "  Np = input('Np: ')\n",
        "  resp = input('Continue? (y/n): ')\n",
        "  if resp == 'n':\n",
        "    break\n",
        "\n",
        "  Nrps = float(Nrps)\n",
        "  Np = float(Np)\n",
        "  Vol = float(Vol)\n",
        "  d = (4*Vol/np.pi)**(1/3)\n",
        "  di = d/3\n",
        "  Pot = Np*ro*di**5*Nrps**3\n",
        "  Re = ro*Np*di**2/mi\n",
        "  #row = pd.DataFrame({'Vol': Vol, 'Nrps': Nrps, 'Np': Np, 'd': d, 'di': di, 'Pot': Pot, 'Re': Re})\n",
        "  df.loc[len(df)] = {'Vol': Vol, 'Nrps': Nrps, 'Np': Np, 'd': d, 'di': di, 'Pot': Pot, 'Re': Re}\n",
        "  # print(f'Vol: {Vol:.2f} Nrps :{Nrps:.2f} Np: {Np:.2f} d: {d:.2f} di: {di:.2f} Pot: {Pot:.2f} Re: {Re:.2e}')\n",
        "\n",
        "print(df)\n",
        "df.to_excel('motor.xlsx')"
      ],
      "metadata": {
        "colab": {
          "base_uri": "https://localhost:8080/"
        },
        "id": "PWqmrsyDP4Wi",
        "outputId": "e495fbac-f5e6-4ddb-f4a4-32e309d3f8c2"
      },
      "execution_count": 8,
      "outputs": [
        {
          "output_type": "stream",
          "name": "stdout",
          "text": [
            "Vol: 600\n",
            "Nrps: 0.5\n",
            "Np: 2\n",
            "Continue? (y/n): y\n",
            "Vol: 700\n",
            "Nrps: 0.5\n",
            "Np: 2\n",
            "Continue? (y/n): y\n",
            "Vol: 400\n",
            "Nrps: 0.4\n",
            "Np: 2\n",
            "Continue? (y/n): n\n",
            "     Vol  Nrps   Np         d        di            Pot            Re\n",
            "0  600.0   0.5  2.0  9.141563  3.047188   78816.521333  2.228485e+07\n",
            "1  700.0   0.5  2.0  9.623567  3.207856  101904.941858  2.469681e+07\n"
          ]
        }
      ]
    }
  ]
}