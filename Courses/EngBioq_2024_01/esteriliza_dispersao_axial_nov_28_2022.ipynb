{
  "nbformat": 4,
  "nbformat_minor": 0,
  "metadata": {
    "colab": {
      "provenance": [],
      "authorship_tag": "ABX9TyMTs2S89aj7sVGK9qj4WhNv",
      "include_colab_link": true
    },
    "kernelspec": {
      "name": "python3",
      "display_name": "Python 3"
    },
    "language_info": {
      "name": "python"
    }
  },
  "cells": [
    {
      "cell_type": "markdown",
      "metadata": {
        "id": "view-in-github",
        "colab_type": "text"
      },
      "source": [
        "<a href=\"https://colab.research.google.com/github/ucfilho/Biochemical_Engineering/blob/master/Courses/EngBioq_2024_01/esteriliza_dispersao_axial_nov_28_2022.ipynb\" target=\"_parent\"><img src=\"https://colab.research.google.com/assets/colab-badge.svg\" alt=\"Open In Colab\"/></a>"
      ]
    },
    {
      "cell_type": "markdown",
      "source": [
        "# Esterilização com dispersão axial-Biochemical Engineering-Blanch and Clark"
      ],
      "metadata": {
        "id": "HJFQSxagxcCN"
      }
    },
    {
      "cell_type": "markdown",
      "source": [
        "O meio estéril para um fermentador de 20m3 é preparado usando vapor em injeção contínua no esterilizador e fermentador deve estar cheio em 2h. Com o nível de contaminação de uma batelada para cada 1000 bateladas sendo condiderado aceitável. Qual deve ser o tamanho do tubo de espera se o fluido tem propriedades da água (1000 kg/m3 e 0.001 Pa.s), o tubo de espera tem 3 polegadas de diâmetro e a concentração inicial de esporos é 10^6 cel/mL. Considere Pe = 3.3*L/d e k= 136 min-1 (140 celsius)"
      ],
      "metadata": {
        "id": "DpIjyTafwhUf"
      }
    },
    {
      "cell_type": "code",
      "execution_count": null,
      "metadata": {
        "colab": {
          "base_uri": "https://localhost:8080/"
        },
        "id": "zcmnoAuOpnzA",
        "outputId": "1f95ac0e-7663-43d8-b1b1-e886c4b5febf"
      },
      "outputs": [
        {
          "output_type": "stream",
          "name": "stdout",
          "text": [
            "F(m3/s) 0.002777777777777778\n",
            "u (m/s)= 0.6091127288240694\n",
            "Re= 46414.389936394095\n",
            "Total= 20000000000000.0\n",
            "N/N0= 5.0000000000000005e-17\n",
            "N0_N= 1.9999999999999996e+16\n"
          ]
        }
      ],
      "source": [
        "import numpy as np\n",
        "Vol = 20 #m3\n",
        "mi = 1e-3 # Pa.s\n",
        "ro = 1000 # kg/m3\n",
        "N0 = 1e6 # cel/mL\n",
        "prob = 0.1 # 0.1%=1/1000\n",
        "t = 2*60*60 # segundos\n",
        "d = 3* 2.54* 1e-2 # metros\n",
        "k = 136/60 # s-1\n",
        "F = Vol/t; print('F(m3/s)',F)\n",
        "A = np.pi*d**2/4\n",
        "u = F/A; print('u (m/s)=',u)\n",
        "Re = ro*u*d/mi; print('Re=', Re)\n",
        "Total = N0*Vol*1e6;print('Total=',Total)\n",
        "N_N0= prob/(100*Total);print('N/N0=',N_N0)\n",
        "#N_N0 = 1/2e17\n",
        "print('N0_N=',1/N_N0)"
      ]
    },
    {
      "cell_type": "code",
      "source": [
        "def func(x):\n",
        "  L = x\n",
        "  Pe = 3.33* L/d\n",
        "\n",
        "  try:\n",
        "    Da = k*L/u\n",
        "    delta = (1+4*Da/Pe)**0.5\n",
        "    A = 4* delta\n",
        "    B = (1+delta)**2*np.exp(-Pe*(1-delta)/2)\n",
        "    C = (1-delta)**2*np.exp(-Pe*(1+delta)/2)\n",
        "\n",
        "    res = 1/N_N0 - (B-C)/A\n",
        "    res = abs(res)\n",
        "  except:\n",
        "    res = 1e99\n",
        "  return res"
      ],
      "metadata": {
        "id": "hKkuU4aRrVDd"
      },
      "execution_count": null,
      "outputs": []
    },
    {
      "cell_type": "code",
      "source": [
        "from scipy.optimize import differential_evolution\n",
        "bounds = [(1,15)]\n",
        "result = differential_evolution(func, bounds,maxiter=30000, popsize=50)\n",
        "print('L,fun=',result.x, result.fun)\n",
        "L = result.x[0]\n",
        "Pe = 3.33* L/d\n",
        "Da = k*L/u\n",
        "print('Pe=', Pe)\n",
        "print('Da=',Da)"
      ],
      "metadata": {
        "colab": {
          "base_uri": "https://localhost:8080/"
        },
        "id": "TduNorLIuOqN",
        "outputId": "be5f45f5-f256-43d4-829c-df2651da2f18"
      },
      "execution_count": null,
      "outputs": [
        {
          "output_type": "stream",
          "name": "stdout",
          "text": [
            "L,fun= [10.88101914] 140.0\n",
            "Pe= 475.50910426079435\n",
            "Da= 40.491098318338885\n"
          ]
        }
      ]
    },
    {
      "cell_type": "code",
      "source": [
        "# solucao ideal\n",
        "theta = 1/k*np.log(1/N_N0)\n",
        "L1 = u*theta; print('L (m) =',L1)"
      ],
      "metadata": {
        "colab": {
          "base_uri": "https://localhost:8080/"
        },
        "id": "kvLoFJFRyyIz",
        "outputId": "dcaded79-2422-49da-f4e4-0bd524b99660"
      },
      "execution_count": null,
      "outputs": [
        {
          "output_type": "stream",
          "name": "stdout",
          "text": [
            "L (m) = 10.086506029464354\n"
          ]
        }
      ]
    },
    {
      "cell_type": "code",
      "source": [
        "k,u,np.log(N_N0),theta,(L-L1)/L*100"
      ],
      "metadata": {
        "colab": {
          "base_uri": "https://localhost:8080/"
        },
        "id": "NoWPu1fUzRms",
        "outputId": "c45663c4-6ea5-4241-b861-0fbb80156232"
      },
      "execution_count": null,
      "outputs": [
        {
          "output_type": "execute_result",
          "data": {
            "text/plain": [
              "(2.2666666666666666,\n",
              " 0.6091127288240694,\n",
              " -37.534508668464674,\n",
              " 16.559342059616768,\n",
              " 7.301826259761257)"
            ]
          },
          "metadata": {},
          "execution_count": 5
        }
      ]
    },
    {
      "cell_type": "code",
      "source": [
        "def func2(x):\n",
        "  L = x\n",
        "  Pe = 3.33* L/d\n",
        "  Da = k*L/u\n",
        "\n",
        "  try:\n",
        "    A = np.exp(-Da+Da**2/Pe)\n",
        "    B = N_N0\n",
        "    res = 1/B - 1/A\n",
        "    res = abs(res)\n",
        "  except:\n",
        "    res = 1e99\n",
        "  return res"
      ],
      "metadata": {
        "id": "qGDKfWYO1FPq"
      },
      "execution_count": null,
      "outputs": []
    },
    {
      "cell_type": "code",
      "source": [
        "bounds = [(1,15)]\n",
        "result = differential_evolution(func2, bounds,maxiter=30000, popsize=50)\n",
        "print('L,fun=',result.x, result.fun)\n",
        "L3 = result.x[0]\n",
        "Pe = 3.33* L/d\n",
        "Da = k*L/u\n",
        "print('Pe=', Pe)\n",
        "print('Da=',Da)\n",
        "k,u,np.log(N_N0),theta,(L-L3)/L*100"
      ],
      "metadata": {
        "colab": {
          "base_uri": "https://localhost:8080/"
        },
        "id": "QoAKBTa81yAj",
        "outputId": "080666ef-62ee-4680-f809-b17d380955ce"
      },
      "execution_count": null,
      "outputs": [
        {
          "output_type": "stream",
          "name": "stdout",
          "text": [
            "L,fun= [11.02534925] 32.0\n",
            "Pe= 475.50910426079435\n",
            "Da= 40.491098318338885\n"
          ]
        },
        {
          "output_type": "execute_result",
          "data": {
            "text/plain": [
              "(2.2666666666666666,\n",
              " 0.6091127288240694,\n",
              " -37.534508668464674,\n",
              " 16.559342059616768,\n",
              " -1.326439273098042)"
            ]
          },
          "metadata": {},
          "execution_count": 7
        }
      ]
    }
  ]
}