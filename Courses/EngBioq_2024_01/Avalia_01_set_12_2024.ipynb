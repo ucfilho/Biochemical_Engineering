{
  "nbformat": 4,
  "nbformat_minor": 0,
  "metadata": {
    "colab": {
      "provenance": [],
      "authorship_tag": "ABX9TyPLOopWiIZe+ezInHT8InUk",
      "include_colab_link": true
    },
    "kernelspec": {
      "name": "python3",
      "display_name": "Python 3"
    },
    "language_info": {
      "name": "python"
    }
  },
  "cells": [
    {
      "cell_type": "markdown",
      "metadata": {
        "id": "view-in-github",
        "colab_type": "text"
      },
      "source": [
        "<a href=\"https://colab.research.google.com/github/ucfilho/Biochemical_Engineering/blob/master/Courses/EngBioq_2024_01/Avalia_01_set_12_2024.ipynb\" target=\"_parent\"><img src=\"https://colab.research.google.com/assets/colab-badge.svg\" alt=\"Open In Colab\"/></a>"
      ]
    },
    {
      "cell_type": "markdown",
      "source": [
        "1)Considere o tratamento térmico de mosto de fermentação com injeção de vapor e tubo de espera de L=35m com a morte celular seguindo cinética de primeira ordem com velocidade de escoamento U= 0.4 m/s nestas condições:\n",
        "a) discuta se é possível atingir $N/N0=10^{-16}$ sendo e caso não seja possível proponha mudanças que garanta esse valor de sobrevida para uma temperatura entre 100 e $145^oC$ </br>\n",
        "b)  qual a quantidade de meio que pode ser processada com $N/N0=10^{-16}$ e d=0.2m.</br>\n",
        "c) discuta se $N/N0=10^{-16}$ garante que o meio esteja estéril ou somente reduz a população microbiana. </br>\n",
        "Dado: k = $3.73.10^{-4}$exp(0.08687.T) com  k em $min^{-1}$ e T em $^{o}$C e No = $10^{4}$ cel/mL\n"
      ],
      "metadata": {
        "id": "SeaoVPRRhr-Q"
      }
    },
    {
      "cell_type": "code",
      "source": [
        "import numpy as np"
      ],
      "metadata": {
        "id": "DvUD4-HbjzJU"
      },
      "execution_count": 1,
      "outputs": []
    },
    {
      "cell_type": "code",
      "execution_count": 2,
      "metadata": {
        "colab": {
          "base_uri": "https://localhost:8080/"
        },
        "id": "l9YECNHMhq-w",
        "outputId": "70d134cf-4fc4-49b2-a857-39fd9e5ff1e5"
      },
      "outputs": [
        {
          "output_type": "stream",
          "name": "stdout",
          "text": [
            "theta 87.50\n",
            "k 25.26\n",
            "T 128.04\n"
          ]
        }
      ],
      "source": [
        "N_N0 = 1e-16\n",
        "U = 0.4 # m/s\n",
        "L = 35 # m\n",
        "theta = L/U; print(f'theta {theta:.2f}')\n",
        "theta = theta/60 # min\n",
        "k = 1/theta*np.log(1/N_N0); print(f'k {k:.2f}')\n",
        "B= 0.08687;A=3.73e-4\n",
        "T = np.log(k/A)/B;print(f'T {T:.2f}')"
      ]
    },
    {
      "cell_type": "code",
      "source": [
        "T= 100\n",
        "k = A*np.exp(B*T); print(f'k {k:.2f}')"
      ],
      "metadata": {
        "colab": {
          "base_uri": "https://localhost:8080/"
        },
        "id": "CVLkDE13sM1K",
        "outputId": "a9d37244-c35c-4171-8e68-0f434a52f274"
      },
      "execution_count": 3,
      "outputs": [
        {
          "output_type": "stream",
          "name": "stdout",
          "text": [
            "k 2.21\n"
          ]
        }
      ]
    },
    {
      "cell_type": "markdown",
      "source": [
        "2) Na esterilização do ar para fermentação por filtração calcule a LRV de um filtro e calcule as dimensões do filtro de profundidade. Considere o fermentador de 400m3 e que o mesmo deve funcionar por 2 semanas com uma falha em cada 10 fermentações. Dados:  N0=10$^3$ cel/m3  e o filtro em profundidade tem k = 0.5253U$^{0.6}$ com U sendo a velocidade em m/s e  k é expresso em cm$^{-1}$."
      ],
      "metadata": {
        "id": "u-k6itMZt-7y"
      }
    },
    {
      "cell_type": "code",
      "source": [
        "prob =  10\n",
        "time = 2*7*24*60 # min\n",
        "N0 = 1e3 # cel/m3\n",
        "Vol = 400 # m3\n",
        "d = (4*Vol/np.pi)**(1/3);print(f'd: {d:.3f}')\n",
        "Area = np.pi*d**2/4;print(f'Area: {Area:.2f}')\n",
        "VMM = 1 # min-1\n",
        "F = Vol*VMM\n",
        "Entra = N0*F*time; print(f'Entra: {Entra:.3e}')\n",
        "U = F/Area; print(f'U: {U:.2f}')\n",
        "k = 0.5253*U**0.6; print(f'k: {k:.2f}')\n",
        "Sai = 0.1; print(f'Sai: {Sai:.3e}')\n",
        "LRV = np.log10(Entra/Sai); print(f'LRV {LRV:.2f}')\n",
        "N0_N = 10**LRV; print(f'N0/N {N0_N:.2e}')\n",
        "z = 1/k*np.log(N0_N); print(f'z: {z:.2f}')"
      ],
      "metadata": {
        "colab": {
          "base_uri": "https://localhost:8080/"
        },
        "id": "C9zxl-g6uUSE",
        "outputId": "4f9d2172-1017-4cda-e735-2b8328952e3c"
      },
      "execution_count": 4,
      "outputs": [
        {
          "output_type": "stream",
          "name": "stdout",
          "text": [
            "d: 7.986\n",
            "Area: 50.09\n",
            "Entra: 8.064e+09\n",
            "U: 7.99\n",
            "k: 1.83\n",
            "Sai: 1.000e-01\n",
            "LRV 10.91\n",
            "N0/N 8.06e+10\n",
            "z: 13.74\n"
          ]
        }
      ]
    },
    {
      "cell_type": "code",
      "source": [
        "U = [0.2,0.3,0.6,1.0,7.99,10]\n",
        "N0_N = 10**12\n",
        "print('diferentes soluções de dimensão do filtro:')\n",
        "for ui in U:\n",
        "    ki = 0.5253*ui**0.6;\n",
        "    Area_i = F/ui;\n",
        "    d = (4*Area_i/np.pi)**(1/2)\n",
        "    z = 1/ki*np.log(N0_N);\n",
        "    print(f'u: {ui:.2f}',f'k: {ki:.2f}',f'Area: {Area_i:.2f}',f'd: {d:.3f}',f'z: {z:.2f}')\n"
      ],
      "metadata": {
        "colab": {
          "base_uri": "https://localhost:8080/"
        },
        "id": "q83G9gxo1bnz",
        "outputId": "8f13b194-e167-45ad-8e11-4d506f202bfc"
      },
      "execution_count": 8,
      "outputs": [
        {
          "output_type": "stream",
          "name": "stdout",
          "text": [
            "diferentes soluções de dimensão do filtro:\n",
            "u: 0.20 k: 0.20 Area: 2000.00 d: 50.463 z: 138.16\n",
            "u: 0.30 k: 0.26 Area: 1333.33 d: 41.203 z: 108.32\n",
            "u: 0.60 k: 0.39 Area: 666.67 d: 29.135 z: 71.47\n",
            "u: 1.00 k: 0.53 Area: 400.00 d: 22.568 z: 52.60\n",
            "u: 7.99 k: 1.83 Area: 50.06 d: 7.984 z: 15.12\n",
            "u: 10.00 k: 2.09 Area: 40.00 d: 7.136 z: 13.21\n"
          ]
        }
      ]
    }
  ]
}