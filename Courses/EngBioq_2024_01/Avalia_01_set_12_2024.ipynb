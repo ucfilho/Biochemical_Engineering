{
  "nbformat": 4,
  "nbformat_minor": 0,
  "metadata": {
    "colab": {
      "provenance": [],
      "authorship_tag": "ABX9TyPR1pVdvyr3QGf5cV5PePV9",
      "include_colab_link": true
    },
    "kernelspec": {
      "name": "python3",
      "display_name": "Python 3"
    },
    "language_info": {
      "name": "python"
    }
  },
  "cells": [
    {
      "cell_type": "markdown",
      "metadata": {
        "id": "view-in-github",
        "colab_type": "text"
      },
      "source": [
        "<a href=\"https://colab.research.google.com/github/ucfilho/Biochemical_Engineering/blob/master/Courses/EngBioq_2024_01/Avalia_01_set_12_2024.ipynb\" target=\"_parent\"><img src=\"https://colab.research.google.com/assets/colab-badge.svg\" alt=\"Open In Colab\"/></a>"
      ]
    },
    {
      "cell_type": "markdown",
      "source": [
        "1)Considere o tratamento térmico de mosto de fermentação com injeção de vapor e tubo de espera de L=35m com a morte celular seguindo cinética de primeira ordem com velocidade de escoamento U= 0.4 m/s nestas condições:\n",
        "a) discuta se é possível atingir $N/N0=10^{-16}$ sendo e caso não seja possível proponha mudanças que garanta esse valor de sobrevida para uma temperatura entre 100 e $145^oC$ </br>\n",
        "b)  qual a quantidade de meio que pode ser processada com $N/N0=10^{-16}$ e d=0.2m.</br>\n",
        "c) discuta se $N/N0=10^{-16}$ garante que o meio esteja estéril ou somente reduz a população microbiana. </br>\n",
        "Dado: k = $3.73.10^{-4}$exp(0.08687.T) com  k em $min^{-1}$ e T em $^{o}$C e No = $10^{4}$ cel/mL\n"
      ],
      "metadata": {
        "id": "SeaoVPRRhr-Q"
      }
    },
    {
      "cell_type": "code",
      "source": [
        "import numpy as np"
      ],
      "metadata": {
        "id": "DvUD4-HbjzJU"
      },
      "execution_count": 1,
      "outputs": []
    },
    {
      "cell_type": "code",
      "execution_count": 2,
      "metadata": {
        "colab": {
          "base_uri": "https://localhost:8080/"
        },
        "id": "l9YECNHMhq-w",
        "outputId": "e5c40c63-b67b-4087-e6ca-797528036590"
      },
      "outputs": [
        {
          "output_type": "stream",
          "name": "stdout",
          "text": [
            "======== Item a):\n",
            "theta 87.50\n",
            "k 25.26\n",
            "T 128.04 como a temperatura esta no intervalo é viavel\n",
            "======== Item b)\n",
            "Area 0.0314 m2\n",
            "F 0.0126 m3/s\n",
            "F 1085.73 m3/dia\n"
          ]
        }
      ],
      "source": [
        "# item a:\n",
        "print('======== Item a):')\n",
        "N_N0 = 1e-16\n",
        "U = 0.4 # m/s\n",
        "L = 35 # m\n",
        "theta = L/U; print(f'theta {theta:.2f}')\n",
        "theta = theta/60 # min\n",
        "k = 1/theta*np.log(1/N_N0); print(f'k {k:.2f}')\n",
        "B= 0.08687;A=3.73e-4\n",
        "T = np.log(k/A)/B;print(f'T {T:.2f} como a temperatura esta no intervalo é viavel')\n",
        "# item b:\n",
        "print('======== Item b)')\n",
        "d = 0.2 # m\n",
        "Area= np.pi*d**2/4; print(f'Area {Area:.4f} m2')\n",
        "F = Area*U; print(f'F {F:.4f} m3/s'); print(f'F {F*24*60*60:.2f} m3/dia')"
      ]
    },
    {
      "cell_type": "code",
      "source": [
        "T= 100\n",
        "k = A*np.exp(B*T); print(f'k {k:.2f}')"
      ],
      "metadata": {
        "colab": {
          "base_uri": "https://localhost:8080/"
        },
        "id": "CVLkDE13sM1K",
        "outputId": "32c54fba-3fdd-41cc-8a1e-c968e606fc21"
      },
      "execution_count": 3,
      "outputs": [
        {
          "output_type": "stream",
          "name": "stdout",
          "text": [
            "k 2.21\n"
          ]
        }
      ]
    },
    {
      "cell_type": "markdown",
      "source": [
        "2) Na esterilização do ar para fermentação por filtração calcule a LRV de um filtro e calcule as dimensões do filtro de profundidade. Considere o fermentador de 400m3 e que o mesmo deve funcionar por 2 semanas com uma falha em cada 10 fermentações. Dados:  N0=10$^3$ cel/m3  e o filtro em profundidade tem k = 0.5253U$^{0.6}$ com U sendo a velocidade em m/s e  k é expresso em cm$^{-1}$."
      ],
      "metadata": {
        "id": "u-k6itMZt-7y"
      }
    },
    {
      "cell_type": "code",
      "source": [
        "prob =  10\n",
        "time = 2*7*24*60 # min\n",
        "N0 = 1e3 # cel/m3\n",
        "Vol = 400 # m3\n",
        "d = (4*Vol/np.pi)**(1/3);print(f'd: {d:.3f}')\n",
        "Area = np.pi*d**2/4;print(f'Area: {Area:.2f}')\n",
        "VMM = 1 # min-1\n",
        "F = Vol*VMM\n",
        "Entra = N0*F*time; print(f'Entra: {Entra:.3e}')\n",
        "F=F/60\n",
        "U = F/Area; print(f'U: {U:.3f}')\n",
        "k = 0.5253*U**0.6; print(f'k: {k:.3f}')\n",
        "Sai = prob/100; print(f'Sai: {Sai:.3e}')\n",
        "LRV = np.log10(Entra/Sai); print(f'LRV {LRV:.2f}')\n",
        "N0_N = 10**LRV; print(f'N0/N {N0_N:.3e}')\n",
        "z = 1/k*np.log(N0_N); print(f'z: {z:.3f}')"
      ],
      "metadata": {
        "colab": {
          "base_uri": "https://localhost:8080/"
        },
        "id": "C9zxl-g6uUSE",
        "outputId": "7a4ab3ce-15be-44b0-ed5d-08b81cb03284"
      },
      "execution_count": 4,
      "outputs": [
        {
          "output_type": "stream",
          "name": "stdout",
          "text": [
            "d: 7.986\n",
            "Area: 50.09\n",
            "Entra: 8.064e+09\n",
            "U: 0.133\n",
            "k: 0.157\n",
            "Sai: 1.000e-01\n",
            "LRV 10.91\n",
            "N0/N 8.064e+10\n",
            "z: 160.322\n"
          ]
        }
      ]
    },
    {
      "cell_type": "code",
      "source": [
        "U = [0.133,0.2,0.3,0.6,1.0]\n",
        "N0_N = 10**12\n",
        "print('diferentes soluções de dimensão do filtro:')\n",
        "for ui in U:\n",
        "    ki = 0.5253*ui**0.6;\n",
        "    Area_i = F/ui;\n",
        "    d = (4*Area_i/np.pi)**(1/2)\n",
        "    z = 1/ki*np.log(N0_N);\n",
        "    print(f'u: {ui:.3f}',f'k: {ki:.3f}',f'Area: {Area_i:.2f}',f'd: {d:.3f}',f'z: {z:.2f}')\n"
      ],
      "metadata": {
        "colab": {
          "base_uri": "https://localhost:8080/"
        },
        "id": "q83G9gxo1bnz",
        "outputId": "1c99180f-85f0-47f6-e79e-b74be33b60cb"
      },
      "execution_count": 5,
      "outputs": [
        {
          "output_type": "stream",
          "name": "stdout",
          "text": [
            "diferentes soluções de dimensão do filtro:\n",
            "u: 0.133 k: 0.157 Area: 50.13 d: 7.989 z: 176.47\n",
            "u: 0.200 k: 0.200 Area: 33.33 d: 6.515 z: 138.16\n",
            "u: 0.300 k: 0.255 Area: 22.22 d: 5.319 z: 108.32\n",
            "u: 0.600 k: 0.387 Area: 11.11 d: 3.761 z: 71.47\n",
            "u: 1.000 k: 0.525 Area: 6.67 d: 2.913 z: 52.60\n"
          ]
        }
      ]
    },
    {
      "cell_type": "markdown",
      "source": [
        "3) Calcule o motor e calcule o gasto em energia elétrica diário associado a agitação de uma dorna de 500 m3 destinada a preparar inóculo que tem aeração de 0.4 VVM e agitação velocidade de rotação de 50 rpm. Considere Pg/Pot = 0.65 e o fluido tem propriedades da água.  "
      ],
      "metadata": {
        "id": "oJTm_kTxIzO6"
      }
    },
    {
      "cell_type": "code",
      "source": [
        "VVM = 0.4\n",
        "fs = 1.2 # fator de servico\n",
        "Vol = 500 # m3\n",
        "ro = 1000 # kg/m3\n",
        "mi = 0.001 # kg/m3.s\n",
        "tempo = 1 # dia\n",
        "Pg_Pot = 0.65\n",
        "tempo = tempo*24*60*60 # segundos\n",
        "d = (4*Vol/np.pi)**(1/3);print(f'd: {d:.3f} m')\n",
        "Nrps = 50/60\n",
        "I = 1750/60/Nrps; print(f'I: {I:.2f}')\n",
        "Np = 5.75 # RT6\n",
        "di = d/3; print(f'di: {di:.3f} m')\n",
        "Re = ro*di**2*Nrps/mi; print(f'Re: {Re:.3e}')\n",
        "Pot = Np*ro*di**5*Nrps**3; print(f'Pot: {Pot:.2f} W')\n",
        "Torque = Pot/(2*np.pi*Nrps); print(f'Torque: {Torque:.2f} N.m')\n",
        "Tmot = Torque/(I*fs); print(f'Tmot: {Tmot:.2f} N.m')\n",
        "Pg = Pot*Pg_Pot; print(f'Pg: {Pg:.2f} W')\n",
        "Gasto = Pg*tempo/3.6e6; print(f'Gasto: {Gasto:.2f} kwh')"
      ],
      "metadata": {
        "colab": {
          "base_uri": "https://localhost:8080/"
        },
        "id": "ddfDmTtuI2Sf",
        "outputId": "81219d99-9df9-4fb5-a226-20665158fe1c"
      },
      "execution_count": 6,
      "outputs": [
        {
          "output_type": "stream",
          "name": "stdout",
          "text": [
            "d: 8.603 m\n",
            "I: 35.00\n",
            "di: 2.868 m\n",
            "Re: 6.852e+06\n",
            "Pot: 645136.14 W\n",
            "Torque: 123211.93 N.m\n",
            "Tmot: 2933.62 N.m\n",
            "Pg: 419338.49 W\n",
            "Gasto: 10064.12 kwh\n"
          ]
        }
      ]
    },
    {
      "cell_type": "markdown",
      "source": [
        "4) Para um fermentador de 600 m3 discuta quando você escolheria um dos agitadores 4PBT45, hidrofoil e RT6 e para um destes agitadores especifique o motor. Dado:  Np = 1.28 (4PBT45), Np=0.28 (hidrofoil) e Np=5.75 (RT6)"
      ],
      "metadata": {
        "id": "rBVAk3vKOzz3"
      }
    },
    {
      "cell_type": "code",
      "source": [
        "# Questao com resposta teorica ==============================\n",
        "# Escolha 4PBT45 ou hidrofoil se for sem aeração e escolha RT6 se for aerado\n",
        "#     entre o 4PBT45 e hidrofoil o primeiro é mais robusto e segundo gasta menos energia\n",
        "#  A especificacao do motor corresponde Tmot  e  Pmot (torque e potencia do motor)\n",
        "#          para o fs, Nrps dados sera:\n",
        "#   Tmot = Torque/(fs*I) com Torque = Pot/(2*pi*Nrps) e Pot = Np*ro*di**5*Nrps\n",
        "#   Pmot = Pot* fs\n",
        "#   Na escolha do motor deve adequar a Pmot ao valores de fabricantes escolhendo\n",
        "#       o valor de potencia padronizado maior ou igual ao valor calculado que\n",
        "#       esteja mais proximo do valor calculado"
      ],
      "metadata": {
        "id": "J1_aGZInOzUY"
      },
      "execution_count": 7,
      "outputs": []
    },
    {
      "cell_type": "markdown",
      "source": [
        "5) Considerando um estudo de ampliação de escala para um certo produto fermentado mostrou que o gasto energético não deve ultrapassar a 500 $\\$$/m3 para cada fermentação na condição que o fermentador funciona 25 dias por mês, pede-se: </br>\n",
        "a) calcule as dimensões do maior fermentado que é possível construir </br>\n",
        "b) especifique o motor associado a este reator se o mesmo funciona a 0.8 rps. </br>\n",
        "Considere:  Np =1.4, Nq= 1.3, ro=1200 kg/m3, 1 kWh custa R$1.80, mi = 0.001 kg/m.s, fs = 1.5 e que o custo energético pode ser calculado sem considerar as perdas associadas ao atrito.\n"
      ],
      "metadata": {
        "id": "xUiZsbxDQnyG"
      }
    },
    {
      "cell_type": "code",
      "source": [
        "Gasto_Vol_ref = 500 # $\n",
        "test = 1e99\n",
        "best ={'Vol':0, 'Gasto':0, 'Gasto_Vol':0,'d':0,'Tmot':0,'Pmot':0}\n",
        "Nrps = 0.8\n",
        "Np = 1.28\n",
        "Nq = 1.3\n",
        "ro = 1200\n",
        "mi = 0.001\n",
        "fs = 1.5\n",
        "kwh = 1.8 # R$/kWh\n",
        "tempo = 25*24*60*60 # segundos\n",
        "Vol = [500,900,1000,1200,1300]\n",
        "for Vi in Vol:\n",
        "    d = (4*Vi/np.pi)**(1/3);print(f'd: {d:.3f} m')\n",
        "    di = d/3; print(f'di: {di:.3f} m')\n",
        "    I = 1750/60/Nrps; print(f'I: {I:.2f}')\n",
        "    Pot = Np*ro*di**5*Nrps**3; print(f'Pot: {Pot:.2f} W')\n",
        "    Pmot = Pot* fs/745.7; print(f'Pmot: {Pmot:.2f} W')\n",
        "    Torque = Pot/(2*np.pi*Nrps); print(f'Torque: {Torque:.2f} N.m')\n",
        "    Tmot = Torque/(I*fs); print(f'Tmot: {Tmot:.2f} N.m')\n",
        "    Gasto = Pot*tempo/3.6e6*kwh; print(f'Gasto: {Gasto:.2f} $/mes')\n",
        "    Gasto_Vol = Gasto/Vi; print(f'Gasto/Vol: {Gasto_Vol:.2f} $/m3')\n",
        "    print(f'Vol {Vi:.2f}')\n",
        "    delta = np.abs(Gasto_Vol - Gasto_Vol_ref)\n",
        "    if delta < test:\n",
        "        test = delta\n",
        "        best ={'Vol':Vi, 'Gasto':Gasto, 'Gasto_Vol':Gasto_Vol,'d':d,'Tmot':Tmot,'Pmot':Pmot}\n",
        "    print('=========================')"
      ],
      "metadata": {
        "colab": {
          "base_uri": "https://localhost:8080/"
        },
        "id": "END7wTAKQmMh",
        "outputId": "a4ba0163-2b23-48aa-d014-979ae8bc42c9"
      },
      "execution_count": 8,
      "outputs": [
        {
          "output_type": "stream",
          "name": "stdout",
          "text": [
            "d: 8.603 m\n",
            "di: 2.868 m\n",
            "I: 36.46\n",
            "Pot: 152471.42 W\n",
            "Pmot: 306.70 W\n",
            "Torque: 30333.22 N.m\n",
            "Tmot: 554.66 N.m\n",
            "Gasto: 164669.13 $/mes\n",
            "Gasto/Vol: 329.34 $/m3\n",
            "Vol 500.00\n",
            "=========================\n",
            "d: 10.464 m\n",
            "di: 3.488 m\n",
            "I: 36.46\n",
            "Pot: 406109.00 W\n",
            "Pmot: 816.90 W\n",
            "Torque: 80792.82 N.m\n",
            "Tmot: 1477.35 N.m\n",
            "Gasto: 438597.72 $/mes\n",
            "Gasto/Vol: 487.33 $/m3\n",
            "Vol 900.00\n",
            "=========================\n",
            "d: 10.839 m\n",
            "di: 3.613 m\n",
            "I: 36.46\n",
            "Pot: 484066.58 W\n",
            "Pmot: 973.72 W\n",
            "Torque: 96301.99 N.m\n",
            "Tmot: 1760.95 N.m\n",
            "Gasto: 522791.91 $/mes\n",
            "Gasto/Vol: 522.79 $/m3\n",
            "Vol 1000.00\n",
            "=========================\n",
            "d: 11.518 m\n",
            "di: 3.839 m\n",
            "I: 36.46\n",
            "Pot: 655954.69 W\n",
            "Pmot: 1319.47 W\n",
            "Torque: 130498.04 N.m\n",
            "Tmot: 2386.25 N.m\n",
            "Gasto: 708431.07 $/mes\n",
            "Gasto/Vol: 590.36 $/m3\n",
            "Vol 1200.00\n",
            "=========================\n",
            "d: 11.829 m\n",
            "di: 3.943 m\n",
            "I: 36.46\n",
            "Pot: 749567.40 W\n",
            "Pmot: 1507.78 W\n",
            "Torque: 149121.70 N.m\n",
            "Tmot: 2726.80 N.m\n",
            "Gasto: 809532.79 $/mes\n",
            "Gasto/Vol: 622.72 $/m3\n",
            "Vol 1300.00\n",
            "=========================\n"
          ]
        }
      ]
    },
    {
      "cell_type": "code",
      "source": [
        "for k,v in best.items():\n",
        "    print(f'{k}: {v}')"
      ],
      "metadata": {
        "colab": {
          "base_uri": "https://localhost:8080/"
        },
        "id": "vATB0q9NYt6x",
        "outputId": "39f3d4d5-dbd5-4849-cf5b-44971225b13f"
      },
      "execution_count": 9,
      "outputs": [
        {
          "output_type": "stream",
          "name": "stdout",
          "text": [
            "Vol: 900\n",
            "Gasto: 438597.7223207242\n",
            "Gasto_Vol: 487.33080257858245\n",
            "d: 10.464477359210589\n",
            "Tmot: 1477.3544028823233\n",
            "Pmot: 816.9015733179938\n"
          ]
        }
      ]
    },
    {
      "cell_type": "markdown",
      "source": [
        "**Formulário:** </br>\n",
        "ln(N0/N) = k.theta      U = L/ theta   </br>\n",
        "prob/(100.Total) = N/N0    Total = N0.Vol  Vazao = U. Area  Area=pi.d2/4 </br>\n",
        "LRV = log10(N0/N)    ln(N0/N) = k.z </br>\n",
        "VVM = vazao/volume = min-1  Pot= Np.ro*di^5.Nrps3   Pmot=fs.Pot  Pot = 2.pi.Nrps.Torque  Tmot= Torque/(fs.I) e I = 1750/Nrpm</br>\n",
        "1kWh = 3600000 W.s   1 HP = 745.7W   Re=ro.di^2.Nrps/m   di = d/3  </br>\n",
        "tm=3* Vol /Q     Q=Nq.Nrps.di3   Wb=d/10   Vol =pi.d^3/4\n",
        "NA = Q/(Nrps.di^3)=número de aeração </br></br>\n",
        "Motores (HP): 10, 15, 20, 30, 40, 50, 75, 100, 125, 200, 300, </br> 350, 400, 450, 500, 600, 700, 800, 900, 1000, 1250, </br>1500, 1750, 2000, 2250, 2500, 3000, 3500, 4000.\n"
      ],
      "metadata": {
        "id": "3qctl5ULS6YH"
      }
    }
  ]
}