{
  "nbformat": 4,
  "nbformat_minor": 0,
  "metadata": {
    "colab": {
      "provenance": [],
      "authorship_tag": "ABX9TyPeOvvYwLaXDSusrU5xKVxX",
      "include_colab_link": true
    },
    "kernelspec": {
      "name": "python3",
      "display_name": "Python 3"
    },
    "language_info": {
      "name": "python"
    }
  },
  "cells": [
    {
      "cell_type": "markdown",
      "metadata": {
        "id": "view-in-github",
        "colab_type": "text"
      },
      "source": [
        "<a href=\"https://colab.research.google.com/github/ucfilho/Biochemical_Engineering/blob/master/Courses/EngBioq_2024_01/Aula_02_agitacao_mistura_jan_15_2024.ipynb\" target=\"_parent\"><img src=\"https://colab.research.google.com/assets/colab-badge.svg\" alt=\"Open In Colab\"/></a>"
      ]
    },
    {
      "cell_type": "code",
      "execution_count": 7,
      "metadata": {
        "id": "Mib0lR4wtQWG"
      },
      "outputs": [],
      "source": [
        "pi = 3.14159\n",
        "Vol =600\n",
        "Np = 1.68\n",
        "ro =1200\n",
        "mi = 0.001\n",
        "Nrps = [0.5,0.75]\n",
        "tempo = 30*24*60*60\n",
        "kWh = 0.98 # $/kWh"
      ]
    },
    {
      "cell_type": "code",
      "source": [
        "d = (4*Vol/pi)**(1/3)\n",
        "di = d/3\n",
        "print('d: {:.2f} di: {:.2f}'.format(d, di))"
      ],
      "metadata": {
        "colab": {
          "base_uri": "https://localhost:8080/"
        },
        "id": "TTIhJOEpuLLT",
        "outputId": "6a3034d8-0fa6-45a1-df63-47f434b45fc2"
      },
      "execution_count": 4,
      "outputs": [
        {
          "output_type": "stream",
          "name": "stdout",
          "text": [
            "d: 9.14 di: 3.05\n"
          ]
        }
      ]
    },
    {
      "cell_type": "code",
      "source": [
        "for Ni in Nrps:\n",
        "  Re = ro*di**2*Ni/mi\n",
        "  Pot = Np*ro*di**5*Ni**3\n",
        "  Gasto = Pot*tempo/3.6e6*kWh\n",
        "  print('Np:{:.2f} Re:{:.2e} Pot:{:.2f} Gasto:{:.2f}'.format(Ni,Re,Pot,Gasto))\n"
      ],
      "metadata": {
        "colab": {
          "base_uri": "https://localhost:8080/"
        },
        "id": "qiijP-sKt0m7",
        "outputId": "f5b4a1cb-5f5c-4ce5-a1c9-a13343eb47f3"
      },
      "execution_count": 8,
      "outputs": [
        {
          "output_type": "stream",
          "name": "stdout",
          "text": [
            "Np:0.50 Re:5.57e+06 Pot:66205.97 Gasto:46714.93\n",
            "Np:0.75 Re:8.36e+06 Pot:223445.15 Gasto:157662.90\n"
          ]
        }
      ]
    }
  ]
}