{
  "nbformat": 4,
  "nbformat_minor": 0,
  "metadata": {
    "colab": {
      "provenance": [],
      "authorship_tag": "ABX9TyPOgZXdlJgt6ip0Kpwy/H/J",
      "include_colab_link": true
    },
    "kernelspec": {
      "name": "python3",
      "display_name": "Python 3"
    },
    "language_info": {
      "name": "python"
    }
  },
  "cells": [
    {
      "cell_type": "markdown",
      "metadata": {
        "id": "view-in-github",
        "colab_type": "text"
      },
      "source": [
        "<a href=\"https://colab.research.google.com/github/ucfilho/Biochemical_Engineering/blob/master/Courses/EngBioq_2024_01/Aula_01_agitacao_mistura_dimensiona_motor_excel_20240527.ipynb\" target=\"_parent\"><img src=\"https://colab.research.google.com/assets/colab-badge.svg\" alt=\"Open In Colab\"/></a>"
      ]
    },
    {
      "cell_type": "code",
      "source": [
        "import numpy as np\n",
        "import pandas as pd"
      ],
      "metadata": {
        "id": "wqimIHgpN2l0"
      },
      "execution_count": 1,
      "outputs": []
    },
    {
      "cell_type": "code",
      "execution_count": 5,
      "metadata": {
        "colab": {
          "base_uri": "https://localhost:8080/"
        },
        "id": "xNG_vznYNV4Y",
        "outputId": "e6b956af-2fc5-4159-a6ae-d4b006cf91b2"
      },
      "outputs": [
        {
          "name": "stdout",
          "output_type": "stream",
          "text": [
            "Vol: 500\n",
            "Nrps: 1\n",
            "Np: 2\n",
            "Continue? (y/n): 1\n",
            "\n",
            "        Vol=500.00   Nrps=1.00  Np=2.00\n",
            "        d = 8.60     di = 2.87    Pot = 465305.84        \n",
            "        Re =1.97e+07           \n",
            "  \n",
            "Vol: 333\n",
            "Nrps: 3\n",
            "Np: 3\n",
            "Continue? (y/n): 3\n",
            "\n",
            "        Vol=333.00   Nrps=3.00  Np=3.00\n",
            "        d = 7.51     di = 2.50    Pot = 9571586.13        \n",
            "        Re =2.26e+07           \n",
            "  \n",
            "Vol: 556\n",
            "Nrps: 4\n",
            "Np: 4\n",
            "Continue? (y/n): n\n"
          ]
        }
      ],
      "source": [
        "ro =1200\n",
        "mi =1e-3\n",
        "\n",
        "while True:\n",
        "  Vol = input('Vol: ')\n",
        "  Nrps = input('Nrps: ')\n",
        "  Np = input('Np: ')\n",
        "  resp = input('Continue? (y/n): ')\n",
        "  if resp == 'n':\n",
        "    break\n",
        "  Nrps = float(Nrps)\n",
        "  Np = float(Np)\n",
        "  Vol = float(Vol)\n",
        "  d = (4*Vol/np.pi)**(1/3)\n",
        "  di = d/3\n",
        "  Pot = Np*ro*di**5*Nrps**3\n",
        "  Re = ro*Np*di**2/mi\n",
        "  resp =f'''\n",
        "        Vol={Vol:.2f}   Nrps={Nrps:.2f}  Np={Np:.2f}\n",
        "        d = {d:.2f}     di = {di:.2f}    Pot = {Pot:.2f}\n",
        "        Re ={Re:.2e}\n",
        "  '''\n",
        "  print(resp)"
      ]
    },
    {
      "cell_type": "code",
      "source": [
        "ro =1200\n",
        "mi =1e-3\n",
        "names_columns = ['Vol', 'Nrps', 'Np', 'd', 'di', 'Pot', 'Re']\n",
        "df = pd.DataFrame(columns=names_columns)\n",
        "k = 0\n",
        "while True:\n",
        "  Vol = input('Vol: ')\n",
        "  Nrps = input('Nrps: ')\n",
        "  Np = input('Np: ')\n",
        "  resp = input('Continue? (y/n): ')\n",
        "  Nrps = float(Nrps)\n",
        "  Np = float(Np)\n",
        "  Vol = float(Vol)\n",
        "  d = (4*Vol/np.pi)**(1/3)\n",
        "  di = d/3\n",
        "  Pot = Np*ro*di**5*Nrps**3\n",
        "  Re = ro*Np*di**2/mi\n",
        "  row = {}\n",
        "  row['Vol'] = Vol\n",
        "  row['Nrps'] = Nrps\n",
        "  row['Np'] = Np\n",
        "  row['d'] = d\n",
        "  row['di'] = di\n",
        "  row['Pot'] = Pot\n",
        "  row['Re'] = Re\n",
        "  df.loc[k] = row\n",
        "  print(pd.DataFrame(row,index=[0]))\n",
        "  k += 1\n",
        "  if resp == 'n':\n",
        "    break\n"
      ],
      "metadata": {
        "id": "PWqmrsyDP4Wi"
      },
      "execution_count": null,
      "outputs": []
    },
    {
      "cell_type": "code",
      "source": [
        "print(df)"
      ],
      "metadata": {
        "id": "J6YGdHb-A8IR"
      },
      "execution_count": null,
      "outputs": []
    },
    {
      "cell_type": "code",
      "source": [
        "df.to_excel('motor.xlsx')"
      ],
      "metadata": {
        "id": "5VYGgY24A-3-"
      },
      "execution_count": null,
      "outputs": []
    }
  ]
}