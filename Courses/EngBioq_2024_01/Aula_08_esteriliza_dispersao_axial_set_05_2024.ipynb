{
  "nbformat": 4,
  "nbformat_minor": 0,
  "metadata": {
    "colab": {
      "provenance": [],
      "authorship_tag": "ABX9TyMMGKk49e1aWrTB4b4RJAI/",
      "include_colab_link": true
    },
    "kernelspec": {
      "name": "python3",
      "display_name": "Python 3"
    },
    "language_info": {
      "name": "python"
    }
  },
  "cells": [
    {
      "cell_type": "markdown",
      "metadata": {
        "id": "view-in-github",
        "colab_type": "text"
      },
      "source": [
        "<a href=\"https://colab.research.google.com/github/ucfilho/Biochemical_Engineering/blob/master/Courses/EngBioq_2024_01/Aula_08_esteriliza_dispersao_axial_set_05_2024.ipynb\" target=\"_parent\"><img src=\"https://colab.research.google.com/assets/colab-badge.svg\" alt=\"Open In Colab\"/></a>"
      ]
    },
    {
      "cell_type": "markdown",
      "source": [
        "# Esterilização com dispersão axial-Biochemical Engineering-Blanch and Clark"
      ],
      "metadata": {
        "id": "HJFQSxagxcCN"
      }
    },
    {
      "cell_type": "markdown",
      "source": [
        "O meio estéril para um fermentador de 20m3 é preparado usando vapor em injeção contínua no esterilizador e fermentador deve estar cheio em 2h. Com o nível de contaminação de uma batelada para cada 1000 bateladas sendo condiderado aceitável. Qual deve ser o tamanho do tubo de espera se o fluido tem propriedades da água (1000 kg/m3 e 0.001 Pa.s), o tubo de espera tem 3 polegadas de diâmetro e a concentração inicial de esporos é 10^6 cel/mL. Considere Pe = 3.3*L/d e k= 136 min-1 (140 celsius)"
      ],
      "metadata": {
        "id": "DpIjyTafwhUf"
      }
    },
    {
      "cell_type": "code",
      "execution_count": 1,
      "metadata": {
        "colab": {
          "base_uri": "https://localhost:8080/"
        },
        "id": "zcmnoAuOpnzA",
        "outputId": "a38033bb-b8bf-4cb7-c603-ed0bed67a8e5"
      },
      "outputs": [
        {
          "output_type": "stream",
          "name": "stdout",
          "text": [
            "F(m3/s) 0.002777777777777778\n",
            "u (m/s)= 0.6091127288240694\n",
            "Re= 46414.389936394095\n",
            "Total= 20000000000000.0\n",
            "N/N0= 5.0000000000000005e-17\n",
            "N0_N= 1.9999999999999996e+16\n"
          ]
        }
      ],
      "source": [
        "import numpy as np\n",
        "Vol = 20 #m3\n",
        "mi = 1e-3 # Pa.s\n",
        "ro = 1000 # kg/m3\n",
        "N0 = 1e6 # cel/mL\n",
        "prob = 0.1 # 0.1%=1/1000\n",
        "t = 2*60*60 # segundos\n",
        "d = 3* 2.54* 1e-2 # metros\n",
        "k = 136/60 # s-1\n",
        "F = Vol/t; print('F(m3/s)',F)\n",
        "A = np.pi*d**2/4\n",
        "u = F/A; print('u (m/s)=',u)\n",
        "Re = ro*u*d/mi; print('Re=', Re)\n",
        "Total = N0*Vol*1e6;print('Total=',Total)\n",
        "N_N0= prob/(100*Total);print('N/N0=',N_N0)\n",
        "#N_N0 = 1/2e17\n",
        "print('N0_N=',1/N_N0)"
      ]
    },
    {
      "cell_type": "code",
      "source": [
        "def func(x):\n",
        "  L = x\n",
        "  Pe = 3.33* L/d\n",
        "\n",
        "  try:\n",
        "    Da = k*L/u\n",
        "    delta = (1+4*Da/Pe)**0.5\n",
        "    A = 4* delta\n",
        "    B = (1+delta)**2*np.exp(-Pe*(1-delta)/2)\n",
        "    C = (1-delta)**2*np.exp(-Pe*(1+delta)/2)\n",
        "\n",
        "    res = 1/N_N0 - (B-C)/A\n",
        "    res = abs(res)\n",
        "  except:\n",
        "    res = 1e99\n",
        "  return res"
      ],
      "metadata": {
        "id": "hKkuU4aRrVDd"
      },
      "execution_count": 2,
      "outputs": []
    },
    {
      "cell_type": "code",
      "source": [
        "from scipy.optimize import minimize\n",
        "bounds = [(1,15)]\n",
        "x0=  1\n",
        "result = minimize(func, x0, method='Nelder-Mead', tol=1e-6)\n",
        "print('L,fun=',result.x, result.fun)"
      ],
      "metadata": {
        "colab": {
          "base_uri": "https://localhost:8080/"
        },
        "id": "TduNorLIuOqN",
        "outputId": "8fc57ec5-5735-4144-cbff-bfa50863f39c"
      },
      "execution_count": 3,
      "outputs": [
        {
          "output_type": "stream",
          "name": "stdout",
          "text": [
            "L,fun= [10.88101914] 0.0\n"
          ]
        }
      ]
    },
    {
      "cell_type": "code",
      "source": [
        "L = result.x[0]\n",
        "Pe = 3.33* L/d\n",
        "Da = k*L/u\n",
        "print('Pe=', Pe)\n",
        "print('Da=',Da)\n",
        "delta = (1+4*Da/Pe)**0.5\n",
        "A = 4* delta\n",
        "B = (1+delta)**2*np.exp(-Pe*(1-delta)/2)\n",
        "C = (1-delta)**2*np.exp(-Pe*(1+delta)/2)\n",
        "N_N0 = A/(B-C)\n",
        "print(f'N/N0={N_N0:.2e}')\n"
      ],
      "metadata": {
        "colab": {
          "base_uri": "https://localhost:8080/"
        },
        "id": "xBG50DXnaDei",
        "outputId": "333ce634-eeb7-4f36-b7b9-e0f153e918f9"
      },
      "execution_count": 4,
      "outputs": [
        {
          "output_type": "stream",
          "name": "stdout",
          "text": [
            "Pe= 475.5091042607943\n",
            "Da= 40.491098318338885\n",
            "N/N0=5.00e-17\n"
          ]
        }
      ]
    },
    {
      "cell_type": "code",
      "source": [
        "# solucao ideal\n",
        "theta = 1/k*np.log(1/N_N0)\n",
        "L1 = u*theta; print('L (m) =',L1)"
      ],
      "metadata": {
        "colab": {
          "base_uri": "https://localhost:8080/"
        },
        "id": "kvLoFJFRyyIz",
        "outputId": "be1f6f61-f2e4-4338-cc69-ae0d1f2c24f3"
      },
      "execution_count": 5,
      "outputs": [
        {
          "output_type": "stream",
          "name": "stdout",
          "text": [
            "L (m) = 10.086506029464354\n"
          ]
        }
      ]
    },
    {
      "cell_type": "code",
      "source": [
        "k,u,np.log(N_N0),theta,(L-L1)/L*100"
      ],
      "metadata": {
        "colab": {
          "base_uri": "https://localhost:8080/"
        },
        "id": "NoWPu1fUzRms",
        "outputId": "50ef6c96-b6b5-4733-bcfe-1849e3fdf279"
      },
      "execution_count": 6,
      "outputs": [
        {
          "output_type": "execute_result",
          "data": {
            "text/plain": [
              "(2.2666666666666666,\n",
              " 0.6091127288240694,\n",
              " -37.534508668464674,\n",
              " 16.559342059616768,\n",
              " 7.301826259761243)"
            ]
          },
          "metadata": {},
          "execution_count": 6
        }
      ]
    }
  ]
}