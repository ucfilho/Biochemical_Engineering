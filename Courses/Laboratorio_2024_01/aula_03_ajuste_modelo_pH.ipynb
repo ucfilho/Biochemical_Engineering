{
  "nbformat": 4,
  "nbformat_minor": 0,
  "metadata": {
    "colab": {
      "provenance": [],
      "authorship_tag": "ABX9TyMDpNQ2Sd+41b7W91chWtvb",
      "include_colab_link": true
    },
    "kernelspec": {
      "name": "python3",
      "display_name": "Python 3"
    },
    "language_info": {
      "name": "python"
    }
  },
  "cells": [
    {
      "cell_type": "markdown",
      "metadata": {
        "id": "view-in-github",
        "colab_type": "text"
      },
      "source": [
        "<a href=\"https://colab.research.google.com/github/ucfilho/Biochemical_Engineering/blob/master/Courses/Laboratorio_2024_01/aula_03_ajuste_modelo_pH.ipynb\" target=\"_parent\"><img src=\"https://colab.research.google.com/assets/colab-badge.svg\" alt=\"Open In Colab\"/></a>"
      ]
    },
    {
      "cell_type": "code",
      "source": [
        "!pip install lmfit"
      ],
      "metadata": {
        "colab": {
          "base_uri": "https://localhost:8080/"
        },
        "id": "LZRbtScK96VO",
        "outputId": "a8113612-9967-4082-ed46-b623205cc3c7"
      },
      "execution_count": 5,
      "outputs": [
        {
          "output_type": "stream",
          "name": "stdout",
          "text": [
            "Requirement already satisfied: lmfit in /usr/local/lib/python3.11/dist-packages (1.3.3)\n",
            "Requirement already satisfied: asteval>=1.0 in /usr/local/lib/python3.11/dist-packages (from lmfit) (1.0.6)\n",
            "Requirement already satisfied: numpy>=1.24 in /usr/local/lib/python3.11/dist-packages (from lmfit) (2.0.2)\n",
            "Requirement already satisfied: scipy>=1.10.0 in /usr/local/lib/python3.11/dist-packages (from lmfit) (1.15.3)\n",
            "Requirement already satisfied: uncertainties>=3.2.2 in /usr/local/lib/python3.11/dist-packages (from lmfit) (3.2.3)\n",
            "Requirement already satisfied: dill>=0.3.4 in /usr/local/lib/python3.11/dist-packages (from lmfit) (0.3.7)\n"
          ]
        }
      ]
    },
    {
      "cell_type": "code",
      "source": [
        "from lmfit import Model\n",
        "import numpy as np"
      ],
      "metadata": {
        "id": "G7Qnj1Pb90UE"
      },
      "execution_count": 6,
      "outputs": []
    },
    {
      "cell_type": "code",
      "source": [
        "# Data\n",
        "pH = np.array([3, 4.5, 6, 7])\n",
        "V = np.array([64.9, 72.3, 84.5, 30.7])"
      ],
      "metadata": {
        "id": "qy-j6rfRVHxl"
      },
      "execution_count": 7,
      "outputs": []
    },
    {
      "cell_type": "code",
      "execution_count": 8,
      "metadata": {
        "colab": {
          "base_uri": "https://localhost:8080/"
        },
        "id": "dlAxq8YM9yfk",
        "outputId": "2b32a87b-b987-4909-8d73-68c916a0b9b5"
      },
      "outputs": [
        {
          "output_type": "stream",
          "name": "stdout",
          "text": [
            "[[Model]]\n",
            "    Model(model_func)\n",
            "[[Fit Statistics]]\n",
            "    # fitting method   = leastsq\n",
            "    # function evals   = 13\n",
            "    # data points      = 4\n",
            "    # variables        = 3\n",
            "    chi-square         = 7.5736e-06\n",
            "    reduced chi-square = 7.5736e-06\n",
            "    Akaike info crit   = -46.7085662\n",
            "    Bayesian info crit = -48.5496831\n",
            "    R-squared          = 0.97234042\n",
            "[[Variables]]\n",
            "    a:  0.01177905 +/- 0.00209212 (17.76%) (init = 1)\n",
            "    b:  3.68436982 +/- 3.49582747 (94.88%) (init = 2)\n",
            "    c:  2.0599e-09 +/- 3.5661e-10 (17.31%) (init = 3)\n",
            "[[Correlations]] (unreported correlations are < 0.100)\n",
            "    C(a, c) = -0.6406\n",
            "    C(a, b) = -0.6172\n",
            "    C(b, c) = +0.3951\n"
          ]
        }
      ],
      "source": [
        "S = 10 ** (-pH)\n",
        "x1 = S\n",
        "x2 = 1 / S\n",
        "y = 1 / V\n",
        "\n",
        "# Define model function\n",
        "def model_func(x1, x2, a, b, c):\n",
        "    return a + b * x1 + c * x2\n",
        "\n",
        "# Wrap with lmfit Model\n",
        "model = Model(model_func, independent_vars=['x1', 'x2'])\n",
        "\n",
        "# Fit the model\n",
        "result = model.fit(y, x1=x1, x2=x2, a=1, b=2, c=3)\n",
        "\n",
        "# Print full report\n",
        "print(result.fit_report())\n"
      ]
    },
    {
      "cell_type": "code",
      "source": [
        "a = result.params['a'].value\n",
        "b = result.params['b'].value\n",
        "c = result.params['c'].value"
      ],
      "metadata": {
        "id": "tCthADqSUxoE"
      },
      "execution_count": 9,
      "outputs": []
    },
    {
      "cell_type": "code",
      "source": [
        " Vmax = 1/a\n",
        " K1 = 1/b\n",
        " K2 = c"
      ],
      "metadata": {
        "id": "kFkjvl_fVDXd"
      },
      "execution_count": 10,
      "outputs": []
    },
    {
      "cell_type": "code",
      "source": [
        "print(\"Vmax =\", Vmax, \", K1 =\", K1, \", K2 =\", K2, \"\\n\");\n",
        "print('pH =', np.log10(K1*K2)/2*(-1), \"\\n\")"
      ],
      "metadata": {
        "colab": {
          "base_uri": "https://localhost:8080/"
        },
        "id": "7HDyIBvJVVII",
        "outputId": "e52e299e-085b-4b02-8799-54e1e3278bba"
      },
      "execution_count": 11,
      "outputs": [
        {
          "output_type": "stream",
          "name": "stdout",
          "text": [
            "Vmax = 84.89646043541055 , K1 = 0.2714168359848797 , K2 = 2.059894551838015e-09 \n",
            "\n",
            "PH = 4.6262591138040365 \n",
            "\n"
          ]
        }
      ]
    }
  ]
}