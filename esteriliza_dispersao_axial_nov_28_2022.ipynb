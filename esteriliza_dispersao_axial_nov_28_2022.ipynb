{
  "nbformat": 4,
  "nbformat_minor": 0,
  "metadata": {
    "colab": {
      "provenance": [],
      "authorship_tag": "ABX9TyPl8sb3Xtn3LMRdB5KUNNNU",
      "include_colab_link": true
    },
    "kernelspec": {
      "name": "python3",
      "display_name": "Python 3"
    },
    "language_info": {
      "name": "python"
    }
  },
  "cells": [
    {
      "cell_type": "markdown",
      "metadata": {
        "id": "view-in-github",
        "colab_type": "text"
      },
      "source": [
        "<a href=\"https://colab.research.google.com/github/ucfilho/Biochemical_Engineering/blob/master/esteriliza_dispersao_axial_nov_28_2022.ipynb\" target=\"_parent\"><img src=\"https://colab.research.google.com/assets/colab-badge.svg\" alt=\"Open In Colab\"/></a>"
      ]
    },
    {
      "cell_type": "markdown",
      "source": [
        "# Esterilização com dispersão axial-Biochemical Engineering-Blanch and Clark"
      ],
      "metadata": {
        "id": "HJFQSxagxcCN"
      }
    },
    {
      "cell_type": "markdown",
      "source": [
        "O meio estéril para um fermentador de 200m3 é preparado usando vapor em injeção contínua no esterilizador e fermentador deve estar cheio em 2h. Com o nível de contaminação de uma batelada para cada 1000 bateladas sendo condiderado aceitável. Qual deve ser o tamanho do tubo de espera se o fluido tem propriedades da água (1000 kg/m3 e 0.001 Pa.s), o tubo de espera tem 3 polegadas de diâmetro e a concentração inicial de esporos é 10^6 cel/mL. Considere Pe = 3.3*L/d"
      ],
      "metadata": {
        "id": "DpIjyTafwhUf"
      }
    },
    {
      "cell_type": "code",
      "execution_count": 2,
      "metadata": {
        "colab": {
          "base_uri": "https://localhost:8080/"
        },
        "id": "zcmnoAuOpnzA",
        "outputId": "37877bbf-17a5-4db5-c7da-6458806e217d"
      },
      "outputs": [
        {
          "output_type": "stream",
          "name": "stdout",
          "text": [
            "u (m/s)= 6.091127288240694\n",
            "Re= 464143.8993639409\n",
            "N/N0= 5e-18\n",
            "N0_N= 2e+17\n"
          ]
        }
      ],
      "source": [
        "import numpy as np\n",
        "Vol = 200 #m3\n",
        "mi = 1e-3 # Pa.s\n",
        "ro = 1000 # kg/m3\n",
        "N0 = 1e6 # cel/mL\n",
        "prob = 0.1 # 0.1%=1/1000\n",
        "t = 2*60*60 # segundos\n",
        "d = 3* 2.54* 1e-2 # metros\n",
        "F = Vol/t\n",
        "A = np.pi*d**2/4\n",
        "u = F/A; print('u (m/s)=',u)\n",
        "Re = ro*u*d/mi; print('Re=', Re)\n",
        "Total = N0*Vol*1e6\n",
        "N_N0= prob/(100*Total);print('N/N0=',N_N0)\n",
        "print('N0_N=',1/N_N0)"
      ]
    }
  ]
}