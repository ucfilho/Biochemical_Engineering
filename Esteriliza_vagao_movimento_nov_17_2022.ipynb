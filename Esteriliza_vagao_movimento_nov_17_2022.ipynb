{
  "nbformat": 4,
  "nbformat_minor": 0,
  "metadata": {
    "colab": {
      "provenance": [],
      "authorship_tag": "ABX9TyOO2zhF2eCe+loQFX/Vx30E",
      "include_colab_link": true
    },
    "kernelspec": {
      "name": "python3",
      "display_name": "Python 3"
    },
    "language_info": {
      "name": "python"
    }
  },
  "cells": [
    {
      "cell_type": "markdown",
      "metadata": {
        "id": "view-in-github",
        "colab_type": "text"
      },
      "source": [
        "<a href=\"https://colab.research.google.com/github/ucfilho/Biochemical_Engineering/blob/master/Esteriliza_vagao_movimento_nov_17_2022.ipynb\" target=\"_parent\"><img src=\"https://colab.research.google.com/assets/colab-badge.svg\" alt=\"Open In Colab\"/></a>"
      ]
    },
    {
      "cell_type": "markdown",
      "source": [
        "2) A produção do produto WZ segue a seqüência ininterrupta de fermentação, filtração,envaze e esterilização a 100\n",
        "o C com jatos de água e vapor. Pelas características da embalagem a passagem da mesma diretamente para 100\n",
        "o C é indesejável por gerar a deformação. Assim a esterilização é feita com a condução do material embalado por\n",
        "um túnel que passa pelas regiões de temperatura de 40, 60, 100 ◦C conforme mostra a figura. Nestas condições\n",
        "pede-se a)considerando desprezível a morte celular nas regiões e jato de água, calcule a velocidade constante que\n",
        "o vagão deve ser mover para que a esterilização atinja uma sobrevida de 10 −6\n",
        ". b) para o caso de morte não\n",
        "desprezível nas regiões de jato de água quente, calcule a velocidade constante que o vagão deve se mover para\n",
        "que a esterilização atinja a mesma sobrevida do item (a).\n",
        "Obs:considere que a temperatura do interior da embalagem se torna a mesma de cada região após 3 min que o\n",
        "produto se encontra na região ,equação de morte celular com k expresso em min -1 e T em kelvin:"
      ],
      "metadata": {
        "id": "TVuScFJWrCVC"
      }
    },
    {
      "cell_type": "markdown",
      "source": [
        "ko=1,2x10^38 e Ea=68,7 kcal/mol.K com k=ko*exp(−Ea/RT)"
      ],
      "metadata": {
        "id": "MjXF2xCMrTch"
      }
    },
    {
      "cell_type": "code",
      "execution_count": null,
      "metadata": {
        "colab": {
          "base_uri": "https://localhost:8080/"
        },
        "id": "rPhKN67Dq4oJ",
        "outputId": "b3db9dd8-7d97-43b6-d487-b3a0d877ee3b"
      },
      "outputs": [
        {
          "output_type": "stream",
          "name": "stdout",
          "text": [
            "k= 5.206611498231516e-13\n",
            "k= 1.3456851410796125e-10\n",
            "k= 1.0175153109976803e-07\n",
            "k= 0.006902682064182208\n"
          ]
        }
      ],
      "source": [
        "import numpy as np\n",
        "\n",
        "def valor_k(temp):\n",
        "  T = temp+273.15\n",
        "  Ea = 68.7e3\n",
        "  R = 1.987\n",
        "  k0=1.2e38\n",
        "  k = k0*np.exp(-Ea/(R*T))\n",
        "  return k\n",
        "\n",
        "TC = [25,40,60,100]\n",
        "for ti in TC:\n",
        "  print('k=',valor_k(ti))"
      ]
    },
    {
      "cell_type": "code",
      "source": [
        "dt = 3\n",
        "k0 = valor_k(25)\n",
        "k1 = valor_k(40)\n",
        "k2 = valor_k(60)\n",
        "k3 = valor_k(100)\n",
        "L1 , L2 , L3 = 10,10,25\n",
        "N0_N = 1e6\n",
        "U = (k1*L1+k2*L2+k3*L3)/(np.log(N0_N)-dt*(k0-k3)*3/2)\n",
        "dt1 = L1/U-3\n",
        "dt2 = L2/U-3\n",
        "dt3 = L3/U-3\n",
        "tempo =[dt1,dt2,dt3]\n",
        "print('U=',U)\n",
        "print('dt1,dt2,dt3=',tempo)\n",
        "total = (L1+L2+L3)/U\n",
        "print('total(h)',total/60)"
      ],
      "metadata": {
        "colab": {
          "base_uri": "https://localhost:8080/"
        },
        "id": "M1kQQYzqwd_i",
        "outputId": "271b695b-0a36-43d8-ef55-180a464b0299"
      },
      "execution_count": null,
      "outputs": [
        {
          "output_type": "stream",
          "name": "stdout",
          "text": [
            "U= 0.012462872590284812\n",
            "dt1,dt2,dt3= [799.3832328828671, 799.3832328828671, 2002.9580822071678]\n",
            "total(h) 60.178742466215034\n"
          ]
        }
      ]
    },
    {
      "cell_type": "markdown",
      "source": [
        " Considerando a necessidade de 1 VVM de ar discuta a LRV dos filtros idênticos que atende esta necessidade em\n",
        "cada um dos casos da figura para um reatores de 200 m3\n",
        ". Considere as situações do tempo de fermentação\n",
        "de  3 semanas e no final 0.001 celula/Reator com N0= 1000 cel/m3"
      ],
      "metadata": {
        "id": "ekrhgx3l1Xy-"
      }
    },
    {
      "cell_type": "markdown",
      "source": [
        "AR DA ALIMENTACAO--->filtro1--->filtro2---> AR ENTRA NO REATOR"
      ],
      "metadata": {
        "id": "SWDfmCta1oGg"
      }
    },
    {
      "cell_type": "code",
      "source": [
        "LRV = np.log10(1e3*200*3*7*24*60/0.001)\n",
        "print('LRV=',LRV/2)"
      ],
      "metadata": {
        "colab": {
          "base_uri": "https://localhost:8080/"
        },
        "id": "ZWfhvOHl0cY4",
        "outputId": "963943e7-934c-4929-d82a-a201a5852179"
      },
      "execution_count": null,
      "outputs": [
        {
          "output_type": "stream",
          "name": "stdout",
          "text": [
            "LRV= 6.3908058912465755\n"
          ]
        }
      ]
    }
  ]
}