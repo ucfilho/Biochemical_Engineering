{
  "nbformat": 4,
  "nbformat_minor": 0,
  "metadata": {
    "colab": {
      "name": "Eng_Bioq_avalia_02_tipo_02_out_14_2020.ipynb",
      "provenance": [],
      "authorship_tag": "ABX9TyMYzsApFeIiSWIa0kmd/4NP",
      "include_colab_link": true
    },
    "kernelspec": {
      "name": "python3",
      "display_name": "Python 3"
    }
  },
  "cells": [
    {
      "cell_type": "markdown",
      "metadata": {
        "id": "view-in-github",
        "colab_type": "text"
      },
      "source": [
        "<a href=\"https://colab.research.google.com/github/ucfilho/Biochemical_Engineering/blob/master/Eng_Bioq_avalia_02_tipo_02_out_14_2020.ipynb\" target=\"_parent\"><img src=\"https://colab.research.google.com/assets/colab-badge.svg\" alt=\"Open In Colab\"/></a>"
      ]
    },
    {
      "cell_type": "code",
      "metadata": {
        "id": "dLRYQriKLH09"
      },
      "source": [
        "import numpy as np"
      ],
      "execution_count": 1,
      "outputs": []
    },
    {
      "cell_type": "markdown",
      "metadata": {
        "id": "ehKVZh_TKduB"
      },
      "source": [
        "Calcule as dimensões um filtro em profundidade na qual um ensaio de estudo do\n",
        "mesmo mostrou LRV=4 para uma espessura de 5 cm e diâmetro de 25 cm e calcule as dimensões de\n",
        "um novo filtro em profundidade que atenda LRV=5. Considere que o ensaio com o filtro foi feito\n",
        "com a vazão de ar de 100 cm 3 /s e que o projeto necessita de 2 m 3 /s."
      ]
    },
    {
      "cell_type": "code",
      "metadata": {
        "id": "J-24Xy2NJlzo",
        "outputId": "985acda6-cf21-4c1f-b3ef-79baa4f777f0",
        "colab": {
          "base_uri": "https://localhost:8080/",
          "height": 170
        }
      },
      "source": [
        "LRV = 4 # para z= 3 cm, d =25 cm e q = 100 cm3/s\n",
        "z =5; d = 25 ; q = 100\n",
        "#ln(N_N0)=-k*z --> k = -1/z*ln(N_N0)\n",
        "# q = area* u --> u = q / area\n",
        "# area =np.pi* d**2 / 4.0\n",
        "q2 =2 # m3/s\n",
        "area =np.pi* d**2 / 4.0 ; print('area= %f cm²'% area)\n",
        "u = q / area; print('u= %f cm/s'% u)\n",
        "N_N0 = 10**(-LRV)\n",
        "k = -1.0 / z * np.log(N_N0); print('k= %f cm-1'% k)\n",
        "k2 = k * 100 ; print('k= %f m-1'% k2)\n",
        "LRV2 = 5.0\n",
        "N_N02=10**(-LRV2); print('N_N02= %e '% N_N02)\n",
        "z2 = -1.0/k2 * np.log(N_N02); print('z2= %f m '% z2)\n",
        "u2 = u / 100.0 ; print('u2= %e m/s'% u2)\n",
        "area2 = q2 / u2 ; print('area2= %e '% area2)\n",
        "d2 = (4.0*area2/np.pi)** 0.5 ; print('d2= %e '% d2)\n"
      ],
      "execution_count": 2,
      "outputs": [
        {
          "output_type": "stream",
          "text": [
            "area= 490.873852 cm²\n",
            "u= 0.203718 cm/s\n",
            "k= 1.842068 cm-1\n",
            "k= 184.206807 m-1\n",
            "N_N02= 1.000000e-05 \n",
            "z2= 0.062500 m \n",
            "u2= 2.037183e-03 m/s\n",
            "area2= 9.817477e+02 \n",
            "d2= 3.535534e+01 \n"
          ],
          "name": "stdout"
        }
      ]
    },
    {
      "cell_type": "markdown",
      "metadata": {
        "id": "s06bRCM3RKHz"
      },
      "source": [
        "(Questão 2) Considere a produção de cerveja em uma fábrica que possui seis túneis de\n",
        "pasteurização com capacidade, cada um, de processar 68000 garrafas/h. Calcule:\n",
        "a) quantidade de dornas de fermentação primária e maturação necessárias para atender esta\n",
        "produção de cerveja\n",
        "b) Captação de água (m3/h) que a referida fábrica precisa para funcionar com máxima capacidade\n",
        "de produção de cerveja\n",
        "c) Discuta possíveis alterações que ocorrem no produto durante a pasteurização neste túnel"
      ]
    },
    {
      "cell_type": "code",
      "metadata": {
        "id": "ixHMdFCmRNR3",
        "outputId": "73ea0d9e-4870-4b47-e103-c6ec8ddc267f",
        "colab": {
          "base_uri": "https://localhost:8080/",
          "height": 119
        }
      },
      "source": [
        "Tuneis = 6.0 * 68000 # garrafas/h\n",
        "ferm_prim = (2+1) * 24.0 # horas\n",
        "ferm_matura = (7+1) * 24.0 # horas \n",
        "Agua =3.3 # hL agua/hL cerveja\n",
        "dorna = 4400 ; # hL (volume da dorna)\n",
        "Cerveja = Tuneis * 600 / 1000.0 # litros/h\n",
        "Cerveja = Cerveja / 100.0 ; print('Cerveja= %f hL/h '% Cerveja)  # hectolitros / h\n",
        "vol_prim = Cerveja * ferm_prim ; print('vol prim= %f hL  '% vol_prim)# hL totais\n",
        "n_prim = vol_prim / dorna ; print('dornas primarias= %f dornas '% n_prim)\n",
        "vol_mat = Cerveja * ferm_matura ; print('vol matura= %f hL  '% vol_mat)# hL totais\n",
        "n_matura = vol_mat / dorna ; print('dornas maturacao= %f dornas '% n_matura)\n",
        "vaz_agua = Cerveja * Agua * 0.1 ; print('capitacao agua= %f m3/h '% vaz_agua)"
      ],
      "execution_count": 3,
      "outputs": [
        {
          "output_type": "stream",
          "text": [
            "Cerveja= 2448.000000 hL/h \n",
            "vol prim= 176256.000000 hL  \n",
            "dornas primarias= 40.058182 dornas \n",
            "vol matura= 470016.000000 hL  \n",
            "dornas maturacao= 106.821818 dornas \n",
            "capitacao agua= 807.840000 m3/h \n"
          ],
          "name": "stdout"
        }
      ]
    },
    {
      "cell_type": "markdown",
      "metadata": {
        "id": "6uUASjtkcHZj"
      },
      "source": [
        "Quantos hectolitros por mês de cerveja podem ser produzidos por uma fábrica que\n",
        "possui 60 dornas de 4400 hL destinadas a fase de maturação? Referente a esta fábrica pede-se\n",
        "também:\n",
        "a) calcule o consumo diáriol de malte, adjuvante e lúpulo\n",
        "b) calcule quantas dornas são usadas na fermentação primária\n",
        "c) calcule a quantidade de terra de diatomácia que precisa ser descartado mensalmente para um\n",
        "gasto de 100 g da mesma por hectolitro de cerveja."
      ]
    },
    {
      "cell_type": "code",
      "metadata": {
        "id": "NqcQAMlKZgRM",
        "outputId": "16a6169f-2e02-474a-e07f-136c0bbcd9d3",
        "colab": {
          "base_uri": "https://localhost:8080/",
          "height": 119
        }
      },
      "source": [
        "vol_mat =60.0 * 4400; print('volume dornas maturacao = %f hL '% vol_mat) # hL\n",
        "ferm_mat = (7+ 1)/ 30.0 # meses\n",
        "malte = 14 # kg/hL\n",
        "adjuvante = 5 # kg/hL\n",
        "lupulo = 0.35 # kg/hl\n",
        "diatomacea = 100/1000.0\n",
        "Cerveja = vol_mat/ ferm_mat  ; print('Cerveja = %f hL/mes '% Cerveja)\n",
        "vaz_malte = Cerveja * malte /30.0; print('malte = %f kg/dia '% vaz_malte)\n",
        "vaz_adj  = Cerveja * adjuvante /30.0 ; print('Adjuvante = %f kg/dia '% vaz_adj)\n",
        "vaz_lupulo  = Cerveja * lupulo /30.0 ; print('lupulo = %f kg/dia '% vaz_lupulo)\n",
        "vaz_diatomacea  = Cerveja * diatomacea   ; print('diatomacea  = %f kg/mes '% vaz_diatomacea)\n"
      ],
      "execution_count": 6,
      "outputs": [
        {
          "output_type": "stream",
          "text": [
            "volume dornas maturacao = 264000.000000 hL \n",
            "Cerveja = 990000.000000 hL/mes \n",
            "malte = 462000.000000 kg/dia \n",
            "Adjuvante = 165000.000000 kg/dia \n",
            "lupulo = 11550.000000 kg/dia \n",
            "diatomacea  = 99000.000000 kg/mes \n"
          ],
          "name": "stdout"
        }
      ]
    }
  ]
}