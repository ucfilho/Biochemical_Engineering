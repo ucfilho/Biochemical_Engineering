{
  "nbformat": 4,
  "nbformat_minor": 0,
  "metadata": {
    "colab": {
      "name": "Avalia_01_gabarito_maio_29_2021.ipynb",
      "provenance": [],
      "authorship_tag": "ABX9TyNoaI8BG9mC47QCy5ZOQ+da",
      "include_colab_link": true
    },
    "kernelspec": {
      "name": "python3",
      "display_name": "Python 3"
    },
    "language_info": {
      "name": "python"
    }
  },
  "cells": [
    {
      "cell_type": "markdown",
      "metadata": {
        "id": "view-in-github",
        "colab_type": "text"
      },
      "source": [
        "<a href=\"https://colab.research.google.com/github/ucfilho/Biochemical_Engineering/blob/master/Testes/Avalia_01_gabarito_maio_29_2021.ipynb\" target=\"_parent\"><img src=\"https://colab.research.google.com/assets/colab-badge.svg\" alt=\"Open In Colab\"/></a>"
      ]
    },
    {
      "cell_type": "code",
      "metadata": {
        "id": "2F6auqRbhlv7"
      },
      "source": [
        "import numpy as np"
      ],
      "execution_count": 1,
      "outputs": []
    },
    {
      "cell_type": "markdown",
      "metadata": {
        "id": "Em6Qsk30VXAD"
      },
      "source": [
        "Questão 1 Referente a esterilização destinada a fermentação pede-se:\n",
        "a) exemplifique como o vapor pode ser utilizado de duas formas distintas envolvendo o uso de\n",
        "tubos de espera para um meio de cultura\n",
        "b) discuta qual deve ser o valor da sobrevida máximo que 600 m3\n",
        "de meio contendo 103\n",
        "cél/mL\n",
        "possa ser considerado estéril com probabilidade de falha de 1.0%\n",
        "c) exemplifique quando se usa filtração em fermentações e discuta o tipo de filtro usual"
      ]
    },
    {
      "cell_type": "code",
      "metadata": {
        "id": "hlU6hO67VWQD"
      },
      "source": [
        "# a) mistura do vapor com o meio de cultura gerando diluição e esterilização do \n",
        "# mesmo e uso de trocadores de calor sem contado do vapor com o meio de cultura\n",
        "# item b: sobrevida (N/N0): 1.67E-08\n",
        "# item c: uso na esterizilização do ar são utilizados filtros no qual o materil\n",
        "#         é retido no interior do filtro (ditos filtros em profundidade) e \n",
        "#         filtro de superfície "
      ],
      "execution_count": 2,
      "outputs": []
    },
    {
      "cell_type": "code",
      "metadata": {
        "colab": {
          "base_uri": "https://localhost:8080/"
        },
        "id": "TkIXbmhXZGNx",
        "outputId": "13adfbb8-4a9f-4f0b-e7f9-fdce08e6f9d6"
      },
      "source": [
        "Vol = 600 # m3\n",
        "p = 1 # prob to fail (%)\n",
        "N0 =1E3 # cel/m3\n",
        "Total = N0*Vol\n",
        "N_N0 = p/(100* Total) # N_N0 (N/N0): sobrevida\n",
        "print('N/N0 =',N_N0,'(sobrevida)')"
      ],
      "execution_count": 3,
      "outputs": [
        {
          "output_type": "stream",
          "text": [
            "N/N0 = 1.6666666666666667e-08 (sobrevida)\n"
          ],
          "name": "stdout"
        }
      ]
    },
    {
      "cell_type": "markdown",
      "metadata": {
        "id": "vsfIMotTdrWn"
      },
      "source": [
        "Questão 2 Uma empresa tem fermentadores de 600 m3\n",
        "com agitadores do tipo hidrofoil, pede-se:\n",
        "a) explique que informações são necessárias para especi\u001ccar o motor e explique porque a energia\n",
        "transferida para o líquido não deve ultrapassar 1 HP/m3\n",
        "b) calcule o gasto de energia do motor ao longo de um mês caso a empresa pague 0.31 reais por\n",
        "kWh ( 1 kWh = 3600000 watt.s)\n",
        "c) discuta qual o motor deve ser utilizado se o fator de serviço é fs=1.4\n",
        "d) discuta qual o tempo de mistura associado ao sistema de agitação\n",
        "Nota: considere que o eixo do agitador deve girar a pelo menos 30 rpm e que o motor tem 1750\n",
        "rpm em seu eixo. Também considere que o fluido tem 0.003 Pa.s e 1200 kg/m3"
      ]
    },
    {
      "cell_type": "markdown",
      "metadata": {
        "id": "VqV0btr7sa4S"
      },
      "source": [
        "Motores Pot HP: 1/3,1/2,3/4,1 , 1 1/2,2 ,3 ,5,7 1\n",
        "2\n",
        ", 10, 15, 20, 30, 40, 50, 75, 100, 125, 200, 300, 350, 400, 450,\n",
        "500, 600, 700, 800, 900, 1000, 1250, 1500, 1750, 2000, 2250, 2500, 3000, 3500, 4000"
      ]
    },
    {
      "cell_type": "code",
      "metadata": {
        "colab": {
          "base_uri": "https://localhost:8080/"
        },
        "id": "hV2cYhxhdzHo",
        "outputId": "ca0eae5c-caa1-4d35-f6f8-cc2aab1f2114"
      },
      "source": [
        "Np = 0.28 # valor no livro da disciplina (pag 16)\n",
        "ro = 1200; MI = 0.003 # densidade e viscosidade (kg/m3 e Pa.s)\n",
        "fs = 1.4\n",
        "Vol = 600 # m3 (volume do fermentador)\n",
        "HP = 745.7 # conversao para HP\n",
        "d = (4*Vol/np.pi)**(1/3); print('d=',d,'m (diametro do fermentador)')\n",
        "di = d/3 ; print('di=',di,'m (diametro do agitador)')\n",
        "RPM = 60; print('Rotacoes',RPM,'rpm') # rotacao escolhida para o motor\n",
        "Nrps = RPM/60 # dever ser um valor maior ou igual a 30 rpm\n",
        "Pot = Np*ro*di**5*Nrps**3;print('Pot=',Pot,'W');print('Pot=',Pot/HP,'HP')\n",
        "Pot_Vol = Pot/(Vol*HP);print('Pot/Vol=',Pot_Vol,'HP/m3');\n",
        "Re = ro*di**2*Nrps/MI; print('Re =',Re)\n",
        "Pmot = Pot* fs / HP; print('Motor (Pot: HP)', Pmot)\n",
        "Torque = Pot /(2*np.pi*Nrps);print('Torque no eixo (N.m)',Torque)\n",
        "I = 1750/RPM\n",
        "Tmotor = Torque/(I*fs); print('Torque motor (N.m)',Tmotor)\n",
        "Tempo = 30 # 30 dias (um mes)\n",
        "Custo = 0.31/3600000\n",
        "Tempo = Tempo*24*60*60\n",
        "Gasto = Tempo*Pot*Custo; print( 'Energia (R$/mes)',Gasto)"
      ],
      "execution_count": 4,
      "outputs": [
        {
          "output_type": "stream",
          "text": [
            "d= 9.141562994681664 m (diametro do fermentador)\n",
            "di= 3.047187664893888 m (diametro do agitador)\n",
            "Rotacoes 60 rpm\n",
            "Pot= 88274.5038932867 W\n",
            "Pot= 118.37803928293778 HP\n",
            "Pot/Vol= 0.19729673213822962 HP/m3\n",
            "Re = 3714141.0660325866\n",
            "Motor (Pot: HP) 165.72925499611287\n",
            "Torque no eixo (N.m) 14049.32364360134\n",
            "Torque motor (N.m) 344.06506882288994\n",
            "Energia (R$/mes) 19702.86926898159\n"
          ],
          "name": "stdout"
        }
      ]
    }
  ]
}