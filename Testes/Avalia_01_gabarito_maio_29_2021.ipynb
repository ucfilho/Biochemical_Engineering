{
  "nbformat": 4,
  "nbformat_minor": 0,
  "metadata": {
    "colab": {
      "name": "Avalia_01_gabarito_maio_29_2021.ipynb",
      "provenance": [],
      "authorship_tag": "ABX9TyOV6c5o+Qb5L9CJH6m1bsvy",
      "include_colab_link": true
    },
    "kernelspec": {
      "name": "python3",
      "display_name": "Python 3"
    },
    "language_info": {
      "name": "python"
    }
  },
  "cells": [
    {
      "cell_type": "markdown",
      "metadata": {
        "id": "view-in-github",
        "colab_type": "text"
      },
      "source": [
        "<a href=\"https://colab.research.google.com/github/ucfilho/Biochemical_Engineering/blob/master/Testes/Avalia_01_gabarito_maio_29_2021.ipynb\" target=\"_parent\"><img src=\"https://colab.research.google.com/assets/colab-badge.svg\" alt=\"Open In Colab\"/></a>"
      ]
    },
    {
      "cell_type": "markdown",
      "metadata": {
        "id": "Em6Qsk30VXAD"
      },
      "source": [
        "Questão 1 Referente a esterilização destinada a fermentação pede-se:\n",
        "a) exemplifique como o vapor pode ser utilizado de duas formas distintas envolvendo o uso de\n",
        "tubos de espera para um meio de cultura\n",
        "b) discuta qual deve ser o valor da sobrevida máximo que 600 m3\n",
        "de meio contendo 103\n",
        "cél/mL\n",
        "possa ser considerado estéril com probabilidade de falha de 1.0%\n",
        "c) exemplifique quando se usa filtração em fermentações e discuta o tipo de filtro usual"
      ]
    },
    {
      "cell_type": "code",
      "metadata": {
        "id": "hlU6hO67VWQD"
      },
      "source": [
        "# a) mistura do vapor com o meio de cultura gerando diluição e esterilização do \n",
        "# mesmo e uso de trocadores de calor sem contado do vapor com o meio de cultura\n",
        "# item b: sobrevida (N/N0): 1.67E-08\n",
        "# item c: uso na esterizilização do ar são utilizados filtros no qual o materil\n",
        "#         é retido no interior do filtro (ditos filtros em profundidade) e \n",
        "#         filtro de superfície "
      ],
      "execution_count": 1,
      "outputs": []
    },
    {
      "cell_type": "code",
      "metadata": {
        "colab": {
          "base_uri": "https://localhost:8080/"
        },
        "id": "TkIXbmhXZGNx",
        "outputId": "9ca9e901-8d6c-4823-ecd3-9e58f5044d2c"
      },
      "source": [
        "Vol = 600 # m3\n",
        "p = 1 # prob to fail (%)\n",
        "N0 =1E3 # cel/m3\n",
        "Total = N0*Vol\n",
        "N_N0 = p/(100* Total) # N_N0 (N/N0): sobrevida\n",
        "print('N/N0 =',N_N0,'(sobrevida)')"
      ],
      "execution_count": 2,
      "outputs": [
        {
          "output_type": "stream",
          "text": [
            "N/N0 = 1.6666666666666667e-08 (sobrevida)\n"
          ],
          "name": "stdout"
        }
      ]
    },
    {
      "cell_type": "markdown",
      "metadata": {
        "id": "vsfIMotTdrWn"
      },
      "source": [
        "Questão 2 Uma empresa tem fermentadores de 600 m3\n",
        "com agitadores do tipo hidrofoil, pede-se:\n",
        "a) explique que informações são necessárias para especi\u001ccar o motor e explique porque a energia\n",
        "transferida para o líquido não deve ultrapassar 1 HP/m3\n",
        "b) calcule o gasto de energia do motor ao longo de um mês caso a empresa pague 0.31 reais por\n",
        "kWh ( 1 kWh = 3600000 watt.s)\n",
        "c) discuta qual o motor deve ser utilizado se o fator de serviço é fs=1.4\n",
        "d) discuta qual o tempo de mistura associado ao sistema de agitação\n",
        "Nota: considere que o eixo do agitador deve girar a pelo menos 30 rpm e que o motor tem 1750\n",
        "rpm em seu eixo. Também considere que o \u001duido tem 0.003 Pa.s e 1200 kg/m3"
      ]
    },
    {
      "cell_type": "code",
      "metadata": {
        "id": "hV2cYhxhdzHo"
      },
      "source": [
        ""
      ],
      "execution_count": null,
      "outputs": []
    }
  ]
}