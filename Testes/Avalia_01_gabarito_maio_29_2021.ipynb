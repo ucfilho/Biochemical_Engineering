{
  "nbformat": 4,
  "nbformat_minor": 0,
  "metadata": {
    "colab": {
      "name": "Avalia_01_gabarito_maio_29_2021.ipynb",
      "provenance": [],
      "authorship_tag": "ABX9TyP0E1unfMRAqxD1nd2312P2",
      "include_colab_link": true
    },
    "kernelspec": {
      "name": "python3",
      "display_name": "Python 3"
    },
    "language_info": {
      "name": "python"
    }
  },
  "cells": [
    {
      "cell_type": "markdown",
      "metadata": {
        "id": "view-in-github",
        "colab_type": "text"
      },
      "source": [
        "<a href=\"https://colab.research.google.com/github/ucfilho/Biochemical_Engineering/blob/master/Testes/Avalia_01_gabarito_maio_29_2021.ipynb\" target=\"_parent\"><img src=\"https://colab.research.google.com/assets/colab-badge.svg\" alt=\"Open In Colab\"/></a>"
      ]
    },
    {
      "cell_type": "code",
      "metadata": {
        "id": "2F6auqRbhlv7"
      },
      "source": [
        "import numpy as np"
      ],
      "execution_count": 1,
      "outputs": []
    },
    {
      "cell_type": "markdown",
      "metadata": {
        "id": "Em6Qsk30VXAD"
      },
      "source": [
        "Questão 1 Referente a esterilização destinada a fermentação pede-se:\n",
        "a) exemplifique como o vapor pode ser utilizado de duas formas distintas envolvendo o uso de\n",
        "tubos de espera para um meio de cultura\n",
        "b) discuta qual deve ser o valor da sobrevida máximo que 600 m3\n",
        "de meio contendo 103\n",
        "cél/mL\n",
        "possa ser considerado estéril com probabilidade de falha de 1.0%\n",
        "c) exemplifique quando se usa filtração em fermentações e discuta o tipo de filtro usual"
      ]
    },
    {
      "cell_type": "code",
      "metadata": {
        "id": "hlU6hO67VWQD"
      },
      "source": [
        "# a) mistura do vapor com o meio de cultura gerando diluição e esterilização do \n",
        "# mesmo e uso de trocadores de calor sem contado do vapor com o meio de cultura\n",
        "# item b: sobrevida (N/N0): 1.67E-08\n",
        "# item c: uso na esterizilização do ar são utilizados filtros no qual o materil\n",
        "#         é retido no interior do filtro (ditos filtros em profundidade) e \n",
        "#         filtro de superfície "
      ],
      "execution_count": 2,
      "outputs": []
    },
    {
      "cell_type": "code",
      "metadata": {
        "colab": {
          "base_uri": "https://localhost:8080/"
        },
        "id": "TkIXbmhXZGNx",
        "outputId": "abe17202-e41a-45eb-eed0-d7b3d99bd34e"
      },
      "source": [
        "Vol = 600 # m3\n",
        "p = 1 # prob to fail (%)\n",
        "N0 =1E3 # cel/m3\n",
        "Total = N0*Vol\n",
        "N_N0 = p/(100* Total) # N_N0 (N/N0): sobrevida\n",
        "print('N/N0 =',N_N0,'(sobrevida)')"
      ],
      "execution_count": 3,
      "outputs": [
        {
          "output_type": "stream",
          "text": [
            "N/N0 = 1.6666666666666667e-08 (sobrevida)\n"
          ],
          "name": "stdout"
        }
      ]
    },
    {
      "cell_type": "markdown",
      "metadata": {
        "id": "vsfIMotTdrWn"
      },
      "source": [
        "Questão 2 Uma empresa tem fermentadores de 600 m3\n",
        "com agitadores do tipo hidrofoil, pede-se:\n",
        "a) explique que informações são necessárias para especi\u001ccar o motor e explique porque a energia\n",
        "transferida para o líquido não deve ultrapassar 1 HP/m3\n",
        "b) calcule o gasto de energia do motor ao longo de um mês caso a empresa pague 0.31 reais por\n",
        "kWh ( 1 kWh = 3600000 watt.s)\n",
        "c) discuta qual o motor deve ser utilizado se o fator de serviço é fs=1.4\n",
        "d) discuta qual o tempo de mistura associado ao sistema de agitação\n",
        "Nota: considere que o eixo do agitador deve girar a pelo menos 30 rpm e que o motor tem 1750\n",
        "rpm em seu eixo. Também considere que o fluido tem 0.003 Pa.s e 1200 kg/m3"
      ]
    },
    {
      "cell_type": "markdown",
      "metadata": {
        "id": "VqV0btr7sa4S"
      },
      "source": [
        "Motores Pot HP: 1/3,1/2,3/4,1 , 1 1/2,2 ,3 ,5,7 1\n",
        "2\n",
        ", 10, 15, 20, 30, 40, 50, 75, 100, 125, 200, 300, 350, 400, 450,\n",
        "500, 600, 700, 800, 900, 1000, 1250, 1500, 1750, 2000, 2250, 2500, 3000, 3500, 4000"
      ]
    },
    {
      "cell_type": "code",
      "metadata": {
        "colab": {
          "base_uri": "https://localhost:8080/"
        },
        "id": "hV2cYhxhdzHo",
        "outputId": "ba484eba-4f97-4970-ed0b-09a9434124d5"
      },
      "source": [
        "Np = 0.28 # valor no livro da disciplina (pag 16)\n",
        "ro = 1200; MI = 0.003 # densidade e viscosidade (kg/m3 e Pa.s)\n",
        "fs = 1.4\n",
        "Vol = 600 # m3 (volume do fermentador)\n",
        "HP = 745.7 # conversao para HP\n",
        "d = (4*Vol/np.pi)**(1/3); print('d=',d,'m (diametro do fermentador)')\n",
        "di = d/3 ; print('di=',di,'m (diametro do agitador)')\n",
        "RPM = 60; print('Rotacoes',RPM,'rpm') # rotacao escolhida para o motor\n",
        "Nrps = RPM/60 # dever ser um valor maior ou igual a 30 rpm\n",
        "Pot = Np*ro*di**5*Nrps**3;print('Pot=',Pot,'W');print('Pot=',Pot/HP,'HP')\n",
        "Pot_Vol = Pot/(Vol*HP);print('Pot/Vol=',Pot_Vol,'HP/m3');\n",
        "Re = ro*di**2*Nrps/MI; print('Re =',Re)\n",
        "Pmot = Pot* fs / HP; print('Motor (Pot: HP)', Pmot)\n",
        "Torque = Pot /(2*np.pi*Nrps);print('Torque no eixo (N.m)',Torque)\n",
        "I = 1750/RPM\n",
        "Tmotor = Torque/(I*fs); print('Torque motor (N.m)',Tmotor)\n",
        "Tempo = 30 # 30 dias (um mes)\n",
        "Custo = 0.31/3600000\n",
        "Tempo = Tempo*24*60*60\n",
        "Gasto = Tempo*Pot*Custo; print( 'Energia (R$/mes)',Gasto)"
      ],
      "execution_count": 4,
      "outputs": [
        {
          "output_type": "stream",
          "text": [
            "d= 9.141562994681664 m (diametro do fermentador)\n",
            "di= 3.047187664893888 m (diametro do agitador)\n",
            "Rotacoes 60 rpm\n",
            "Pot= 88274.5038932867 W\n",
            "Pot= 118.37803928293778 HP\n",
            "Pot/Vol= 0.19729673213822962 HP/m3\n",
            "Re = 3714141.0660325866\n",
            "Motor (Pot: HP) 165.72925499611287\n",
            "Torque no eixo (N.m) 14049.32364360134\n",
            "Torque motor (N.m) 344.06506882288994\n",
            "Energia (R$/mes) 19702.86926898159\n"
          ],
          "name": "stdout"
        }
      ]
    },
    {
      "cell_type": "markdown",
      "metadata": {
        "id": "SNq1fFHqwMG2"
      },
      "source": [
        "Questão 3 Considere trocador de calor de placas utilizado na esterilização de um meio de cultura\n",
        "que está associado a um tubo de espera de 35m e diâmetro de 15 cm. Caso a constante cinética\n",
        "associada a morte celular seja 2.0 min−1\n",
        "pede-se :\n",
        "a) quantas falhas são esperadas em cem fermentações considerando fermentadores de 300 m3\n",
        "caso\n",
        "o sistema opere a máxima vazão possível\n",
        "b) quantas falhas são esperadas em cem fermentações considerando fermentadores de 300 m3\n",
        "caso\n",
        "o sistema opere a mínima vazão possível\n",
        "c) discuta qual o valor da constante cinética garante uma falha em cada dez fermentações\n",
        "d) discuta qual a a energia de ativação de Arrhenius que descreve a cinética de morte celular se\n",
        "para as temperaturas de 120 e 140 °C associdadas aos a k = 2 min−1\n",
        "e ao valor de k do item c\n",
        "(não necessariamente nesta ordem)\n",
        "Nota: o projeto deve respeitar velocidade do fluido entre os limites de 2 e 60 cm/s incluindo os\n",
        "extremos"
      ]
    },
    {
      "cell_type": "code",
      "metadata": {
        "colab": {
          "base_uri": "https://localhost:8080/"
        },
        "id": "mi7o7O1AwXMH",
        "outputId": "aa3cd7db-c7c3-4623-fe60-cb0058d1069b"
      },
      "source": [
        "L = 35 # metros\n",
        "d = 0.15 # metro\n",
        "k = 2 # min-1\n",
        "Vol = 300 # m3\n",
        "\n",
        "U1 = 0.6 # m/s (maior velocidade para que se tenha a maior vazao)\n",
        "Theta1 = L / U1 /60 # tempo de residencia em minutos\n",
        "N1_N0 = np.exp(-k*Theta1); print('N/N0 =', N1_N0,'valor maxima vazao' )\n",
        "N0 =1 # so para calcular o valor que deve ser multiplicado por N0\n",
        "Prob1 = N1_N0*100*N0*Vol; print('Prob1=',Prob1,'deve ser multiplicado por N0 em cel/m3')\n",
        "\n",
        "U2 = 0.02 # m/s (maior velocidade para que se tenha a maior vazao)\n",
        "Theta2 = L / U2 /60 # tempo de residencia em minutos\n",
        "N0 =1 # so para calcular o valor que deve ser multiplicado por N0\n",
        "N2_N0 = np.exp(-k*Theta2); print('N/N0 =', N2_N0,'valor minima vazao' )\n",
        "Prob2 = N2_N0*100*N0*Vol; print('Prob2=',Prob2,'deve ser multiplicado por N0 em cel/m3')\n",
        "\n",
        "N0 = 1000 # cel/m3 pode fazer para outro valor\n",
        "Prob3 = 10 # valor percentual\n",
        "Vol3 = 300\n",
        "Theta3 = Theta2 # faremos a resolucao para a menor velocidade\n",
        "Total = N0* Vol3\n",
        "N_N03 = Prob3/(100*Total); print('N_N03',N_N03)\n",
        "k3 = 60*np.log(N_N03)/Theta3*(-1);print('k3 min-1',k3)\n",
        "R = 8.314\n",
        "T3 =140+273.15\n",
        "T1 =130+273.15\n",
        "k1 = k\n",
        "Ea = R*np.log(k3/k1)/(1/T1-1/T3); print('Ea J/mol', Ea)"
      ],
      "execution_count": 5,
      "outputs": [
        {
          "output_type": "stream",
          "text": [
            "N/N0 = 0.1430666827544082 valor maxima vazao\n",
            "Prob1= 4292.0004826322465 deve ser multiplicado por N0 em cel/m3\n",
            "N/N0 = 4.636125910993035e-26 valor minima vazao\n",
            "Prob2= 1.3908377732979105e-21 deve ser multiplicado por N0 em cel/m3\n",
            "N_N03 3.3333333333333335e-07\n",
            "k3 min-1 30.680481284500903\n",
            "Ea J/mol 378114.5234134797\n"
          ],
          "name": "stdout"
        }
      ]
    },
    {
      "cell_type": "code",
      "metadata": {
        "id": "G0tQQRFcM_5B"
      },
      "source": [
        ""
      ],
      "execution_count": 5,
      "outputs": []
    },
    {
      "cell_type": "markdown",
      "metadata": {
        "id": "m9104vyPNOZ5"
      },
      "source": [
        "Questão 4 Na mudança de escala de um reator de 1 L para 800 m3\n",
        "discuta qual a alteração\n",
        "do número de rotações por minuto do eixo do agitador e máximo aumento de viscosidade que\n",
        "garanta regime turbulento nas duas escalas se o fluido possui inicialmente 0.001 Pa.s e 1000 kg/m3\n",
        "e gasto energético inferior a 1 HP/m3\n",
        "na maior escala.\n"
      ]
    },
    {
      "cell_type": "code",
      "metadata": {
        "colab": {
          "base_uri": "https://localhost:8080/"
        },
        "id": "CkZf-OMuNUku",
        "outputId": "23d0299a-e4ce-4c6c-b082-840ca45522d6"
      },
      "source": [
        "MI1 = 0.001\n",
        "ro = 1000\n",
        "V1=1/1000\n",
        "d1 =(4*V1/np.pi)**(1/3);print('d1',d1,'m')\n",
        "di1 = d1/3;print('di1',di1,'m')\n",
        "Re1 =1e4 # limite inferior\n",
        "\n",
        "N1 =  Re1*MI1 /(ro*d1**2); print('N1 =',N1,'valores maiores aceitaveis')\n",
        "V2=800\n",
        "d2 =(4*V2/np.pi)**(1/3);print('d2',d2,'m')\n",
        "di2 = d2/3;print('di2',di2,'m')\n",
        "HP = 745.7\n",
        "Pot_Vol = 1\n",
        "Pot = Pot_Vol* V2* HP; print('Pot2', Pot)\n",
        "Np = 1.27 # caso faca para o PBT\n",
        "N2 = (Pot /(Np*ro*di2**5))**(1/3); print('N2 rps',N2,'valores menores aceitaveis')\n",
        "N2 = 1 ; print('N2 rps',N2,'valores menores aceitaveis')\n",
        "Re2 = 1e4;\n",
        "MI2 = ro*di2**2*N2/Re2; print('Mi2',MI2,'valores menores aceitaveis')\n",
        "Mi2_Mi1 = MI2/MI1; print('Mi2/Mi1',Mi2_Mi1)"
      ],
      "execution_count": 6,
      "outputs": [
        {
          "output_type": "stream",
          "text": [
            "d1 0.10838521402785782 m\n",
            "di1 0.03612840467595261 m\n",
            "N1 = 0.8512554803691883 valores maiores aceitaveis\n",
            "d2 10.061591983208716 m\n",
            "di2 3.3538639944029054 m\n",
            "Pot2 596560.0\n",
            "N2 rps 1.0344457614137308 valores menores aceitaveis\n",
            "N2 rps 1 valores menores aceitaveis\n",
            "Mi2 1.1248403692952214 valores menores aceitaveis\n",
            "Mi2/Mi1 1124.8403692952213\n"
          ],
          "name": "stdout"
        }
      ]
    }
  ]
}