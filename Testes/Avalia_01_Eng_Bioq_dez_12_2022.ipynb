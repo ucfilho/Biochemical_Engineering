{
  "nbformat": 4,
  "nbformat_minor": 0,
  "metadata": {
    "colab": {
      "provenance": [],
      "authorship_tag": "ABX9TyPnd3EEDomiMvGxlQKFf5xu",
      "include_colab_link": true
    },
    "kernelspec": {
      "name": "python3",
      "display_name": "Python 3"
    },
    "language_info": {
      "name": "python"
    }
  },
  "cells": [
    {
      "cell_type": "markdown",
      "metadata": {
        "id": "view-in-github",
        "colab_type": "text"
      },
      "source": [
        "<a href=\"https://colab.research.google.com/github/ucfilho/Biochemical_Engineering/blob/master/Testes/Avalia_01_Eng_Bioq_dez_12_2022.ipynb\" target=\"_parent\"><img src=\"https://colab.research.google.com/assets/colab-badge.svg\" alt=\"Open In Colab\"/></a>"
      ]
    },
    {
      "cell_type": "code",
      "source": [
        "import numpy as np"
      ],
      "metadata": {
        "id": "S-RyT530aCld"
      },
      "execution_count": 1,
      "outputs": []
    },
    {
      "cell_type": "markdown",
      "source": [
        "1)\tCalcule as especificações de um motor e o gasto mensal com energia elétrica de um reator tanque agitado de 600 m3 que deve funcionar 25 dias por mês considerando tempo de mistura inferior a 3 min, gasto energético inferior a 0.8 HP/m3 e menor custo mensal com energia elétrica possível. Considere:  Np =1.2,ro=1100 kg/m3, Nq =1.3, 1 kWh custa R$0.80, mi= 0.001 kg/m.s, fs = 1.5 e que o custo energético pode ser calculado sem considerar as perdas associadas ao atrito."
      ],
      "metadata": {
        "id": "Fj2Jw5MgZZNN"
      }
    },
    {
      "cell_type": "code",
      "execution_count": 2,
      "metadata": {
        "colab": {
          "base_uri": "https://localhost:8080/"
        },
        "id": "10p18JkWZMSm",
        "outputId": "88a586d3-afed-48db-ac41-d7f343b9a68e"
      },
      "outputs": [
        {
          "output_type": "stream",
          "name": "stdout",
          "text": [
            "d= 9.141562994681664 m\n",
            "di= 3.047187664893888 m\n",
            "Q = 10.0\n",
            "Nrps= 0.27186859502219374\n",
            "Re=5.107e+06\n",
            "Pot= 43349.08673331043\n",
            "Pot/Vol(HP/m3)= 0.0968867881035949\n",
            "Q= 18.39123786839679 m3/s\n",
            "tm= 1.6312115701331622 min\n",
            "tm= 97.87269420798974 s\n",
            "Gasto ($/mes)= 20807.56163198901\n",
            "Torque (N.m)= 13798.442864251314\n",
            "Tmot (N.m)= 157.6964898771579\n",
            "Pmot(HP)= 87.19810929323542\n"
          ]
        }
      ],
      "source": [
        "Vol = 600\n",
        "kwh = 0.80\n",
        "tempo = 25 # dias\n",
        "Pot_Vol = 0.8 # HP/m3\n",
        "Np = 1.2\n",
        "Nq=1.3\n",
        "ro = 1100\n",
        "mi =0.001 #\n",
        "fs = 1.5\n",
        "# Nrps = 0.6 # consideracao\n",
        "d = (4*Vol/np.pi)**(1/3); print('d=',d,'m')\n",
        "di = d/3; print('di=',di,'m')\n",
        "tm = 3* 60 # s\n",
        "Q = 3*Vol/tm;print('Q =',Q)\n",
        "Nrps = Q/(Nq*di**3);print('Nrps=',Nrps)\n",
        "Nrps=0.5\n",
        "#Re = 1e4; Nrps = Re*mi/(ro*di**2);print('Nrps=',Nrps)\n",
        "Re = ro*di**2*Nrps/mi;print('Re=%.3e'%Re)\n",
        "Pot = Np*ro*di**5*Nrps**3; print('Pot=',Pot)\n",
        "Pot_Vol = Pot/Vol/745.7; print('Pot/Vol(HP/m3)=',Pot_Vol)\n",
        "Nq = 1.3\n",
        "Q = Nq*di**3*Nrps; print('Q=',Q,'m3/s')\n",
        "tm = 3 * Vol/Q; print('tm=',tm/60,'min');print('tm=',tm,'s')\n",
        "tempo = tempo * 24*60*60 # segundos\n",
        "Energia = Pot*tempo # Joules =W*s\n",
        "Gasto = Energia/3.6e6*kwh;print('Gasto ($/mes)=',Gasto)\n",
        "Torque = Pot/(2*np.pi*Nrps); print('Torque (N.m)=', Torque)\n",
        "I = 1750/(Nrps*60)\n",
        "Tmot = Torque/(I*fs); print('Tmot (N.m)=',Tmot)\n",
        "Pmot = fs*Pot/745.7; print('Pmot(HP)=',Pmot)"
      ]
    },
    {
      "cell_type": "markdown",
      "source": [
        "1 B)\tCalcule as especificações de um motor e o gasto mensal com energia elétrica de um reator tanque agitado de 600 m3 que deve funcionar 27 dias por mês considerando tempo de mistura inferior a 3 min, gasto energético inferior a 0.8 HP/m3 e menor custo mensal com energia elétrica possível. Considere:  Np =1.2,Nq =1.3, ro=1200 kg/m3, 1 kWh custa R$0.80,  = 0.001 kg/m.s, fs = 1.5 e que o custo energético pode ser calculado sem considerar as perdas associadas ao atrito."
      ],
      "metadata": {
        "id": "3rvxtKkgKk7b"
      }
    },
    {
      "cell_type": "code",
      "source": [
        "Vol = 600\n",
        "kwh = 0.80\n",
        "tempo = 27 # dias\n",
        "Pot_Vol = 0.8 # HP/m3\n",
        "Np = 1.2\n",
        "ro = 1200\n",
        "mi =0.001 #\n",
        "fs = 1.5\n",
        "Nrps = 0.3 # consideracao\n",
        "d = (4*Vol/np.pi)**(1/3); print('d=',d,'m')\n",
        "di = d/3; print('di=',di,'m')\n",
        "Pot = Np*ro*di**5*Nrps**3; print('Pot=',Pot)\n",
        "Pot_Vol = Pot/Vol/745.7; print('Pot/Vol(HP/m3)=',Pot_Vol)\n",
        "Nq = 1.3\n",
        "Q = Nq*di**3*Nrps; print('Q=',Q,'m3/s')\n",
        "tm = 3 * Vol/Q; print('tm=',tm/60,'min')\n",
        "tempo = tempo * 24*60*60 # segundos\n",
        "Energia = Pot*tempo # Joules =W*s\n",
        "Gasto = Energia/3.6e6*kwh;print('Gasto ($/mes)=',Gasto)"
      ],
      "metadata": {
        "colab": {
          "base_uri": "https://localhost:8080/"
        },
        "id": "3TtcMCZfKq3y",
        "outputId": "53d96d07-b23c-4cf6-d11f-43bc7349e0ff"
      },
      "execution_count": 3,
      "outputs": [
        {
          "output_type": "stream",
          "name": "stdout",
          "text": [
            "d= 9.141562994681664 m\n",
            "di= 3.047187664893888 m\n",
            "Pot= 10214.621164794602\n",
            "Pot/Vol(HP/m3)= 0.022830050433137995\n",
            "Q= 11.034742721038073 m3/s\n",
            "tm= 2.7186859502219374 min\n",
            "Gasto ($/mes)= 5295.259611829522\n"
          ]
        }
      ]
    },
    {
      "cell_type": "markdown",
      "source": [
        "2)\tConsidere que as curvas A e B da figura representem, respectivamente, o resultado da esterilização térmica associada as temperaturas 60 e 55oC. Discuta qual a temperatura associada a curva C e qual o valor previsto de N/N0 sobrevida associado a um tratamento com injeção de vapor e tempo de residência no tubo de espera de 40s a 148oC."
      ],
      "metadata": {
        "id": "KY5rau8UdLgU"
      }
    },
    {
      "cell_type": "markdown",
      "source": [
        "![survival_cells.jpg](data:image/jpeg;base64,/9j/4AAQSkZJRgABAQEAYABgAAD/2wBDAAMCAgMCAgMDAwMEAwMEBQgFBQQEBQoHBwYIDAoMDAsKCwsNDhIQDQ4RDgsLEBYQERMUFRUVDA8XGBYUGBIUFRT/2wBDAQMEBAUEBQkFBQkUDQsNFBQUFBQUFBQUFBQUFBQUFBQUFBQUFBQUFBQUFBQUFBQUFBQUFBQUFBQUFBQUFBQUFBT/wAARCADyAXgDASIAAhEBAxEB/8QAHwAAAQUBAQEBAQEAAAAAAAAAAAECAwQFBgcICQoL/8QAtRAAAgEDAwIEAwUFBAQAAAF9AQIDAAQRBRIhMUEGE1FhByJxFDKBkaEII0KxwRVS0fAkM2JyggkKFhcYGRolJicoKSo0NTY3ODk6Q0RFRkdISUpTVFVWV1hZWmNkZWZnaGlqc3R1dnd4eXqDhIWGh4iJipKTlJWWl5iZmqKjpKWmp6ipqrKztLW2t7i5usLDxMXGx8jJytLT1NXW19jZ2uHi4+Tl5ufo6erx8vP09fb3+Pn6/8QAHwEAAwEBAQEBAQEBAQAAAAAAAAECAwQFBgcICQoL/8QAtREAAgECBAQDBAcFBAQAAQJ3AAECAxEEBSExBhJBUQdhcRMiMoEIFEKRobHBCSMzUvAVYnLRChYkNOEl8RcYGRomJygpKjU2Nzg5OkNERUZHSElKU1RVVldYWVpjZGVmZ2hpanN0dXZ3eHl6goOEhYaHiImKkpOUlZaXmJmaoqOkpaanqKmqsrO0tba3uLm6wsPExcbHyMnK0tPU1dbX2Nna4uPk5ebn6Onq8vP09fb3+Pn6/9oADAMBAAIRAxEAPwD9U6KKKACiiigAooooAKKKKACiiigAooooAKKKKACiiigAooooAKKKKACiiigAooooAKKKKACiiigAooooAKKKKACiiigAooooAKKKKACiiigAooooAKKKKACiiigAooooAKKKKACiiigDxn4pfHJ/hf4/0XTtZv8AQ9G0G6/eNdXl0nmSqSAQUMivHt+YhgkgY7R8vNeuaXqtlrmnW9/p13Bf2NwgkhubaQSRyKejKw4I+leLfGC6/s/xoTpOpfEHQ9Uktomu5/Cfh9dRtp48uEDtJbyqrjDfdIOMZB4r0X4UrZDwLp5sYdWghZpWYa9bmC9eQyNveWMqu1mbLYCqMEYAHFAGb4g/aD+F/hPVrrS9b+I3hXSNStX8uezvtZt4ZYmxnayM4Kn2NZv/AA1R8GP+is+Cf/CgtP8A45X54Xnwqvz+1h8VvH1gWkkl8S6paJax2MV6Z1tY7eW4jW3lBSeQRTiYRcNIsUyoyuFNfYXw/wDFXw5uIdFtfHPgLwbosmsqjaP4l0/ToJNC1tXGUME7JmGVh/ywmw2eFMnWgD03/hqj4Mf9FZ8E/wDhQWn/AMco/wCGqPgx/wBFZ8E/+FBaf/HK6H/hTXgD/oRvDf8A4KLf/wCIo/4U14A/6Ebw3/4KLf8A+IoA57/hqj4Mf9FZ8E/+FBaf/HKP+Gqfgx/0VnwT/wCFBaf/AByuh/4U14A/6Ebw3/4KLf8A+Io/4U34A/6Ebw3/AOCi3/8AiKAOe/4ao+DH/RWfBP8A4UFp/wDHKP8Ahqn4Mf8ARWfBP/hQWn/xypPCvwh8BzSa4H8EeHG2alIq50i34G1OPuVu/wDCm/AH/QjeG/8AwUW//wARQBz3/DVPwY/6Kz4J/wDCgtP/AI5R/wANUfBj/orPgn/woLT/AOOV0P8AwpvwB/0I3hv/AMFFv/8AEUf8Kb8Af9CN4b/8FFv/APEUAc9/w1R8GP8AorPgn/woLT/45R/w1R8GP+is+Cf/AAoLT/45XQ/8Ka8Af9CN4b/8FFv/APEUf8Ka8Af9CN4b/wDBRb//ABFAHPf8NUfBj/orPgn/AMKC0/8AjlH/AA1R8GP+is+Cf/CgtP8A45WzqHwb8Arp9yV8D+GwRExH/Eot/Q/7FUfCXwf8BXHhfSZH8EeG2drWMljpFvydo/2KAKn/AA1R8GP+is+Cf/CgtP8A45R/w1T8GP8AorPgn/woLT/45XQ/8Ka8Af8AQjeG/wDwUW//AMRR/wAKb8Af9CN4b/8ABRb/APxFAHPf8NU/Bj/orPgn/wAKC0/+OUf8NU/Bj/orPgn/AMKC0/8AjldD/wAKb8Af9CN4b/8ABRb/APxFH/Cm/AH/AEI3hv8A8FFv/wDEUAc9/wANU/Bj/orPgn/woLT/AOOUf8NUfBj/AKKz4J/8KC0/+OV0P/Cm/AH/AEI3hv8A8FFv/wDEVg6V8IfAbeLtdjbwR4bKJHbFV/si34yr5/goAZ/w1R8GP+is+Cf/AAoLT/45R/w1R8GP+is+Cf8AwoLT/wCOV0P/AApvwB/0I3hv/wAFFv8A/EUf8Ka8Af8AQjeG/wDwUW//AMRQBz3/AA1R8GP+is+Cf/CgtP8A45R/w1R8GP8AorPgn/woLT/45XQ/8Ka8Af8AQjeG/wDwUW//AMRR/wAKa8Af9CN4b/8ABRb/APxFAHPf8NUfBj/orPgn/wAKC0/+OUf8NUfBj/orPgn/AMKC0/8AjldD/wAKb8Af9CN4b/8ABRb/APxFYfjf4R+BLXwzeSw+CfDkcimPDLpNuD/rF/2PSgCL/hqn4Mf9FZ8E/wDhQWn/AMco/wCGqfgx/wBFZ8E/+FBaf/HK6H/hTfgD/oRvDf8A4KLf/wCIo/4U34A/6Ebw3/4KLf8A+IoA57/hqn4Mf9FZ8E/+FBaf/HKP+GqPgx/0VnwT/wCFBaf/AByuh/4U34A/6Ebw3/4KLf8A+Io/4U34A/6Ebw3/AOCi3/8AiKAOe/4ao+DH/RWfBP8A4UFp/wDHKP8Ahqj4Mf8ARWfBP/hQWn/xyuh/4U14A/6Ebw3/AOCi3/8AiKzfEvwd8BR+HdUZPA/htWW1lII0i34Ow/7FAFD/AIao+DH/AEVnwT/4UFp/8co/4ao+DH/RWfBP/hQWn/xytbR/g74Bk0mxdvA/hss0EZJ/si3/ALo/2Kt/8Ka8Af8AQjeG/wDwUW//AMRQBz3/AA1R8GP+is+Cf/CgtP8A45R/w1T8GP8AorPgn/woLT/45XQ/8Kb8Af8AQjeG/wDwUW//AMRR/wAKb8Af9CN4b/8ABRb/APxFAHPf8NU/Bj/orPgn/wAKC0/+OUf8NUfBj/orPgn/AMKC0/8AjldD/wAKb8Af9CN4b/8ABRb/APxFH/Cm/AH/AEI3hv8A8FFv/wDEUAbfhfxdofjjRYdX8O6xYa9pUxYR32m3KXELkHBAdCQcEYPNa1fO37DtrBYfDbxrbWsEdtbQ+PvEccUMKBEjUajKAqqOAAAAAOmK+iaACiiigAooooAKKKKACiiigD4v8J+H9Q1Twt8etb0SFp/EnhT4q3viLS4lJzNJBa2pkgGP+e0DTQ/9ta7i9Ph74f6eNeW0tdc+AHj1Eu9SsrmES2+iz3OHF1sYEC0nZgZV6RSHzOFaTbrfsl/8hr48/wDZStR/9JbOtr4K2Nt4dvPHXwl1G3in0/R7hrvTbWdA0c2j3xd0j2n7yxyC5gx02xoO9AEQ8JeNPgePtHgl7jx14HUbm8JahdbtQsU/6cLqQ/vEA6QTt2wki8LXofw9+J3h34oaXNeaBfGaS2fyb2xuI2gu7GbvFcQOA8Tj0YDPUZHNedeB766+Avi2w+Hmt3Etx4L1SQxeD9YuXLG2cAn+yZ3P8SqCYGY/OimMktGN/W/EL4L6V421WHxDp93deFPGtpH5dr4l0jatwF6iKZSClxDnrFKGHXG080AehUV43pvxm1b4e39rofxbs7bRXmkEFn4wsA39i37k4VZCxJs5m/55ykoTwkjdK9jVgwBByDyCKAOf8J/8fXiAf9RJz/44ldDXPeFf+P7xCP8AqIN/6LSuhoAKKKKACiiigCC+GbG4H/TNv5GsvwSc+ENG/wCvWP8A9BFat3/x6zf7jfyrI8C/8ido3/Xqn8qAN2iiigAooooAK53S/wDkdNe/64Wp/R66Kue03jxtrfvbWx/9GUAdDRRRQAUUUUAFc98QP+RR1D6If/H1roa57x//AMifqX+4v/oQoA6GikpaACiiigArN8SDPh3VB/06y/8AoBrSrP8AEPOgamP+nWX/ANANAC6Ad2hacf8Ap2j/APQRV+s7w4c+HtLP/TrF/wCgCtGgAooooAKKKKAPnv8AYn/5J/46/wCyg+Jf/TjLX0JXz3+xP/yT/wAdf9lB8S/+nGWvoSgAooooAKKK8T/aQ16fw3N4Uv4PF9p4YkjuJdkN3qz2SXDYQ7mRIZTcIoBzHhR84O4Y5APbKK8o/Zxs/Elv4GSbXtRi1S3uI7eSyu472S7+0gwIZbjfIoYLJIXYIRwPTOB6vQBgSePPD0Wvrojavbf2sXKGzD5kUgKfmH8PDpgnAJYAc1v14J8crfxHa+KkuNPs/E9vp88UP+l+DNF06+nnljcsq3LXQLBUbBQKu3kncDxXrPw/n1u58I6dJ4ijkj1ZkPmCaOOOUruOwyJGzIrlcFlRioJODQB5B+yX/wAhr48/9lK1H/0ls66D40f8UJ448D/EmP8Ad2tnc/8ACP64wwB/Z946KkjH0iuhbtnsry+priv2X/DNjrHiL48T3InMg+JGor+7uJIxgW1p2Ugd69f8W/B3w5408LavoGoxXUljqdrJaTD7XKTtdSuRluozke4FAGz468D6P8R/CmoeHddtvtWmXybXVWKOjAhkkjccpIjBWVhyrKCORXC/CnxtrGj69P8ADbxzdfaPFenwG403WGUIniCwUhRcKBwJ0yqzRjoxVx8ki4o/AS0h8XfDm1i103L+KNDnl0LWtt5MM3ls3lvJjd0lUJMP9mVa1/iZ8BNG+IGgRw293e6Nr+ny/bNG1yG4kebTroAhZFBb5lIJV0PDozKeuQAejalptprGn3Fjf2sN9ZXCGKa2uYxJHKhGCrKQQQR2NeON8OfFvwTzc/DNz4g8Kqd0vgPVLrb5C9/7OuXP7r2glJi7K0VWvhHqWn+OrXUdJ16wm0TxzoMi22t6THfzFEcglLiAlsvbygFo2/3lOGRgPQf+ED0n+7d/+Bs3/wAVQBynwa+JmhfES48UHTZprbUba+AvtG1GI29/YOYk+WaFvmXocMMq2MqxHNemV4nr3wB8NfELWNXu3k1DQ/EumziHTfEmk3bw39opjRtu/JEiEnmOQMh9KxIfEVz8KrqLTfi1avHpjMIrbx5pc86abMc4AvIt5NlIePmJMJJ4dT8tAH0PRXNQeCtFuoY5oXuJYZFDpJHfSsrKRkEENyCKf/wgek+l3/4Gzf8AxVAHRUVzv/CB6T6Xf/gbN/8AFUf8IHpPpd/+Bs3/AMVQBvXAzbyj/ZP8qxfAn/InaR/17r/KoZPAekiN8C76H/l8m/8AiqyfB/g/Tb7wxp08oufMeIFtt3Kozk9AGwKAO6ornv8AhA9J9Lv/AMDZv/iqT/hA9J/6fP8AwNm/+KoA6Kiud/4QPSv+nz/wNm/+Ko/4QPSv+nz/AMDZv/iqAOirntP48cav72luf1kpP+ED0r/p8/8AA2b/AOKrFtfB+nN4wv7U/avKS0hcf6XLuyWcHndk9BQB3lFc9/wgelf9Pn/gbN/8VR/wgmlf9Pn/AIGzf/FUAdDRXO/8IHpXref+Bs3/AMVR/wAIHpXref8AgbN/8VQB0Vc/4+58H6p/1yz+opv/AAgelet5/wCBs3/xVY/jDwbp1j4Z1KeI3XmRxFl33crD8QWwaAO4X7q/SnVzcfgXSmjQ5vOQD/x+y/8AxVO/4QPSvW8/8DZv/iqAOiornf8AhA9L9bz/AMDZv/iqP+ED0v1vP/A2b/4qgDoqo66N2h6iP+neT/0E1l/8IHpf969/8DZf/iqrap4H0yHTbt1N5uWFyM3kpH3T23UAbHhg58N6Sf8Ap0i/9AFadcZ4d8F6bd+H9Mnc3e+S2jdtt5KBkqCcANxWj/wgel/3r3/wNl/+KoA6Kiud/wCED0v+9e/+Bs3/AMVR/wAIJpf969/8DZv/AIqgDoqK53/hBNL/AL17/wCBs3/xVKvgXTFYENe8c/8AH7L/APFUAeOfsUf8iB46/wCyg+Jf/TjLX0JXzv8AsQQrbfDnxtCm7ZH4+8SIu5ixwNRlHJPWvoigAooooAK8U+Omn6trOqeHVsbS6h1OOe6itDY+K10d5oikWcnymaTJ/wCWY6bQTnIx7XXiX7QGm6t4sGj6J9hlubG6uJ4pdJh8RxaWupRBYyu9zE0pGSw2RFT3LYOKAPUPAtnead4N0a11CKeG+itY0njurv7XKrgfMGmwPMbPV8DPXFbtY3g21lsfCej202mjRpYbSONtPW5NyLbaoHliU/fxjG7vjNbNAHE+LPhNpXjLWzqd9qviO2k8lYRBpev3llAApY7vLhkUFju5J5wB6V0HhXw1beENDt9Ks57y5t4C5WXULuS6nO5ix3SyEu3JPLEnGBWRffFTw1pvjG38LT3s667cSLFHbLZTspLIXGZAmwDaDyWxxXW0AfPv7Jf/ACGvjz/2UrUf/SWzr6Cr59/ZL/5DXx5/7KVqP/pLZ19BUAePD/i3P7SBH+r0b4hWWe+1NWs4/wAgZrT/ANI/evYa84/aA8I6h4q+G91caHH5nifQp4td0Yd2u7ZvMWP6SqHhP+zK1db4K8W6f498H6L4k0qTzNN1azivbdj12SIGAPoRnBHYg0AcZ8Xfh3qmq3mn+NPBjQ2vxA0KNltfObZBqlqxDS6fcn/nm5GVbkxyBXHG4N0nw1+ImmfFDwpBremrNbNve2vNPu12XNhdRnbLbTp/DIjZBHQ8EEggnqa8a+JXhvU/hr4sn+KPhCymvxJGkfivw7aLl9UtUGFuoF73cC9B1ljBj6iPAB6H4b/5DviYf9PaH/yClb1xbxXlvLBPEk8EqlJIpFDK6kYIIPBBHauQ+HfiHTfFrarrejXsOpaRqLQXVpeW7bo5o2gQhgf846V2dAHi03wn8RfCGZ9Q+E00Mmi7jJc+AdUmKWDZOWNjNgmzc8/JhoST91PvV2Hw5+MGhfEiS80+BbrRvEungf2j4c1eLyL+yzwC0eSGjP8ADKhaNuzGu5ri/iP8I/D/AMTobSTUo57LWLBi+na7pcpt9QsHP8UMw5APdDlG6MrDigDtKK8UX4meKvgu/wBl+KEa6x4YXiLx9pVsVjiXoBqNsuTAfWaPMRzlhF0r2PT9QtdWsbe9srmG8s7hFlhuLeQPHIhGQysOCCOQRQBNJ9xvpWD4B/5E/S/+uWP/AB41vnkYrA8A/wDIoab/ALjD/wAfagDoKKKKACiiigArnrXjx7f++nwn/wAfkroa56D/AJH+799Ni/8ARj0AdDRRRQAUUUUAFYXjr/kT9X/692P6Vu1h+OP+RP1n/r1k/lQBr23NvEf9gfyqWobPm0gP+wv8qmoAKKKKACquq86XeD/pi/8A6CatVW1EZ0+6H/TJv5GgCj4QOfCuj/8AXpF/6CK16xvBpz4T0f8A69Y//QRWzQAUUUUAFFFFAHz3+xP/AMk/8df9lB8S/wDpxlr6Er57/Yn/AOSf+Ov+yg+Jf/TjLX0JQAUUUUAFeL/tFafcaxN4d0660/xJqvha4FyNUsfDU8EEk5AjMSyySSRsIz+8/wBW6tnHOK9orwj9qZdNls/DsV9DY3Vw8kqWdreeHrbV3upnMaLDCs8iKjsWHIyNqszFVUmgD1rwLNb3HgzRHtLCfS7Q2cQhsrmQSSwIFAVGYMwZgMAnc31PWt2uR+EdpZaf8MPC1rp00lxYwadDFDJKsSsVVABkRfux0/g+X0JFddQB4Z8ctB8W6l4o0+6sLLxdeabbxj7K/gu9061mglORJ5xuwGIIwBsbbjOR3r1H4fprcfhHT18RFzqwU+b5zxvKF3HYJGiAjMgXbuKALnOOKyPGHwV8I+Pdc/tbXLG6u73yVgBj1K6gQKpYj5I5FXPzHJxk8eldF4U8K6b4J0G20bSIXt9Ot93lRyTPMy7mLH53JY8sepNAHgH7L+oanaeIvjwlnpH2+L/hZOokyfaUj5+zWnGD/nmvdf7a17/oW/8Ayej/AMK8e/ZL/wCQ18ef+ylaj/6S2dfQVAHPf21r3/Qt/wDk9H/hXknwb1bWPAPjDxn8ODoX7q0uf+Eg0aE3kahdPvHdnjXjkRXK3C+yvGPSvfK8e+PH/FEa54N+J0R8uHQLz+zdZYHAbSrxkilZvURTC2m9ljf1oA9A/trXv+hb/wDJ6P8AwpP7a17/AKFv/wAno/8ACuiooA+Xl1jUv2b/AB14i1qDRBD8Mtavo5dXs1uF2+Hr+UL/AKWp6C1mYgygDEbnzPus+Pf113XXUMvhzcpGQRfxkGotPsbfUtc8WWd5BHdWlx5Uc0EyB0kRocMrKeCCMgg9c15t4Jvrn4B+LbD4e6zPJP4H1SQw+ENXuHLG0kwT/ZM7nuACYHY/MimM/Mg3gHp/9ta9/wBC2f8AwOj/AMKP7a17/oWz/wCB0f8AhXQ0UAc42sa7IpVvDO5WGCpvoyCPyryGb4ZeMPh1qUusfCrS4NFgkkM154Nv71To94SSWaDaC1nKc/ejBjJ+9GT81fQNFAHkngX49v401S50Gbwxc+H/ABhZruu/DmrXcUV0i9PNi6rPCT0liLL64PFb/g3VtYh8NWaW+gm5hUMFl+1ou7527H3rQ+Ifwv8ADvxQ0+2t9cs2a4s5PPsNStJWgvbCbtLbzoQ8bdOhwehBHFeS+D/Hvi/4K+HbYeN4JvFvgdWkEfi/TLbN5YqJG51C1QfMo5zcQgju8aDLUAeyf23r3/QtH/wOjpf7b17/AKFs/wDgdHWnouuad4k0m11TSb631PTbuMS295ZyrLFKh6MrKSCPcVeoA57+29e/6Fs/+B0dH9t69/0LZ/8AA6OuhooA57+29e/6Fs/+B0dYkerawPGc0g0Im4NgimD7XHwokb5t3TqcY9q7yueX/koEnvpi/wDo00AH9t69/wBC2f8AwOjpP7c17/oWm/8AA6OuiooA57+29e/6Fpv/AAOjo/tvXv8AoWm/8Do66GigDnv7b17/AKFpv/A6OsrxXq2szeGdUjm0BoImtpA8v2yNtg2nJwOtdtWN4yG7wnrA/wCnSX/0E0AUbPWtcFpAF8OMy7Fw322MZ461N/bevf8AQtN/4HR1saac6baH/pkn/oIqzQBz39ua7/0LTf8AgdFR/bmu/wDQtN/4HRV0NFAHPf25rv8A0LTf+B0VRXWta41rMG8NsoKMCftsXHFdNUVyN1vKP9g/yoA43wnrGsReGdMSHQGuIlt0Cy/bI13DHXB6Vrf25rv/AELbf+BsVSeBTnwfo/8A17J/Kt2gDnv7c13/AKFtv/A2Kj+3Nd/6Fp//AANiroaKAOe/tzXf+haf/wADYqBrmu5GfDbgf9fsVdDRQB88fsQu8nw58bPJH5MjeP8AxIWj3Btp/tGXIyOuK+h6+e/2J/8Akn/jr/soPiX/ANOMtfQlABRRRQAV5v8AGT4oXvw1h0uSy8Ow661wZXkkur02kVtGigs5cRSdFYkjA+VWPbFekV4R8f7ifSfEHhGygk8RXqavcXmLLRfEf9m3DzCKNlVSZE3IFSQ7BwCc9TggHqvw68SP4w8B+H9cktEsH1GxhujaxlisW9A20FlUkDPBKjPpXRVzfw2uPtXgDw9N/pP7yxib/TL0Xk3Kg/POCRK3q4Jyea6SgAooooA+ff2S/wDkNfHn/spWo/8ApLZ19BV8+/sl/wDIa+PP/ZStR/8ASWzr6CoAKzPE3h2w8X+HNU0LVIRc6ZqdrLZ3UJ/jikQo4/EE1p0UAeYfs7+Ir/VPh6NE1udrjxL4VupPD2qSPndNLb4Ec5z/AM9oTDN/21r0+vHtS/4tz+0Zp+oD93o3j+z/ALNuDj5U1W0RpLdifWW285Pf7NGK9hoA57Rf+Rs8R/W3P/kOn+OfBOj/ABG8Kaj4d161+16XfR7JEDFHUghkkRhyjowVlYcqygjkUzRf+Ru8R/S2P/jhroaAPJvhT421fRPEE3w08c3f2nxVYwG40vWXUIviDT1IUXAxwLiPKrNGOjFXHyyAD1muK+K3wyt/ib4fhgS8k0bXtNnF9o2uWygzaddqCFkUHhlIJV4zw6MynrVL4RfE248b2uo6Pr9lHovjrQXW21vSo2JQMQTHcwE8vbzAFkb/AHlPzIwAB6FRRRQAVz3gH/kVrUekkw/8ivXQ1z3gP/kW4h6TTj/yK9AHA638E7/wjq134j+FOo2/hfVblzNe+H7tWbRNUc/eZ4l5t5T/AM9ocEnl1k6VseAfjXYeKNa/4RjXtOuPBnjqOMyP4e1RgWmQfeltZh8lzF/tIcj+NUPFej1zXj74c+Hfiboo0zxHpsd/BG4mglDNHPayj7ssEqkPFIOzoQR60AdLRXif9u+OvgTiPxCL74j+A4zhdetIN+taZGP+fuCMf6UgHWaECQAEtG3LV6v4X8VaP420K01rQNTtdY0m7TfBeWcokjcexHcHgjqCCDQBq1z/APzP599M/wDatdBXPN/yUBPfTD/6NFAHQ0UUUAFFFFABWT4tG7wvq4/6dJf/AEE1rVl+KBu8NasP+nSX/wBANAFnSDnSbI/9ME/9BFW6paId2i2B/wCneP8A9BFXaACiiigApk3+pf8A3T/Kn02T/Vt9DQBheAv+RN0j/rgtb9c/4B/5E3Sv+uOP1NdBQAUUUUAFFFFAHz3+xP8A8k/8df8AZQfEv/pxlr6Er57/AGJ/+Sf+Ov8AsoPiX/04y19CUAFFFFABXifx80vxF4g8ReHdJ0d9Ph8+G4kimGpX1jfh0Cs4SS2hkAj29d2Pm2AfNivbK8D/AGtluG8O6OBqtjoVi8sqT31xcrbzPlRi3iY3dtkyAP8ALuIJVQQo+YAHpvwhsbXTPhb4TtLGTT5bSDTLeOJ9LLm1KhAAYy5LFfdjuPfmuvrj/g/ptzo/wq8I2N5ZRaddW2l28UlpCkaJERGBtCxsyAD0VmHuetdhQB41461rW9G8eO+iweMPFl3A8VxLpejtZRWNpEwUbZPPkiMjMEkIAZsb8kcCvT/C/iS38WaLBqVtDcWyyFke3ukCSwyKxV43AJAZWBBwSOOCa8v+M3wzvPiJ4itt/wANvCHiuytYF8rUdd1SW1uFYs26ICO3kOwYU8tg7uleifD/AE+80nwfp1lf6Npnh+4t1aL+zdHkMlpAgYhBGxRMjbg/dXknigDwv9l/WLnT/EPx4jh0i8vlPxJ1E+ZAU2/8e1px8zDn/GvdP+Eovv8AoW9S/OL/AOLrx/8AZL/5DXx5/wCylaj/AOktnX0FQBzv/CUX3/Qt6l+cX/xdH/CUX3/Qt6l+cX/xddFRQB5D8b9O1nx98OdQs9K8P6hb+IrF49V0a4fysR39s4mg/j6MyBG/2XYd63vAfxaHxC8F6J4l03w9qTWWqWkdygzFlCw+ZD8/DK2VI9VNegV498J/+KB+KPjn4eyHZYzy/wDCVaGvYW91IRdxKOgEd0HfHYXKUAdLpniC7j8T63KNCv3eRLfdEvl7kwrAZ+bHPbHpW1/wlF7/ANC3qX5xf/F0uk/8jpr/ALw2p/R66GgDnf8AhKL3/oW9S/OL/wCLrzf4r+H9e1y+03xh4P0G8sPH+hIy2klw0aQalbMQZbC5Ib/VSYyrYJjkCuP4g3tVFAHnPw/+M0PxH8Nx6tpnh3Vo2SV7W8sbhYkuLG6jO2W3mTf8ro3B9RgjIIJ6T/hKb3/oW9T/APIX/wAXXnvxM8M6p8N/FU3xR8H2U1+zRpH4q8PWq5fVbVBhbmFe93Av3f8AnrGDGeRGV9R8M+JdL8ZeH9P1zRL6HU9I1CBbi1u7dspLGwyGH+HUdDQBQ/4Si9/6FzU//IX/AMXWL4Q8QXdroojTQtQuFE8x3x+XjmRjjlhyOn4V3lc74F/5Acg9Lu5H/kVqAD/hKL3/AKFzU/8AyF/8XR/wlF7/ANC5qf8A5C/+LroqKAOd/wCEovf+hc1P/wAhf/F15V4k+HOo6fr154q+HFjqHgvxTdP517btFHLpOrv/ANPdusgw56efFtkHcuPlr3eigDxrwn+0Q93rtv4U8W+EtS8IeOJELR6ZcSxPbX4X7z2VzuCzgdSvyyL/ABIOtdS/iC6/4TKKf+wtQ3/YGTyf3e8jzFO772Mduvet7xt4F0D4jeH5tE8S6Vb6vpkpDmGcHKOPuujDDI6nkOpDA8givGJG8bfAnxhbeadS+J/guOxkAkUCXX9Mi8xeWHH26McdMTAdpTQB7H/wlN7/ANC5qf8A5C/+Lo/4Sm8/6FzVP/IX/wAXU3gzxxoPxE8P2+t+G9VttY0ufIW4tnyAw+8jDqjg8FWAYHggGtygDnf+EpvP+hc1T/yF/wDF0f8ACU3n/Quap/5C/wDi68x8EfHjV/jB8UfH/h7wXZ6bBoPgi6XSr7VtTMkjXuobSzwwohGxI8ANIxJJPCkDNeq+CtQ1nVvCunXfiLTYtH1uSPN3YwTedHDJkghXwNw44OBnPQUAQf8ACU3n/Quap/5C/wDi6o674ku5tD1CNvD+pRK9vIpdhHhcqeTh+ldhWf4h50DUx/07S/8AoBoAwdG8TXcej2KL4f1KQLBGA6iPDfKOR8/Srn/CVXn/AELmqflF/wDF1o+Gznw7pZ/6dYv/AEAVo0Ac7/wlV5/0LmqflF/8XR/wlV5/0LmqflF/8XXRUUAc7/wlV5/0LmqflF/8XSN4qvCpH/COap+UX/xddHSUAcL4N8RXVr4ZsIk0LULhUQgSxCPa3zHplwa2f+EqvP8AoXNU/KL/AOLp3gH/AJFHT/8Adcf+PtXQUAc7/wAJVef9C5qn5Rf/ABdH/CVXf/Quar+UX/xddFRQBzv/AAlV3/0Lmq/lF/8AF0o8VXZIH/COaoPwi/8Ai66GigD54/YhkM3w58bSNG0LN4/8SMY3xuXOoy8HHcV9D189/sT/APJP/HX/AGUHxL/6cZa+hKACiiigAr588baPaeLviVeXV58Uv+EbvNHkmtrDT7/TdNIhR4oTM0RnRndSdmXOOcgcZz9B14b+0l4Si1D+ytTj0GK4kUvHc6lZ+E4dev8AaMFIVjcHajHdl8NjaB8u7NAHq/gmxs9L8IaPaWGoDVbOG1RIr4FCJ1A++NgC4PX5QB6cVt1geAYZbfwTocc+mR6LKtnGG0+GFYUt/lHyCNSVTH90EgdATit+gAormrj4keG7XWrnSZdViS/t5obaWIq2FllKiOPdjaWO9PlByAwJwDXS0AfPv7Jf/Ia+PP8A2UrUf/SWzr6Cr59/ZL/5DXx5/wCylaj/AOktnX0FQAUUUUAFeP8A7Qinwj/wi3xNgBDeEb7/AImW3JL6Tc7YrwEDqI/3Vx/27V7BVPWNIs/EGj32l6hAt1YX0EltcQSDKyRupV1PsQSPxoAydKYN401plIZWtrYgjofv10VeHfsz6leRw654U1aV5tc8GmLw9dTS/fuI4tzWtwf+uts8LE/3t/pXuNABRRRQAV4VrKn9mnxZc6/bqR8KteuzLrFuv3fD19I3N6g7WsrH98vSNz5v3Wkx7rUN5Z2+o2c9pdwR3VrPG0UsEyB0kRhhlZTwQQSCD60ASKwdQykMrDIIOQRXP+Bv+QRcj0vrkf8AkVq8x8FXlz8AfFth8P8AV5pJvAmqy+T4R1a4YsbKTBP9kzufQAm3dj8ygxk7kXf6d4H4029HpqF0P/IrUAdFRRRQAUUUUAFc7cf8j9Y++nTf+jI66Kudu/8AkfNOPrYTj/x+OgDkPGXwRS68QT+LfBGqN4I8ayYM95bRCSy1PHRL62yFmGOBICsq/wALgcGPwp8bXt9etvCfxD0pfBXiy4fyrN2lMumau3rZXJADMevkuFlGfusPmPqtZHizwjovjrQLvRPEOl2us6TdLtms7yISRt6HB6EHkEcggEEGgDx/4f8AwD1z4L/FD4i694OvdMvPD3ji9XWLnS9U8yKSxv8ABEjxOgYPHJnJRgpUjhsV7dpsd1DYW6X08dzeKgEs0Uflozdyq5OB7ZNeOf2T48+BJL6Mb/4leAoxzpFxL5muaYg/595XI+2RgZ/dyESjjDvwtek+A/iJ4d+JmhLq/hvU4tSs95ilCgpLbyj70U0bAPFIvdHAYdxQB0dUddG7Q9QH/TvJ/wCgmr1U9ZGdHvh/0wk/9BNAEHhjnw3pJ/6dIf8A0AVp1leFDnwvpH/XpF/6AK1aACiiigAooooA57wD/wAinY/WQf8AkRq6Gue8A/8AIq2ns8o/8ivXQ0AFFFFABRRRQB89/sT/APJP/HX/AGUHxL/6cZa+hK+e/wBif/kn/jr/ALKD4l/9OMtfQlABRRRQAV5f8WvEHiXR/FPg+28M6nZ211fm6gezv9OuLuGXCIyuxhK+XtKlQzsATIAASePUK+X/ANqrxlaapdWPh3U9M1PTtCtZ3a81ibQBcxzSeWpjit5HljUqwaQORk/Lt45IAPoD4f66/ifwToerSX1nqb3tpHO15p6MlvMWUEtGrEsFPYE5HeugrmPhheQah8OvDVxa2ltYWsmnwtDa2caxwxR7BtVFUsqqBjCgkDpk4rp6APCvjdp/iRtfh+yWfi86K7RXMbeB7XS5ZTdIfv3P2wFsjam0oMYHJGK9U8APrknhHT28RrIurbT5vnCIS43HZ5giJjEm3G4Iduc44rK8WfB/w9421s6pqsmsm48lYBHZa5e2cIVSxz5cMqLuO7kkZOB6V0HhXwxY+DdDt9I043Js4C5j+13UlzL8zFjmSRmduWP3iTigD5//AGX21tfEXx4Gmx2DQf8ACyNRybp3Dbvs1pn7oIx0r3TzPFf/ADx0f/v7L/8AE14/+yX/AMhr48/9lK1H/wBJbOvoKgDnfM8V/wDPDR/+/sv/AMTR5niv/nho/wD39l/+JroqKAOd8zxX/wA8NH/7+y//ABNHmeK/+eGj/wDf2X/4muiooA+c9cvte+Hv7S+mauIdOitPGVhFoWoHe4hW9h86axkY4zudPtMXuREPSvavM8V/88NH/wC/sv8A8TXE/F7wNcfESx8V6LYTfZdYOm2t7pdyTjyL+CZ5raTPYCVEz7ZHeuu+FvjuD4m/DzQPE8ERtv7RtVkmtm+9bzD5ZoW/2kkV0PupoAseZ4r/AOeGj/8Af2X/AOJo8zxX/wA8NH/7+y//ABNdDkZx3paAOd8zxX/zw0f/AL+y/wDxNHmeK/8Anho//f2X/wCJroqKAOC8a+D9S+InhfUPD2v6bo97pV9HsljE8yMMEMrowXKOrAMrDlWUEcivM/gl438YaDq978NfE81hd+I7N57jTtavGdB4gtFk2tMu1cefGSFlTjkq4G1+PomvKvEXwytfib4VvrYXcuj65p2sT32ja3bKDPp14rHZKufvKQSroeHRmU8GgDs/M8V/88NH/wC/sv8A8TTJ7zxNax+ZMmixJnG6SeRR+ZWsH4Q/E258bW+o6L4hs49G8d6A62+taXGxMe5gfLuYCeXt5gCyN1GGRvmRhXO/tmIj/sn/ABc3qpC+GL9huHQiBiCPcHpQB31tqHiO8Vmtxoc6qdpMdxIwB9OFqXzfFf8Az76R/wB/pf8A4mvhL9ku4/4R79pT4VQ6gF06bxB8ItPNja+HnL216sah3uNRBClZuNqMFIPTeTxX6H0Ac75viv8A599I/wC/0v8A8TWLdyeIv+Eu04tBpn2r7LMEAlk2bdyZyduc9MfjXeVzuof8jxo3va3A/WOgA83xX/z76R/3+l/+Jo83xX/z76R/3+l/+JroqKAOd83xX/z76R/3+l/+Jrzrxt8Gda8Ra+fFOgXNj4L8cKixjXtLdyLlF6RXkBXZcx+z/Mv8DKa9nooA8K0343+LfDOuWnhr4kaRovhXV7pxDY6ytxK2jaq56LDMVzDKf+eE2GP8JfrXpeoSeKG0+5ElvpOwxNu2zS5xg5x8tbWveH9M8VaNd6RrOn22q6XeRmK4s7yJZYpVPZlYEEV47eeDfGvwRtLh/BbXPjnwQEbf4S1C5zqNgmD/AMeF1If3igdIJz2wsi8LQB33hmbxL/wjumfZ7fSzB9mj2GSWQMV2jGcL1rS83xX/AM+2kf8Af6X/AOJrD+CvxH8O/EbwRZT6DqK3UlnFHb3tnKjRXVlMFGYp4WAeNx6MOeoyMGu+oA53zfFf/PtpH/f6X/4mjzfFf/PtpH/f6X/4muiooA53zfFf/PtpH/f6X/4mjzfFX/PtpH/f6X/4muiooA4PwbJ4iXw/CLWDTGhEkoBllkDZ81s9F9c/hW15vir/AJ9tI/7/AEv/AMTR4D/5FtB6XFwP/Iz10VAHPed4q/59tI/7/wAv/wATR53ir/n20j/v/L/8TXQ0UAc753iv/n20j/v/AC//ABNKJvFWRm20nH/XeX/4muhooA+eP2ITKfhz42MwVZv+E/8AEm8RklQ39oy5wT2r6Hr57/Yn/wCSf+Ov+yg+Jf8A04y19CUAFFFFABXhX7SmlXl1rHg2+toJnjtvtiSTWsOlvKm9YsAHUHEYU7edoLHA5Azn3WvCv2nooL5vC9g1r9ruZnuWiT+ydMvBhVTd8+oSJHH1HCks3phTQB6b8L93/Cu/Dm7fu+wxE+YIA33R1EH7oH/rn8v93jFdRXJ/Caxh034ZeF7S2SeOCDToY0S5aFpFAQABjD+7z/ufL6cYrrKACivGfiL4p1vRfHYi0CHxF4inh8m5udMtdS02xtIYyMBf9IAkfdtYnacDP3h0r03wh4og8Y+H7bVbeGW2WUsjwTFGeJ1Yq6kozK2GBGVYg9iaAPFv2S/+Q18ef+ylaj/6S2dfQVfPv7Jf/Ia+PP8A2UrUf/SWzr6CoAKKKKACiiigDnbf/kfr3306H/0Y9cB8OP8Ai33xn8a+CHymm61nxbow52gyMI9QhH+7PsmwP+fv2rv4f+SgXXvpsf8A6MeuB/aQs20TQ9E+IdvAZ7jwXe/bruNU3GbS5F8q/jx3AhYy4/vQJQB4D8TvjBrngD9qb4e/FKe41BPhdrc83gW681VFjEruGtr1XDHJedHyxAwiDnmvt6uVm+GvgnXPC1los3hbQdQ8Nw7ZrXTpNPhktE7hkjKlB1yCB3rp4okgiSONFjjQBVVRgADgACgB9FFFABXPeDf9Vq49NTuP/QhXQ1z3g/prQ/6ic/8ASgDlPi98OdT1q407xj4NeGy+IOgowsnmOyDUbdiDLYXJHWKTAIbkxuFcdCG1PBvirw58dPALTz6XHc2czPZapoOsW6PJaXMZxNa3ETZG9G4IOQRhhlWBPcV458TPDGq/DzxXL8UfB1lNqErRpF4o8PWoy+r2iDC3EK97uBc7e8qAxnnyyoB6J4b+H/hfwdM82g+HNJ0SWSNYWk06xigZo1+6hKKPlHYdBW/WZ4Z8TaX4y8P6fruiX0OpaRqEK3FrdwNlJY2GQR/geQeDzWnQAVz2qceNdC97e5H/AKLroa57Vv8AkcvD5/6ZXQ/RKAOhooooAKKKKACobwZs5x/0zb+VTVHcc28v+6f5UAeTXnwa0zxxouheIrC9uvCvje1sY4rXxNpO1bkKAMRTKwKXEOQMxShh6bTzUOm/GbVfh7qFrofxbsrbRZJnEFn4vsA39i37k4VXLZNnKf8AnnKSpPCSN0r0XwJ/yJ2j/wDXsn8q1dS0201jT7ix1C1hvrG4QxTW1zGJI5UIwVZSCCCOxoAsKwYAg5B5BFLXiZ+HPi34J/6R8M3PiHwop3S+BNUusGBe/wDZ105/dY7QSkxdlaKu7+HPxY8PfE63u/7Jnmt9TsGEWo6LqMRt7+wkI+5PC3zLns3Kt1VmHNAHY0UUUAc74E/5AJHpdXA/8jPXRVz3gX/kCzD0vLkf+RWroaACiiigAooooA+e/wBif/kn/jr/ALKD4l/9OMtfQlfPf7E//IgeOv8AsoPiX/04y19CUAFFFFABXnXxX1DwTBfaDa+MPDC+IhO0pglk0cahFYqNgkllO1vJT5kBc8dM16LXif7Tuni80jRJrmzibTrOd7mW+/4RmTXpYXUDYiwIRtD5bLsCBtA4JBAB3Hwp8beH/GXhe2bw5ZPpen28MXk2DwLD5ULoHhKohKqrIQQB0HBAxiu0rhvg74X0jw94JsbnStDttAbVIYbu4tbVdqhvKVVAXcwQBFUBAxC4wPU9zQB498YvhrrHxC162A8E/D/xNpdrCphuPFaSSXCSFm3qoWJgEwFPXkk5HFeheA7HUtM8J6fZ6vY6Tpt7ApjNpoYYWcSBiEWIMqkDbt4wOc1v0UAfNP7L/h6PVvEXx4me8vrcj4k6iu22uWjXi2tOcDvzXun/AAhUH/QU1f8A8Dnrx/8AZL/5DXx5/wCylaj/AOktnX0FQBzv/CFQ/wDQU1f/AMDnpf8AhC4f+gpq/wD4HPXQ0UAc9/whcP8A0FNX/wDA56P+ELh/6Cmr/wDgc9dDRQBwa+FYv+Ezlt/7Q1LH2BZPM+1tv/1hGM+ntWreeALLULSe1ur7VLi1njaKWGS8crIjAhlI7ggkVMP+R/b30wf+jTXQ0AeE/s96CbPw9q/gXUdW1Y6p4Ivm0bJvmBlstoksZse9u8ak/wB6N/SvVf8AhC4f+grq/wD4HPXn/jj/AIt58dfCXi1f3eleKYh4U1Y5wouAXm0+Uj13m4hz63CDtXsNAHO/8IXD/wBBXV//AAOej/hC4f8AoK6v/wCBz10VFAHO/wDCFw/9BXV//A56xfDPhWK6bVwdR1KPy9QljHl3bLuwF5Pqeetd5XPeEf8AXa+P+onL/wCgpQAf8IXF/wBBXV//AANej/hDIv8AoK6v/wCBr10NFAHzj4j8Kp+zl4mm1+C+1NPhZrVyZNaghumA0C9kbm/UDpbSsf3y9I2Il+6ZMe1p4Pt5EV01fVnRhkMt8xBHrW7eWcGoWk9rdQR3NtOjRSwzIHSRGGGVlPBBBIINeK+DLy4/Z/8AF2n+ANWmkm8BatL5PhLVZ2LGwlIJGkzOe2ATbsT8ygxH5kXeAenf8IXF/wBBXV//AANasXU/C0cPifRIf7R1NhKtxl2u2LrhVPyntnvXeVz2tf8AI3eHD7XI/wDHBQAf8IZF/wBBbV//AAOej/hDIv8AoLav/wCBz10NFAHPf8IZF/0FtX/8DWo/4QyL/oLav/4GtXQ0UAc9/wAIZF/0FtX/APA1qZJ4NiEbn+1dXPB/5fWrpKbJ/q2+hoA4fwd4VjvPC+mTnUtTiLwg7IbtlQfQdhWz/wAIZF/0FtX/APA1qXwD/wAidpX/AFxx+proKAOe/wCEMi/6C2r/APga1cb46/Z50LxxdW2qHVdb0fxTYoUsPEmm3pjvrUHkrvwRJGT1ikDIe616nRQB88x+LNa+Fd3Hp3xZvL+HS2YR23jzS7h002Yk4AvIsk2UhyPmJMJPR1Py17FD4Tt7mGOaHWtVlikUOkiXxKspGQQR1BFb9zbxXlvLb3ESTwSoY5IpFDK6kYKkHggjtXjc3wn8RfCGZr/4TzwyaJuL3HgHVJiti2TkmxmwTZuTn5MNCSfup96gDrfCfheO70+4b+0tTi23k6bYrtlHEhGcevqa2/8AhDY/+gtq/wD4GtXHfA74q6H48t9Y06D7RpPiOxvZ31Dw7qqCG/st0hwXjyQyHtIhZG7Ma9SoA57/AIQ2P/oLav8A+BrUf8IbH/0FtX/8DWroaKAOe/4Q2P8A6C2r/wDga1C+DY1YH+1tX4/6fWroaKAPnj9iGEW/w58bRBncJ4/8SLukO5jjUZeSe5r6Hr57/Yn/AOSf+Ov+yg+Jf/TjLX0JQAUUUUAFeceJNI+LE+v38nh/xN4TstFdlNrbapoVxdTxjYoYNJHdRKcsGI+XgHqa9HooAwfAeh3fhnwbo+lX8ttPfWlskU8lnEYoWcD5iiEkquc4Uk4HGTW9RRQAUV82fGDUpvDvxktNQ03+z7u+t4o7qWLWtat9KKpyAsErh3ZDtO5Qm3kjdknHungXxdD458LWWtQQ/Z1uAwMYmSZQysVbbIhKyLkHDKSCMGgDxz9kv/kNfHn/ALKVqP8A6S2dfQVfP37Jef7Z+PJ7f8LL1L/0ls6+gaACiiigAooooA57/moA99MP/o0V0Nc+yt/wn0bYO06Ywzjj/WrXQUAcf8XPAY+Jnw313w4s/wBku7uDdZXY6213Gwkt5h7pKkb/APAab8H/AB4fiX8N9C8QywfZL+4hMd/ZnrbXkbGK5hP+5Kki/wDAa7KvH/Ban4d/HfxZ4XZfL0fxZF/wlOlcYRbpdkOoRA+pJt5ses0h9aAPYKKKKACue8J/8fXiAf8AUSf/ANASuhrn/C6Ml94h3KQDqBIyOv7tKAOgooooAKw/G3gvR/iJ4V1Hw7r1oL3Sr+Py5o8lWHIKujDlXVgGVhgqygggityigDyT4VeNNY8PeIZPhn45vDd+JbOBrjSNakAUeILBSB53HAuYsqsyDuVkA2vhe61r/ka/DZ97gf8AkOs34qfDO1+J3h6K1N3Lo+tWE632j63aqDPpt4oISZM8MMEq6Hh0ZlPDVyXw/wDiNe+NNc0zSPEVimj+OdAmkt9Z02MkxHdE3l3VuTy9vMFLI3Y7kb5kYUAewUUUUAFFFFABSN90/SlooA5/wD/yJ+mf9cyP/HjXQVgeA1KeE9PVgVIDjBH+21b9ABRRRQAUUUUAeV6l8JdA+J+nTSamlxZaxp2p3TabrumTG31DT2MhyYZhyAe6HKN0ZWHFZC/EzxV8F2+y/FGNdX8MqcQ+PdKtiscS9ANRtlz9nPrMmYTnLeV0r0vwajR2+qhgR/xMrgjI/wBqt51WRWVlDKwwVYZBHpQBDYX9tqljBeWVxDeWdwiyw3Fu4eORCMhlYcEEcgirFeNX/wAG9Z+G19caz8I7u20uOR2mu/BWoMy6PesTlmh2gmylPPzRgxk/ejJ+aun+Hnxi0vx1ez6Nd2d54X8X2ib7zw3rCiO6jXODJGQSk8ORxLEWXpkg8AA76iiigD57/Yn/AOSf+Ov+yg+Jf/TjLX0JXz5+xSCvgHx2CMEfEHxKCD/2EZa+g6ACiiigAooooAKKKKAPMPih4E8T+NdYgFrY+BL/AEa3iVok8UaNLfzpMSd5UiRVVcBMYGc59q7XwdaaxYeG7O3119NfU4gySHSIGhtQoY7BGjMxUBNowSeQa2qKAPC/En7Fnwt8UeKta8Q3Flr1lqWs3Rvb46X4l1GyimnKhWkMUM6oGIUZIHas/wD4YU+Ffr4w/wDC11f/AOSa+hKKAPnv/hhT4V+vjD/wtdX/APkmj/hhT4V+vjD/AMLXV/8A5Jr6EooA+e/+GFPhX6+MP/C11f8A+SaP+GFPhX6+MP8AwtdX/wDkmvoSmuAyMGGVxyKAPnhv2FfhIrrMx8WBz+7WQ+NdWzyfug/afXtUv/DCnwr9fGH/AIWur/8AyTXBP4N8Qr8I/A1q+iao1jb6L4itP7N+yyCWLUJSRYsYyNynHmhHIwpdTkZBr6q8IW+o2fhPRINYl8/VorGBLyXOd8wjUSHPfLZoA8S/4YU+Ffr4w/8AC11f/wCSagm/YF+ENzdW9zNbeKpbm2LGCZ/GOrF4tww21jc5XI4OOor6LooA+e/+GE/hX/1OH/ha6v8A/JNH/DCnwr9fGH/ha6v/APJNfQlFAHzzN+wz8KLeMvLJ4ujQYBZ/G2rgcnA/5efWmr+wn8JYZmVf+EsSWTLlR401YM3QE/8AHzz25rvP2godBvPAE1nr/h2fxNDdubeC0j0ufUEjldGUTSRRIx2oCTuxwcY5IryDS/BfiS18daEunw6xcrFqXh+TTdT1CGRJV0eCwaO7WZmGUZn8zfG2GLTISPQA6f8A4YU+Ffr4w/8AC11f/wCSaP8AhhT4V+vjD/wtdX/+Sa+hKKAPnv8A4YU+Ffr4w/8AC11f/wCSaP8AhhT4V+vjD/wtdX/+Sa+hKKAPnpv2FvhUilmbxeqqMknxrq4A/wDJmqTfsD/BiW/t9UaDxI98Y/Ihvj4x1Uy+Wx3bFf7TnaTzgHHevffFU+n2/h2/k1WPztOWI+fGbZ7gMvoY0BZx6gDkZr5Iv/h74v0/wLFpy6S8kK6Fr9loS6ZZyxRrqU1/HJZ3Kwtk2paPJUEgRhWAIBAoA9I/4YT+Ff8A1OH/AIWur/8AyTR/wwp8K/Xxh/4Wur//ACTXv1msyWkC3DB51RRIy9C2OT+dTUAfPf8Awwp8K/Xxh/4Wur//ACTR/wAMKfCv18Yf+Frq/wD8k19CUUAfPf8Awwp8K/Xxh/4Wur//ACTQ37CvwqVSzN4vAHJJ8a6v/wDJNfQleNftWaT4r8RfCTXNK8NaM2tRXWn3Yure3vDBcOREfKSMBWLhn6qME7Qv8RoA5q3/AGEvhNbqtvG3i0EDcEHjTVgcZ64Fz0zU3/DCnwr9fGH/AIWur/8AyTVHR/Dvix/i1ZXVxp1za6mfFK3811tLQx6L/Ywi8jzcBSoueNnXeN2O9fSVAHz3/wAMKfCv18Yf+Frq/wD8k0f8MKfCv18Yf+Frq/8A8k19CUUAfPf/AAwp8K/Xxh/4Wur/APyTSN+wr8KlUszeL1UDJJ8a6vx/5M19C1wvxq0qy174e3+lahqOoaVa3zxQG602w+2upLghXh8uQNGxAVgy7SpIJGc0AeXw/sL/AAjj2iJvFa+cS4CeNdWG89yP9J5qb/hhT4V+vjD/AMLXV/8A5Jrk28G+NV1DS0uNGWx1loPDC6V/ZdmYrSwWC9lbUQgXKwKYSCyE8h1T5sV9YUAfPf8Awwp8K/Xxh/4Wur//ACTVS8/4J+fBzULyzvLqx8TXN3ZFmtbibxfqryW5YYYxsbjK5HXGM19H0UAfPf8Awwp8K/Xxh/4Wur//ACTSSfsL/CmJS7v4uRR1ZvG2rgD/AMma+ha8I/aLt/F8viPw7caGsk2n2OnaheW9p9ha8t7zVlEX2SC4QdEZTPtborYOQQtAHovwp+Ffhb4M+FF8L+EbR7LTI55bto5ruW5laWVy7yPJKzOxZiTkmuyr5u+HXhnxdB8Y7G8vrK6tbqPVdeudZuWDGGWzm8o2MSyEYkC4QKB93yn4HOfpGgAooooAKKKKACiiigAooooAKKKKACiiigAooooAKKKKACiiigAooooAKKKKACiiigDzLxZ8QfFGh/ErQPC9ppekzRa5FezWs81zIrKtskLEOAhALGUgYzgKDznAr2P7Rng5bXThd6pLcXF4sTo9lpd2Y8TXElvDn5CVLSxNHhv4seorsNZ8BWGueOPDnime4u0v9CiuobaGJ1ELLcKgk3qVJJ/drjBGK4zTf2bfDelx2qQalrOLcWYTdcRn/j2vpL6LP7v/AJ7SNn1XA96ANfSvjz4I1q60O3tNZDz6w6xW0TQSI4kPmYjkUrmNiYZRhwOUI9MpqXxp0TSNb1m1vDMlppd/a6O80MEk7y39xGsiQokak/dkj59XA7VT8GfADRfAXiJdW0jV9bhLqftdo1yhhvG82WVGlHl5ypmcDaVBAUNu2ipLz4K2N94n1e/ku54rLUNYsfERjt3Cul9bIkY6qQY2WKIkcHKn14AINO/aF8IeJG0xNH1Yhry4s40+2adcx+clw0iJsyg5LwyJuPyqyENg4re8CfFvw38Tlul8OXstxLDbxXQFzaTQBopC6xyL5iruUtFIuR3QiuX0z9mnwzpNxo00Opa0W0n7L5Ae4jIP2e4muI937vn57iTPTIwO1a/gv4K6Z8PWhl0XVNUEsNhbacBcSxOHggmmlVD+743NPIGYc4IxgjNAHQ+AfGlv468PtqEMf2eeC6uLC7tydxhuIJWilTPcbkOD3BBro65f4deCY/Afh+ay80XF3eX11qd5MowHuLiZpZMDsoL7R7KK6igAooooAKKKKACiiigAooooAKKKKACiiigAooooAKKKKACiiigAooooAKKKKACiiigAooooAKKKKACiiigAooooAKKKKACiiigAooooAKKKKACiiigAooooAKKKKACiiigAooooAKKKKACiiigAooooAKKKKACiiigAooooAKKKKACiiigD/9k=)"
      ],
      "metadata": {
        "id": "wRU_MthydA5D"
      }
    },
    {
      "cell_type": "code",
      "source": [
        "#curva A:\n",
        "N_N0 = 1e2/1e6; t1 = 10 #min\n",
        "T1 =60\n",
        "k1= -1/t1*np.log(N_N0); print('k1 =',k1,'min-1')\n",
        "#curva B:\n",
        "N_N0 = 1e2/1e6; t2 = 20 #min\n",
        "T2 =55\n",
        "k2= -1/t2*np.log(N_N0); print('k2 =',k2,'min-1')\n",
        "# k = A exp(beta*Tc)\n",
        "beta = 1/(T1-T2)*np.log(k1/k2);print('beta=',beta,'celsius -1')\n",
        "A = k1/np.exp(beta*T1); print('A=',A,'min-1')\n",
        "A = k2/np.exp(beta*T2); print('A=',A,'min-1')\n",
        "# curva C: \n",
        "N_N0 = 1e0/1e6\n",
        "t3 = 55 #min\n",
        "k3= -1/t3*np.log(N_N0);print('k3=',k3,'min-1')\n",
        "T3 = 1/beta* np.log(k3/A);print('T3=',T3,'celsius')\n",
        "# situacao vapor\n",
        "T4 = 148\n",
        "theta = 40/60; #tempo residencia minutos\n",
        "k = A*np.exp(beta*T4);print('k=',k,'min-1')\n",
        "N_N0 = np.exp(-k*theta); print('N_N0 %.2E'%N_N0)"
      ],
      "metadata": {
        "colab": {
          "base_uri": "https://localhost:8080/"
        },
        "id": "t9yrsHrxdKiz",
        "outputId": "26e1e644-4a34-4882-dd61-9ac0a50e3d79"
      },
      "execution_count": 4,
      "outputs": [
        {
          "output_type": "stream",
          "name": "stdout",
          "text": [
            "k1 = 0.9210340371976182 min-1\n",
            "k2 = 0.4605170185988091 min-1\n",
            "beta= 0.13862943611198905 celsius -1\n",
            "A= 0.00022486182548769993 min-1\n",
            "A= 0.00022486182548769993 min-1\n",
            "k3= 0.25119110105389586 min-1\n",
            "T3= 50.6276544104193 celsius\n",
            "k= 182979.9917650423 min-1\n",
            "N_N0 0.00E+00\n"
          ]
        }
      ]
    },
    {
      "cell_type": "code",
      "source": [
        "T1=T1+273.15; T2 = T2+273.15\n",
        "R = 8.314\n",
        "Ea_R = -np.log(k1/k2)/(1/T1-1/T2); print('Ea_R=',Ea_R)\n",
        "Ea = R*Ea_R;print('Ea=',Ea)\n",
        "A = k2*np.exp(Ea_R*1/T2);print('A=',A)\n",
        "A = k1*np.exp(Ea_R*1/T1);print('A=',A)\n",
        "T3 = -Ea_R/np.log(k3/A);print('T3=',T3,'K');print('T3=',T3-273.15,'celsius')"
      ],
      "metadata": {
        "colab": {
          "base_uri": "https://localhost:8080/"
        },
        "id": "OE_4ixHzSEyw",
        "outputId": "e7eaaa98-b845-4201-d0f7-44202a9dc170"
      },
      "execution_count": 5,
      "outputs": [
        {
          "output_type": "stream",
          "name": "stdout",
          "text": [
            "Ea_R= 15155.40975764871\n",
            "Ea= 126002.07672509136\n",
            "A= 5.258650351384039e+19\n",
            "A= 5.258650351384029e+19\n",
            "T3= 323.8990660278666 K\n",
            "T3= 50.749066027866604 celsius\n"
          ]
        }
      ]
    },
    {
      "cell_type": "markdown",
      "source": [
        "3)\tCalcule a LRV de um filtro em profundidade para um reator de 500 m3 que trabalha por 2 semanas com 1 VVM de ar de forma a garantir 0.001 esporo/reator no final. Calcule, também, as dimensões deste filtro que garante esta esterilização. Considere N0=1000 cel/m3,  k = 1 cm-1 e velocidade superficial do gás de 0.1 m/s."
      ],
      "metadata": {
        "id": "edBb5qc2hboC"
      }
    },
    {
      "cell_type": "code",
      "source": [
        "tempo = 2*7*24*60 # min\n",
        "vvm = 1 # 1/min\n",
        "Vol = 500 # m3\n",
        "Q = Vol*vvm\n",
        "N0 = 1000 # cel/m3\n",
        "final = 0.001 # esporo reator\n",
        "LRV = np.log10(N0*Q*tempo/final);print('LRV=',LRV)\n",
        "N = final/(Q*tempo)#final = N*Q*tempo\n",
        "N_N0 = N/N0;print('N/N0=',N_N0)\n",
        "k=1\n",
        "z = -1/k*np.log(N_N0);print('z=',z,'cm') # ln(N/N0)=-k.z\n",
        "Q = Q/60 # m3/s\n",
        "U = 0.1\n",
        "# Q = U*Area\n",
        "Area = Q/U\n",
        "d = (4*Area/np.pi)**0.5;print('d=',d,'m')\n"
      ],
      "metadata": {
        "colab": {
          "base_uri": "https://localhost:8080/"
        },
        "id": "V-wo0S73hfX5",
        "outputId": "0144c6e5-eafe-4528-dd20-6e18d6f4fa73"
      },
      "execution_count": 6,
      "outputs": [
        {
          "output_type": "stream",
          "name": "stdout",
          "text": [
            "LRV= 13.003460532109507\n",
            "N/N0= 9.920634920634921e-14\n",
            "z= 29.941574378571772 cm\n",
            "d= 10.300645387285055 m\n"
          ]
        }
      ]
    },
    {
      "cell_type": "markdown",
      "source": [
        "3 B)\tCalcule a LRV de um filtro em profundidade para um reator de 500 m3 que trabalha por 3 semanas com 1 VVM de ar de forma a garantir 0.001 esporo/reator no final. Calcule, também, as dimensões deste filtro que garante esta esterilização. Considere N0=1000 cel/m3,  k = 1 cm-1 e velocidade superficial do gás de 0.1 m/s."
      ],
      "metadata": {
        "id": "9KuxyGX9KDvC"
      }
    },
    {
      "cell_type": "code",
      "source": [
        "tempo = 3*7*24*60 # min\n",
        "vvm = 1 # 1/min\n",
        "Vol = 500 # m3\n",
        "Q = Vol*vvm\n",
        "N0 = 1000 # cel/m3\n",
        "final = 0.001 # esporo reator\n",
        "LRV = np.log10(N0*Q*tempo/final);print('LRV=',LRV)\n",
        "N = final/(Q*tempo)#final = N*Q*tempo\n",
        "N_N0 = N/N0;print('N/N0=',N_N0)\n",
        "k=1\n",
        "z = -1/k*np.log(N_N0);print('z=',z,'cm') # ln(N/N0)=-k.z\n",
        "Q = Q/60 # m3/s\n",
        "U = 0.1\n",
        "# Q = U*Area\n",
        "Area = Q/U\n",
        "d = (4*Area/np.pi)**0.5;print('d=',d,'m')"
      ],
      "metadata": {
        "colab": {
          "base_uri": "https://localhost:8080/"
        },
        "id": "2_gmlXZhKC5S",
        "outputId": "98a26864-b942-4bb1-8fc7-b46dfebaa150"
      },
      "execution_count": 7,
      "outputs": [
        {
          "output_type": "stream",
          "name": "stdout",
          "text": [
            "LRV= 13.179551791165188\n",
            "N/N0= 6.613756613756614e-14\n",
            "z= 30.347039486679936 cm\n",
            "d= 10.300645387285055 m\n"
          ]
        }
      ]
    },
    {
      "cell_type": "markdown",
      "source": [
        "4)\tExplique: a) quais são as situações que se tem interesse de forma prática em ampliar e reduzir escala  b) caso o critério de similaridade seja o kLa o que significa o mesmo."
      ],
      "metadata": {
        "id": "x5er9vhr-pEA"
      }
    },
    {
      "cell_type": "code",
      "source": [
        "# a) ampliar: construir uma nova unidade maior \n",
        "#             executar um novo projeto de escala maior no qual se tem um novas variáveis\n",
        "#                      ou inovações ainda não conhecidas que precisam ser  \n",
        "#                      avaliadas ao longo da construção referente as melhor forma de \n",
        "#                      implementar o mesmo e validar seu funcionamento\n",
        "#    reduzir: otimizar um processo\n",
        "#             levantar dados de um processo para otimizar o mesmo\n",
        "#             estudo de um processo com economia de tempo e redução de custos\n",
        "#             avaliar situações que possam gerar danos ou problemas em escala maior mas podem\n",
        "#                       ser controlados ou ter danos reduzidos em escala menor\n",
        "# b) siginica que nas duas escalas haverá a mesma transferência gasosa ou seja os dois equipamentos \n",
        "#             funcionaram similares na transferência gasosa"
      ],
      "metadata": {
        "id": "k-a5tvmd-sJn"
      },
      "execution_count": 8,
      "outputs": []
    },
    {
      "cell_type": "markdown",
      "source": [
        "5)\tCaso necessite esterilizar 1000 m3 de meio em um temperatura máxima de até 145 0C com probabilidade de falha de 10% ou inferior em um trocador de calor com tubo de espera com L=25 m e d=0.3 m, calcule para N0= 1000 células/mL , k = 3.73.10-4exp(0.08687.T) como k em min-1 e T em 0C.\n",
        "a) a quantidade deste volume que já terá sido esterilizada por minuto quando k =4min–1\n",
        "b) k pode ser aumentado ou diminuído alterando a temperatura, discuta qual o valor de k que garante a esterilização total dos 1000 m3 em 12 horas ou se não é possível fazer neste tempo toda esterilização.\n",
        "\n"
      ],
      "metadata": {
        "id": "7JnOIOl_Av8X"
      }
    },
    {
      "cell_type": "code",
      "source": [
        "Vol = 1000 # m3\n",
        "prob = 10 #%\n",
        "TC= 145 # celsius maximo\n",
        "L = 25 # m\n",
        "d = 0.3 # m\n",
        "N0 = 1000 # cel/ml\n",
        "k = 4 # min-1\n",
        "tempo = 12 # horas\n",
        "\n",
        "Total = N0*Vol*1e6 ; print('Total=%.2E'%Total)\n",
        "N_N0 = prob/(100*Total); print('N_N0= %.2E '%N_N0)\n",
        "theta = -1/k*np.log(N_N0);print('theta=',theta)\n",
        "U = L/(theta*60);print('U=',U)\n",
        "Area = np.pi*d**2/4;print('Area=',Area)\n",
        "Flow = Area*U;print('Flow (m3/min)=',Flow*60)\n",
        "\n",
        "tempo = tempo * 60 * 60 # segundos\n",
        "Flow = Vol/tempo; print('Flow processo (m3/s)=',Flow)\n",
        "U = Flow/Area; print('U(m/s)=',U)\n",
        "theta = L/U/60;print('theta(min)=',theta)\n",
        "k = -1/theta*np.log(N_N0);print('k=',k)\n",
        "TC = np.log(k/3.73e-4 ) / 0.08687; print('TC=',TC) # k =3.73e-4*np.exp(0.08687*TC)\n",
        "print('como TC encontrado (%.2F celcius) eh menor que 145 celsius ele consegue atender'%TC)"
      ],
      "metadata": {
        "colab": {
          "base_uri": "https://localhost:8080/"
        },
        "id": "l6aPRNmvAyJH",
        "outputId": "2fd3e466-2a2e-4121-a4c1-69ba3dcfcd63"
      },
      "execution_count": 9,
      "outputs": [
        {
          "output_type": "stream",
          "name": "stdout",
          "text": [
            "Total=1.00E+12\n",
            "N_N0= 1.00E-13 \n",
            "theta= 7.4834015522306485\n",
            "U= 0.05567877973118613\n",
            "Area= 0.07068583470577035\n",
            "Flow (m3/min)= 0.23614206124185713\n",
            "Flow processo (m3/s)= 0.023148148148148147\n",
            "U(m/s)= 0.32747930677344717\n",
            "theta(min)= 1.2723450247038663\n",
            "k= 23.52632786526558\n",
            "TC= 127.22519013533037\n",
            "como TC encontrado (127.23 celcius) eh menor que 145 celsius ele consegue atender\n"
          ]
        }
      ]
    },
    {
      "cell_type": "markdown",
      "source": [
        "5 B)\tCaso necessite esterilizar 1000 m3 de meio em um temperatura máxima de até 145 0C com probabilidade de falha de 10% ou inferior em um trocador de calor com tubo de espera com L=25 m e d=0.3 m, calcule para N0= 10000 células/mL , k = 3.73.10-4exp(0.08687.T) como k em min-1 e T em 0C.\n",
        "a) a quantidade deste volume que já terá sido esterilizada por minuto quando k =4min–1\n",
        "b) k pode ser aumentado ou diminuído alterando a temperatura, discuta qual o valor de k que garante a esterilização total dos 1000 m3 em 12 horas ou se não é possível fazer neste tempo toda esterilização.\n"
      ],
      "metadata": {
        "id": "BfWmiLQdHj4b"
      }
    },
    {
      "cell_type": "code",
      "source": [
        "Vol = 1000 # m3\n",
        "prob = 10 #%\n",
        "TC= 145 # celsius maximo\n",
        "L = 25 # m\n",
        "d = 0.3 # m\n",
        "N0 = 10000 # cel/ml\n",
        "k = 4 # min-1\n",
        "tempo = 12 # horas\n",
        "\n",
        "Total = N0*Vol*1e6 ; print('Total=%.2E'%Total)\n",
        "N_N0 = prob/(100*Total); print('N_N0= %.2E '%N_N0)\n",
        "theta = -1/k*np.log(N_N0);print('theta=',theta)\n",
        "U = L/(theta*60);print('U=',U)\n",
        "Area = np.pi*d**2/4;print('Area=',Area)\n",
        "Flow = Area*U;print('Flow (m3/min)=',Flow*60)\n",
        "\n",
        "tempo = tempo * 60 * 60 # segundos\n",
        "Flow = Vol/tempo; print('Flow processo (m3/s)=',Flow)\n",
        "U = Flow/Area; print('U(m/s)=',U)\n",
        "theta = L/U/60;print('theta(min)=',theta)\n",
        "k = -1/theta*np.log(N_N0);print('k=',k)\n",
        "TC = np.log(k/3.73e-4 ) / 0.08687; print('TC=',TC) # k =3.73e-4*np.exp(0.08687*TC)\n",
        "print('como TC encontrado (%.2F celcius) eh menor que 145 celsius ele consegue atender'%TC)"
      ],
      "metadata": {
        "colab": {
          "base_uri": "https://localhost:8080/"
        },
        "id": "dNM3_4jWHjSt",
        "outputId": "accbff40-f6fa-46f4-e733-444921224528"
      },
      "execution_count": 10,
      "outputs": [
        {
          "output_type": "stream",
          "name": "stdout",
          "text": [
            "Total=1.00E+13\n",
            "N_N0= 1.00E-14 \n",
            "theta= 8.05904782547916\n",
            "U= 0.051701724036101404\n",
            "Area= 0.07068583470577035\n",
            "Flow (m3/min)= 0.21927477115315308\n",
            "Flow processo (m3/s)= 0.023148148148148147\n",
            "U(m/s)= 0.32747930677344717\n",
            "theta(min)= 1.2723450247038663\n",
            "k= 25.336045393362934\n",
            "TC= 128.07828064015044\n",
            "como TC encontrado (128.08 celcius) eh menor que 145 celsius ele consegue atender\n"
          ]
        }
      ]
    }
  ]
}