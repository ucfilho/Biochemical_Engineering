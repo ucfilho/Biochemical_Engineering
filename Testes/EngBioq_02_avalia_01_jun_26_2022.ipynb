{
  "nbformat": 4,
  "nbformat_minor": 0,
  "metadata": {
    "colab": {
      "name": "EngBioq_02_avalia_01_jun_26_2022.ipynb",
      "provenance": [],
      "authorship_tag": "ABX9TyOv6nTKihUdLnd/TcmSSXjT",
      "include_colab_link": true
    },
    "kernelspec": {
      "name": "python3",
      "display_name": "Python 3"
    },
    "language_info": {
      "name": "python"
    }
  },
  "cells": [
    {
      "cell_type": "markdown",
      "metadata": {
        "id": "view-in-github",
        "colab_type": "text"
      },
      "source": [
        "<a href=\"https://colab.research.google.com/github/ucfilho/Biochemical_Engineering/blob/master/Testes/EngBioq_02_avalia_01_jun_26_2022.ipynb\" target=\"_parent\"><img src=\"https://colab.research.google.com/assets/colab-badge.svg\" alt=\"Open In Colab\"/></a>"
      ]
    },
    {
      "cell_type": "code",
      "source": [
        "import numpy as np"
      ],
      "metadata": {
        "id": "YxDffS4lvzZg"
      },
      "execution_count": null,
      "outputs": []
    },
    {
      "cell_type": "markdown",
      "source": [
        "Questão 01-Referente a esterilização com o uso de um trocador de calor de placas de meio de cultura que contém 1000 células/mL com volume de 1200 m3 , pede-se:   \n",
        "\n",
        "a) qual a maior vazão de meio estéril o trocador de calor que tem 30m de comprimento de tubo de espera é capaz de esterilizar  com probabilidade de falha de 10%.  \n",
        "\n",
        "b) caso o tubo de espera seja substitudio por outro de 50m qual a nova probabilidade e falha se todas demais variaveis forem as mesmas? \n",
        "\n",
        "Considere: a constante cinetica de morte celular vale   8 min-1 , ρ = 1200 kg/m3 e µ= 0.001 Pa.s "
      ],
      "metadata": {
        "id": "zpNJDQGRc5rZ"
      }
    },
    {
      "cell_type": "code",
      "source": [
        "Vol = 1200\n",
        "N0 = 1000\n",
        "Total = N0*Vol*1e6\n",
        "prob = 10\n",
        "N_N0= prob/(100*Total)\n",
        "k = 8\n",
        "L =30\n",
        "theta = 1/k*np.log(1/N_N0);print('theta',theta,'min')\n",
        "U = L/(60*theta);print('u=',U,'m/s')\n",
        "d=0.3\n",
        "A=np.pi*d**2/4\n",
        "flow = U*A; print('flow=',flow,'m3/s');print('flow=',flow*24*60*60,'m3/dia')\n",
        "L=50\n",
        "theta= L/U/60 # min\n",
        "print('theta=',theta,'min')\n",
        "N_N0 = np.exp(-k*theta);print('N_N0=',N_N0)\n",
        "prob = N_N0*100*Total;print('prob new=',prob)"
      ],
      "metadata": {
        "colab": {
          "base_uri": "https://localhost:8080/"
        },
        "id": "moMrhxWXc40Z",
        "outputId": "823d5fbf-29bc-4e1e-bd30-e27318eb9e29"
      },
      "execution_count": null,
      "outputs": [
        {
          "output_type": "stream",
          "name": "stdout",
          "text": [
            "theta 3.7644909707145686 min\n",
            "u= 0.13282008215445154 m/s\n",
            "flow= 0.0093884983727764 m3/s\n",
            "flow= 811.166259407881 m3/dia\n",
            "theta= 6.274151617857614 min\n",
            "N_N0= 1.5898808924351895e-22\n",
            "prob new= 1.9078570709222275e-08\n"
          ]
        }
      ]
    },
    {
      "cell_type": "markdown",
      "source": [
        "Questão 02-Discuta se um motor de 600 HP com torque 15000 N.m pode ser utilizado para agitar o fluido em um reator de 600 m3 de forma vigorosa (Pot/Vol de 0.6 a 1.0 HP/m3) com um gasto de energia eletrica mensal inferior a R\\$ 80000,00. Considere agitador do tipo 3PBT45 (Np= 1.27), fs = 1.4,  ρ = 1200 kg/m3 e µ= 0.001 Pa.s, R\\$0.30 por kWh. "
      ],
      "metadata": {
        "id": "H1-hLBaoe1lG"
      }
    },
    {
      "cell_type": "code",
      "source": [
        "HP = 600\n",
        "Vol = 600\n",
        "fs = 1.4\n",
        "ro = 1200\n",
        "Np =1.27\n",
        "Pot_vol = 0.6\n",
        "Pot = Vol* Pot_vol * 745.7; print('Pot=',Pot,'W')\n",
        "d = (4*Vol/np.pi)**(1/3);di=d/3; print('d=',d,'m');print('di=',di,'m')\n",
        "Nrps = (Np*ro*di**5/Pot)**(1/3);print('Nrps=',Nrps)\n",
        "Torque = Pot/(2*np.pi*Nrps);print('Torque=',Torque)\n",
        "I = 1750/(Nrps*60)\n",
        "Tmot = Torque/(fs*I);print('Tmot=',Tmot)\n",
        "Tempo = 30*24*60*60\n",
        "Gasto = Pot*Tempo*0.30/3600000;print('Gasto',Gasto)"
      ],
      "metadata": {
        "colab": {
          "base_uri": "https://localhost:8080/"
        },
        "id": "fJ-YhfslfOe3",
        "outputId": "a420af90-d2b2-4919-e1b4-849c0a334a01"
      },
      "execution_count": null,
      "outputs": [
        {
          "output_type": "stream",
          "name": "stdout",
          "text": [
            "Pot= 268452.0 W\n",
            "d= 9.141562994681664 m\n",
            "di= 3.047187664893888 m\n",
            "Nrps= 1.1425400794856397\n",
            "Torque= 37395.15448958261\n",
            "Tmot= 1046.3378640711546\n",
            "Gasto 57985.632\n"
          ]
        }
      ]
    },
    {
      "cell_type": "markdown",
      "source": [
        "Questão 03-Considere que um dado reator arlift tem  kLa = 14.32Vs^0.84  representando seu coeficiente de transferência de oxigênio em h-1 sendo Vs a velocidade superficial do gas no meio em m/h .  Pede-se:  \n",
        "\n",
        "a) considerando que o esta equação descreve corretamento o valor de kLa  em diferentes volumes de reatores, calcule a vazão de gas (expressa em VVM) para reator de 500m3  que mantém a mesma transferência de oxigênio de um reator  de 20 litros que opera a 1.0 VVM para situação na qual os reatores tem altura corresponde a 10 vezes o diâmetro  \n",
        "\n",
        "b) explique o que vem a ser kLa em termos das bolhas de gas que sobem durante a transferência  gasosa e em termos dos fenômenos que ocorrem nesta transferência gasosa. \n",
        "\n",
        "c) calcule a LRV do filtro que garante a fermentação funcionando por 3 semanas sem a entrada de esporos para N0= 1000 esporos/m3 "
      ],
      "metadata": {
        "id": "MQQmpqz_igNo"
      }
    },
    {
      "cell_type": "code",
      "execution_count": null,
      "metadata": {
        "colab": {
          "base_uri": "https://localhost:8080/"
        },
        "id": "swoDjawQkhLO",
        "outputId": "8adca398-6169-4a2a-c28c-1b545507d0d9"
      },
      "outputs": [
        {
          "output_type": "stream",
          "name": "stdout",
          "text": [
            "V1= 0.014\n",
            "d1= 0.12124934041809002 m\n",
            "A1= 0.011546454563567461\n",
            "vs1= 72.749604250854\n",
            "kla1= 481.55305101326326\n",
            "d2= 3.99294542465508 m\n",
            "h2= 39.929454246550804 m\n",
            "VVM2= 0.030365889718756624\n",
            "LRV2= 8.661937801612595\n"
          ]
        }
      ],
      "source": [
        "VVM1 = 1.0*60\n",
        "V1= 14/1000 # m3\n",
        "#V1 = np.pi*d1**3/4*10\n",
        "print('V1=',V1)\n",
        "d1 = (4*V1/np.pi/10)**(1/3);print('d1=',d1,'m')\n",
        "A1 = np.pi*d1**2/4;print('A1=',A1)\n",
        "vs1 = V1*VVM1/A1; print('vs1=',vs1)\n",
        "kla1=14.32*vs1**0.82;print('kla1=',kla1)\n",
        "V2 = 500\n",
        "d2 =(4*V2/np.pi/10)**(1/3);print('d2=',d2,'m')\n",
        "h2 = 10*d2;print('h2=',h2,'m')\n",
        "vs2 = vs1\n",
        "VVM2 = vs2/(h2*60);print('VVM2=',VVM2)\n",
        "N0 = 1000\n",
        "Tempo = 3*7*24*60\n",
        "Entra = N0*V2*VVM2*Tempo\n",
        "Sai = 1\n",
        "LRV2 = np.log10(Entra/Sai);print('LRV2=',LRV2)"
      ]
    },
    {
      "cell_type": "code",
      "source": [
        "Nrps = 1.0\n",
        "fs = 1.4\n",
        "Vol =500 #m3\n",
        "d = (4*Vol/np.pi)**(1/3)\n",
        "ro = 1200\n",
        "di = d/3\n",
        "Np = 1.27\n",
        "Nq = 1.2\n",
        "Pot = Np*ro*di**5*Nrps**3; print('Pot=',Pot)\n",
        "HP = Pot/745.6;print('HP=',HP*fs)\n",
        "Torque = Pot/2*np.pi*Nrps;print('Torque=',Torque)\n",
        "I = 1750/(Nrps*60)\n",
        "Tmot = Torque/(I*fs);print('Tmot=',Tmot)\n",
        "Tempo = 30 # 30 dias (um mes)\n",
        "Custo = 0.31/3600000\n",
        "Tempo = Tempo*24*60*60\n",
        "HP_vol = HP/Vol;print('HP/Vol=',HP_vol)\n",
        "Gasto = Tempo*Pot*Custo; print( 'Energia (R$/mes)',Gasto)"
      ],
      "metadata": {
        "colab": {
          "base_uri": "https://localhost:8080/"
        },
        "id": "QuDLaDrpHXXU",
        "outputId": "2f154761-c96a-41f0-83bb-a6ebc36dc2b1"
      },
      "execution_count": null,
      "outputs": [
        {
          "output_type": "stream",
          "name": "stdout",
          "text": [
            "Pot= 295469.2104742856\n",
            "HP= 554.7973372639483\n",
            "Torque= 464121.950493996\n",
            "Tmot= 11366.251848832553\n",
            "HP/Vol= 0.7925676246627833\n",
            "Energia (R$/mes) 65948.72777786055\n"
          ]
        }
      ]
    }
  ]
}