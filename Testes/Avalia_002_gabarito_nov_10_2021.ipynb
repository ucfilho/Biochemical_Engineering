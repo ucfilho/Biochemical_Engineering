{
  "nbformat": 4,
  "nbformat_minor": 0,
  "metadata": {
    "colab": {
      "name": "Avalia_002_gabarito_nov_10_2021.ipynb",
      "provenance": [],
      "authorship_tag": "ABX9TyPYuvxEuStORZ+1JEWrvgqo",
      "include_colab_link": true
    },
    "kernelspec": {
      "name": "python3",
      "display_name": "Python 3"
    },
    "language_info": {
      "name": "python"
    }
  },
  "cells": [
    {
      "cell_type": "markdown",
      "metadata": {
        "id": "view-in-github",
        "colab_type": "text"
      },
      "source": [
        "<a href=\"https://colab.research.google.com/github/ucfilho/Biochemical_Engineering/blob/master/Testes/Avalia_002_gabarito_nov_10_2021.ipynb\" target=\"_parent\"><img src=\"https://colab.research.google.com/assets/colab-badge.svg\" alt=\"Open In Colab\"/></a>"
      ]
    },
    {
      "cell_type": "code",
      "metadata": {
        "id": "WNmtsuaDJ_Aa"
      },
      "source": [
        "import numpy as np"
      ],
      "execution_count": 12,
      "outputs": []
    },
    {
      "cell_type": "markdown",
      "metadata": {
        "id": "ziN1x-bKAqBS"
      },
      "source": [
        "Questão 1 Referente a cerveja e etanol combustível\n",
        "</br>\n",
        "a) exemplifique o uso de filtração da cerveja (discuta os tipos de filtração usadas, equipamentos e\n",
        "finalidades)\n",
        "</br>\n",
        "b) exemplifique como se separa as leveduras na cerveja e etanol combustível"
      ]
    },
    {
      "cell_type": "code",
      "metadata": {
        "id": "VpEZE6nIAQ1g"
      },
      "source": [
        "# a)Filtracao que separa o material solido do mosto apos a mosturacao em \n",
        "#     em filtros ditos lauter que consiste a etapa de lautericao. O filtro \n",
        "#     do tipo lauter corresponde a uma filtracao grosseira que utiliza as \n",
        "#     proprias cascas e retem parte dos graos que nao foram triturados em \n",
        "#     dimensoes reduzidas\n",
        "#   Filtracao da cerveja em filtros prensa e filtros do tipo folha com\n",
        "#     terra de diatomacia. No caso da filtracao em filtro prensa material \n",
        "#     com meio filtrante do materialpolimerico (ex poli-vinil-poli-pirrolidona)\n",
        "#     retem fragmentos de leveduras e material em suspesao para clarificar\n",
        "#     a cerveja. Na filtracao com terra de diatomacia tem-se que a terra de \n",
        "#     diatomacia (material a base de silica de origem de algas marinhas)\n",
        "#     representa o meio filtrante que forma uma torta no filtro que retem\n",
        "#     o material solido no processo de clarificacao da cerveja\n",
        "# b) Utiliza-se centrifuga de discos com rotacao de 3500 rpm     "
      ],
      "execution_count": 13,
      "outputs": []
    },
    {
      "cell_type": "markdown",
      "metadata": {
        "id": "eXS1BHPvInfM"
      },
      "source": [
        "**Questão 2** Considere a produção de etanol em seis dornas de com 9 metros de diâmetro e dimensões econômicas e funcionais. Calcule a produção de etanol diária em termos e álcool anidro, área\n",
        "plantada da safra e descarte de vinhaça diário e discuta qual a nova produção e nova necessidade\n",
        "de área plantada caso a empresa adquira duas novas dornas de 10 m de diâmetro e passe usar as\n",
        "oitos dornas para produzir etanol."
      ]
    },
    {
      "cell_type": "code",
      "metadata": {
        "colab": {
          "base_uri": "https://localhost:8080/"
        },
        "id": "8ctFuRPfItt5",
        "outputId": "2c203abb-93a4-4073-8f81-019c3ef27e08"
      },
      "source": [
        "Fator = 1.0 # caso nao encher toda dorna use Fator < 1.0\n",
        "Ton_Area = 80 # ton/ha\n",
        "Litro_ton = 82.3 # litro/ton (anidro)\n",
        "Vinhaca = 12 # litros vinhaca/litro etanol\n",
        "Safra = 220 # dias\n",
        "Num = 6 # Num de dornas\n",
        "D = 9.0 # metros\n",
        "Conc = 85 # g/L\n",
        "ro = 780 # kg/m3 densidade\n",
        "Lotes = 2 # lotes/dia\n",
        "Vol = np.pi*D**3/4.0 * Fator\n",
        "Etanol_ciclo = Vol *  Conc * 1/ro* Num # Etanol = Vol* 1000 * Conc /1000 * 1/ro\n",
        "Etanol_dia = Etanol_ciclo * Lotes ; \n",
        "Etanol_safra = Etanol_dia * Safra\n",
        "Area = Etanol_safra * 1000 * 1/Litro_ton * 1/Ton_Area \n",
        "Vinhaca_dia = Etanol_dia * Vinhaca\n",
        "print('Etanol (m3/dia)=',Etanol_dia)\n",
        "print('Vinhaca (m3/dia)=',Vinhaca_dia)\n",
        "print('Area (ha/Safra)=',Area)"
      ],
      "execution_count": 14,
      "outputs": [
        {
          "output_type": "stream",
          "name": "stdout",
          "text": [
            "Etanol (m3/dia)= 748.7261106911212\n",
            "Vinhaca (m3/dia)= 8984.713328293456\n",
            "Area (ha/Safra)= 25018.187173761646\n"
          ]
        }
      ]
    },
    {
      "cell_type": "code",
      "metadata": {
        "colab": {
          "base_uri": "https://localhost:8080/"
        },
        "id": "nTCFvHE8Kuzp",
        "outputId": "66eafdef-f8f7-4c5d-be7d-58ea0033ffd8"
      },
      "source": [
        "Num_nova = 2 # Num de dornas\n",
        "D_nova = 10.0 # metros\n",
        "Vol = np.pi*D_nova**3/4.0 * Fator\n",
        "Etanol_ciclo_nova = Vol *  Conc * 1/ro* Num_nova # Etanol = Vol* 1000 * Conc /1000 * 1/ro\n",
        "Etanol_dia_nova = Etanol_ciclo_nova * Lotes ; \n",
        "Etanol_safra_nova = Etanol_dia_nova * Safra\n",
        "Area_nova = Etanol_safra_nova * 1000 * 1/Litro_ton * 1/Ton_Area \n",
        "Vinhaca_dia_nova = Etanol_dia_nova * Vinhaca\n",
        "print('Etanol (m3/dia)=',Etanol_dia_nova)\n",
        "print('Vinhaca (m3/dia)=',Vinhaca_dia_nova)\n",
        "print('Area (ha/Safra)=',Area_nova)"
      ],
      "execution_count": 15,
      "outputs": [
        {
          "output_type": "stream",
          "name": "stdout",
          "text": [
            "Etanol (m3/dia)= 342.3530455835031\n",
            "Vinhaca (m3/dia)= 4108.236547002038\n",
            "Area (ha/Safra)= 11439.500308075743\n"
          ]
        }
      ]
    },
    {
      "cell_type": "code",
      "metadata": {
        "colab": {
          "base_uri": "https://localhost:8080/"
        },
        "id": "qHb1NnKXKvi9",
        "outputId": "66d870e6-f148-43ce-f68c-0e4852c0c617"
      },
      "source": [
        "print('Etanol soma (m3/dia)=',Etanol_dia+ Etanol_dia_nova)\n",
        "print('Vinhaca soma(m3/dia)=',Vinhaca_dia+Vinhaca_dia_nova)\n",
        "print('Area soma (ha/Safra)=',Area+Area_nova)"
      ],
      "execution_count": 16,
      "outputs": [
        {
          "output_type": "stream",
          "name": "stdout",
          "text": [
            "Etanol soma (m3/dia)= 1091.0791562746244\n",
            "Vinhaca soma(m3/dia)= 13092.949875295493\n",
            "Area soma (ha/Safra)= 36457.68748183739\n"
          ]
        }
      ]
    },
    {
      "cell_type": "markdown",
      "metadata": {
        "id": "eQD1UjvjLKwD"
      },
      "source": [
        "**Questão 3** Discuta qual tamanho das dornas de fermentação necessário para produzir 25.000\n",
        "garrafas de cachaça de 700 mL por ano que são envelhecidas por um ano. Considere que serao feitas 10 fermentações por ano e que a empresa tem utiliza uma única dorna."
      ]
    },
    {
      "cell_type": "code",
      "metadata": {
        "id": "tY4ugsi3LR0E",
        "outputId": "68031497-56e1-4402-afde-65d580da2aef",
        "colab": {
          "base_uri": "https://localhost:8080/"
        }
      },
      "source": [
        "Lotes_mes = 10\n",
        "Garrafa_safra = 25000 \n",
        "Garrafa_vol = 700/1000 # litros\n",
        "Mosto = 6.83 # hL de mosto/ hL de cachaca\n",
        "Mosto_Safra = Garrafa_safra * Garrafa_vol * Mosto\n",
        "Meses = 220/360* 12 # meses durante a safra\n",
        "Mosto_mes = Mosto_Safra / Meses \n",
        "Vol_lote = Mosto_mes / Lotes_mes\n",
        "print('Meses de safra', Meses)\n",
        "print('Mosto safra',Mosto_Safra, 'litros')\n",
        "print('Mosto mes',Mosto_mes, 'litros')\n",
        "print('Volume do lote',Vol_lote, 'litros')"
      ],
      "execution_count": 17,
      "outputs": [
        {
          "output_type": "stream",
          "name": "stdout",
          "text": [
            "Meses de safra 7.333333333333334\n",
            "Mosto safra 119525.0 litros\n",
            "Mosto mes 16298.863636363634 litros\n",
            "Volume do lote 1629.8863636363635 litros\n"
          ]
        }
      ]
    },
    {
      "cell_type": "markdown",
      "metadata": {
        "id": "yp4LdY9bPqIE"
      },
      "source": [
        "**Questão 4** Na produção de etanol da cana escolha quatro entre os equipamentos ou insumos\n",
        "abaixos explique o qual o uso dos equipamentos ou insumos na usina e que tipo de controle é feito\n",
        "nos equipamentos em questão ou nos equipamentos que recebe os insumos escolhidos. </br>\n",
        "a) ternos </br>\n",
        "b) difusores </br>\n",
        "c) trocadores de calor de placas </br>\n",
        "d) evaporador múltiplo efeito </br>\n",
        "e) vapor (cite pelo menos dois usos do mesmo) </br>\n",
        "f) ácido sulfúrico"
      ]
    },
    {
      "cell_type": "code",
      "metadata": {
        "id": "SPtzHnzqPpp_"
      },
      "source": [
        "#  a) ternos: relacao agua cana para manter o brix\n",
        "#  b) difusores: temperatura da agua e relacao agua cana para manter o brix\n",
        "#  c) trocadores de calor: uso na esterilizacao do mosto \n",
        "#  d) evaporadores: concentracao do caldo \n",
        "#  e) vapor: destilacao e geracao de energia\n",
        "#  f) acido sulfurico: tratamento das celulas de levedura para reduzir a \n",
        "#                      contaminacao"
      ],
      "execution_count": null,
      "outputs": []
    }
  ]
}