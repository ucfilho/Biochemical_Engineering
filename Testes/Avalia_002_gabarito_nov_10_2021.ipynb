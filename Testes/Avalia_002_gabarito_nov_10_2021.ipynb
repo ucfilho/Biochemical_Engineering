{
  "nbformat": 4,
  "nbformat_minor": 0,
  "metadata": {
    "colab": {
      "name": "Avalia_002_gabarito_nov_10_2021.ipynb",
      "provenance": [],
      "authorship_tag": "ABX9TyPQw27GESJSA/BJFdw2gpII",
      "include_colab_link": true
    },
    "kernelspec": {
      "name": "python3",
      "display_name": "Python 3"
    },
    "language_info": {
      "name": "python"
    }
  },
  "cells": [
    {
      "cell_type": "markdown",
      "metadata": {
        "id": "view-in-github",
        "colab_type": "text"
      },
      "source": [
        "<a href=\"https://colab.research.google.com/github/ucfilho/Biochemical_Engineering/blob/master/Testes/Avalia_002_gabarito_nov_10_2021.ipynb\" target=\"_parent\"><img src=\"https://colab.research.google.com/assets/colab-badge.svg\" alt=\"Open In Colab\"/></a>"
      ]
    },
    {
      "cell_type": "markdown",
      "metadata": {
        "id": "ziN1x-bKAqBS"
      },
      "source": [
        "Questão 1 Referente a ceveja e etanol combustível\n",
        "</br>\n",
        "a) exemplifique o uso de filtração da cerveja (discuta os tipos de filtração usadas, equipamentos e\n",
        "finalidades)\n",
        "</br>\n",
        "b) exemplifique como se separa as leveduras na cerveja e etanol combustível"
      ]
    },
    {
      "cell_type": "code",
      "metadata": {
        "id": "VpEZE6nIAQ1g"
      },
      "source": [
        "# a)Filtracao que separa o material solido do mosto apos a mosturacao em \n",
        "#     em filtros ditos lauter que consiste a etapa de lautericao. O filtro \n",
        "#     do tipo lauter corresponde a uma filtracao grosseira que utiliza as \n",
        "#     proprias cascas e retem parte dos graos que nao foram triturados em \n",
        "#     dimensoes reduzidas\n",
        "#   Filtracao da cerveja em filtros prensa e filtros do tipo folha com\n",
        "#     terra de diatomacia. No caso da filtracao em filtro prensa material \n",
        "#     com meio filtrante do materialpolimerico (ex poli-vinil-poli-pirrolidona)\n",
        "#     retem fragmentos de leveduras e material em suspesao para clarificar\n",
        "#     a cerveja. Na filtracao com terra de diatomacia tem-se que a terra de \n",
        "#     diatomacia (material a base de silica de origem de algas marinhas)\n",
        "#     representa o meio filtrante que forma uma torta no filtro que retem\n",
        "#     o material solido no processo de clarificacao da cerveja\n",
        "# b) Utiliza-se centrifuga de discos com rotacao de 3500 rpm     "
      ],
      "execution_count": null,
      "outputs": []
    }
  ]
}