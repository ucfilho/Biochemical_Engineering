{
  "nbformat": 4,
  "nbformat_minor": 0,
  "metadata": {
    "colab": {
      "name": "Avalia_01_fev_03_2022.ipynb",
      "provenance": [],
      "authorship_tag": "ABX9TyMMkL73HSBdrE2nRNrfPxGx",
      "include_colab_link": true
    },
    "kernelspec": {
      "name": "python3",
      "display_name": "Python 3"
    },
    "language_info": {
      "name": "python"
    }
  },
  "cells": [
    {
      "cell_type": "markdown",
      "metadata": {
        "id": "view-in-github",
        "colab_type": "text"
      },
      "source": [
        "<a href=\"https://colab.research.google.com/github/ucfilho/Biochemical_Engineering/blob/master/Testes/Avalia_01_fev_03_2022.ipynb\" target=\"_parent\"><img src=\"https://colab.research.google.com/assets/colab-badge.svg\" alt=\"Open In Colab\"/></a>"
      ]
    },
    {
      "cell_type": "code",
      "metadata": {
        "id": "2F6auqRbhlv7"
      },
      "source": [
        "import numpy as np"
      ],
      "execution_count": 1,
      "outputs": []
    },
    {
      "cell_type": "markdown",
      "metadata": {
        "id": "Em6Qsk30VXAD"
      },
      "source": [
        "Questão 1 Referente a esterilização destinada a fermentação pede-se:\n",
        "a) exemplifique por que a sanitizacao deve ser utilizada antes da esterilizacao dos fermentadores\n",
        "b) cite e explique pelo menos dois problemas que podem ocorrer caso a temperatura para atingir a a sobrevida necessaria seja muito elevada \n",
        "c) considerando o uso de filtros tanto no meio liquido quanto gasoso, explique se estes filtro sao do tipo tipo profundidade e superficie no caso do meio liquido e e no caso da esterilizacao do  ar que alimenta fermentadores com aeracao  "
      ]
    },
    {
      "cell_type": "code",
      "metadata": {
        "id": "hlU6hO67VWQD"
      },
      "source": [
        "# a) caso nao seja realizada a sanitizacao tem-se um efeito direto no aumento  \n",
        "# da concentracao de celulas no meio (No) e outros problemas como o fato das \n",
        "# inscrustacoes de material nao limpo oferecer protecao as celulas microbianas\n",
        "# o que reduz a acao do calor (atuam como uma camada isolante) e reduz a acao dos\n",
        "# agentes quimicos\n",
        "# b) gasto energetico maior que o necessario, degradacao do meio a ser esterilizado\n",
        "#    tornando o mesmo inviavel para fermentacao ou mesmo com propriedades indesejaveis \n",
        "#    que estarao presentes no produto final \n",
        "# c) os filtros de superficie sao usados tanto para meios liquidos quanto filtracao \n",
        "#    de gases, ja os meios liquidos utilizam filtros de superfície assim o ar que \n",
        "#    alimenta o fermentador pode ser esterilizado por filtro de superficie e profundidade\n",
        "#    e no meio liquido filtro de superficie (considerando a esterilizacao)\n"
      ],
      "execution_count": 2,
      "outputs": []
    },
    {
      "cell_type": "markdown",
      "metadata": {
        "id": "vsfIMotTdrWn"
      },
      "source": [
        "Questão 2 Uma fabrica em fase de projeto planeja ter dez fermentadores com motores de 300 HP que ja foram encomendados com agitadores do tipo 4PBT45. Considerando as restricoes descritas nos itens 1 a 3, discuta se um entre os reatores com volumes de 600 e 900 m3 serve e qual o torque que o motor dos reatores que melhor atendem devem ter.  Tambem discuta qual o valor que este produto deve ser vendido para atender as restricao 4.  Restricoes:\n",
        "1. Tempo de mistura maximo de 7 min\n",
        "2. Os fermentadores tem o maior volume possivel que o referido motor tem capacidade de operar\n",
        "3. Ter um gasto mensal de energia eletrica do motor inferior a $40/m3 \n",
        "4. o gasto com energia eletrica associada ao motor representar no maximo um terco do valor de venda do produto\n",
        "\n",
        "Considere que a  empresa paga 0.31 reais por\n",
        "kWh , o motor tem  fator de serviço de fs=1.4, a potencia transferida para o liquido corresponde a a maxima possivel (Pot = Pmotor/fs)  as propriedades do fluido sao (viscosidade e densidade) 0.003 Pa.s e 1200 kg/m3"
      ]
    },
    {
      "cell_type": "markdown",
      "metadata": {
        "id": "VqV0btr7sa4S"
      },
      "source": [
        "Motores Pot HP: 1/3,1/2,3/4,1 , 1 1/2,2 ,3 ,5,7 1\n",
        "2\n",
        ", 10, 15, 20, 30, 40, 50, 75, 100, 125, 200, 300, 350, 400, 450,\n",
        "500, 600, 700, 800, 900, 1000, 1250, 1500, 1750, 2000, 2250, 2500, 3000, 3500, 4000"
      ]
    },
    {
      "cell_type": "code",
      "metadata": {
        "colab": {
          "base_uri": "https://localhost:8080/"
        },
        "id": "hV2cYhxhdzHo",
        "outputId": "817ea2a9-c659-42a6-8b0e-f84e86d1da0f"
      },
      "source": [
        "Np = 1.27 # valor no livro da disciplina (pag 16)\n",
        "Nq =0.8\n",
        "ro = 1200; MI = 0.003 # densidade e viscosidade (kg/m3 e Pa.s)\n",
        "Pot = 300 # HP\n",
        "fs = 1.4\n",
        "HP = 745.7 # conversao para HP\n",
        "Pot = Pot * HP/fs\n",
        "for Vol in [600,900]:\n",
        "  print('===== Vol=',Vol,'======' )\n",
        "  d = (4*Vol/np.pi)**(1/3); print('d=',d,'m (diametro do fermentador)')\n",
        "  di = d/3 ; print('di=',di,'m (diametro do agitador)')\n",
        "  Nrps = (Pot /(Np*ro*di**5))**(1/3); print('Nrps=', Nrps)\n",
        "  Pot_Vol = Pot/(Vol*HP);print('Pot/Vol=',Pot_Vol,'HP/m3');\n",
        "  Re = ro*di**2*Nrps/MI; print('Re =',Re)\n",
        "  Torque = Pot /(2*np.pi*Nrps);print('Torque no eixo (N.m)',Torque)\n",
        "  RPM = Nrps*60\n",
        "  I = 1750/RPM\n",
        "  Tmotor = Torque/(I*fs); print('Torque motor (N.m)',Tmotor)\n",
        "  Vazao = Nq* di**3*Nrps\n",
        "  tm = 3* Vol/Vazao; print('tm =', tm/60,'min')\n",
        "  Tempo = 30 # 30 dias (um mes)\n",
        "  Tempo = Tempo*24*60*60\n",
        "  Custo = 0.31/3600000\n",
        "  Gasto = Tempo*Pot*Custo/Vol; print( 'Energia (R$/m3.mes)',Gasto)\n"
      ],
      "execution_count": 3,
      "outputs": [
        {
          "output_type": "stream",
          "name": "stdout",
          "text": [
            "===== Vol= 600 ======\n",
            "d= 9.141562994681664 m (diametro do fermentador)\n",
            "di= 3.047187664893888 m (diametro do agitador)\n",
            "Nrps= 0.7362502620027869\n",
            "Pot/Vol= 0.3571428571428572 HP/m3\n",
            "Re = 2734537.3329818016\n",
            "Torque no eixo (N.m) 34542.36201679821\n",
            "Torque motor (N.m) 622.8201571852113\n",
            "tm = 1.800147951225011 min\n",
            "Energia (R$/m3.mes) 59.44294285714287\n",
            "===== Vol= 900 ======\n",
            "d= 10.464477359210589 m (diametro do fermentador)\n",
            "di= 3.488159119736863 m (diametro do agitador)\n",
            "Nrps= 0.5877558834147637\n",
            "Pot/Vol= 0.2380952380952381 HP/m3\n",
            "Re = 2860550.059887103\n",
            "Torque no eixo (N.m) 43269.36369791509\n",
            "Torque motor (N.m) 622.8201571852113\n",
            "tm = 2.2549487604157643 min\n",
            "Energia (R$/m3.mes) 39.62862857142858\n"
          ]
        }
      ]
    },
    {
      "cell_type": "code",
      "source": [
        "Vol = 900\n",
        "d = (4*Vol/np.pi)**(1/3); print('d=',d,'m (diametro do fermentador)')\n",
        "di = d/3 ; print('di=',di,'m (diametro do agitador)')\n",
        "Nrps = (Pot /(Np*ro*di**5))**(1/3); print('Nrps=', Nrps)\n",
        "Tempo = 30 # 30 dias (um mes)\n",
        "Tempo = Tempo*24*60*60\n",
        "Custo = 0.31/3600000\n",
        "Gasto = Tempo*Pot*Custo/Vol; print( 'Energia (R$/m3.mes)',Gasto)\n",
        "Venda = Gasto*3\n",
        "print('Venda =',Venda,'$/m3.mes')\n",
        "print('Venda =',Venda*Vol,'$/mes')"
      ],
      "metadata": {
        "id": "7U6o_tuP8Mfo",
        "outputId": "dec6bc59-0516-46bd-89b3-412f0ec2498b",
        "colab": {
          "base_uri": "https://localhost:8080/"
        }
      },
      "execution_count": 4,
      "outputs": [
        {
          "output_type": "stream",
          "name": "stdout",
          "text": [
            "d= 10.464477359210589 m (diametro do fermentador)\n",
            "di= 3.488159119736863 m (diametro do agitador)\n",
            "Nrps= 0.5877558834147637\n",
            "Energia (R$/m3.mes) 39.62862857142858\n",
            "Venda = 118.88588571428573 $/m3.mes\n",
            "Venda = 106997.29714285716 $/mes\n"
          ]
        }
      ]
    },
    {
      "cell_type": "code",
      "source": [
        "# calculos: note que o reator de 900 m3 atende ao custo prosposto e 600 m3 nao atende\n",
        "# Torque motor (N.m) 622.8201571852113 (reator de 900 m3)\n",
        "# O conteudo de produto que sai do reator deve ser vendio a \n",
        "#  $ 118.89 para cada quantidade associada a um metro cubico deste produto ou \n",
        "#  (em termos de cada reator) a quantidade de produto que sai dele por mes dever ser\n",
        "# vendida por $106997.30 "
      ],
      "metadata": {
        "id": "0_g76AF-70ur"
      },
      "execution_count": 5,
      "outputs": []
    },
    {
      "cell_type": "markdown",
      "metadata": {
        "id": "SNq1fFHqwMG2"
      },
      "source": [
        "Um trocador de calor de placas utilizado na esterilização de um meio de cultura que está as\u0002sociado a um tubo de espera de 35m e diâmetro de 15 cm. Caso a constante cinética associada a morte celular\n",
        "seja expressa por k = A.exp(B ∗ T C) com k em min−1\n",
        ", TC em Celsius calcule a temperatura que garante\n",
        "uma probabilidade e falha de 10 em cem fermentações considerando fermentadores de 300 m3 caso o sistema\n",
        "opere a máxima vazão possível e discuta os itens que seguem.\n",
        "Itens a serem discutidos (além dos cálculos)\n",
        "item 1 : a probabilidade e falha se torna 1% se o meio for \u001cltrado ( \u001cltro com LRV=2) antes da esterização\n",
        "dimensionada\n",
        "item 2 : pode ser a\u001crmado que são esperadas o mesmo número de falhas 10 em cem fermentações con\u0002siderando apenas a mudanca dos reatores do volume de 300 m3 para 500 m3 associado ao cálculos para 300\n",
        "m3\n",
        "Dados: A= 0.000373 min−1\n",
        ", B=0.085875 Celsius−1\n",
        "Considere: a concentração de células inicial no meio vale 10000 cel/mL e o projeto deve respeitar velocidade\n",
        "do \u001duido entre os limites de 2 e 60 cm/s incluindo os extremos, sendo que a densidade e viscosidade do meio\n",
        "são de 1100 kg/m3 e 0.001 kg/m.s"
      ]
    },
    {
      "cell_type": "code",
      "metadata": {
        "colab": {
          "base_uri": "https://localhost:8080/"
        },
        "id": "mi7o7O1AwXMH",
        "outputId": "0bf71028-d6d4-43f1-d3a2-516f882a6abd"
      },
      "source": [
        "# item a\n",
        "L = 35 # metros\n",
        "d = 0.15 # metro\n",
        "N0 = 10000\n",
        "Vol = 300 # m3\n",
        "prob = 10\n",
        "U = 0.6 # m/s (maior velocidade para que se tenha a maior vazao)\n",
        "A= 0.000373 \n",
        "B=0.085875\n",
        "Total = N0*Vol*1e6\n",
        "N_N0 = prob/(100*Total) # prob/(100*Total)= N/N0\n",
        "print('===== item a:')\n",
        "print('N/N0=', N_N0 )\n",
        "Theta = L/U\n",
        "Theta = Theta/60 # convertendo para minutos\n",
        "k = -np.log(N_N0)/Theta # ln(N_N0) = -k*Theta\n",
        "print('k =', k,'min-1' )\n",
        "TC = np.log(k/A)/ B # k = A*exp(B*TC)\n",
        "print('TC=',TC,'celsius')\n",
        "print('===== item c:')\n",
        "N0 = 10000\n",
        "LRV = 2\n",
        "N0 = N0*10**(-LRV)\n",
        "Vol = 300 # m3\n",
        "Total = N0*Vol*1e6\n",
        "prob = N_N0 *(100*Total) # N_N0 = prob/(100*Total)\n",
        "print('prob=',prob)"
      ],
      "execution_count": 6,
      "outputs": [
        {
          "output_type": "stream",
          "name": "stdout",
          "text": [
            "===== item a:\n",
            "N/N0= 3.3333333333333334e-14\n",
            "k = 31.91885331180758 min-1\n",
            "TC= 132.25186592653552 celsius\n",
            "===== item c:\n",
            "prob= 0.1\n"
          ]
        }
      ]
    },
    {
      "cell_type": "code",
      "metadata": {
        "id": "G0tQQRFcM_5B"
      },
      "source": [
        "# Temperatura pedida 132.25 celsius\n",
        "# item 1: correto\n",
        "# item 2: falso porque o total de celulas aumeta assim a probabilidade de falha tambem aumenta\n",
        "#         Total = N0* Vol e prob = 100*Total* N/N0. A nova probabilidade de falha eh 1.67 vezes\n",
        "#         maior pois o volume aumenta 1.67 vezes (500/300) "
      ],
      "execution_count": 7,
      "outputs": []
    },
    {
      "cell_type": "markdown",
      "metadata": {
        "id": "m9104vyPNOZ5"
      },
      "source": [
        "Questão 4 Na mudança de escala de um reator de 1 L para 800 m3 diversos problemas de similaridade podem ocorrer discuta pelo menos tres problemas que podem, caso o projeto nao se faca a previsao destes problema no projeto,  tornar o reator de  maior escala inviavel.\n"
      ]
    },
    {
      "cell_type": "code",
      "metadata": {
        "id": "CkZf-OMuNUku"
      },
      "source": [
        "# problema 1: gasto energetico tornar muito caro o processo pois o gasto energetico relativo\n",
        "#             depende da potencia do motor dividio pelo pelo volume assim aumenta com a dimensao\n",
        "#             elevada a potencia ao cubo (este representa um fator economico)\n",
        "# problema 2: caso seja um sistema aerado a transferencia de oxigenio pode ser comprometida\n",
        "#             pois a reducao da rotacao para tornar o novo reator economico sem apropridadas\n",
        "#             mudancas na vazao de ar ou tipo de transferencia de ga por exemplo reduz o kla\n",
        "# problema 3: dependendo do sistema a turbulencia interna diferente (dada pelo numero de Re)\n",
        "#             pode gerar falhas no crescimento das celulas\n",
        "# problema 4: acao cisalhante das laminas do agitador nas celulas que aumenta com a velocidade\n",
        "#             terminal da lamina"
      ],
      "execution_count": 8,
      "outputs": []
    }
  ]
}