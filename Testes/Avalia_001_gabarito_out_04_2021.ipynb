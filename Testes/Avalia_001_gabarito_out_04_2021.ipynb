{
  "nbformat": 4,
  "nbformat_minor": 0,
  "metadata": {
    "colab": {
      "name": "Avalia_001_gabarito_out_04_2021.ipynb",
      "provenance": [],
      "authorship_tag": "ABX9TyNqjg2Kpv5FhHBtNnHMhL5M",
      "include_colab_link": true
    },
    "kernelspec": {
      "name": "python3",
      "display_name": "Python 3"
    },
    "language_info": {
      "name": "python"
    }
  },
  "cells": [
    {
      "cell_type": "markdown",
      "metadata": {
        "id": "view-in-github",
        "colab_type": "text"
      },
      "source": [
        "<a href=\"https://colab.research.google.com/github/ucfilho/Biochemical_Engineering/blob/master/Testes/Avalia_001_gabarito_out_04_2021.ipynb\" target=\"_parent\"><img src=\"https://colab.research.google.com/assets/colab-badge.svg\" alt=\"Open In Colab\"/></a>"
      ]
    },
    {
      "cell_type": "code",
      "metadata": {
        "id": "cIhMOVKRb25L"
      },
      "source": [
        "import numpy as np"
      ],
      "execution_count": 1,
      "outputs": []
    },
    {
      "cell_type": "markdown",
      "metadata": {
        "id": "AOAOGNOfYhaG"
      },
      "source": [
        "Questão 1 Referente a esterilização em de meios de cultura destinados a fermentação pede-se:\n",
        "a) discuta que a probabilidade de falha significa e explique porque quais fatores incluem na mesma\n",
        "quando se refere a esterilização do meio de cultura de um reator de 500 m3\n",
        "b) caso se tenha uma k =5 min−1 e faça a opção por uso de um trocador de calor de placas discuta\n",
        "se é possível obter 10% de falha considerando o projeto por intervalo das variáveis u, L, d com os\n",
        "valores usuais L ≤ 50 m, 0.02 ≤ u ≤ 0.6 m/s e 3 ≤ d ≤ 30 cm\n",
        "c) discuta qual o valor de k que garante 5% de falha para u =0.3 m/s\n",
        "d) embora seja mais usual a esterilização de meio líquido por trocador de calor tem situações que\n",
        "a filtração é possível. Caso seja este o caso calcule a LRV do filtro para meio líquido 5% de falha==================================================\n",
        "                 Obs: considere N0=104 cel/mL e faça demais considerações necessárias que não seja contraditória"
      ]
    },
    {
      "cell_type": "code",
      "metadata": {
        "id": "6rr8VHHlYaiS"
      },
      "source": [
        "# a) a esterilizacao representa um evento probabilistico ou seja existe uma incerteza se a mesma ocorreu\n",
        "#    teve sucesso ou nao. A probabilidade de falha representa uma medida desta incerteza e pode ser\n",
        "#    interpretada como quantas vezes vai falhar a esterilizacao em um certo numero de vezes que for repedida\n",
        "#    Na probabilidade de falha influi N0,o volume do meio e o nivel de esterilidade que se deseja (sobrevida)\n",
        "# b) sim e possivel basta ter L > 0.063 m, d=10cm e u =0.6 m/s (tambem pode-se obter com outros L,d, u ) \n",
        "# c) k = 1.111 min-1 garante quando L = 20 m para outros valores de L tem-se outros valores de k \n",
        "# d) LRV = 14"
      ],
      "execution_count": 2,
      "outputs": []
    },
    {
      "cell_type": "code",
      "metadata": {
        "colab": {
          "base_uri": "https://localhost:8080/"
        },
        "id": "ZV_4NXzbZ39_",
        "outputId": "05c40e43-d325-4358-9261-53cd31a28a53"
      },
      "source": [
        "k = 5 # min-1\n",
        "Vol = 500 # m3\n",
        "N0 = 10**4 # cel/mL\n",
        "u = 0.6\n",
        "prob = 10\n",
        "Total = N0*Vol*10**6\n",
        "print('item b======')\n",
        "N_N0 = prob/(100*Total);print('N/N0=',N_N0)\n",
        "theta = np.log(N_N0)/(-k); print('theta=',theta,'min')\n",
        "L = u*theta/60;print('L=',L,'m') # U = L/theta\n",
        "print('item c======')\n",
        "Vol = 500 # m3\n",
        "u =0.3 # m/s\n",
        "L = 20 # metros\n",
        "theta = L/u/60 # minutos\n",
        "N0 = 10**4 # cel/mL\n",
        "prob = 5\n",
        "Total = N0*Vol*10**6\n",
        "N_N0 = prob/(100*Total);print('N/N0=',N_N0)\n",
        "k = (-1)*np.log(N_N0)/theta; print('k=',theta,'min-1')\n",
        "print('item d======')\n",
        "Vol = 500 # m3\n",
        "N0 = 10**4 # cel/mL\n",
        "prob = 5\n",
        "Total = N0*Vol*10**6\n",
        "N_N0 = prob/(100*Total);print('N/N0=',N_N0)\n",
        "LRV = (-1)*np.log10(N_N0);print('LRV=',LRV)"
      ],
      "execution_count": 3,
      "outputs": [
        {
          "output_type": "stream",
          "name": "stdout",
          "text": [
            "item b======\n",
            "N/N0= 2e-14\n",
            "theta= 6.308608824271339 min\n",
            "L= 0.06308608824271339 m\n",
            "item c======\n",
            "N/N0= 1e-14\n",
            "k= 1.1111111111111112 min-1\n",
            "item d======\n",
            "N/N0= 1e-14\n",
            "LRV= 14.0\n"
          ]
        }
      ]
    },
    {
      "cell_type": "markdown",
      "metadata": {
        "id": "A24Lj5sGkHxh"
      },
      "source": [
        "Questão 2 Referente a mistura de um reator de 600 m3\n",
        "com um agitador do modelo 4PBT45\n",
        "pede-se:\n",
        "a) dimensione o sistema de agiatação que atende o projeto caso Pot/vol ≤ 1 HP/m3\n",
        ", Nrps ≥ 0.5\n",
        "e tempo de mistura inferior a 7 min.\n",
        "b) discuta qual a maior rotação o referido reator pode ser utilizado de forma a continuar atendendo\n",
        "as condições citadas\n",
        "c) explique se o referido reator com este agitador pode ser utilizado como um fermentador com\n",
        "aeração\n",
        "d) calcule o valor a ser pago em energia para o consumo energético associado ao item anterior para\n",
        "o custo de $ 0,30 por kWh\n",
        "Obs: considere que o fluido tem ρ = 1200 kg/m3\n",
        ", µ= 0.001 Pa.s e os valores de potência de motores\n",
        "padronizadas vistas\n"
      ]
    },
    {
      "cell_type": "code",
      "metadata": {
        "id": "A9us6OlMkVJy"
      },
      "source": [
        ""
      ],
      "execution_count": null,
      "outputs": []
    }
  ]
}