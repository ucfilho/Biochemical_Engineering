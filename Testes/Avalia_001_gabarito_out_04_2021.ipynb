{
  "nbformat": 4,
  "nbformat_minor": 0,
  "metadata": {
    "colab": {
      "name": "Avalia_001_gabarito_out_04_2021.ipynb",
      "provenance": [],
      "authorship_tag": "ABX9TyOI/DcModTeXHZpspHycrDR",
      "include_colab_link": true
    },
    "kernelspec": {
      "name": "python3",
      "display_name": "Python 3"
    },
    "language_info": {
      "name": "python"
    }
  },
  "cells": [
    {
      "cell_type": "markdown",
      "metadata": {
        "id": "view-in-github",
        "colab_type": "text"
      },
      "source": [
        "<a href=\"https://colab.research.google.com/github/ucfilho/Biochemical_Engineering/blob/master/Testes/Avalia_001_gabarito_out_04_2021.ipynb\" target=\"_parent\"><img src=\"https://colab.research.google.com/assets/colab-badge.svg\" alt=\"Open In Colab\"/></a>"
      ]
    },
    {
      "cell_type": "code",
      "metadata": {
        "id": "cIhMOVKRb25L"
      },
      "source": [
        "import numpy as np"
      ],
      "execution_count": null,
      "outputs": []
    },
    {
      "cell_type": "markdown",
      "metadata": {
        "id": "AOAOGNOfYhaG"
      },
      "source": [
        "Questão 1 Referente a esterilização em de meios de cultura destinados a fermentação pede-se:\n",
        "a) discuta que a probabilidade de falha significa e explique porque quais fatores incluem na mesma\n",
        "quando se refere a esterilização do meio de cultura de um reator de 500 m3\n",
        "b) caso se tenha uma k =5 min−1 e faça a opção por uso de um trocador de calor de placas discuta\n",
        "se é possível obter 10% de falha considerando o projeto por intervalo das variáveis u, L, d com os\n",
        "valores usuais L ≤ 50 m, 0.02 ≤ u ≤ 0.6 m/s e 3 ≤ d ≤ 30 cm\n",
        "c) discuta qual o valor de k que garante 5% de falha para u =0.3 m/s\n",
        "d) embora seja mais usual a esterilização de meio líquido por trocador de calor tem situações que\n",
        "a filtração é possível. Caso seja este o caso calcule a LRV do filtro para meio líquido 5% de falha==================================================\n",
        "                 Obs: considere N0=104 cel/mL e faça demais considerações necessárias que não seja contraditória"
      ]
    },
    {
      "cell_type": "code",
      "metadata": {
        "id": "6rr8VHHlYaiS"
      },
      "source": [
        "# a) a esterilizacao representa um evento probabilistico ou seja existe uma incerteza se a mesma ocorreu\n",
        "#    teve sucesso ou nao. A probabilidade de falha representa uma medida desta incerteza e pode ser\n",
        "#    interpretada como quantas vezes vai falhar a esterilizacao em um certo numero de vezes que for repedida\n",
        "#    Na probabilidade de falha influi N0,o volume do meio e o nivel de esterilidade que se deseja (sobrevida)\n",
        "# b) sim e possivel basta ter L > 0.063 m, d=10cm e u =0.6 m/s (tambem pode-se obter com outros L,d, u ) \n",
        "# c) k = 1.111 min-1 garante quando L = 20 m para outros valores de L tem-se outros valores de k \n",
        "# d) LRV = 14"
      ],
      "execution_count": null,
      "outputs": []
    },
    {
      "cell_type": "code",
      "metadata": {
        "colab": {
          "base_uri": "https://localhost:8080/"
        },
        "id": "ZV_4NXzbZ39_",
        "outputId": "48433f51-1dc9-4762-ee28-a8124d891a5e"
      },
      "source": [
        "k = 5 # min-1\n",
        "Vol = 500 # m3\n",
        "N0 = 10**4 # cel/mL\n",
        "u = 0.6\n",
        "prob = 10\n",
        "Total = N0*Vol*10**6\n",
        "print('item b======')\n",
        "N_N0 = prob/(100*Total);print('N/N0=',N_N0)\n",
        "theta = np.log(N_N0)/(-k); print('theta=',theta,'min')\n",
        "L = u*theta/60;print('L=',L,'m') # U = L/theta\n",
        "print('item c======')\n",
        "Vol = 500 # m3\n",
        "u =0.3 # m/s\n",
        "L = 20 # metros\n",
        "theta = L/u/60 # minutos\n",
        "N0 = 10**4 # cel/mL\n",
        "prob = 5\n",
        "Total = N0*Vol*10**6\n",
        "N_N0 = prob/(100*Total);print('N/N0=',N_N0)\n",
        "k = (-1)*np.log(N_N0)/theta; print('k=',theta,'min-1')\n",
        "print('item d======')\n",
        "Vol = 500 # m3\n",
        "N0 = 10**4 # cel/mL\n",
        "prob = 5\n",
        "Total = N0*Vol*10**6\n",
        "N_N0 = prob/(100*Total);print('N/N0=',N_N0)\n",
        "LRV = (-1)*np.log10(N_N0);print('LRV=',LRV)"
      ],
      "execution_count": null,
      "outputs": [
        {
          "output_type": "stream",
          "name": "stdout",
          "text": [
            "item b======\n",
            "N/N0= 2e-14\n",
            "theta= 6.308608824271339 min\n",
            "L= 0.06308608824271339 m\n",
            "item c======\n",
            "N/N0= 1e-14\n",
            "k= 1.1111111111111112 min-1\n",
            "item d======\n",
            "N/N0= 1e-14\n",
            "LRV= 14.0\n"
          ]
        }
      ]
    },
    {
      "cell_type": "markdown",
      "metadata": {
        "id": "A24Lj5sGkHxh"
      },
      "source": [
        "Questão 2 Referente a mistura de um reator de 600 m3\n",
        "com um agitador do modelo 4PBT45\n",
        "pede-se:\n",
        "a) dimensione o sistema de agiatação que atende o projeto caso Pot/vol ≤ 1 HP/m3\n",
        ", Nrps ≥ 0.5\n",
        "e tempo de mistura inferior a 7 min.\n",
        "b) discuta qual a maior rotação o referido reator pode ser utilizado de forma a continuar atendendo\n",
        "as condições citadas\n",
        "c) explique se o referido reator com este agitador pode ser utilizado como um fermentador com\n",
        "aeração\n",
        "d) calcule o valor a ser pago em energia para o consumo energético associado ao item anterior para\n",
        "o custo de $ 0,30 por kWh\n",
        "Obs: considere que o fluido tem ρ = 1200 kg/m3\n",
        ", µ= 0.001 Pa.s e os valores de potência de motores\n",
        "padronizadas vistas\n"
      ]
    },
    {
      "cell_type": "code",
      "metadata": {
        "colab": {
          "base_uri": "https://localhost:8080/"
        },
        "id": "A9us6OlMkVJy",
        "outputId": "56cf3f4f-faf6-42a1-e0ee-a6b9726e60c5"
      },
      "source": [
        "Np = 1.27\n",
        "Nq = 0.80\n",
        "mi = 0.001\n",
        "Vol = 600 # m3\n",
        "ro = 1200;\n",
        "Nrps = 0.5\n",
        "d = (4*Vol/np.pi)**(1/3);print('d=',d,'m')\n",
        "H = d; print('h=',H,'m')\n",
        "di = d/3;print('di=',di,'m')\n",
        "Re = ro*di**2*Nrps/mi;print('Re=',Re)\n",
        "Q = Nrps*di**3*Nq\n",
        "tm = 3* Vol/Q; print('tm=',tm/60,'min')\n",
        "Pot = Np*ro*di**5*Nrps**3;print('Pot=',Pot,'W')\n",
        "Pot_Vol = Pot/745.7/Vol; print('Pot/Vol=',Pot_Vol,'HP/m3')\n",
        "Time = 30*24*60*60; # segundos no mes\n",
        "Energy = Pot* Time / 3.6e+6 ; #kWh\n",
        "Custo = Energy * 0.30 ;  print('Custo ($/mes)=',Custo)"
      ],
      "execution_count": null,
      "outputs": [
        {
          "output_type": "stream",
          "name": "stdout",
          "text": [
            "d= 9.141562994681664 m\n",
            "h= 9.141562994681664 m\n",
            "di= 3.047187664893888 m\n",
            "Re= 5571211.59904888\n",
            "tm= 2.6507188014663887 min\n",
            "Pot= 50048.49104664022 W\n",
            "Pot/Vol= 0.11186020081051411 HP/m3\n",
            "Custo ($/mes)= 10810.474066074286\n"
          ]
        }
      ]
    },
    {
      "cell_type": "markdown",
      "metadata": {
        "id": "8uyj3zLCSn5w"
      },
      "source": [
        "Questão 3 Referente a agitação pede-se:\n",
        "a) cite duas razões porque nem sempre a agitação excessiva é desejável\n",
        "b) cite pelo menos três situações distintas que se usa agitação e mistura e explique a finalidade\n",
        "desta atividade (agitação e mistura) no processo industrial em questão\n",
        "c) por que a transferência gasosa reduz o consumo energético e porque fa transferência gasosa não\n",
        "é utilizada usualmente para reduzir o consumo energético"
      ]
    },
    {
      "cell_type": "code",
      "metadata": {
        "id": "ySmGXuRwSnbE"
      },
      "source": [
        "# a) gasto de energia, formacao de espuma em quantidade excessiva\n",
        "# b) transferencia de massa (exemplo gas para fase liquida), bombeamento, mistura de componentes, \n",
        "#     manter solidos em supensao\n",
        "# c) porque reduz a viscosidade e densidade aparente da mistura porque embora reduza  o consumo \n",
        "#      energetico do motor do agitador aumenta o consumo na compressao do gas"
      ],
      "execution_count": null,
      "outputs": []
    },
    {
      "cell_type": "markdown",
      "metadata": {
        "id": "9lQJzIugVIk8"
      },
      "source": [
        "Questão 4 Referente a esterilização pede-se:\n",
        "a) explique porque a sanitização deve se sempre realizada anates da esterilização\n",
        "b) explique que formas diferentes da esterilização térmica e por filltração são utilizadas nas indústrias\n",
        "c) descreva um exemplo de esterilização industrial apresentando detalhe de como é feito este processo"
      ]
    },
    {
      "cell_type": "code",
      "metadata": {
        "id": "AztSSG7NVdFZ"
      },
      "source": [
        "# a) evitar que o material aderido reduza o contado do calor ou agentes quimicos com os microrganismos\n",
        "#     reducao da carga microbiana total associada ao processo de sanitizacao\n",
        "# b) termica: calor seco e umido ---filtracao: filtro em profundidade e superficie\n",
        "# c) esterilizacao de meio de cultura: pode ser feito com a mistura do vapor e meio de cultura por um tubo \n",
        "#     em y seguido de um tudo be espera de dimensoes adequadas para garantir da sobrevida de interesse"
      ],
      "execution_count": null,
      "outputs": []
    }
  ]
}