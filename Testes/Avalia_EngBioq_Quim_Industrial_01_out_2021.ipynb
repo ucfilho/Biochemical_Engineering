{
  "nbformat": 4,
  "nbformat_minor": 0,
  "metadata": {
    "colab": {
      "name": "Avalia_EngBioq_Quim_Industrial_01_out_2021.ipynb",
      "provenance": [],
      "authorship_tag": "ABX9TyOSUUbsYSbkyu23t8ggdJX5",
      "include_colab_link": true
    },
    "kernelspec": {
      "name": "python3",
      "display_name": "Python 3"
    },
    "language_info": {
      "name": "python"
    }
  },
  "cells": [
    {
      "cell_type": "markdown",
      "metadata": {
        "id": "view-in-github",
        "colab_type": "text"
      },
      "source": [
        "<a href=\"https://colab.research.google.com/github/ucfilho/Biochemical_Engineering/blob/master/Testes/Avalia_EngBioq_Quim_Industrial_01_out_2021.ipynb\" target=\"_parent\"><img src=\"https://colab.research.google.com/assets/colab-badge.svg\" alt=\"Open In Colab\"/></a>"
      ]
    },
    {
      "cell_type": "code",
      "metadata": {
        "id": "nGt_gb9gfA7B"
      },
      "source": [
        "import numpy as np"
      ],
      "execution_count": null,
      "outputs": []
    },
    {
      "cell_type": "markdown",
      "metadata": {
        "id": "APL3lxY0Q5ow"
      },
      "source": [
        "Questão 1 Referente a purificação em de produtos gerados por fermentação pede-se:\n",
        "a) exemplifique o uso de solventes em processos biotecnológicos e explique porque etanol e acetona\n",
        "são muito usados nestes tipos de processo\n",
        "b) exemplifique o uso salting out em processos biotecnológicos\n",
        "c) exemplifique o uso sistemas bifásicos em processos biotecnológicos\n",
        "Obs: Cada exemplo deverá discutir o que ocorre durante o processo do ponto de vistas de transformações assim como apresentar detalhes da purifição por exemplo as etapas do processo de\n",
        "purificação"
      ]
    },
    {
      "cell_type": "code",
      "metadata": {
        "id": "izggBzEEQ4tu"
      },
      "source": [
        "# a) acetona e etanol são utilizados na purifição de enzimas na insolubilização das mesmas por conta da \n",
        "#    alteração da constante dielétrica do meio. A producao de bromelina utiliza este tipo de purifição e \n",
        "#    a razão destes solventes em particular serem muito utilizados decorre da facilidade de recuperacao \n",
        "#    dos mesmos por destilação pois possuem ponto de ebulição que favorece a recuperação com menor gasto de \n",
        "#    energia que outros solventes com maior ponto de ebulição necessitam.\n",
        "# b) puficação de enzimas representa o uso de salting out que tambem pode ser utilizado na purificacao de \n",
        "#    proteinas e acidos nucleicos. Durante o processo de salting out ocorre alteracao da forca ionica do \n",
        "#    meio o mesmo pode ser feito pela adicao progressiva de sal de forma a favorecer a separacao de diferentes\n",
        "#    enzimas, proteinas e acidos nucleicos que possuem diferentes solubilidades. Sais como NaCl e sulfato de amonio\n",
        "#    estao entre os tipos de sais mais utilizados\n",
        "# c) os sistemas bifasicos representam uso de mistura de solocoes capazes de gerar duas fases liquidas distintas\n",
        "#    acidos organicos com glicerol, solucoes de  citrato com solventes organicos sao capazes de gerar sistemas\n",
        "#    trifasico no qual proteinas tendem a se concentrar em uma das fases. O que ocorre do ponto de vista de gerar uma\n",
        "#    maior ou menor afinidade com uma das fases varia com o mistura em questao. Podendo ocorrer simultaneamente\n",
        "#    alteracoes de constante dieletrica,  forca ionica e mesmo ligacoes de hidrogenio. Um exemplo de sistema bifasio\n",
        "#    muito utilizado na puficacao de enzimas e PEG na qual duas fases liquidas sao geradas por ultracentrifugacao\n",
        "#    que favorece uma fase densa em PEG pela centrifucacao."
      ],
      "execution_count": null,
      "outputs": []
    },
    {
      "cell_type": "markdown",
      "metadata": {
        "id": "vaYJmnP5bmKn"
      },
      "source": [
        "Questão 2 Uma enzima apresenta Vm= 1 mol/L.min e Km=10 mol/L , pede-se:\n",
        "a) calcule o tempo necessário para hidrolisar 10 mol/L de substrato;\n",
        "b) caso a enzima custe $ 5,00 por litro e seja usada na concentração de 1 litro por reator de 10000\n",
        "litros calcule qual o valor a ser pago por mes com enzima\n",
        "Obs:no item b considere que o reator de 10000L deve ser limpo e adicionado soluções antes da\n",
        "reação e este processo demora 12h além do tempo da reação"
      ]
    },
    {
      "cell_type": "code",
      "metadata": {
        "id": "p4m-7zQAbsz5",
        "colab": {
          "base_uri": "https://localhost:8080/"
        },
        "outputId": "4af4eeaa-6fed-4307-fb8e-03db03c7753c"
      },
      "source": [
        "Vm = 1.0 # mol/L.min\n",
        "Km = 10 # g/L\n",
        "S0 = 10 # mol/L\n",
        "delta = 0.99\n",
        "tad = 12 # horas\n",
        "S = S0*(1-delta)\n",
        "t= ((S0-S)+Km*np.log(S0/S))/Vm\n",
        "t = t/60; print('t=',t)\n",
        "ciclo =t+tad\n",
        "custo_ciclo = 5.0\n",
        "ciclo_mes = 24*30/ciclo\n",
        "total = ciclo_mes * custo_ciclo\n",
        "print('total =',total)\n",
        "# item a tempo t= 55.95 min\n"
      ],
      "execution_count": null,
      "outputs": [
        {
          "output_type": "stream",
          "name": "stdout",
          "text": [
            "t= 0.9325283643313484\n",
            "total = 278.36784104251456\n"
          ]
        }
      ]
    },
    {
      "cell_type": "code",
      "metadata": {
        "id": "JcBqzaNkfxhz"
      },
      "source": [
        "# Questao 2: respostas\n",
        "# item a tempo t= 55.95 min\n",
        "#       t= ((S0-S)+Km*np.log(S0/S))/Vm com S0 = 10 e S=0.1 mol/L\n",
        "# item b total $ 278.36 por mes\n",
        "#     ciclo =t+tad com tad = 12h\n",
        "#     custo_ciclo = 5.0\n",
        "#     ciclo_mes = 24*30/ciclo\n",
        "#     total = ciclo_mes * custo_ciclo"
      ],
      "execution_count": null,
      "outputs": []
    },
    {
      "cell_type": "markdown",
      "metadata": {
        "id": "eeFK1lugpGNA"
      },
      "source": [
        "Questão 3 Referente ao modelo cinético de Michaelis Mentem pede-se:\n",
        "a) discuta se existe etapa de inibição neste modelo\n",
        "b) descreva se o referido modelo prevê a saturação da enzima com a concentração elevada do substrato\n",
        "c) Explique se valor elevado da constante Km favorece a reação ou tem efeito contrário a gerar\n",
        "dificuldades no processo."
      ]
    },
    {
      "cell_type": "code",
      "metadata": {
        "id": "LjP9kOClpFVM"
      },
      "source": [
        "# a) nao existe etapa de inibicao pois caso exitisse o aumento da concentracao geraria reducao de V \n",
        "#    o que nao ocorre\n",
        "# b) sim preve pois a concentracao da enzima e limitante assim satura como o aumento de S segundo a \n",
        "#    equacao E + S <=> ES\n",
        "# c) Km elevado gera dificuldades ao processo ou seja quanto maior o valor de Km menor a afinidade da \n",
        "#    enzima pelo substrato"
      ],
      "execution_count": null,
      "outputs": []
    },
    {
      "cell_type": "markdown",
      "metadata": {
        "id": "UBlcmfVMrYEZ"
      },
      "source": [
        "Questão 4 Referente a microbiologia discuta sobre:\n",
        "a) tamanho de células\n",
        "b) características da estrutura celular\n",
        "c) importância dos fungos e bactérias para biotecnologia industrial\n",
        "Obs: na discussão considere bactérias e fungos\n"
      ]
    },
    {
      "cell_type": "code",
      "metadata": {
        "id": "DQ7B3VuerafS"
      },
      "source": [
        "# a) tamanho bacterias superior a 0.2 micrometros, fungos superior a 0.45 micrometros, diferentes celulas \n",
        "#    possuem tamanhos especificos como Sacharomyces cerevisae que possui um tamanho medio de proximo a 7 micrometros\n",
        "#    mas o tamanho real varia com a temperatura, ja eritrocitos humanos tem 6–8 µm de diametro e espessura de 2 µm\n",
        "# b) caracteristica de bacteria incluem ausencia de nucleo, parede celular de celulose, dna cromossomico e plasmidico,\n",
        "#    presenca na forma unicelular\n",
        "#    caracteristicas de fungo nucleo, parede celular de quitina, dna cromossomico e organelas no citoplasma como \n",
        "#    mitocondrias\n",
        "# c) fontes de biomoleculas como combustiveis, enzimas, aminoacidos, acidos organicos, medicamentos, bioinceticias,\n",
        "#    drogas para o tratamento de diversas doencas como cancer, etc."
      ],
      "execution_count": null,
      "outputs": []
    },
    {
      "cell_type": "markdown",
      "metadata": {
        "id": "giHiruAxwhwp"
      },
      "source": [
        "Questão 5 Sobre a ruptura celular explique\n",
        "a) o motivo desta ruptura ter interesse na biotecnologia\n",
        "b) como pode ser feito esta ruptura (cite pelo menos três formas)\n",
        "c) exemplos de processos mecânicos e químicos (pelo menos um exemplo de cada tipo)"
      ]
    },
    {
      "cell_type": "code",
      "metadata": {
        "id": "Zl875vGuxnlB"
      },
      "source": [
        "# a) quando o produto encontra-se no interior das celulas torna-se necessario a ruptura como por exemplo\n",
        "#    producao de acido citrico de Aspergillus niger, enzimas de uso farmaceutico como L-asparaginase, etc.\n",
        "# b) Ruptura mecanica por acao de forca cizalhantes, ruptura por impactos mecanicos com esferas, ruptura quimica\n",
        "#    com uso de solventes como tetracloreto de carbono, ciclos de congelamento e descongelamento\n",
        "# c) Extracao de enzimas como "
      ],
      "execution_count": null,
      "outputs": []
    },
    {
      "cell_type": "markdown",
      "metadata": {
        "id": "4DSxUtFjypy0"
      },
      "source": [
        "Questão 6 Sobre biomoléculas pede-se\n",
        "a) cite dois exemplos que justificam o interesse de carboidratos em biotecnologia\n",
        "b) o que vem a ser a estrutura terciária de uma enzima\n",
        "c) defina atividade enzimática e explique porque a mesma é importante para avaliar enzimas como\n",
        "na pur\u001ccação e estabilidade"
      ]
    },
    {
      "cell_type": "code",
      "metadata": {
        "id": "BpPvGtCxLlrQ"
      },
      "source": [
        "# a) uso como fonte de carbono na nutricao de microorganismos, diversos deles tem valor \n",
        "#    comercial como produtos de alto valor agregado como frutooligossacarideos e celulose de uso biomedico,\n",
        "#    abundancia dos mesmos na natureza o que incentiva o uso dos mesmos em grande escala como bicombustiveis,\n",
        "#    materiais estruturais e fonte de alimento\n",
        "# b) Forma tridimensional que a enzima apresenta quando observada como um todo e nao somente determindadas \n",
        "#    partes de sua estrutura. Respresenta a forma que deve ser mantida para que a enzima seja funcional e \n",
        "#    encontre-se em uma forma ativa.\n",
        "# c) Atividade enzimatica representa uma medida da velociada da reacao catalisada pela enzima quando esta \n",
        "#    velocidade é avaliada em condicoes fixas de pH, temperatura, concentracao de substrato e demais fatores\n",
        "#    que influem na velocidade de reacao. A mesma tem importancia na purificacao e estabilidade pois ao final da \n",
        "#    purificacao a enzima deve conservar sua atividade e uma das formas de avaliar a estabilidade é conferir se \n",
        "#    a mesma mantém-se ativa. "
      ],
      "execution_count": null,
      "outputs": []
    }
  ]
}