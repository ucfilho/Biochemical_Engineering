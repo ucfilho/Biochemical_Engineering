{
  "nbformat": 4,
  "nbformat_minor": 0,
  "metadata": {
    "colab": {
      "name": "Avalia_EngBioq_Quim_Industrial_01_out_2021.ipynb",
      "provenance": [],
      "authorship_tag": "ABX9TyPdl4AJ+1FNw6wbBT5+mEMG",
      "include_colab_link": true
    },
    "kernelspec": {
      "name": "python3",
      "display_name": "Python 3"
    },
    "language_info": {
      "name": "python"
    }
  },
  "cells": [
    {
      "cell_type": "markdown",
      "metadata": {
        "id": "view-in-github",
        "colab_type": "text"
      },
      "source": [
        "<a href=\"https://colab.research.google.com/github/ucfilho/Biochemical_Engineering/blob/master/Testes/Avalia_EngBioq_Quim_Industrial_01_out_2021.ipynb\" target=\"_parent\"><img src=\"https://colab.research.google.com/assets/colab-badge.svg\" alt=\"Open In Colab\"/></a>"
      ]
    },
    {
      "cell_type": "markdown",
      "metadata": {
        "id": "APL3lxY0Q5ow"
      },
      "source": [
        "Questão 1 Referente a purificação em de produtos gerados por fermentação pede-se:\n",
        "a) exemplifique o uso de solventes em processos biotecnológicos e explique porque etanol e acetona\n",
        "são muito usados nestes tipos de processo\n",
        "b) exemplifique o uso salting out em processos biotecnológicos\n",
        "c) exemplifique o uso sistemas bifásicos em processos biotecnológicos\n",
        "Obs: Cada exemplo deverá discutir o que ocorre durante o processo do ponto de vistas de transformações assim como apresentar detalhes da purifição por exemplo as etapas do processo de\n",
        "purificação"
      ]
    },
    {
      "cell_type": "code",
      "metadata": {
        "id": "izggBzEEQ4tu"
      },
      "source": [
        "# a) acetona e etanol são utilizados na purifição de enzimas na insolubilização das mesmas por conta da \n",
        "#    alteração da constante dielétrica do meio. A producao de bromelina utiliza este tipo de purifição e \n",
        "#    a razão destes solventes em particular serem muito utilizados decorre da facilidade de recuperacao \n",
        "#    dos mesmos por destilação pois possuem ponto de ebulição que favorece a recuperação com menor gasto de \n",
        "#    energia que outros solventes com maior ponto de ebulição necessitam.\n",
        "# b) puficação de enzimas representa o uso de salting out que tambem pode ser utilizado na purificacao de \n",
        "#    proteinas e acidos nucleicos. Durante o processo de salting out ocorre alteracao da forca ionica do \n",
        "#    meio o mesmo pode ser feito pela adicao progressiva de sal de forma a favorecer a separacao de diferentes\n",
        "#    enzimas, proteinas e acidos nucleicos que possuem diferentes solubilidades. Sais como NaCl e sulfato de amonio\n",
        "#    estao entre os tipos de sais mais utilizados\n",
        "# c) os sistemas bifasicos representam uso de mistura de solocoes capazes de gerar duas fases liquidas distintas\n",
        "#    acidos organicos com glicerol, solucoes de  citrato com solventes organicos sao capazes de gerar sistemas\n",
        "#    trifasico no qual proteinas tendem a se concentrar em uma das fases. O que ocorre do ponto de vista de gerar uma\n",
        "#    maior ou menor afinidade com uma das fases varia com o mistura em questao. Podendo ocorrer simultaneamente\n",
        "#    alteracoes de constante dieletrica,  forca ionica e mesmo ligacoes de hidrogenio. Um exemplo de sistema bifasio\n",
        "#    muito utilizado na puficacao de enzimas e PEG na qual duas fases liquidas sao geradas por ultracentrifugacao\n",
        "#    que favorece uma fase densa em PEG pela centrifucacao."
      ],
      "execution_count": null,
      "outputs": []
    },
    {
      "cell_type": "markdown",
      "metadata": {
        "id": "vaYJmnP5bmKn"
      },
      "source": [
        "Questão 2 Uma enzima apresenta Vm= 1 mol/L.min e Km=10 mol/L , pede-se:\n",
        "a) calcule o tempo necessário para hidrolisar 10 mol/L de substrato;\n",
        "b) caso a enzima custe $ 5,00 por litro e seja usada na concentração de 1 litro por reator de 10000\n",
        "litros calcule qual o valor a ser pago por mes com enzima\n",
        "Obs:no item b considere que o reator de 10000L deve ser limpo e adicionado soluções antes da\n",
        "reação e este processo demora 12h além do tempo da reação"
      ]
    },
    {
      "cell_type": "code",
      "metadata": {
        "id": "p4m-7zQAbsz5"
      },
      "source": [
        "Vm = 1.0 # mol/L.min\n",
        "Km = 10 # g/L\n",
        "S0 = 10 # mol/L\n",
        "delta = 0.99\n",
        "S = S0*(1-delta)\n",
        "t= ((S0-S)+Km*np.log(S0/S))/Vm\n"
      ],
      "execution_count": null,
      "outputs": []
    }
  ]
}