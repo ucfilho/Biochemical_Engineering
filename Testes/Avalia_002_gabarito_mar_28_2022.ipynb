{
  "nbformat": 4,
  "nbformat_minor": 0,
  "metadata": {
    "colab": {
      "name": "Avalia_002_gabarito_mar_28_2022.ipynb",
      "provenance": [],
      "authorship_tag": "ABX9TyPswhsVc4QsP6z2MlBAH6XO",
      "include_colab_link": true
    },
    "kernelspec": {
      "name": "python3",
      "display_name": "Python 3"
    },
    "language_info": {
      "name": "python"
    }
  },
  "cells": [
    {
      "cell_type": "markdown",
      "metadata": {
        "id": "view-in-github",
        "colab_type": "text"
      },
      "source": [
        "<a href=\"https://colab.research.google.com/github/ucfilho/Biochemical_Engineering/blob/master/Testes/Avalia_002_gabarito_mar_28_2022.ipynb\" target=\"_parent\"><img src=\"https://colab.research.google.com/assets/colab-badge.svg\" alt=\"Open In Colab\"/></a>"
      ]
    },
    {
      "cell_type": "code",
      "metadata": {
        "id": "WNmtsuaDJ_Aa"
      },
      "source": [
        "import numpy as np"
      ],
      "execution_count": null,
      "outputs": []
    },
    {
      "cell_type": "markdown",
      "metadata": {
        "id": "ziN1x-bKAqBS"
      },
      "source": [
        "Questão 1 Referente a cerveja considere uma fábrica que tenha 45 dornas iguais de volume 4400 hL que são cheias para um volume útil de 3250 hL. \n",
        "</br>\n",
        "a) considerando que as dornas são distintas para  fermentação como maturação, discuta quantos litros de cerveja tem a capacidade de ser produzido por mês considerando dois dias na maturação e sete dias na fermentação\n",
        "</br>\n",
        "b) caso seja  o uso da mesma dorna para fermentação e maturação, sem passagem da cerveja de uma dorna para outra, discuta quantas novas dornas deve ser adquirido para manter a mesma produção inicial se as duas etapas juntas forem de vinte dias por ser uma nova receita"
      ]
    },
    {
      "cell_type": "code",
      "metadata": {
        "id": "VpEZE6nIAQ1g",
        "outputId": "be8ca74d-daaa-4f1b-da5b-cf0c72c7d111",
        "colab": {
          "base_uri": "https://localhost:8080/"
        }
      },
      "source": [
        "Vol = 3250 # hL\n",
        "N = 45 # N1 + N2 = 45\n",
        "t1 = 7+1 # fermentacao\n",
        "t2 = 2+1 # maturacao\n",
        "# N1*Vol/t1 = N2*Vol/t2 \n",
        "# N1 = t1/t2*N2\n",
        "# N2 + t1/t2*N2 = N\n",
        "N2 = N/(1+t1/t2);print('N2=',N2)\n",
        "N1 = N -N2 ;print('N1=',N1)\n",
        "N2 = int(N2);print('N2=',N2)\n",
        "N1 = N -N2 ;print('N1=',N1)\n",
        "cerveja = Vol*N2/t2*(100/1)*(30/1)\n",
        "print('cerveja=',cerveja,'litros/mes')\n",
        "t3 = 20\n",
        "cerveja_nova = Vol*N/t3*(100/1)*(30/1)\n",
        "cerveja_diferenca = cerveja - cerveja_nova\n",
        "N3 = cerveja_diferenca/(30/1)/(100/1)*t3/Vol \n",
        "print('cerveja_nova=',cerveja_nova,'litros/mes')\n",
        "print('cerveja_diferenca=',cerveja_diferenca,'litros/mes')\n",
        "print('novas dornas=',N3)\n",
        "cerveja_nova = Vol*N3/t3*(100/1)*(30/1)\n",
        "print('cerveja_difenca (verifica)=',cerveja_nova,'litros/mes')"
      ],
      "execution_count": null,
      "outputs": [
        {
          "output_type": "stream",
          "name": "stdout",
          "text": [
            "N2= 12.272727272727273\n",
            "N1= 32.72727272727273\n",
            "N2= 12\n",
            "N1= 33\n",
            "cerveja= 39000000.0 litros/mes\n",
            "cerveja_nova= 21937500.0 litros/mes\n",
            "cerveja_diferenca= 17062500.0 litros/mes\n",
            "novas dornas= 35.0\n",
            "cerveja_difenca (verifica)= 17062500.0 litros/mes\n"
          ]
        }
      ]
    },
    {
      "cell_type": "code",
      "source": [
        ""
      ],
      "metadata": {
        "id": "l58P1bew470l"
      },
      "execution_count": null,
      "outputs": []
    },
    {
      "cell_type": "markdown",
      "metadata": {
        "id": "eXS1BHPvInfM"
      },
      "source": [
        "**Questão 2** Considere a produção de etanol de milho em seis dornas de com 8 metros de diâmetro e dimensões econômicas e funcionais. Calcule a produção da fábrica diária em termos e álcool anidro, toneladas de milho gastas e quantidade de grãos para ração do tipo DDGS."
      ]
    },
    {
      "cell_type": "code",
      "metadata": {
        "colab": {
          "base_uri": "https://localhost:8080/"
        },
        "id": "8ctFuRPfItt5",
        "outputId": "6030cbdb-082f-410f-8c19-6af9953a3a87"
      },
      "source": [
        "# 1,8 kg de óleo para cada 100 kg de milho\n",
        "# 30.3 kg de DDGS (distilled dried grain with solubles) \n",
        "# 42 litros de etanol para cada 100 kg de milho\n",
        "# um lote a cada 70h, vinho sai com 140 g/l de etanol, colheita rende 20 ton milho \n",
        "d = 8 # metros\n",
        "Num = 6\n",
        "vol = np.pi*d**3/4 # \n",
        "t = 70 # horas\n",
        "C = 140 # g/L\n",
        "ro = 780 # g/l\n",
        "Etanol = C*vol*Num/(t*ro)*(1e6/1)/24/1000 # 1e6 conversao para litro\n",
        "DDGS = Etanol*(1000/1) * 30.3/42 *(1/1000)\n",
        "milho = Etanol*(1000/1) * 100/42 *(1/1000)\n",
        "print('etanol=', Etanol,'m3/dia')\n",
        "print('DDGS=', DDGS,'ton/dia')\n",
        "print('milho=', milho,'ton/dia')"
      ],
      "execution_count": null,
      "outputs": [
        {
          "output_type": "stream",
          "name": "stdout",
          "text": [
            "etanol= 257.77170490993177 m3/dia\n",
            "DDGS= 185.96387282787936 ton/dia\n",
            "milho= 613.7421545474567 ton/dia\n"
          ]
        }
      ]
    },
    {
      "cell_type": "markdown",
      "metadata": {
        "id": "eQD1UjvjLKwD"
      },
      "source": [
        "**Questão 3** Discuta qual  o volume de inóculo ou pé-de-cuba que deve ser adicionado por fermentação (considere que o inóculo corresponde a 20% do volume da dorna) necessário para produzir 50.000\n",
        "garrafas de cachaça de 700 mL por ano que são envelhecidas por um ano e quantos tonéis de 200L a empresa deve se 80% da sua cachaça é envelhicida por ano e o restante por cinco anos. Considere que serão feitas 10 fermentações por ano e que a empresa tem utiliza uma única dorna."
      ]
    },
    {
      "cell_type": "code",
      "metadata": {
        "id": "tY4ugsi3LR0E",
        "outputId": "367b32db-bcbe-454a-c236-fec20de31355",
        "colab": {
          "base_uri": "https://localhost:8080/"
        }
      },
      "source": [
        "#  1 hL cachaca = 1,4 toneldada de cana= 5,2 hL de caldo puro (21 ◦ BRIX)=6,83 hL\n",
        "garrafas = 50000 # garrafas por ano\n",
        "ferm = 10\n",
        "tonel = 200 # litros\n",
        "inoculo = 0.2\n",
        "dorna = 6.83/1\n",
        "cachaca = 0.7 * garrafas\n",
        "cachaca_um_ano = cachaca*0.8\n",
        "cachaca_cinco_ano = cachaca* 0.2\n",
        "tonel_um_ano = cachaca_um_ano / tonel \n",
        "tonel_cinco_ano = cachaca_cinco_ano / tonel* 5\n",
        "lote_cachaca = cachaca/ferm\n",
        "dorna = dorna* lote_cachaca\n",
        "inoculo = dorna * inoculo\n",
        "print('cachaca=',cachaca,'litros/ano')\n",
        "print('cachaca=',lote_cachaca,'litros/lote')\n",
        "print('dorna=',dorna,'litros/lote')\n",
        "print('inoculo=',inoculo,'litros/lote')\n",
        "print('tonel (1 ano)=',tonel_um_ano)\n",
        "print('tonel (cinco ano total)',tonel_cinco_ano)\n",
        "print('tonel (cinco ano usado)',tonel_cinco_ano/5)"
      ],
      "execution_count": null,
      "outputs": [
        {
          "output_type": "stream",
          "name": "stdout",
          "text": [
            "cachaca= 35000.0 litros/ano\n",
            "cachaca= 3500.0 litros/lote\n",
            "dorna= 23905.0 litros/lote\n",
            "inoculo= 4781.0 litros/lote\n",
            "tonel (1 ano)= 140.0\n",
            "tonel (cinco ano total) 175.0\n",
            "tonel (cinco ano usado) 35.0\n"
          ]
        }
      ]
    },
    {
      "cell_type": "markdown",
      "metadata": {
        "id": "yp4LdY9bPqIE"
      },
      "source": [
        "**Questão 4** Na produção de cerveja escolha quatro entre os equipamentos ou insumos\n",
        "abaixos explique o qual o uso dos equipamentos ou insumos  e que tipo de controle é feito\n",
        "nos equipamentos em questão ou nos equipamentos que recebe os insumos escolhidos. </br>\n",
        "a) lautier </br>\n",
        "b) mosturador </br>\n",
        "c) filtro de folhas </br>\n",
        "d) evaporador múltiplo efeito </br>\n",
        "e) pasteurizador </br>\n"
      ]
    },
    {
      "cell_type": "code",
      "metadata": {
        "id": "SPtzHnzqPpp_"
      },
      "source": [
        "#  a) lautier : faz a filtracao requer pouco controle se fosse operado automaticamente o nivel\n",
        "#  b) mosturador : temperatura do mosto\n",
        "#  c) filtro folha: turbidez para garantir o reciclo\n",
        "#  d) evaporadores: pressao no interior\n",
        "#  e) pasteurizador: temperatura"
      ],
      "execution_count": null,
      "outputs": []
    }
  ]
}