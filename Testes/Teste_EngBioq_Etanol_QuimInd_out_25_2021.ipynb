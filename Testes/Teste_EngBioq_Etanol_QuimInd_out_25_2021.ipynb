{
  "nbformat": 4,
  "nbformat_minor": 0,
  "metadata": {
    "colab": {
      "name": "Teste_EngBioq_Etanol_QuimInd_out_25_2021.ipynb",
      "provenance": [],
      "authorship_tag": "ABX9TyPEOI1IIs2GNCfkPpsNWt0s",
      "include_colab_link": true
    },
    "kernelspec": {
      "name": "python3",
      "display_name": "Python 3"
    },
    "language_info": {
      "name": "python"
    }
  },
  "cells": [
    {
      "cell_type": "markdown",
      "metadata": {
        "id": "view-in-github",
        "colab_type": "text"
      },
      "source": [
        "<a href=\"https://colab.research.google.com/github/ucfilho/Biochemical_Engineering/blob/master/Testes/Teste_EngBioq_Etanol_QuimInd_out_25_2021.ipynb\" target=\"_parent\"><img src=\"https://colab.research.google.com/assets/colab-badge.svg\" alt=\"Open In Colab\"/></a>"
      ]
    },
    {
      "cell_type": "markdown",
      "metadata": {
        "id": "d6wFDcGVcCYU"
      },
      "source": [
        "1)Uma usina que produz 800.000 Litros dia de etanol em seis dornas de fermentação batelada\n",
        "idênticas é ampliada e com duas novas dornas. Referente a esta situação calcule a nova área total \n",
        "necessária e a nova produção diária de etanol caso as duas novas dornas sejam de mesmo tamanho \n",
        "das anteriores"
      ]
    },
    {
      "cell_type": "code",
      "metadata": {
        "colab": {
          "base_uri": "https://localhost:8080/"
        },
        "id": "ADVWZik8cBrA",
        "outputId": "276e5789-d1f2-4c4b-cb62-890a2f7803eb"
      },
      "source": [
        "Vazao = 800000 # litros/dia\n",
        "Etanol_Cana = 82.3 # litros/ton_cana\n",
        "Cana_Area = 81.0 # ton/ha\n",
        "Safra = 220 # dias/safra\n",
        "Area_6_dornas = Vazao * 1/Etanol_Cana * 1/Cana_Area * Safra \n",
        "Area_8_dornas = Area_6_dornas * 8/6\n",
        "Vazao_8_dornas = Vazao * 8/6\n",
        "print('Area 6 dornas=', Area_6_dornas ,'ha/safra')\n",
        "print('Area 8 dornas=', Area_8_dornas ,'ha/safra')\n",
        "print('Vazao 8 dornas=', Vazao_8_dornas ,'Litros/dia')"
      ],
      "execution_count": 3,
      "outputs": [
        {
          "output_type": "stream",
          "name": "stdout",
          "text": [
            "Area 6 dornas= 26401.452079864393 ha/safra\n",
            "Area 8 dornas= 35201.93610648586 ha/safra\n",
            "Vazao 8 dornas= 1066666.6666666667 Litros/dia\n"
          ]
        }
      ]
    },
    {
      "cell_type": "markdown",
      "metadata": {
        "id": "jTwiNRxueibc"
      },
      "source": [
        "2)Uma usina que produz 800.000 Litros dia de etanol em seis dornas de fermentação batelada\n",
        "idênticas é ampliada e com duas novas dornas. Referente a esta situação calcule a nova área total \n",
        "necessária e a nova produção diária de etanol caso as duas novas dornas sejam de 800 m3 cada \n",
        "uma."
      ]
    },
    {
      "cell_type": "code",
      "metadata": {
        "colab": {
          "base_uri": "https://localhost:8080/"
        },
        "id": "MiQ7UFqpej-q",
        "outputId": "d29129e2-91cb-4fe2-a06c-bd951d131e96"
      },
      "source": [
        "Etanol = 800000 # litros/dia\n",
        "Vol_dorna = 800 # m3\n",
        "Conc = 85 # g/L\n",
        "densidade = 780 # g/L\n",
        "Lote_dia = 2\n",
        "Num_dorna = 2\n",
        "Etanol_Cana = 82.3 # litros/ton_cana\n",
        "Cana_Area = 81.0 # ton/ha\n",
        "Safra = 220 # dias/safra\n",
        "\n",
        "Etanol_dorna_lote = Vol_dorna *1000* Conc * 1/densidade\n",
        "Etanol_dorna_dia = Vol_dorna *1000* Conc * 1/densidade * Lote_dia\n",
        "Etanol_dia = Etanol_dorna_dia * Num_dorna\n",
        "Etanol_total = Etanol + Etanol_dia\n",
        "Area_Nova = Etanol_total * 1/Etanol_Cana * 1/Cana_Area * Safra \n",
        "print('Etanol dorna dia',Etanol_dorna_dia,'L/dia')\n",
        "print('Etanol  dia',Etanol_dia,'L/dia')\n",
        "print('Etanol total',Etanol_total,'L/dia')\n",
        "print('Area nova',Area_Nova,'ha/safra')"
      ],
      "execution_count": 7,
      "outputs": [
        {
          "output_type": "stream",
          "name": "stdout",
          "text": [
            "Etanol dorna dia 174358.97435897434 L/dia\n",
            "Etanol  dia 348717.9487179487 L/dia\n",
            "Etanol total 1148717.9487179487 L/dia\n",
            "Area nova 37909.77734544631 ha/safra\n"
          ]
        }
      ]
    },
    {
      "cell_type": "code",
      "metadata": {
        "id": "Ldr2fYckf0AD"
      },
      "source": [
        ";"
      ],
      "execution_count": null,
      "outputs": []
    }
  ]
}