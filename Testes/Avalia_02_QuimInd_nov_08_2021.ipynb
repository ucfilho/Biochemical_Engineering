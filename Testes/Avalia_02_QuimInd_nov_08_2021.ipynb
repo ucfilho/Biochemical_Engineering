{
  "nbformat": 4,
  "nbformat_minor": 0,
  "metadata": {
    "colab": {
      "name": "Avalia_02_QuimInd_nov_08_2021.ipynb",
      "provenance": [],
      "authorship_tag": "ABX9TyOmnzoxbwkGYnADTFNutak9",
      "include_colab_link": true
    },
    "kernelspec": {
      "name": "python3",
      "display_name": "Python 3"
    },
    "language_info": {
      "name": "python"
    }
  },
  "cells": [
    {
      "cell_type": "markdown",
      "metadata": {
        "id": "view-in-github",
        "colab_type": "text"
      },
      "source": [
        "<a href=\"https://colab.research.google.com/github/ucfilho/Biochemical_Engineering/blob/master/Testes/Avalia_02_QuimInd_nov_08_2021.ipynb\" target=\"_parent\"><img src=\"https://colab.research.google.com/assets/colab-badge.svg\" alt=\"Open In Colab\"/></a>"
      ]
    },
    {
      "cell_type": "code",
      "metadata": {
        "id": "_rH5NRlW0jgc"
      },
      "source": [
        "import numpy as np"
      ],
      "execution_count": 1,
      "outputs": []
    },
    {
      "cell_type": "markdown",
      "metadata": {
        "id": "qgh9EUm-ulCE"
      },
      "source": [
        "**Questão 1** Um reator CSTR tem reciclo de células com razão de reciclo (α=0.5) e So = 100 g/L. Discuta se e possível obter S = 5 g/L neste reator e caso seja possível calcule o volume do referido reator capaz de processar 100000 L/h de vazão. Considere D = 0.2 h$^{−1}$\n",
        ", µ$_M$=0.25 h$^{−1}$\n",
        "e\n",
        "Ks = 2 g/L."
      ]
    },
    {
      "cell_type": "code",
      "metadata": {
        "colab": {
          "base_uri": "https://localhost:8080/"
        },
        "id": "BaulUVzyukc2",
        "outputId": "e9df82c9-fda3-4498-edd7-88d3bdccb035"
      },
      "source": [
        "a = 0.5 #alpha\n",
        "D = 0.2 # h-1\n",
        "S0 = 100 # g/L\n",
        "S = 5 # g/L\n",
        "F =100000 # L/h\n",
        "mi_m = 0.25 # h-1\n",
        "Ks = 2 # g/L\n",
        "mi = mi_m*S/(S+Ks); print('mi=',mi)\n",
        "# mi = D/(1+a-a*b)\n",
        "b =(1+a-D/mi)/a ; print('beta=',b)"
      ],
      "execution_count": 2,
      "outputs": [
        {
          "output_type": "stream",
          "name": "stdout",
          "text": [
            "mi= 0.17857142857142858\n",
            "beta= 0.7599999999999998\n"
          ]
        }
      ]
    },
    {
      "cell_type": "markdown",
      "metadata": {
        "id": "ZKUbPnHmytIo"
      },
      "source": [
        "Questão 2 Considere a produção de etanol em seis dornas de com 9 metros de diâmetro e dimensões econômicas e funcionais. Calcule a produção de etanol diária em termos e álcool anidro, área\n",
        "plantada da safra e descarte de vinhaça diário e discuta qual a nova produção e nova necessidade\n",
        "de área plantada caso a empresa adquira duas novas dornas de 10 m de diâmetro e passe usar as\n",
        "oitos dornas para produzir etanol.\n"
      ]
    },
    {
      "cell_type": "code",
      "metadata": {
        "colab": {
          "base_uri": "https://localhost:8080/"
        },
        "id": "r-GOMDyxyZWo",
        "outputId": "b15822a1-e46a-4079-d733-b2c039d4709b"
      },
      "source": [
        "Fator = 1.0 # caso nao encher toda dorna use Fator < 1.0\n",
        "Ton_Area = 80 # ton/ha\n",
        "Litro_ton = 82.3 # litro/ton (anidro)\n",
        "Vinhaca = 12 # litros vinhaca/litro etanol\n",
        "Safra = 220 # dias\n",
        "Num = 6 # Num de dornas\n",
        "D = 9.0 # metros\n",
        "Conc = 85 # g/L\n",
        "ro = 780 # kg/m3 densidade\n",
        "Lotes = 2 # lotes/dia\n",
        "Vol = np.pi*D**3/4.0 * Fator\n",
        "Etanol_ciclo = Vol *  Conc * 1/ro* Num # Etanol = Vol* 1000 * Conc /1000 * 1/ro\n",
        "Etanol_dia = Etanol_ciclo * Lotes ; \n",
        "Etanol_safra = Etanol_dia * Safra\n",
        "Area = Etanol_safra * 1000 * 1/Litro_ton * 1/Ton_Area \n",
        "Vinhaca_dia = Etanol_dia * Vinhaca\n",
        "print('Etanol (m3/dia)=',Etanol_dia)\n",
        "print('Vinhaca (m3/dia)=',Vinhaca_dia)\n",
        "print('Area (ha/Safra)=',Area)"
      ],
      "execution_count": 3,
      "outputs": [
        {
          "output_type": "stream",
          "name": "stdout",
          "text": [
            "Etanol (m3/dia)= 748.7261106911212\n",
            "Vinhaca (m3/dia)= 8984.713328293456\n",
            "Area (ha/Safra)= 25018.187173761646\n"
          ]
        }
      ]
    },
    {
      "cell_type": "code",
      "metadata": {
        "colab": {
          "base_uri": "https://localhost:8080/"
        },
        "id": "FLFRAV3d95az",
        "outputId": "1a2418b6-859e-42af-e4e1-9e8b61935e5b"
      },
      "source": [
        "Num_nova = 2 # Num de dornas\n",
        "D_nova = 10.0 # metros\n",
        "Vol = np.pi*D_nova**3/4.0 * Fator\n",
        "Etanol_ciclo_nova = Vol *  Conc * 1/ro* Num_nova # Etanol = Vol* 1000 * Conc /1000 * 1/ro\n",
        "Etanol_dia_nova = Etanol_ciclo_nova * Lotes ; \n",
        "Etanol_safra_nova = Etanol_dia_nova * Safra\n",
        "Area_nova = Etanol_safra_nova * 1000 * 1/Litro_ton * 1/Ton_Area \n",
        "Vinhaca_dia_nova = Etanol_dia_nova * Vinhaca\n",
        "print('Etanol (m3/dia)=',Etanol_dia_nova)\n",
        "print('Vinhaca (m3/dia)=',Vinhaca_dia_nova)\n",
        "print('Area (ha/Safra)=',Area_nova)"
      ],
      "execution_count": 4,
      "outputs": [
        {
          "output_type": "stream",
          "name": "stdout",
          "text": [
            "Etanol (m3/dia)= 342.3530455835031\n",
            "Vinhaca (m3/dia)= 4108.236547002038\n",
            "Area (ha/Safra)= 11439.500308075743\n"
          ]
        }
      ]
    },
    {
      "cell_type": "code",
      "metadata": {
        "colab": {
          "base_uri": "https://localhost:8080/"
        },
        "id": "1JjD4SEX-1f3",
        "outputId": "4e58dbaa-fe92-4ad2-9c8f-8944c6634be4"
      },
      "source": [
        "print('Etanol soma (m3/dia)=',Etanol_dia+ Etanol_dia_nova)\n",
        "print('Vinhaca soma(m3/dia)=',Vinhaca_dia+Vinhaca_dia_nova)\n",
        "print('Area soma (ha/Safra)=',Area+Area_nova)"
      ],
      "execution_count": 5,
      "outputs": [
        {
          "output_type": "stream",
          "name": "stdout",
          "text": [
            "Etanol soma (m3/dia)= 1091.0791562746244\n",
            "Vinhaca soma(m3/dia)= 13092.949875295493\n",
            "Area soma (ha/Safra)= 36457.68748183739\n"
          ]
        }
      ]
    },
    {
      "cell_type": "markdown",
      "metadata": {
        "id": "QAJ7nUHg_VsQ"
      },
      "source": [
        "**Questão 3** Calcule a temperatura que garante que o uso de um tubo de espera L = 20 m que\n",
        "garanta p=2% (p é a probabilidade de falha) para N0=1000 cel/mL para um reator de 600 m3.\n",
        "<br>\n",
        "Considere k = 3.73 ∗ 10$^{−4}$\n",
        "exp(0.08687 ∗ T C) sendo k expresso em min$^{−1}$\n",
        "e TC a temperatura em\n",
        "celsius.\n",
        "<br>\n",
        "Use U ≤ 0.6 m/s"
      ]
    },
    {
      "cell_type": "code",
      "metadata": {
        "colab": {
          "base_uri": "https://localhost:8080/"
        },
        "id": "89M6hZFhAjVL",
        "outputId": "f6c494ad-ff09-4db1-9a2d-54a1ba7ad214"
      },
      "source": [
        "p = 2\n",
        "N0= 1000 # cel/mL\n",
        "Vol = 600 # m3\n",
        "u = 0.2 # m/s pode usar outro\n",
        "L = 20 # m\n",
        "Total = N0*Vol*1000*1000\n",
        "N_N0 = p/(100*Total);\n",
        "theta = L/u/60 # min\n",
        "k = -np.log(N_N0)/theta\n",
        "TC = np.log(k/3.73E-4)* 1/0.08687 \n",
        "print('N_N0=',N_N0)\n",
        "print('theta (min)=', theta)\n",
        "print('k (min-1)=',k)\n",
        "print('TC (celsius)=',TC)"
      ],
      "execution_count": 6,
      "outputs": [
        {
          "output_type": "stream",
          "name": "stdout",
          "text": [
            "N_N0= 3.3333333333333334e-14\n",
            "theta (min) 1.6666666666666667\n",
            "k (min-1)= 18.619331098554422\n",
            "TC (celsius)= 124.53243335683838\n"
          ]
        }
      ]
    }
  ]
}