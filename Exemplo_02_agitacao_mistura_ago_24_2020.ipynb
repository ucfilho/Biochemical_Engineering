{
  "nbformat": 4,
  "nbformat_minor": 0,
  "metadata": {
    "colab": {
      "name": "Exemplo_02_agitacao_mistura_ago_24_2020.ipynb",
      "provenance": [],
      "authorship_tag": "ABX9TyMzVxS7m7g1kgyD8HwQzW1u",
      "include_colab_link": true
    },
    "kernelspec": {
      "name": "python3",
      "display_name": "Python 3"
    }
  },
  "cells": [
    {
      "cell_type": "markdown",
      "metadata": {
        "id": "view-in-github",
        "colab_type": "text"
      },
      "source": [
        "<a href=\"https://colab.research.google.com/github/ucfilho/Biochemical_Engineering/blob/master/Exemplo_02_agitacao_mistura_ago_24_2020.ipynb\" target=\"_parent\"><img src=\"https://colab.research.google.com/assets/colab-badge.svg\" alt=\"Open In Colab\"/></a>"
      ]
    },
    {
      "cell_type": "code",
      "metadata": {
        "id": "9P47jw9ody4m",
        "colab_type": "code",
        "colab": {}
      },
      "source": [
        "import numpy as np"
      ],
      "execution_count": 1,
      "outputs": []
    },
    {
      "cell_type": "code",
      "metadata": {
        "id": "Tb-iVeKRd2YQ",
        "colab_type": "code",
        "colab": {}
      },
      "source": [
        "PI=np.pi"
      ],
      "execution_count": 2,
      "outputs": []
    },
    {
      "cell_type": "code",
      "metadata": {
        "id": "I-UIn7rucRBT",
        "colab_type": "code",
        "colab": {}
      },
      "source": [
        "Vol=600\n",
        "Mi=1/1000\n",
        "ro=1000 \n",
        "Np=0.28 # hidrofoil\n",
        "Nq=0.65 # tm=3*Vol/Q   e Nq=Q/(Di**3*Nrps)\n",
        "fs=1.25\n",
        "#Vol=PI*D**3/4\n",
        "D=(4*Vol/PI)**(1/3)\n",
        "Di=D/3\n",
        "Wb=D/10"
      ],
      "execution_count": 3,
      "outputs": []
    },
    {
      "cell_type": "code",
      "metadata": {
        "id": "iwUYwLy2fYyq",
        "colab_type": "code",
        "colab": {
          "base_uri": "https://localhost:8080/",
          "height": 68
        },
        "outputId": "c6e460a2-14e4-47c7-df7a-b4e66c0fde9d"
      },
      "source": [
        "print('D(m)=',D)\n",
        "print('Di(m)=',Di)\n",
        "print('Wb(m)=',Wb)"
      ],
      "execution_count": 4,
      "outputs": [
        {
          "output_type": "stream",
          "text": [
            "D(m)= 9.141562994681664\n",
            "Di(m)= 3.047187664893888\n",
            "Wb(m)= 0.9141562994681663\n"
          ],
          "name": "stdout"
        }
      ]
    },
    {
      "cell_type": "code",
      "metadata": {
        "id": "SCJZLymYf_jn",
        "colab_type": "code",
        "colab": {}
      },
      "source": [
        "Nrps=50/60 # numero de rotacoes entre 30 e 400 rpm\n",
        "Pot=Np*ro*Di**5*Nrps**3\n",
        "Torque=Pot/(2*PI*Nrps)\n",
        "I=1750/50\n",
        "Pmot=Pot*fs\n",
        "Re=ro*Di**2*Nrps/Mi\n",
        "Tmotor=Torque/(I*fs)\n",
        "#Nq=Q/(Nrps*Di**3)\n",
        "Q=Nq*(Nrps*Di**3)\n",
        "tm=3*Vol/Q"
      ],
      "execution_count": 5,
      "outputs": []
    },
    {
      "cell_type": "code",
      "metadata": {
        "id": "tl10T-LMh4dg",
        "colab_type": "code",
        "colab": {
          "base_uri": "https://localhost:8080/",
          "height": 120
        },
        "outputId": "6e5399e7-d6cb-4207-977b-c841e1ed2f85"
      },
      "source": [
        "print('Tmotor (N.m)=',Tmotor)\n",
        "print('Pot(W)=',Pot)\n",
        "print('I=',I)\n",
        "print('Pmot (W)=',Pmot,'Pmot(HP)=',Pmot/745.7)\n",
        "print('tm(s)=',tm,'tm(min)=',tm/60)\n",
        "print('Reynolds=',Re)"
      ],
      "execution_count": 6,
      "outputs": [
        {
          "output_type": "stream",
          "text": [
            "Tmotor (N.m)= 185.83761433335104\n",
            "Pot(W)= 42570.651954710025\n",
            "I= 35.0\n",
            "Pmot (W)= 53213.31494338753 Pmot(HP)= 71.3602185106444\n",
            "tm(s)= 117.44723304958767 tm(min)= 1.9574538841597944\n",
            "Reynolds= 7737793.88756789\n"
          ],
          "name": "stdout"
        }
      ]
    }
  ]
}