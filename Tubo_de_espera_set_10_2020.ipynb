{
  "nbformat": 4,
  "nbformat_minor": 0,
  "metadata": {
    "colab": {
      "name": "Tubo_de_espera_set_10_2020.ipynb",
      "provenance": [],
      "authorship_tag": "ABX9TyMUifRi0RdF7Kty7DLHbf9R",
      "include_colab_link": true
    },
    "kernelspec": {
      "name": "python3",
      "display_name": "Python 3"
    }
  },
  "cells": [
    {
      "cell_type": "markdown",
      "metadata": {
        "id": "view-in-github",
        "colab_type": "text"
      },
      "source": [
        "<a href=\"https://colab.research.google.com/github/ucfilho/Biochemical_Engineering/blob/master/Tubo_de_espera_set_10_2020.ipynb\" target=\"_parent\"><img src=\"https://colab.research.google.com/assets/colab-badge.svg\" alt=\"Open In Colab\"/></a>"
      ]
    },
    {
      "cell_type": "code",
      "metadata": {
        "id": "hpbHJ--ZRxAQ",
        "colab_type": "code",
        "colab": {}
      },
      "source": [
        "import numpy as np"
      ],
      "execution_count": 4,
      "outputs": []
    },
    {
      "cell_type": "code",
      "metadata": {
        "id": "THZ95NLrti2T",
        "colab_type": "code",
        "colab": {}
      },
      "source": [
        ""
      ],
      "execution_count": null,
      "outputs": []
    },
    {
      "cell_type": "markdown",
      "metadata": {
        "id": "Mrb66GDftjTg",
        "colab_type": "text"
      },
      "source": [
        "(Exercício 01-esteriliza) O processo de esterilização de um fermentador precisa de meio estéril com probabilidade de falha seja 5% utilizando um trocador de calor com tubo de espera de diâmetro X, calcule a quantidade de equipamentos idênticos  que devem ser usados em série para processar 100000 litros com N/N0=1x10-12 em 2 horas.. Tambem considere: X entre 3 cm e 30 cm com velocidade do fluido de 20 cm/s. Diametro de vazao compativeis para garantir fluxo empistonado Reynolds entre 36000 e 80000 e L inferior 50m Constante cinética de morte celular k=3,73.10-4exp(0,085875T’) com k em min-1 e T´ em oC"
      ]
    },
    {
      "cell_type": "code",
      "metadata": {
        "id": "SO6qHYyHRb8e",
        "colab_type": "code",
        "colab": {
          "base_uri": "https://localhost:8080/",
          "height": 156
        },
        "outputId": "5347d262-4d85-434d-8eda-ddd462a99c6d"
      },
      "source": [
        "T=130\n",
        "k=3.73e-4*np.exp(0.08575*T)\n",
        "No_N=1e12\n",
        "U=0.2 # velocidade m/s\n",
        "# ln(N0/N)=k*theta\n",
        "theta=1/k*np.log(No_N)\n",
        "theta=60*theta\n",
        "Tempo=2*60*60 # segundos\n",
        "Vol=100000/1000 # m3\n",
        "L=U*theta\n",
        "d=30/100\n",
        "ro=1000\n",
        "mi=0.001\n",
        "Area=np.pi*d**2/4\n",
        "Re=ro*U*d/mi\n",
        "Vazao_equipamento=U*Area\n",
        "Vazao_desejada=Vol/Tempo\n",
        "Num=Vazao_desejada/Vazao_equipamento\n",
        "print('k=',k)\n",
        "print('theta=',theta)\n",
        "print('L=',L)\n",
        "print('Area=',Area)\n",
        "print('Re=',Re)\n",
        "print('Vazao_equipamento=',Vazao_equipamento)\n",
        "print('Vazao_desejada=',Vazao_desejada)\n",
        "print('Num equipamentos=',Num)"
      ],
      "execution_count": 14,
      "outputs": [
        {
          "output_type": "stream",
          "text": [
            "k= 25.882520628914897\n",
            "theta= 64.05331577727472\n",
            "L= 12.810663155454945\n",
            "Area= 0.07068583470577035\n",
            "Re= 60000.0\n",
            "Vazao_equipamento= 0.014137166941154071\n",
            "Vazao_desejada= 0.013888888888888888\n",
            "Num equipamentos= 0.9824379203203414\n"
          ],
          "name": "stdout"
        }
      ]
    }
  ]
}