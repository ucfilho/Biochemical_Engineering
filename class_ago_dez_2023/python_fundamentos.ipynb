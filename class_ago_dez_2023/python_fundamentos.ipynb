{
  "nbformat": 4,
  "nbformat_minor": 0,
  "metadata": {
    "colab": {
      "provenance": [],
      "authorship_tag": "ABX9TyMER0txeF+2uHDOKv6yE3Vl",
      "include_colab_link": true
    },
    "kernelspec": {
      "name": "python3",
      "display_name": "Python 3"
    },
    "language_info": {
      "name": "python"
    }
  },
  "cells": [
    {
      "cell_type": "markdown",
      "metadata": {
        "id": "view-in-github",
        "colab_type": "text"
      },
      "source": [
        "<a href=\"https://colab.research.google.com/github/ucfilho/Biochemical_Engineering/blob/master/class_ago_dez_2023/python_fundamentos.ipynb\" target=\"_parent\"><img src=\"https://colab.research.google.com/assets/colab-badge.svg\" alt=\"Open In Colab\"/></a>"
      ]
    },
    {
      "cell_type": "code",
      "source": [
        "import numpy as np"
      ],
      "metadata": {
        "id": "V31j9SdnudCW"
      },
      "execution_count": 6,
      "outputs": []
    },
    {
      "cell_type": "code",
      "execution_count": 7,
      "metadata": {
        "colab": {
          "base_uri": "https://localhost:8080/"
        },
        "id": "Bg2TlztJsT77",
        "outputId": "98899939-f15c-4f8c-a958-926ea307bad9"
      },
      "outputs": [
        {
          "output_type": "stream",
          "name": "stdout",
          "text": [
            "d: 9.141562994681664\n",
            "di: 3.047187664893888\n",
            "y: -1.0\n"
          ]
        }
      ],
      "source": [
        "Vol = 600\n",
        "d = (4*Vol/np.pi)**(1/3)\n",
        "di = d/3\n",
        "print('d:',d)\n",
        "print('di:',di)\n",
        "y = np.cos(np.pi)\n",
        "print('y:',y)\n",
        "# Vol = pi*d**3/4 ---> d = (4*Vol/pi)"
      ]
    },
    {
      "cell_type": "code",
      "source": [
        "Vol = [600,500,400,300,200,100]\n",
        "for Vi in Vol:\n",
        "  d = (4*Vi/pi)**(1/3)\n",
        "  print('Vol:',Vi,'d:',d)"
      ],
      "metadata": {
        "colab": {
          "base_uri": "https://localhost:8080/"
        },
        "id": "4HZHbm0ftnit",
        "outputId": "aa103c98-4824-427e-b3dc-7e930ac573e3"
      },
      "execution_count": 8,
      "outputs": [
        {
          "output_type": "stream",
          "name": "stdout",
          "text": [
            "Vol: 600 d: 9.14165286579429\n",
            "Vol: 500 d: 8.602624710235933\n",
            "Vol: 400 d: 7.985969358958495\n",
            "Vol: 300 d: 7.25573468794498\n",
            "Vol: 200 d: 6.338468080698261\n",
            "Vol: 100 d: 5.030845449583637\n"
          ]
        }
      ]
    },
    {
      "cell_type": "code",
      "source": [
        "for i in range(10):\n",
        "  print(i)"
      ],
      "metadata": {
        "colab": {
          "base_uri": "https://localhost:8080/"
        },
        "id": "e4U0gkSRuFhv",
        "outputId": "7b4b0c85-6726-4ab6-e5eb-12aaa698cb13"
      },
      "execution_count": 9,
      "outputs": [
        {
          "output_type": "stream",
          "name": "stdout",
          "text": [
            "0\n",
            "1\n",
            "2\n",
            "3\n",
            "4\n",
            "5\n",
            "6\n",
            "7\n",
            "8\n",
            "9\n"
          ]
        }
      ]
    }
  ]
}