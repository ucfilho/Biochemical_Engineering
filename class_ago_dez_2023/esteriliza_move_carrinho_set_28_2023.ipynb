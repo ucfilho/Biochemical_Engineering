{
  "nbformat": 4,
  "nbformat_minor": 0,
  "metadata": {
    "colab": {
      "provenance": [],
      "authorship_tag": "ABX9TyM07mkARLIegHGq+BgogSNv",
      "include_colab_link": true
    },
    "kernelspec": {
      "name": "python3",
      "display_name": "Python 3"
    },
    "language_info": {
      "name": "python"
    }
  },
  "cells": [
    {
      "cell_type": "markdown",
      "metadata": {
        "id": "view-in-github",
        "colab_type": "text"
      },
      "source": [
        "<a href=\"https://colab.research.google.com/github/ucfilho/Biochemical_Engineering/blob/master/class_ago_dez_2023/esteriliza_move_carrinho_set_28_2023.ipynb\" target=\"_parent\"><img src=\"https://colab.research.google.com/assets/colab-badge.svg\" alt=\"Open In Colab\"/></a>"
      ]
    },
    {
      "cell_type": "code",
      "source": [
        "import numpy as np"
      ],
      "metadata": {
        "id": "2HNcQ6cAu4_V"
      },
      "execution_count": null,
      "outputs": []
    },
    {
      "cell_type": "code",
      "execution_count": null,
      "metadata": {
        "id": "YjrKB8wJp7B0"
      },
      "outputs": [],
      "source": [
        "T0, T1, T2, T3 =20, 40, 60,100\n",
        "N0_N = 1e6\n",
        "A0, Ea, R  = 1.2e38, 68.7e3, 1.987\n",
        "L1,L2,L3 = 10,10,25\n"
      ]
    },
    {
      "cell_type": "code",
      "source": [
        "k0 = A0*np.exp(-Ea/(R*(T0+273.15)))\n",
        "k1 = A0*np.exp(-Ea/(R*(T1+273.15)))\n",
        "k2 = A0*np.exp(-Ea/(R*(T2+273.15)))\n",
        "k3 = A0*np.exp(-Ea/(R*(T3+273.15)))\n",
        "print('k1: %.2e, k2:%.2e, k3:%.2e'%(k1,k2,k3))"
      ],
      "metadata": {
        "colab": {
          "base_uri": "https://localhost:8080/"
        },
        "id": "A3mvIx2kvC0k",
        "outputId": "99ac7549-3456-447a-f2b5-1affb7127efb"
      },
      "execution_count": null,
      "outputs": [
        {
          "output_type": "stream",
          "name": "stdout",
          "text": [
            "k1: 1.35e-10, k2:1.02e-07, k3:6.90e-03\n"
          ]
        }
      ]
    },
    {
      "cell_type": "code",
      "source": [
        "U = (k1*L1+k2*L2+k3*L3)/ (np.log(N0_N)-90*(k0+2*k1+2*k2+k3)+180*(k1+k2+k3))\n",
        "print('U: %.2e m/s'%(U))"
      ],
      "metadata": {
        "colab": {
          "base_uri": "https://localhost:8080/"
        },
        "id": "y4Ak0_f7wXRv",
        "outputId": "e504ba5d-9b29-4329-e33c-89392b4e6bae"
      },
      "execution_count": null,
      "outputs": [
        {
          "output_type": "stream",
          "name": "stdout",
          "text": [
            "U: 1.20e-02 m/s\n"
          ]
        }
      ]
    },
    {
      "cell_type": "code",
      "source": [
        "dt1, dt2, dt3 = L1/U, L2/U, L3/U\n",
        "print(' t1:%.2f min \\n t2:%.2f min \\n t3:%.2f min'%(dt1/60,dt2/60,dt3/60))"
      ],
      "metadata": {
        "colab": {
          "base_uri": "https://localhost:8080/"
        },
        "id": "A394AfbdxPi0",
        "outputId": "fe048986-f37b-47ac-fe96-30a56a2fd6ab"
      },
      "execution_count": null,
      "outputs": [
        {
          "output_type": "stream",
          "name": "stdout",
          "text": [
            " t1:13.94 min \n",
            " t2:13.94 min \n",
            " t3:34.86 min\n"
          ]
        }
      ]
    },
    {
      "cell_type": "code",
      "source": [
        "k0"
      ],
      "metadata": {
        "colab": {
          "base_uri": "https://localhost:8080/"
        },
        "id": "wu_xkdpHyPRU",
        "outputId": "30cea87b-4e20-4440-a201-0bfc941d9221"
      },
      "execution_count": null,
      "outputs": [
        {
          "output_type": "execute_result",
          "data": {
            "text/plain": [
              "7.203846502321272e-14"
            ]
          },
          "metadata": {},
          "execution_count": 46
        }
      ]
    },
    {
      "cell_type": "code",
      "source": [
        "T = 130\n",
        "k = A0*np.exp(-Ea/(R*(T+273.15)))\n",
        "print(k)\n",
        "N0_N = 1e18\n",
        "theta = np.log(N0_N)/k\n",
        "print(theta)\n",
        "U = 0.6\n",
        "L = U*theta\n",
        "print(L)\n",
        "d = 6/100\n",
        "Vol = 10\n",
        "A = np.pi*d**2/4\n",
        "F = A*U\n",
        "dt = Vol/F\n",
        "print(dt/3600)\n",
        "F = Vol/(3*3600)\n",
        "A = F/U\n",
        "d = (4*A/np.pi)**0.5\n",
        "print(d)\n",
        "A = np.pi*d**2/4\n",
        "F = A*U\n",
        "dt = Vol/F\n",
        "print(dt/3600)"
      ],
      "metadata": {
        "colab": {
          "base_uri": "https://localhost:8080/"
        },
        "id": "eKN0ucjt2s4j",
        "outputId": "e6eeb170-df8f-4d63-beaa-b03023cb1224"
      },
      "execution_count": null,
      "outputs": [
        {
          "output_type": "stream",
          "name": "stdout",
          "text": [
            "6.814735096825366\n",
            "6.0818991618912115\n",
            "3.6491394971347266\n",
            "1.637396533867236\n",
            "0.04432692004460363\n",
            "3.0\n"
          ]
        }
      ]
    },
    {
      "cell_type": "code",
      "source": [
        "import numpy as np\n",
        "t = [0,50,75,100,130,140]\n",
        "tc, k = [], []\n",
        "\n",
        "for ti in t:\n",
        "  ti = 20+3.5*ti**0.6\n",
        "  tc.append(ti)\n",
        "  ki = 2e6*np.exp(-5500/(ti+273.15))\n",
        "  k.append(ki)\n"
      ],
      "metadata": {
        "id": "x2DI7VXvCatY"
      },
      "execution_count": null,
      "outputs": []
    },
    {
      "cell_type": "code",
      "source": [
        "n = len(t)\n",
        "Area = 0\n",
        "for i in range(n-1):\n",
        "  Area = Area + (k[i]+k[i+1])/2*(t[i+1]-t[i])\n",
        "  print(Area)\n"
      ],
      "metadata": {
        "colab": {
          "base_uri": "https://localhost:8080/"
        },
        "id": "jTGuPzLqDeGV",
        "outputId": "cdccb43e-116c-46dc-9f88-34e4247ad662"
      },
      "execution_count": null,
      "outputs": [
        {
          "output_type": "stream",
          "name": "stdout",
          "text": [
            "3.2077365243237246\n",
            "6.972770240051296\n",
            "12.829905819022176\n",
            "23.4558658298237\n",
            "28.01094719362387\n"
          ]
        }
      ]
    },
    {
      "cell_type": "code",
      "source": [
        "tc"
      ],
      "metadata": {
        "colab": {
          "base_uri": "https://localhost:8080/"
        },
        "id": "HeHKLBpYDR6w",
        "outputId": "b1a8c785-2cd8-4707-a505-af50ba551c68"
      },
      "execution_count": null,
      "outputs": [
        {
          "output_type": "execute_result",
          "data": {
            "text/plain": [
              "[20.0,\n",
              " 56.59738434069456,\n",
              " 66.67720064694049,\n",
              " 75.47126173613896,\n",
              " 84.92830354724589,\n",
              " 87.88047391910587]"
            ]
          },
          "metadata": {},
          "execution_count": 50
        }
      ]
    }
  ]
}