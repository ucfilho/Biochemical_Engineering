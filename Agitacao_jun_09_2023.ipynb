{
  "nbformat": 4,
  "nbformat_minor": 0,
  "metadata": {
    "colab": {
      "provenance": [],
      "authorship_tag": "ABX9TyOOMIxNCrhd9U+ZbU5SZCV4",
      "include_colab_link": true
    },
    "kernelspec": {
      "name": "python3",
      "display_name": "Python 3"
    },
    "language_info": {
      "name": "python"
    }
  },
  "cells": [
    {
      "cell_type": "markdown",
      "metadata": {
        "id": "view-in-github",
        "colab_type": "text"
      },
      "source": [
        "<a href=\"https://colab.research.google.com/github/ucfilho/Biochemical_Engineering/blob/master/Agitacao_jun_09_2023.ipynb\" target=\"_parent\"><img src=\"https://colab.research.google.com/assets/colab-badge.svg\" alt=\"Open In Colab\"/></a>"
      ]
    },
    {
      "cell_type": "code",
      "source": [
        "import numpy as np"
      ],
      "metadata": {
        "id": "64QXGUlx3hpk"
      },
      "execution_count": 6,
      "outputs": []
    },
    {
      "cell_type": "code",
      "execution_count": 7,
      "metadata": {
        "colab": {
          "base_uri": "https://localhost:8080/"
        },
        "id": "98_Vfk2Gx72N",
        "outputId": "125f7065-77d1-44b4-cfe3-b16303df28fb"
      },
      "outputs": [
        {
          "output_type": "stream",
          "name": "stdout",
          "text": [
            "d = 9.141562994681664\n",
            "di= 3.047187664893888\n",
            "Re= 5571211.59904888\n",
            "Pot= 50048.49104664022 W\n"
          ]
        }
      ],
      "source": [
        "Vol = 600 # m3\n",
        "d = (4*Vol/np.pi)**(1/3)\n",
        "print('d =',d)\n",
        "di = d/3; print('di=',di)\n",
        "Np = 1.27\n",
        "Nrps = 0.5\n",
        "ro = 1200\n",
        "Nq = 0.8\n",
        "mi =0.001\n",
        "kWh = 0.8\n",
        "Re = ro*di**2*Nrps/mi ; print('Re=', Re)\n",
        "Pot = Np* ro* di**5* Nrps**3 ; print('Pot=',Pot,'W')"
      ]
    },
    {
      "cell_type": "code",
      "source": [
        "Pot_Vol = Pot/Vol/ 745.7; print('Pot_Vol',Pot_Vol) \n",
        "Nq = 0.8\n",
        "tm = 3* Vol / (Nq*di**3*Nrps)/60 # tm em minutos\n",
        "print('tm=',tm)"
      ],
      "metadata": {
        "colab": {
          "base_uri": "https://localhost:8080/"
        },
        "id": "Bx-dIEM3z1Zh",
        "outputId": "30f9a4ee-d5fa-46c0-d41b-d8d6fe4cd433"
      },
      "execution_count": 8,
      "outputs": [
        {
          "output_type": "stream",
          "name": "stdout",
          "text": [
            "Pot_Vol 0.11186020081051411\n",
            "tm= 2.6507188014663887\n"
          ]
        }
      ]
    },
    {
      "cell_type": "code",
      "source": [
        "tempo = 30*24*60*60\n",
        "energia = Pot*tempo\n",
        "Gasto = (energia/3.6e6)*kWh\n",
        "print('Gasto',Gasto)"
      ],
      "metadata": {
        "colab": {
          "base_uri": "https://localhost:8080/"
        },
        "id": "0rvK_lEh0jRG",
        "outputId": "dbc6e5ea-e7fd-4bcc-a8ea-e541b17cf708"
      },
      "execution_count": 9,
      "outputs": [
        {
          "output_type": "stream",
          "name": "stdout",
          "text": [
            "Gasto 28827.930842864764\n"
          ]
        }
      ]
    },
    {
      "cell_type": "code",
      "source": [
        "Nrps = [0.5, 0.75, 1.0, 1.3]\n",
        "for Ni in Nrps:\n",
        "  print('Ni=', Ni)\n",
        "  Vol = 600 # m3\n",
        "  d = (4*Vol/np.pi)**(1/3)\n",
        "  di = d/3\n",
        "  Np = 1.27\n",
        "  ro = 1200\n",
        "  Nq = 0.8\n",
        "  mi =0.001\n",
        "  kWh = 0.8\n",
        "  Re = ro*di**2*Ni/mi ; print('Re=%.2E'%Re)\n",
        "  Pot = Np* ro* di**5* Ni**3 ; print('Pot=%.2F'%Pot,'W')\n",
        "  Pot_Vol = Pot/Vol/ 745.7; print('Pot_Vol=%.2F '%Pot_Vol)\n",
        "  tempo = 30*24*60*60\n",
        "  energia = Pot*tempo\n",
        "  Gasto = (energia/3.6e6)*kWh\n",
        "  print('Gasto %.2F'%Gasto)\n",
        "  print('===================')"
      ],
      "metadata": {
        "colab": {
          "base_uri": "https://localhost:8080/"
        },
        "id": "mY3DNJVG1VqY",
        "outputId": "f242edab-fc04-4346-bb56-a4c63db17154"
      },
      "execution_count": 10,
      "outputs": [
        {
          "output_type": "stream",
          "name": "stdout",
          "text": [
            "Ni= 0.5\n",
            "Re=5.57E+06\n",
            "Pot=50048.49 W\n",
            "Pot_Vol=0.11 \n",
            "Gasto 28827.93\n",
            "===================\n",
            "Ni= 0.75\n",
            "Re=8.36E+06\n",
            "Pot=168913.66 W\n",
            "Pot_Vol=0.38 \n",
            "Gasto 97294.27\n",
            "===================\n",
            "Ni= 1.0\n",
            "Re=1.11E+07\n",
            "Pot=400387.93 W\n",
            "Pot_Vol=0.89 \n",
            "Gasto 230623.45\n",
            "===================\n",
            "Ni= 1.3\n",
            "Re=1.45E+07\n",
            "Pot=879652.28 W\n",
            "Pot_Vol=1.97 \n",
            "Gasto 506679.71\n",
            "===================\n"
          ]
        }
      ]
    }
  ]
}