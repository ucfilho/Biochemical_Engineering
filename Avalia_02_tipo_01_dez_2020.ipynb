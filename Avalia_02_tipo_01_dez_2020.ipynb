{
  "nbformat": 4,
  "nbformat_minor": 0,
  "metadata": {
    "colab": {
      "name": "Avalia_02_tipo_01_dez_2020.ipynb",
      "provenance": [],
      "authorship_tag": "ABX9TyPLU+i1GsN+NOT0DtEgYocV",
      "include_colab_link": true
    },
    "kernelspec": {
      "name": "python3",
      "display_name": "Python 3"
    }
  },
  "cells": [
    {
      "cell_type": "markdown",
      "metadata": {
        "id": "view-in-github",
        "colab_type": "text"
      },
      "source": [
        "<a href=\"https://colab.research.google.com/github/ucfilho/Biochemical_Engineering/blob/master/Avalia_02_tipo_01_dez_2020.ipynb\" target=\"_parent\"><img src=\"https://colab.research.google.com/assets/colab-badge.svg\" alt=\"Open In Colab\"/></a>"
      ]
    },
    {
      "cell_type": "markdown",
      "metadata": {
        "id": "e71sGGIuPr6P"
      },
      "source": [
        "Questão 1 Considere que estudando sobre esterizização e pasteurização e você encontrou um\r\n",
        "livro que afirma que a cor da cerveja é afetada pela pasteurização e a cor é considerada como\r\n",
        "referência no processo de pasteurização e que meio de cultura são tratados termicamente injetando\r\n",
        "vapor. Referente a esta situação pede-se\r\n",
        "a) Explique como pode ser feita a pasteurização da cerveja e a etapa que vem depois desta pasteurização\r\n",
        "b) Caso tenha o interesse esterilização de um meio de cultura destinado a fementação pelo uso de\r\n",
        "trocador de calor de placas com tubo de espera de diâmetro X e comprimento L calcule o número\r\n",
        "mínimo de equipamentos N idênticos e os valores de X e L de forma que seja possível processar W\r\n",
        "litros de meio em 3h gerando uma sobrevida de S=10−12 ao fim do processo.\r\n",
        "Observações: considere a mesma equação cinética utilizada em sala de aula, W = 4000 m3\r\n",
        "densidade e viscosidade do fluido iguais a da água.\r\n"
      ]
    },
    {
      "cell_type": "code",
      "metadata": {
        "colab": {
          "base_uri": "https://localhost:8080/"
        },
        "id": "PZToFhdVPo_e",
        "outputId": "8f527142-e3af-4740-83bc-c1642802756c"
      },
      "source": [
        "import numpy as np\r\n",
        "W = 4000.0;#m3\r\n",
        "tp = 3.0; #horas\r\n",
        "Vazao = W /(tp*60*60); print('Vazao = ', Vazao, 'm3/s')\r\n",
        "N_N0=1e-12;\r\n",
        "TC=130; # celsius (valor escolhido)\r\n",
        "k=3.73e-4*np.exp(0.08687*TC);print('k=',k,'min-1')\r\n",
        "Theta= (-1.0/k)*np.log(N_N0); print('Theta_R = ',Theta,'min')\r\n",
        "U = 0.3 # m/s\r\n",
        "L = U * Theta* 60.0 ; print('L = ', L , 'm')\r\n",
        "d = 0.3 ; # metros\r\n",
        "Area = np.pi*d**2/4.0; print('Area = ', Area, 'm2')\r\n",
        "Feq = Area * U; print('Fp = ',Feq,'m3/s')\r\n",
        "Neq = Vazao / Feq ; print('Num eq =', Neq, 'trocadores')"
      ],
      "execution_count": 21,
      "outputs": [
        {
          "output_type": "stream",
          "text": [
            "Vazao =  0.37037037037037035 m3/s\n",
            "k= 29.939176143015736 min-1\n",
            "Theta_R =  0.9229051923118586 min\n",
            "L =  16.612293461613454 m\n",
            "Area =  0.07068583470577035 m2\n",
            "Fp =  0.021205750411731103 m3/s\n",
            "Num eq = 17.465563027917185 trocadores\n"
          ],
          "name": "stdout"
        }
      ]
    },
    {
      "cell_type": "markdown",
      "metadata": {
        "id": "gvGCMDp1eT0S"
      },
      "source": [
        "Questão 2 Determinada usina possui seis dornas de 750 m3\r\n",
        "de volume útil, discuta qual a capacidade de produção diária de etanol anidro desta usina e discuta qual passa a ser a produção diária\r\n",
        "se a empresa trocar duas destas dornas por outras duas novas de 1000 m3\r\n",
        "cada uma."
      ]
    },
    {
      "cell_type": "code",
      "metadata": {
        "colab": {
          "base_uri": "https://localhost:8080/"
        },
        "id": "38tnizU9ee7c",
        "outputId": "536a05ed-5b09-468b-d816-d3ce3b855106"
      },
      "source": [
        "Vol = 750.0; # m3\r\n",
        "Neq = 6 ;# dornas\r\n",
        "Lotes_dia = 2.0; \r\n",
        "Etanol = 85.0 ; # g/L ou kg/m3 (mesma relacao)\r\n",
        "ro = 780 # kg/m3 (etanol)\r\n",
        "Etanol_dia = Vol  * Neq  * Etanol  * Lotes_dia / ro ; print('Etanol_dia',Etanol_dia,'m3/dia')"
      ],
      "execution_count": 23,
      "outputs": [
        {
          "output_type": "stream",
          "text": [
            "Etanol_dia 980.7692307692307 m3/dia\n"
          ],
          "name": "stdout"
        }
      ]
    },
    {
      "cell_type": "code",
      "metadata": {
        "colab": {
          "base_uri": "https://localhost:8080/"
        },
        "id": "b0oT6shxiFVk",
        "outputId": "af7118b4-59e3-403f-e8d0-74bea10fdc69"
      },
      "source": [
        "Vol1 = 750.0; # m3\r\n",
        "Neq1 = 4 ;# dornas\r\n",
        "Lotes_dia = 2.0; \r\n",
        "Etanol = 85.0 ; # g/L ou kg/m3 (mesma relacao)\r\n",
        "ro = 780 # kg/m3 (etanol)\r\n",
        "Etanol_dia1 = Vol1  * Neq1  * Etanol  * Lotes_dia / ro ; print('Etanol_dia1',Etanol_dia1,'m3/dia')\r\n",
        "Vol2 = 1000.0; # m3\r\n",
        "Neq2 = 2 ;# dornas\r\n",
        "Etanol_dia2 = Vol2  * Neq2  * Etanol  * Lotes_dia / ro ; print('Etanol_dia2',Etanol_dia2,'m3/dia')\r\n",
        "Total = Etanol_dia1 + Etanol_dia2; print('Etanol dia novo ', Total, 'm3/dia')\r\n",
        "\r\n",
        "fator = (Vol1*Neq1+Vol2*Neq2)/(Vol*Neq);print('fator =', fator)\r\n",
        "Etanol_dia_novo = Etanol_dia * fator ; print('Etanol_dia_novo',Etanol_dia_novo,'m3/dia')"
      ],
      "execution_count": 27,
      "outputs": [
        {
          "output_type": "stream",
          "text": [
            "Etanol_dia1 653.8461538461538 m3/dia\n",
            "Etanol_dia2 435.8974358974359 m3/dia\n",
            "Etanol dia novo  1089.7435897435898 m3/dia\n",
            "fator = 1.1111111111111112\n",
            "Etanol_dia_novo 1089.7435897435898 m3/dia\n"
          ],
          "name": "stdout"
        }
      ]
    },
    {
      "cell_type": "markdown",
      "metadata": {
        "id": "93scaub8rt6X"
      },
      "source": [
        "Questão 3 Na esterilização do ar por filtração pede-se:\r\n",
        "a) dimensione um filtro em termos de LRV. Considere que o filtro precisa atender 0,5 VVM para um reator de 500 m3\r\n",
        "que precisa funcionar por 3 semanas considere que o ar possui 1000 esporos/m3\r\n",
        "b) discuta dois mecanismos distintos que normalmente acontece no interior do filtro que faz com que ele consiga reter as células"
      ]
    },
    {
      "cell_type": "code",
      "metadata": {
        "colab": {
          "base_uri": "https://localhost:8080/"
        },
        "id": "HsgRdZBXr9DO",
        "outputId": "fbc31fbd-4625-4861-8e08-3e0c46c3c6ae"
      },
      "source": [
        "Vol = 500; # m3\r\n",
        "VVM = 0.5 ;# min-1\r\n",
        "Conc = 1000.0; # cel/m3\r\n",
        "tempo = 3 ; # semanas\r\n",
        "Vazao = VVM * Vol ; print('Vazao', Vazao, 'm3/min') ;\r\n",
        "tempo = tempo* 7.0 * 24.0 * 60.0 ; # minutos\r\n",
        "Celulas_entra =  Vazao * tempo * Conc; print('Celulas entra', Celulas_entra)\r\n",
        "Celulas_sai = 1 ; # condicao limite\r\n",
        "LRV = np.log10(Celulas_entra/Celulas_sai);print('LRV', LRV)"
      ],
      "execution_count": 32,
      "outputs": [
        {
          "output_type": "stream",
          "text": [
            "Vazao 250.0 m3/min\n",
            "Celulas entra 7560000000.0\n",
            "LRV 9.878521795501207\n"
          ],
          "name": "stdout"
        }
      ]
    },
    {
      "cell_type": "markdown",
      "metadata": {
        "id": "yI7-33QMwGUx"
      },
      "source": [
        "Questão 4 Referente as dimensões de uma fábrica de cerveja que foi inaugurada pede-se:\r\n",
        "a) Discuta se as informações que seguem sobre a mesma são corretas considerando que cada linha\r\n",
        "de envase tem capacidade para 150000 garrafas ou latas por hora que corresponde ao tamanho do\r\n",
        "túnel de pasteurização.\r\n",
        "b) Caso não esteja correta a informação faça o cálculo que quantas linhas de envase adicional de\r\n",
        "mesma capacidade citada são necessárias para que a informação torne correta.\r\n",
        "c) Calcule a quantidade de dornas de fermentação primária de 4400 hL para atender esta produção\r\n",
        "considerando a fermentação em 7 dias com tempo adicional de preparo das dornas de um dia\r\n",
        "Informações:\r\n",
        "\"Quando estiver em seu total funcionamento, a fábrica terá capacidade produtiva superior a 8,6\r\n",
        "milhões de hectolitros de cerveja por ano, ou seja, 860 milhões de litros da bebida, a partir de\r\n",
        "quatro linhas capacitadas para o envase."
      ]
    },
    {
      "cell_type": "code",
      "metadata": {
        "colab": {
          "base_uri": "https://localhost:8080/"
        },
        "id": "k3BF3PyswRwQ",
        "outputId": "350cd3e1-5d02-43f4-89b0-9624c4cbf62c"
      },
      "source": [
        "Latas = 150000; # latas/hora\r\n",
        "Garrafas = 150000; # garrafas/h\r\n",
        "Vol_garrafa = 0.6 ; # litros\r\n",
        "tad = 1.0; # dia\r\n",
        "tp = 7.0; # dias\r\n",
        "tempo = tad + tp;\r\n",
        "ano = 365.0 ; # dias\r\n",
        "ano = ano * 24.0; # horas\r\n",
        "Vol_Dorna = 4400; # hL\r\n",
        "Linhas_prod = 4.0; \r\n",
        "Hectolitros = Garrafas * ano * Vol_garrafa * Linhas_prod/ 100.0; print('Hectolitros ', Hectolitros/1e6,'milhoes/ano')\r\n",
        "\r\n",
        "\r\n",
        "Vazao = 8.5e6 / 365.0; print('Vazao',Vazao,'hL/dia')\r\n",
        "Vol_Lote = Vazao* (tad+tp); print('Vol_Lote',Vol_Lote,'hL')\r\n",
        "Num_dornas = Vol_Lote/ Vol_Dorna; print('Num dornas',Num_dornas)"
      ],
      "execution_count": 43,
      "outputs": [
        {
          "output_type": "stream",
          "text": [
            "Hectolitros  31.536 milhoes/ano\n",
            "Vazao 23287.671232876713 hL/dia\n",
            "Vol_Lote 186301.3698630137 hL\n",
            "Num dornas 42.3412204234122\n"
          ],
          "name": "stdout"
        }
      ]
    }
  ]
}