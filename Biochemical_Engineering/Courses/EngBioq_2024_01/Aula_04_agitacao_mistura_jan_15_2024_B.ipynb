{
  "nbformat": 4,
  "nbformat_minor": 0,
  "metadata": {
    "colab": {
      "provenance": [],
      "authorship_tag": "ABX9TyNmXfSEMUX6QUvODIRkErLt",
      "include_colab_link": true
    },
    "kernelspec": {
      "name": "python3",
      "display_name": "Python 3"
    },
    "language_info": {
      "name": "python"
    }
  },
  "cells": [
    {
      "cell_type": "markdown",
      "metadata": {
        "id": "view-in-github",
        "colab_type": "text"
      },
      "source": [
        "<a href=\"https://colab.research.google.com/github/ucfilho/Biochemical_Engineering/blob/master/Biochemical_Engineering/Courses/EngBioq_2024_01/Aula_04_agitacao_mistura_jan_15_2024_B.ipynb\" target=\"_parent\"><img src=\"https://colab.research.google.com/assets/colab-badge.svg\" alt=\"Open In Colab\"/></a>"
      ]
    },
    {
      "cell_type": "markdown",
      "source": [
        "## Exemplo 2\n",
        "Calcule o gasto energético associado a um reator de 600 m$^3$ considere N$_P$=1.68, $\\rho$=1200 kg/m$^3$, $\\mu$=0.001 kg/m.s e o custo de 1kWh vale $0.98. Considere as duas situações: Nrps =0.5 e Nrps =0.75"
      ],
      "metadata": {
        "id": "lu6-MddlxT6g"
      }
    },
    {
      "cell_type": "code",
      "execution_count": 1,
      "metadata": {
        "id": "Mib0lR4wtQWG"
      },
      "outputs": [],
      "source": [
        "pi = 3.14159\n",
        "Vol =600\n",
        "Np = 1.68\n",
        "ro =1200\n",
        "mi = 0.001\n",
        "Nrps = [0.5,0.75]\n",
        "tempo = 30*24*60*60\n",
        "kWh = 0.98 # $/kWh"
      ]
    },
    {
      "cell_type": "code",
      "source": [
        "d = (4*Vol/pi)**(1/3)\n",
        "di = d/3\n",
        "print('d: {:.2f} di: {:.2f}'.format(d, di))"
      ],
      "metadata": {
        "colab": {
          "base_uri": "https://localhost:8080/"
        },
        "id": "TTIhJOEpuLLT",
        "outputId": "b105aeab-46f4-4a3a-ce12-539ec9c1a940"
      },
      "execution_count": 2,
      "outputs": [
        {
          "output_type": "stream",
          "name": "stdout",
          "text": [
            "d: 9.14 di: 3.05\n"
          ]
        }
      ]
    },
    {
      "cell_type": "code",
      "source": [
        "for Ni in Nrps:\n",
        "  Re = ro*di**2*Ni/mi\n",
        "  Pot = Np*ro*di**5*Ni**3\n",
        "  Gasto = Pot*tempo/3.6e6*kWh\n",
        "  print('Nrps:{:.2f} Re:{:.2e} Pot:{:.2f} Gasto:{:.2f}'.format(Ni,Re,Pot,Gasto))\n"
      ],
      "metadata": {
        "colab": {
          "base_uri": "https://localhost:8080/"
        },
        "id": "qiijP-sKt0m7",
        "outputId": "0e8224fc-5ed0-4cf9-fe4f-03aee8086b0b"
      },
      "execution_count": 3,
      "outputs": [
        {
          "output_type": "stream",
          "name": "stdout",
          "text": [
            "Nrps:0.50 Re:5.57e+06 Pot:66205.97 Gasto:46714.93\n",
            "Nrps:0.75 Re:8.36e+06 Pot:223445.15 Gasto:157662.90\n"
          ]
        }
      ]
    },
    {
      "cell_type": "markdown",
      "source": [
        "Nrps:0.50 Re:5.57e+06 Pot:66205.97 Gasto:46714.93 <br>\n",
        "Nrps:0.75 Re:8.36e+06 Pot:223445.15 Gasto:157662.90"
      ],
      "metadata": {
        "id": "MMrrqdvX29Mt"
      }
    },
    {
      "cell_type": "markdown",
      "source": [
        "## Exemplo 3\n",
        "Calcule o tempo de mistura para duas situações do exemplo 2. Considere N$_Q$=1.2 e a mesmas duas situações: Nrps =0.5 e Nrps =0.75"
      ],
      "metadata": {
        "id": "iZhRD3dm0T1v"
      }
    },
    {
      "cell_type": "code",
      "source": [
        "Nq= 1.2\n",
        "for Ni in Nrps:\n",
        "  Q = Nq*Ni*di**3\n",
        "  tm = 3*Vol/Q # valor em segundos\n",
        "  tm = tm/60 # passando para minutos\n",
        "  print('Nrps:{:.2f} Q:{:.2f} tm:{:.2f}'.format(Ni,Q,tm))"
      ],
      "metadata": {
        "colab": {
          "base_uri": "https://localhost:8080/"
        },
        "id": "Bn52xukx0hCx",
        "outputId": "58ef6b18-efa6-4cc6-d575-86b7ad34d1be"
      },
      "execution_count": 4,
      "outputs": [
        {
          "output_type": "stream",
          "name": "stdout",
          "text": [
            "Nrps:0.50 Q:16.98 tm:1.77\n",
            "Nrps:0.75 Q:25.46 tm:1.18\n"
          ]
        }
      ]
    },
    {
      "cell_type": "markdown",
      "source": [
        "## Exemplo 4\n",
        "Calcule o gasto energético associado a um reator de 1200 m$^3$ considere N$_P$=1.68, $\\rho$=1200 kg/m$^3$, $\\mu$=0.001 kg/m.s e o custo de 1kWh vale $0.98. Considere as duas situações: Nrps =0.5 e Nrps =0.75"
      ],
      "metadata": {
        "id": "QU8p5YGy31Mu"
      }
    },
    {
      "cell_type": "code",
      "source": [
        "pi = 3.14159\n",
        "Vol =1200\n",
        "Np = 1.68\n",
        "ro =1200\n",
        "mi = 0.001\n",
        "Nrps = [0.5,0.75]\n",
        "tempo = 30*24*60*60\n",
        "kWh = 0.98 # $/kWh\n",
        "d = (4*Vol/pi)**(1/3)\n",
        "di = d/3\n",
        "print('d: {:.2f} di: {:.2f}'.format(d, di))\n",
        "for Ni in Nrps:\n",
        "  Re = ro*di**2*Ni/mi\n",
        "  Pot = Np*ro*di**5*Ni**3\n",
        "  Gasto = Pot*tempo/3.6e6*kWh\n",
        "  print('Nrps:{:.2f} Re:{:.2e} Pot:{:.2f} Gasto:{:.2f}'.format(Ni,Re,Pot,Gasto))"
      ],
      "metadata": {
        "colab": {
          "base_uri": "https://localhost:8080/"
        },
        "id": "8yl1EFpD34jI",
        "outputId": "51ab0214-4894-49e9-8ce8-6bc64390c47d"
      },
      "execution_count": 5,
      "outputs": [
        {
          "output_type": "stream",
          "name": "stdout",
          "text": [
            "d: 11.52 di: 3.84\n",
            "Nrps:0.50 Re:8.84e+06 Pot:210190.86 Gasto:148310.67\n",
            "Nrps:0.75 Re:1.33e+07 Pot:709394.14 Gasto:500548.51\n"
          ]
        }
      ]
    }
  ]
}