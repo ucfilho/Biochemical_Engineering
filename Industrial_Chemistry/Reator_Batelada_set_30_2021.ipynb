{
  "nbformat": 4,
  "nbformat_minor": 0,
  "metadata": {
    "colab": {
      "name": "Reator Batelada set 30 2021.ipynb",
      "provenance": [],
      "authorship_tag": "ABX9TyPDQVvKMW6fITsDYXwetaYA",
      "include_colab_link": true
    },
    "kernelspec": {
      "name": "python3",
      "display_name": "Python 3"
    },
    "language_info": {
      "name": "python"
    }
  },
  "cells": [
    {
      "cell_type": "markdown",
      "metadata": {
        "id": "view-in-github",
        "colab_type": "text"
      },
      "source": [
        "<a href=\"https://colab.research.google.com/github/ucfilho/Biochemical_Engineering/blob/master/Industrial_Chemistry/Reator_Batelada_set_30_2021.ipynb\" target=\"_parent\"><img src=\"https://colab.research.google.com/assets/colab-badge.svg\" alt=\"Open In Colab\"/></a>"
      ]
    },
    {
      "cell_type": "code",
      "metadata": {
        "id": "kStRfPXfGN-g"
      },
      "source": [
        "import numpy as np\n",
        "import matplotlib.pyplot as plt"
      ],
      "execution_count": 1,
      "outputs": []
    },
    {
      "cell_type": "markdown",
      "metadata": {
        "id": "s-NczbuVDxpB"
      },
      "source": [
        "Para um reator batelada com So = 100 g/L, Xo =10 e Yxs= 0.5, calcule qual o tempo para o qual concentracao de  substrato  se torna 1 g/L. Considere mM = 0.25 h-1, Ks =2 g/L"
      ]
    },
    {
      "cell_type": "code",
      "metadata": {
        "id": "Bhr4BPMFEFmi"
      },
      "source": [
        "Ks = 2\n",
        "mi = 0.25\n",
        "Yxs= 0.5\n",
        "S0 = 100\n",
        "X0 = 10\n",
        "S = 1"
      ],
      "execution_count": 2,
      "outputs": []
    },
    {
      "cell_type": "code",
      "metadata": {
        "colab": {
          "base_uri": "https://localhost:8080/"
        },
        "id": "AmU0pWm7Fvbx",
        "outputId": "8ebb1710-3d3f-4747-992d-b41462bbb7ac"
      },
      "source": [
        "A = (X0+Yxs*(S0+Ks))/(X0+Yxs*S0)\n",
        "B = Yxs*Ks/(X0+Yxs*S0)\n",
        "print(\"A=\",A)\n",
        "print(\"B=\",B)"
      ],
      "execution_count": 3,
      "outputs": [
        {
          "output_type": "stream",
          "name": "stdout",
          "text": [
            "A= 1.0166666666666666\n",
            "B= 0.016666666666666666\n"
          ]
        }
      ]
    },
    {
      "cell_type": "code",
      "metadata": {
        "colab": {
          "base_uri": "https://localhost:8080/"
        },
        "id": "2b9b9LYSGpWy",
        "outputId": "b6e47599-a990-49dc-d7b5-87a39c5815dc"
      },
      "source": [
        "X = X0 + Yxs*(S0-S)\n",
        "print('X=',X)"
      ],
      "execution_count": 4,
      "outputs": [
        {
          "output_type": "stream",
          "name": "stdout",
          "text": [
            "X= 59.5\n"
          ]
        }
      ]
    },
    {
      "cell_type": "code",
      "metadata": {
        "colab": {
          "base_uri": "https://localhost:8080/"
        },
        "id": "QzytuzAeG6iM",
        "outputId": "0f5c0310-96c0-459b-f8b2-ab4a041cd074"
      },
      "source": [
        "t = 1/mi*(A*np.log(X/X0)-B*np.log(S/S0))\n",
        "print('t=',t)"
      ],
      "execution_count": 5,
      "outputs": [
        {
          "output_type": "stream",
          "name": "stdout",
          "text": [
            "t= 7.559468971933195\n"
          ]
        }
      ]
    },
    {
      "cell_type": "code",
      "metadata": {
        "id": "R_X7kXZODG6U"
      },
      "source": [
        ""
      ],
      "execution_count": null,
      "outputs": []
    },
    {
      "cell_type": "markdown",
      "metadata": {
        "id": "eyvHyaosDdE-"
      },
      "source": [
        "Para um reator batelada com So = 100 g/L, Xo =10 g/L e Yxs= 0.5, calcule qual a concentracao de  substrato  para 5 horas de fermentacao. Considere uM = 0.25 h-1, Ks =2 g/L"
      ]
    },
    {
      "cell_type": "code",
      "metadata": {
        "colab": {
          "base_uri": "https://localhost:8080/"
        },
        "id": "6OCDBJoaHcky",
        "outputId": "54182039-227b-4cc4-ebcc-6758856e7dc7"
      },
      "source": [
        "S = [70,50,60,55,52]\n",
        "for Si in S:\n",
        "  Xi = X0 + Yxs*(S0-Si)\n",
        "  ti = 1/mi*(A*np.log(Xi/X0)-B*np.log(Si/S0))\n",
        "  print('t=',ti,'S=',Si,'X=',Xi)"
      ],
      "execution_count": 11,
      "outputs": [
        {
          "output_type": "stream",
          "name": "stdout",
          "text": [
            "t= 3.7500273058841462 S= 70 X= 25.0\n",
            "t= 5.1407792172518265 S= 50 X= 35.0\n",
            "t= 4.5017450155013785 S= 60 X= 30.0\n",
            "t= 4.833052785173069 S= 55 X= 32.5\n",
            "t= 5.02028185309038 S= 52 X= 34.0\n"
          ]
        }
      ]
    },
    {
      "cell_type": "code",
      "metadata": {
        "id": "cVbPNVobDOBB"
      },
      "source": [
        ""
      ],
      "execution_count": null,
      "outputs": []
    }
  ]
}