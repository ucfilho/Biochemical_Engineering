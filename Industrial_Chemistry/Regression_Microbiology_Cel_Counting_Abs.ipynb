{
  "nbformat": 4,
  "nbformat_minor": 0,
  "metadata": {
    "colab": {
      "name": "Microbiology_Cel_Counting_Abs.ipynb",
      "provenance": [],
      "authorship_tag": "ABX9TyNoPslLjdqzfRjjvyN/iAEG",
      "include_colab_link": true
    },
    "kernelspec": {
      "name": "python3",
      "display_name": "Python 3"
    },
    "language_info": {
      "name": "python"
    }
  },
  "cells": [
    {
      "cell_type": "markdown",
      "metadata": {
        "id": "view-in-github",
        "colab_type": "text"
      },
      "source": [
        "<a href=\"https://colab.research.google.com/github/ucfilho/Biochemical_Engineering/blob/master/Industrial_Chemistry/Regression_Microbiology_Cel_Counting_Abs.ipynb\" target=\"_parent\"><img src=\"https://colab.research.google.com/assets/colab-badge.svg\" alt=\"Open In Colab\"/></a>"
      ]
    },
    {
      "cell_type": "code",
      "metadata": {
        "colab": {
          "base_uri": "https://localhost:8080/"
        },
        "id": "OAHcYZFuKJXv",
        "outputId": "a71c26e2-52cb-4720-c49c-f532955a380e"
      },
      "source": [
        "import numpy as np\n",
        "from sklearn.linear_model import LinearRegression\n",
        "# X = absorbance (obs last point multiplyed by dilution factor)\n",
        "# Y = cel/mL values dived by 1e7\n",
        "X = np.array([0.375, 0.48, 0.95,1.2,3.4]).reshape(-1,1)\n",
        "y = np.array([0.625,1.25,1.75,4.25,8.0]).reshape(-1,1)\n",
        "reg = LinearRegression().fit(X, y)\n",
        "print(reg)\n",
        "print(reg.coef_)\n",
        "print(reg.score(X, y))"
      ],
      "execution_count": 5,
      "outputs": [
        {
          "output_type": "stream",
          "text": [
            "LinearRegression(copy_X=True, fit_intercept=True, n_jobs=None, normalize=False)\n",
            "[[2.38287481]]\n",
            "0.9395706226867477\n"
          ],
          "name": "stdout"
        }
      ]
    }
  ]
}