{
  "nbformat": 4,
  "nbformat_minor": 0,
  "metadata": {
    "colab": {
      "name": "QuimIndustrial esteriliza exercicios ago 04 2022.ipynb",
      "provenance": [],
      "authorship_tag": "ABX9TyP3JckSim1QU8vbFqQ/VyO5",
      "include_colab_link": true
    },
    "kernelspec": {
      "name": "python3",
      "display_name": "Python 3"
    },
    "language_info": {
      "name": "python"
    }
  },
  "cells": [
    {
      "cell_type": "markdown",
      "metadata": {
        "id": "view-in-github",
        "colab_type": "text"
      },
      "source": [
        "<a href=\"https://colab.research.google.com/github/ucfilho/Biochemical_Engineering/blob/master/Industrial_Chemistry/QuimIndustrial_esteriliza_exercicios_ago_04_2022.ipynb\" target=\"_parent\"><img src=\"https://colab.research.google.com/assets/colab-badge.svg\" alt=\"Open In Colab\"/></a>"
      ]
    },
    {
      "cell_type": "markdown",
      "source": [
        "4) Caso necessite esterilizar 1300 m3 de meio com probabilidade de falha de 10%, calcule a \n",
        "quantidade deste volume que já terá sido esterilizada quando k = 5 min–1\n",
        ". L=30m e d=0.3 m. "
      ],
      "metadata": {
        "id": "pzpqFtJpI27W"
      }
    },
    {
      "cell_type": "code",
      "execution_count": 1,
      "metadata": {
        "id": "TYRnrCS8IyaG"
      },
      "outputs": [],
      "source": [
        "import numpy as np\n",
        "pi = np.pi"
      ]
    },
    {
      "cell_type": "code",
      "source": [
        "k = 5\n",
        "d = 0.3\n",
        "prob = 10\n",
        "L=30\n",
        "N0 = 1000 #cel/ml (consideraremos este valor: devia estar no enunciado)\n",
        "Vol = 1300e6 # mL\n",
        "Total = N0*Vol\n",
        "N_N0= prob/(100*Total);print('N/N0=',N_N0)\n",
        "theta = 1/k*np.log(1/N_N0);print('theta (min)=',theta)\n",
        "U = L/theta; print('U=',U,'m/min')\n",
        "A = pi*d**2/4\n",
        "Vazao = U*A; print('Vazao=',Vazao,'m3/min')\n",
        "tempo = 24*60\n",
        "print('Vazao=',Vazao*tempo,'m3/dia')"
      ],
      "metadata": {
        "colab": {
          "base_uri": "https://localhost:8080/"
        },
        "id": "RnPJeyfkI5ta",
        "outputId": "5dd7bf27-5cb0-4c6e-eab9-3ac04fbc26ef"
      },
      "execution_count": 12,
      "outputs": [
        {
          "output_type": "stream",
          "name": "stdout",
          "text": [
            "N/N0= 7.692307692307692e-14\n",
            "theta (min)= 6.039194094678017\n",
            "U= 4.967550227676441 m/min\n",
            "Vazao= 0.3511354342861488 m3/min\n",
            "Vazao= 505.63502537205426 m3/dia\n"
          ]
        }
      ]
    }
  ]
}