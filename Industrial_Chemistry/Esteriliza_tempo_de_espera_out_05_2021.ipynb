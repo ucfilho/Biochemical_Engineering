{
  "nbformat": 4,
  "nbformat_minor": 0,
  "metadata": {
    "colab": {
      "name": "Esteriliza_tempo_de_espera_out_05_2021.ipynb",
      "provenance": [],
      "authorship_tag": "ABX9TyPyCP1Tk7Ywv5jjK4fpgg3V",
      "include_colab_link": true
    },
    "kernelspec": {
      "name": "python3",
      "display_name": "Python 3"
    },
    "language_info": {
      "name": "python"
    }
  },
  "cells": [
    {
      "cell_type": "markdown",
      "metadata": {
        "id": "view-in-github",
        "colab_type": "text"
      },
      "source": [
        "<a href=\"https://colab.research.google.com/github/ucfilho/Biochemical_Engineering/blob/master/Industrial_Chemistry/Esteriliza_tempo_de_espera_out_05_2021.ipynb\" target=\"_parent\"><img src=\"https://colab.research.google.com/assets/colab-badge.svg\" alt=\"Open In Colab\"/></a>"
      ]
    },
    {
      "cell_type": "code",
      "metadata": {
        "id": "QLJ4Uliep-Nw"
      },
      "source": [
        "import numpy as np"
      ],
      "execution_count": 1,
      "outputs": []
    },
    {
      "cell_type": "markdown",
      "metadata": {
        "id": "PgtWnR_hnTEI"
      },
      "source": [
        "Calcule o tamanho de um tubo de espera que garanta p=5% (p é a probabilidade de falha) para N0=1000 cel/mL para um reator de 600 m3. Considere k = 5 min$^{-1}$ e U $\\leq$ 0.6 m/s"
      ]
    },
    {
      "cell_type": "code",
      "metadata": {
        "colab": {
          "base_uri": "https://localhost:8080/"
        },
        "id": "tU4olDX0nQ_e",
        "outputId": "96bce15f-ab73-49a4-8ac0-1d89bd452f70"
      },
      "source": [
        "k = 2\n",
        "U = 0.2\n",
        "Vol = 600\n",
        "N0=1E3\n",
        "p = 2\n",
        "Total = N0*Vol*1e6\n",
        "N_N0 = p/(100*Total); print('N/N0 =',N_N0)\n",
        "theta = 1/k*np.log(1/N_N0);print('theta=',theta,'min')\n",
        "theta = theta*60\n",
        "L = U* theta;print('L=',L,'m')"
      ],
      "execution_count": 4,
      "outputs": [
        {
          "output_type": "stream",
          "name": "stdout",
          "text": [
            "N/N0 = 3.3333333333333334e-14\n",
            "theta= 15.516109248795352 min\n",
            "L= 186.19331098554426 m\n"
          ]
        }
      ]
    },
    {
      "cell_type": "markdown",
      "metadata": {
        "id": "0yYxk6cEsW8z"
      },
      "source": [
        "Calcule a temperatura que garante que o uso de  um tubo de espera L = 20 m que garanta p=2% (p é a probabilidade de falha) para N0=1000 cel/mL para um reator de 600 m3. Considere k =  $3.73 \\times 10^{−4}exp(0.08687\\times TC) $ sendo k expresso em min$^{-1}$ e TC   a temperatura em celsius. Use U $\\leq$ 0.6 m/s\n",
        ">Dica: calcule k e substitua o valor encontrado na equacao de k para encontrar a temperatura (nao esqueca de usar as unidadesde forma correta)"
      ]
    },
    {
      "cell_type": "code",
      "metadata": {
        "colab": {
          "base_uri": "https://localhost:8080/"
        },
        "id": "HpwID8q_r2BY",
        "outputId": "29abfafc-3764-45ed-8fb2-f2cfe0c5f7d7"
      },
      "source": [
        "U = 0.2\n",
        "Vol = 600\n",
        "N0=1E3\n",
        "p = 2\n",
        "L = 20\n",
        "A=3.73E-4; B=0.08687; # k =A*exp(\\b*TC)\n",
        "Total = N0*Vol*1e6\n",
        "N_N0 = p/(100*Total); print('N/N0 =',N_N0)\n",
        "theta = L/U\n",
        "theta = theta/60; print('theta=',theta,'min')\n",
        "k = -np.log(N_N0)/theta;print('k=',k,'min')\n",
        "TC = np.log(k/A)/B;print('TC=',TC,'celsius')\n"
      ],
      "execution_count": 3,
      "outputs": [
        {
          "output_type": "stream",
          "name": "stdout",
          "text": [
            "N/N0 = 3.3333333333333334e-14\n",
            "theta= 1.6666666666666667 min\n",
            "k= 18.619331098554422 min\n",
            "TC= 124.53243335683838 celsius\n"
          ]
        }
      ]
    },
    {
      "cell_type": "code",
      "metadata": {
        "id": "XShD0C2zsWUA"
      },
      "source": [
        ""
      ],
      "execution_count": 3,
      "outputs": []
    }
  ]
}