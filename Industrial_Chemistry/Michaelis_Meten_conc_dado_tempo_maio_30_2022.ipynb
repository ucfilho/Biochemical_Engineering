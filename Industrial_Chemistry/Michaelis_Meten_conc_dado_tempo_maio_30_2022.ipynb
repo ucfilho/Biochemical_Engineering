{
  "nbformat": 4,
  "nbformat_minor": 0,
  "metadata": {
    "colab": {
      "name": "Michaelis_Meten_conc_dado_tempo_maio_30_2022.ipynb",
      "provenance": [],
      "authorship_tag": "ABX9TyP1POdmQbOKa5Tq+9UW0N83",
      "include_colab_link": true
    },
    "kernelspec": {
      "name": "python3",
      "display_name": "Python 3"
    },
    "language_info": {
      "name": "python"
    }
  },
  "cells": [
    {
      "cell_type": "markdown",
      "metadata": {
        "id": "view-in-github",
        "colab_type": "text"
      },
      "source": [
        "<a href=\"https://colab.research.google.com/github/ucfilho/Biochemical_Engineering/blob/master/Industrial_Chemistry/Michaelis_Meten_conc_dado_tempo_maio_30_2022.ipynb\" target=\"_parent\"><img src=\"https://colab.research.google.com/assets/colab-badge.svg\" alt=\"Open In Colab\"/></a>"
      ]
    },
    {
      "cell_type": "code",
      "source": [
        "import numpy as np"
      ],
      "metadata": {
        "id": "mG2288abMxzs"
      },
      "execution_count": 1,
      "outputs": []
    },
    {
      "cell_type": "markdown",
      "source": [
        "Uma enzima segue cinética de Michaelis Menten com Vm =0.2 g/L.min e Km = 2 g/L. Calcule a concentração de substrato esperada para o tempo de 4h. Considere S0=100 g/L"
      ],
      "metadata": {
        "id": "BpWNYNC9SXAC"
      }
    },
    {
      "cell_type": "code",
      "execution_count": 2,
      "metadata": {
        "colab": {
          "base_uri": "https://localhost:8080/"
        },
        "id": "TtJ0SfcDMBPb",
        "outputId": "b259744c-8ded-4ee8-dbfe-88ed2b59749f"
      },
      "outputs": [
        {
          "output_type": "stream",
          "name": "stdout",
          "text": [
            "t= 518.0258509299405 min\n"
          ]
        }
      ],
      "source": [
        "Vm = 0.2; Km = 2;\n",
        "S0= 100\n",
        "S = 1\n",
        "t = 1/Vm*((S0-S)+np.log(S0/S))\n",
        "print('t=',t,'min')"
      ]
    },
    {
      "cell_type": "code",
      "source": [
        "Svalues = [100,20,40,50,52,53]\n",
        "time =[]\n",
        "for S in Svalues:\n",
        "  t = 1/Vm*((S0-S)+np.log(S0/S))\n",
        "  time.append(t)\n",
        "\n",
        "print(time)\n"
      ],
      "metadata": {
        "colab": {
          "base_uri": "https://localhost:8080/"
        },
        "id": "qY0c2_gxNA5r",
        "outputId": "7e890857-2a22-4114-9f37-42af1442734d"
      },
      "execution_count": 3,
      "outputs": [
        {
          "output_type": "stream",
          "name": "stdout",
          "text": [
            "[0.0, 408.0471895621705, 304.58145365937077, 253.46573590279974, 243.26963233703333, 238.17439136217985]\n"
          ]
        }
      ]
    },
    {
      "cell_type": "code",
      "source": [
        "Svalues = [52.5,52.8,52.6,52.7,52.65]\n",
        "time =[]\n",
        "for S in Svalues:\n",
        "  t = 1/Vm*((S0-S)+np.log(S0/S))\n",
        "  time.append(t)\n",
        "\n",
        "print(time)"
      ],
      "metadata": {
        "colab": {
          "base_uri": "https://localhost:8080/"
        },
        "id": "tXD4L71QSynj",
        "outputId": "1242be6f-5280-41d5-afbb-55e478341f5e"
      },
      "execution_count": 4,
      "outputs": [
        {
          "output_type": "stream",
          "name": "stdout",
          "text": [
            "[240.7217850819526, 239.19329497637938, 240.21227033122213, 239.70277365220386, 239.9575197370405]\n"
          ]
        }
      ]
    },
    {
      "cell_type": "code",
      "source": [
        "# resposta : S = 52.65 g/L (valor medio entre os dois que antecede o ultimo)"
      ],
      "metadata": {
        "id": "ndc6JRZWTFHc"
      },
      "execution_count": 5,
      "outputs": []
    }
  ]
}