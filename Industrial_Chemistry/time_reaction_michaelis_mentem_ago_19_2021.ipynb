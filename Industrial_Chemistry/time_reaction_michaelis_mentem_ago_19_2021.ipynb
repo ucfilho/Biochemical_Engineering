{
  "nbformat": 4,
  "nbformat_minor": 0,
  "metadata": {
    "colab": {
      "name": "Untitled136.ipynb",
      "provenance": [],
      "authorship_tag": "ABX9TyN9BeXLKPUwOUxrFTtkKPTP",
      "include_colab_link": true
    },
    "kernelspec": {
      "name": "python3",
      "display_name": "Python 3"
    },
    "language_info": {
      "name": "python"
    }
  },
  "cells": [
    {
      "cell_type": "markdown",
      "metadata": {
        "id": "view-in-github",
        "colab_type": "text"
      },
      "source": [
        "<a href=\"https://colab.research.google.com/github/ucfilho/Biochemical_Engineering/blob/master/Industrial_Chemistry/time_reaction_michaelis_mentem_ago_19_2021.ipynb\" target=\"_parent\"><img src=\"https://colab.research.google.com/assets/colab-badge.svg\" alt=\"Open In Colab\"/></a>"
      ]
    },
    {
      "cell_type": "code",
      "metadata": {
        "id": "PgBGZHEU6Ai1"
      },
      "source": [
        "import numpy as np"
      ],
      "execution_count": 1,
      "outputs": []
    },
    {
      "cell_type": "code",
      "metadata": {
        "colab": {
          "base_uri": "https://localhost:8080/"
        },
        "id": "V0pW_wL06JUb",
        "outputId": "2522047d-7c00-4c9c-daaa-6bc61a2e2b83"
      },
      "source": [
        "t = ((500-5)+2.421*np.log(500/5))/7.56e-4\n",
        "print('t=',t)"
      ],
      "execution_count": 2,
      "outputs": [
        {
          "output_type": "stream",
          "text": [
            "t= 669509.4140479857\n"
          ],
          "name": "stdout"
        }
      ]
    }
  ]
}