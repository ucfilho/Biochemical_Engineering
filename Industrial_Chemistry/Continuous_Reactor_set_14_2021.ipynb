{
  "nbformat": 4,
  "nbformat_minor": 0,
  "metadata": {
    "colab": {
      "name": "Continuous_Reactor_set_14_2021.ipynb",
      "provenance": [],
      "authorship_tag": "ABX9TyNVrc9KDZHV0VC9bNmZgt57",
      "include_colab_link": true
    },
    "kernelspec": {
      "name": "python3",
      "display_name": "Python 3"
    },
    "language_info": {
      "name": "python"
    }
  },
  "cells": [
    {
      "cell_type": "markdown",
      "metadata": {
        "id": "view-in-github",
        "colab_type": "text"
      },
      "source": [
        "<a href=\"https://colab.research.google.com/github/ucfilho/Biochemical_Engineering/blob/master/Industrial_Chemistry/Continuous_Reactor_set_14_2021.ipynb\" target=\"_parent\"><img src=\"https://colab.research.google.com/assets/colab-badge.svg\" alt=\"Open In Colab\"/></a>"
      ]
    },
    {
      "cell_type": "markdown",
      "metadata": {
        "id": "5qLPcPAiaJN7"
      },
      "source": [
        "1)\tConsidere uma fermentação continua com D=0.15 h-1. Encontre a concentração de substrato na saída do reator caso o modelo siga cinética de Monod com um=0.25 h-1 e KS = 2 g/L"
      ]
    },
    {
      "cell_type": "code",
      "metadata": {
        "colab": {
          "base_uri": "https://localhost:8080/"
        },
        "id": "JMJip5ZmaIrz",
        "outputId": "114c8fa2-9a35-4640-eb5a-aabc880279df"
      },
      "source": [
        "D = 0.15\n",
        "Ks = 2\n",
        "um = 0.25\n",
        "S = Ks*D/(um-D)\n",
        "print('S=',S,'g/L')"
      ],
      "execution_count": 1,
      "outputs": [
        {
          "output_type": "stream",
          "name": "stdout",
          "text": [
            "S= 2.9999999999999996 g/L\n"
          ]
        }
      ]
    },
    {
      "cell_type": "markdown",
      "metadata": {
        "id": "NKKQGuPTapV4"
      },
      "source": [
        "2)\tCalcule a vazão de alimentação associada a um fermentador continuo de 200 m3 que garante a concentração de saída do substrato de 6 g/L ( S=6 g/L ). Considere a concentração inicial de substrato de 100 g/L ( S0=100 g/L ) e que o reator se comporta como um reator tanque agitado mistura perfeita (CSTR). Considere Monod com um=0.4 h-1  e KS = 2 g/L"
      ]
    },
    {
      "cell_type": "code",
      "metadata": {
        "colab": {
          "base_uri": "https://localhost:8080/"
        },
        "id": "MA7uOf2Yao9i",
        "outputId": "fad6a070-9bb3-4bc6-d0cb-e41763cdd04f"
      },
      "source": [
        "Vol = 200\n",
        "S = 6\n",
        "S0 = 100\n",
        "um =0.4\n",
        "Ks = 2\n",
        "mi = um*S/(S+Ks)\n",
        "D = mi\n",
        "Flow = D * Vol\n",
        "print('Flow=',Flow,'m3/min')"
      ],
      "execution_count": 2,
      "outputs": [
        {
          "output_type": "stream",
          "name": "stdout",
          "text": [
            "Flow= 60.00000000000001 m3/min\n"
          ]
        }
      ]
    }
  ]
}