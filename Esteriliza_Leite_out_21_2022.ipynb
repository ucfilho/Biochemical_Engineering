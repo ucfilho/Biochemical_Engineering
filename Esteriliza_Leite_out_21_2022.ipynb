{
  "nbformat": 4,
  "nbformat_minor": 0,
  "metadata": {
    "colab": {
      "provenance": [],
      "authorship_tag": "ABX9TyNxJM/yWBCV0LyLwB693GYu",
      "include_colab_link": true
    },
    "kernelspec": {
      "name": "python3",
      "display_name": "Python 3"
    },
    "language_info": {
      "name": "python"
    }
  },
  "cells": [
    {
      "cell_type": "markdown",
      "metadata": {
        "id": "view-in-github",
        "colab_type": "text"
      },
      "source": [
        "<a href=\"https://colab.research.google.com/github/ucfilho/Biochemical_Engineering/blob/master/Esteriliza_Leite_out_21_2022.ipynb\" target=\"_parent\"><img src=\"https://colab.research.google.com/assets/colab-badge.svg\" alt=\"Open In Colab\"/></a>"
      ]
    },
    {
      "cell_type": "code",
      "source": [
        "import numpy as np"
      ],
      "metadata": {
        "id": "LpV_BqSjKhBC"
      },
      "execution_count": 1,
      "outputs": []
    },
    {
      "cell_type": "code",
      "source": [
        "# O leite apresenta 4.10^5 individuos/ml e devera ser processado a 79 celsius por 21s.\n",
        "# O valor D a 65 celsius é 7 min. O valor Z nesta condicao é 7 celsius. \n",
        "# a) quantos microrganismos permanecerao vivos apos a esterilizacao\n",
        "# b) quanto tempo sera necessario para obter o mesmo resultado a 65 celsius"
      ],
      "metadata": {
        "id": "vaRMZ53jO9r1"
      },
      "execution_count": 2,
      "outputs": []
    },
    {
      "cell_type": "code",
      "source": [
        "T1=65 #65\n",
        "T2=79  #77\n",
        "D1 = 7 #10\n",
        "Z =7#5 \n",
        "N0 = 4e5 #1e6\n",
        "F = 21#20 \n"
      ],
      "metadata": {
        "id": "llreuUrOKJ3y"
      },
      "execution_count": 3,
      "outputs": []
    },
    {
      "cell_type": "code",
      "source": [
        "logD2 = (T1-T2)/Z+ np.log10(D1)\n",
        "D2 = 10**(logD2)\n",
        "print('logD2=',logD2)\n",
        "print('D2=',D2)"
      ],
      "metadata": {
        "colab": {
          "base_uri": "https://localhost:8080/"
        },
        "id": "slL2CLZ7M1iJ",
        "outputId": "d786edd8-ff6c-48e1-a586-6ebc381e8735"
      },
      "execution_count": 4,
      "outputs": [
        {
          "output_type": "stream",
          "name": "stdout",
          "text": [
            "logD2= -1.154901959985743\n",
            "D2= 0.07000000000000002\n"
          ]
        }
      ]
    },
    {
      "cell_type": "code",
      "source": [
        "\n",
        "F = F/60\n",
        "logN0_N = F/D2\n",
        "N = N0/10**(logN0_N)\n",
        "print('logN0_N=',logN0_N)\n",
        "print('N=',N)"
      ],
      "metadata": {
        "colab": {
          "base_uri": "https://localhost:8080/"
        },
        "id": "Mm9-aaBgK3Mp",
        "outputId": "0634d22d-da79-4f5f-8750-6e984de6e057"
      },
      "execution_count": 5,
      "outputs": [
        {
          "output_type": "stream",
          "name": "stdout",
          "text": [
            "logN0_N= 4.999999999999998\n",
            "N= 4.000000000000016\n"
          ]
        }
      ]
    },
    {
      "cell_type": "code",
      "source": [
        "F = D1*np.log10(N0/N)\n",
        "print('log10(N0/N)=',np.log10(N0/N))\n",
        "print('F=',F)"
      ],
      "metadata": {
        "colab": {
          "base_uri": "https://localhost:8080/"
        },
        "id": "EItDefvzLo6r",
        "outputId": "9ee7eba2-d608-45d0-b8b0-825a0b5be6ac"
      },
      "execution_count": 6,
      "outputs": [
        {
          "output_type": "stream",
          "name": "stdout",
          "text": [
            "log10(N0/N)= 4.999999999999998\n",
            "F= 34.999999999999986\n"
          ]
        }
      ]
    }
  ]
}