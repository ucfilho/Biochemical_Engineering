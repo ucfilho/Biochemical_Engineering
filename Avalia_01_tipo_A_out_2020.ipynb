{
  "nbformat": 4,
  "nbformat_minor": 0,
  "metadata": {
    "colab": {
      "name": "Avalia_01_tipo_A_out_2020.ipynb",
      "provenance": [],
      "authorship_tag": "ABX9TyPiRqas56Gdu4t77K8IgfhV",
      "include_colab_link": true
    },
    "kernelspec": {
      "name": "python3",
      "display_name": "Python 3"
    }
  },
  "cells": [
    {
      "cell_type": "markdown",
      "metadata": {
        "id": "view-in-github",
        "colab_type": "text"
      },
      "source": [
        "<a href=\"https://colab.research.google.com/github/ucfilho/Biochemical_Engineering/blob/master/Avalia_01_tipo_A_out_2020.ipynb\" target=\"_parent\"><img src=\"https://colab.research.google.com/assets/colab-badge.svg\" alt=\"Open In Colab\"/></a>"
      ]
    },
    {
      "cell_type": "code",
      "metadata": {
        "id": "JZasZaDA1b_l"
      },
      "source": [
        "import numpy as np"
      ],
      "execution_count": 3,
      "outputs": []
    },
    {
      "cell_type": "markdown",
      "metadata": {
        "id": "7EZzN1X7y36g"
      },
      "source": [
        "Considere a necessidade de esterilizar 1000 m3 de produto $10^4$ cél/mL por dia com probabilidade de falha de\n",
        "1%. Referente a este interesse\n",
        "a) dimensione os tubos de espera do sistema de esterilizaccão com vapor em termo de diâmetro de tubo, comprimento e\n",
        "quantidade necessário atende a necessidade e calcule as especi\u001ccações do equipamento (diâmetro do tubo, comprimento )\n",
        "assim como as condições operacionais (temperatura e velocidade)\n",
        "b) Caso o processo passe a ser realizado em containers de 10 m3 de produto que passa em um túnel a 130oC com velocidade constante U, calcule a velocidade de movimentação para o comprimento do túnel L=30 m que grarante a mesma\n",
        "probabilidade de falha. Considere que a temperatura não varia com a velocidade (varia apenas com o tempo) e que a\n",
        "mesma segue o perfil dado na tabela abaixo\n",
        "Considere: k=Aexp(- Ea / RT) com Ea=68,7 kcal/mol, A=1.2×$10^{38}$ min−1, R=1.987 cal/mol.K e temperatura entre 105 e\n",
        "160oC no tubo de espera e que no caso da esteira a temperatura de 130 oC para tempos maiores que 60 min sendo que a\n",
        "morte celular ocorre somente no aquecimento.\n",
        "Temperatura (oC) 30 33 50 80 103 110 115 120 130\n",
        "Tempo (min) 0 3 5 10 20 35 40 50 60"
      ]
    },
    {
      "cell_type": "code",
      "metadata": {
        "id": "-tV596_QxM-C",
        "outputId": "0286e721-55f0-43d3-b49c-3f149f350034",
        "colab": {
          "base_uri": "https://localhost:8080/",
          "height": 123
        }
      },
      "source": [
        "N0 = 1e4 # cel/mL\n",
        "Vol = 1000 # m3\n",
        "prob = 1/100 # %\n",
        "TC = 130.0\n",
        "Ea = 67.8e3\n",
        "A = 1.2e38\n",
        "R = 1.987\n",
        "L = 30.0\n",
        "d = 30/100 # m \n",
        "Flow_processo = 1000 / (24*60*60) # considerando 1000 m3/dia pdoe ser outro valor\n",
        "\n",
        "Total = Vol * N0 * 1e6\n",
        "k = A * np.exp(-Ea/(R*TK));print('k = %f min-1'%k)\n",
        "N_N0 = prob/(100*Total );print('N/N0 = %e '%N_N0)\n",
        "theta = -1.0/k * np.log(N_N0);print('theta= %f '%theta) \n",
        "U = L / (theta*60);print('U = %f m/s '%U)\n",
        "Flow = np.pi*d**2/4*U ;print('Flow= %e '%Flow)\n",
        "N = Flow_processo / Flow ;print('N = %f '%N)"
      ],
      "execution_count": 10,
      "outputs": [
        {
          "output_type": "stream",
          "text": [
            "k = 20.959665 min-1\n",
            "N/N0 = 1.000000e-17 \n",
            "theta= 1.867585 \n",
            "U = 0.267725 m/s \n",
            "Flow= 1.892440e-02 \n",
            "N = 0.611595 \n"
          ],
          "name": "stdout"
        }
      ]
    },
    {
      "cell_type": "markdown",
      "metadata": {
        "id": "NFrJ7eqc4nrw"
      },
      "source": [
        "Um reator com agitador é utilizado na fermentação de um meio de cultura (ρ=1010 kg/m3, µ=9:8 × 10−4\n",
        "Pa.s) deve ser utilizado em um reator sem aeração com volume de 800 m3 Nestas condições, considerando também as\n",
        "restrições citadas abaixo, pede-se:\n",
        "a) discuta qual motor deve ser utilizado (considere fs=1.25 e rotação do motor de 1750 rpm) e se todas restri\u000bões podem\n",
        "ser atendidadas.\n",
        "b) calcule as dimensões características (de\u001detor, agitador, altura de líquido, diâmetro do tanque) deste reator\n",
        "c) explique a razão deste projeto ter as restrições citadas ou seja por que as mesmas são importantes\n",
        "Restrições: potência/volume inferior a 1 HP/m3, rotação do agitador ser igual ou superior a 30 rpm e tempo de mistura\n",
        "inferior a 5 min."
      ]
    },
    {
      "cell_type": "code",
      "metadata": {
        "id": "nEkp4aSD43cq",
        "outputId": "fce0c258-fe04-40f7-8b15-9e0c0ee3fdcd",
        "colab": {
          "base_uri": "https://localhost:8080/",
          "height": 123
        }
      },
      "source": [
        "Vol = 800.0\n",
        "Nrps = 0.5\n",
        "D = (4.0 * Vol / np.pi)**(1/3.0); print(\" D = %f m\"%D)\n",
        "Di = D/ 3.0 ; print(\" Di = %f m\"%Di)\n",
        "Np = 1.27\n",
        "Nq = 1.3\n",
        "ro =1010\n",
        "mi =9.8e-4\n",
        "Re = ro * Di**2* Nrps / mi ; print(\" Re = %e \"%Re)\n",
        "Pot = Np* ro * Nrps**3 * Di**5; print(\" Pot= %f W\"%Pot)\n",
        "Pot_Vol= (Pot / Vol )/746.0 ; print(\" Pot/Vol= %f HP/m3\"%Pot_Vol)\n",
        "Q = Nq* (Di**3* Nrps)\n",
        "tm = 3* Vol /Q ; print(\" tm= %f s\"%tm)\n"
      ],
      "execution_count": 17,
      "outputs": [
        {
          "output_type": "stream",
          "text": [
            " D = 10.061592 m\n",
            " Di = 3.353864 m\n",
            " Re = 5.796371e+06 \n",
            " Pot= 68039.692710 W\n",
            " Pot/Vol= 0.114008 HP/m3\n",
            " tm= 97.872694 s\n"
          ],
          "name": "stdout"
        }
      ]
    }
  ]
}