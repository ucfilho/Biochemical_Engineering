{
  "nbformat": 4,
  "nbformat_minor": 0,
  "metadata": {
    "colab": {
      "name": "EngBioq_Enade_1998.ipynb",
      "provenance": [],
      "authorship_tag": "ABX9TyP5KSGe4HdWL+q1KNA2hsd1",
      "include_colab_link": true
    },
    "kernelspec": {
      "name": "python3",
      "display_name": "Python 3"
    }
  },
  "cells": [
    {
      "cell_type": "markdown",
      "metadata": {
        "id": "view-in-github",
        "colab_type": "text"
      },
      "source": [
        "<a href=\"https://colab.research.google.com/github/ucfilho/Biochemical_Engineering/blob/master/EngBioq_Enade_1998.ipynb\" target=\"_parent\"><img src=\"https://colab.research.google.com/assets/colab-badge.svg\" alt=\"Open In Colab\"/></a>"
      ]
    },
    {
      "cell_type": "code",
      "metadata": {
        "id": "JhOIVgBlg1gW",
        "colab_type": "code",
        "colab": {
          "base_uri": "https://localhost:8080/",
          "height": 118
        },
        "outputId": "6a5ea357-a071-4448-8807-c92d51324d88"
      },
      "source": [
        "N1=50/60\n",
        "N2=80/60\n",
        "FTM=39\n",
        "di=0.7\n",
        "ro=1800\n",
        "mi=1.5e-2\n",
        "Np=1.6 # grafico\n",
        "Pot=Np*ro*di**5*N1**3\n",
        "Re=ro*di**2*N1/mi\n",
        "print('Pot=',Pot)\n",
        "print('Re=',Re)\n",
        "Pot=Np*ro*di**5*N2**3\n",
        "Re=ro*di**2*N2/mi\n",
        "print('Pot=',Pot)\n",
        "print('Re=',Re)\n",
        "tm=FTM/N1\n",
        "print('tm1=',tm)\n",
        "tm=FTM/N2\n",
        "print('tm2=',tm)"
      ],
      "execution_count": 13,
      "outputs": [
        {
          "output_type": "stream",
          "text": [
            "Pot= 280.1166666666666\n",
            "Re= 48999.99999999999\n",
            "Pot= 1147.357866666666\n",
            "Re= 78399.99999999999\n",
            "tm1= 46.8\n",
            "tm2= 29.25\n"
          ],
          "name": "stdout"
        }
      ]
    },
    {
      "cell_type": "code",
      "metadata": {
        "id": "6TT47IV1fLPV",
        "colab_type": "code",
        "colab": {
          "base_uri": "https://localhost:8080/",
          "height": 34
        },
        "outputId": "9aeae494-4ea5-4175-90f4-8c8c2d320c5c"
      },
      "source": [
        "P2=3*101325\n",
        "P1=1*101325\n",
        "R=0.287\n",
        "n=1.4\n",
        "W=P1*v1*n/(n-1)*((P2/P1)**((n-1)/n)-1)\n",
        "print(W)"
      ],
      "execution_count": 6,
      "outputs": [
        {
          "output_type": "stream",
          "text": [
            "110259.07686979533\n"
          ],
          "name": "stdout"
        }
      ]
    },
    {
      "cell_type": "code",
      "metadata": {
        "id": "UjasPs_gfewu",
        "colab_type": "code",
        "colab": {
          "base_uri": "https://localhost:8080/",
          "height": 34
        },
        "outputId": "608295a8-ea65-4136-9e3f-8340e9788d55"
      },
      "source": [
        "M=29/1000\n",
        "R=8.314\n",
        "T=298+25\n",
        "P=101325*3\n",
        "ro=P*M/(R*T)\n",
        "print('ro=',ro)"
      ],
      "execution_count": 7,
      "outputs": [
        {
          "output_type": "stream",
          "text": [
            "ro= 3.2826404937473512\n"
          ],
          "name": "stdout"
        }
      ]
    }
  ]
}