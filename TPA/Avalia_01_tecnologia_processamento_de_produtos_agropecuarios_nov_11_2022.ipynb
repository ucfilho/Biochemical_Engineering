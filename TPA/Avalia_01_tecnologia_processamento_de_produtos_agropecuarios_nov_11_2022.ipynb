{
  "nbformat": 4,
  "nbformat_minor": 0,
  "metadata": {
    "colab": {
      "provenance": [],
      "authorship_tag": "ABX9TyNoGNK7vBXxRCpjpN5p8vAK",
      "include_colab_link": true
    },
    "kernelspec": {
      "name": "python3",
      "display_name": "Python 3"
    },
    "language_info": {
      "name": "python"
    }
  },
  "cells": [
    {
      "cell_type": "markdown",
      "metadata": {
        "id": "view-in-github",
        "colab_type": "text"
      },
      "source": [
        "<a href=\"https://colab.research.google.com/github/ucfilho/Biochemical_Engineering/blob/master/TPA/Avalia_01_tecnologia_processamento_de_produtos_agropecuarios_nov_11_2022.ipynb\" target=\"_parent\"><img src=\"https://colab.research.google.com/assets/colab-badge.svg\" alt=\"Open In Colab\"/></a>"
      ]
    },
    {
      "cell_type": "markdown",
      "source": [
        "**Tecnologia de produtos agropecuários -avalia 01- nov 11 2022**"
      ],
      "metadata": {
        "id": "lvIiTJfBvYE9"
      }
    },
    {
      "cell_type": "markdown",
      "source": [
        "1) O processo de branqueamento é um tratamento térmico de alimentos realizado em temperatura constante ou variável mantida no intervalo de 60  a  100 graus celsius por um tempo  máximo 5 minutos seguido de resfriamento rápido que é utilizado  em alimentos como o milho e outros vegetais. Referente a tal tratamento discuta:\n",
        "a)\tSe o branqueamento destrói ou não microrganismos \n",
        "b)\t Se o branqueamento desnatura ou não enzimas \n",
        "c)\t Se o branqueamento altera de forma significava as reações químicas não enzimáticas como as transformações que caracterizam as propriedades do alimento\n"
      ],
      "metadata": {
        "id": "dJZxQNUsr6fn"
      }
    },
    {
      "cell_type": "code",
      "source": [
        "# a) o branqueamento não destrói os microrganismos no sentido de elimnar todos mas ele reduz a população \n",
        "#     total eliminando formas  vegetativas. Não é considerado um processo de esterilização porque na temperatura que \n",
        "#     é realizado seria necessário um  tempo maior para destruir os microrganismos ou, então, não é capaz de destruir \n",
        "#     os microrganismos na sua totalidade\n",
        "#  b) sim, desnatura. A desnaturação das enzimas (principalmente as associadas ao escurecimento enzimático) é a \n",
        "#     principal finalidade do mesmo.\n",
        "#  c) não altera, pois a temperatura do mesmo e tempo não são suficientes para gerar transformações químicas nos\n",
        "#     alimentos que são processados utizando este tipo de tratamento térmico"
      ],
      "metadata": {
        "id": "IdQD2Clcs_Xv"
      },
      "execution_count": 1,
      "outputs": []
    },
    {
      "cell_type": "markdown",
      "source": [
        "2) Doces pastosos, geleias e leite em pó são exemplos de alimentos que se conservam devido a baixa atividade de água. Explique poque estes alimentos têm baixa atividade de água e porque a baixa atividade de água faz com que eles não se deteriorem facilmente mesmo na temperatura ambiente.  "
      ],
      "metadata": {
        "id": "Zxo1lQ2msB8W"
      }
    },
    {
      "cell_type": "code",
      "execution_count": 2,
      "metadata": {
        "id": "7-Nkx-rImA_u"
      },
      "outputs": [],
      "source": [
        "# no caso do leite em pó a baixa atividade de água é conseguida pela retirada da água no processo de \n",
        "#  secagem do leite em spray drier. Já nos doces pastosos e geléia o teor de açúcar é principal razão \n",
        "#  da baixa atividade de água, mas há também perda da água durante o procesamento do alimento. \n",
        "\n",
        "# estes alimentos não se deterioram facilmente porque a água não se encontra disponível para o \n",
        "#  crescimento de bactérias e outros microrganismos e, também, para reações que envolvem a presença de água."
      ]
    },
    {
      "cell_type": "markdown",
      "source": [
        "3) Insetos e roedores podem ser chamados de formas de deterioração macrobiana de alimentos pelo fato de serem seres vivos não microscópios como bactérias e fungos que são considerados formas de deterioração microbianas capazes de deteriorar alimentos por processo de hidrólise enzimática. Referente a deterioração macrobiana e microbiana pede-se:\n",
        "a)\tCite um exemplo de ser  vivo que efetua deterioração macrobiana e discutindo que tipos de alimentos este ser vivo afeta e que tipos de problema esta deterioração causa. \n",
        "b)\tSobre a deterioração microbiana discuta a hidrólise enzimática em alimentos como forma de deterioração ou outra forma distinta desta apresentando detalhes do que acontece com o alimento nesta deterioração.\n"
      ],
      "metadata": {
        "id": "lXKbnnWZsEgO"
      }
    },
    {
      "cell_type": "code",
      "source": [
        "# a) o rato é um roedor que afeta a produção de grãos, frutas e diversos outros alimentos como alimentos \n",
        "#    processados #    seja no campo ou mesmo quando os ratos infestam o ambiente de produção ou armazenamento \n",
        "#    dos alimentos.  Além de reduzir a produção de grãos os ratos podem transmitir mais de 35 doenças como \n",
        "#    salmonelose e leptospirose associadas a bactérias na urina dos mesmos e, também, torna o alimento inadequado \n",
        "#    para o consumo pela falta da observação de normas sanitárias  dos alimentos que apresentam a contaminação \n",
        "#    por ação de ratos\n",
        "#\n",
        "#    Outra possível resposta é a contaminação de grãos por insetos como o Sitophilus granarius que ataca fejão, \n",
        "#    milho, arroz e outros  grãos consumindo o interior do grão (conteúdo de amido do mesmo) ou mesmo alimentos \n",
        "#    processados ricos em amido como o macarrão  estes insetos (besouros) tornam o alimento inadequado por perda \n",
        "#    do valor nutritivo, representar falta de observação de normas sanitárias ou mesmo por poderem trazer bactérias \n",
        "#    e fungos para o alimento\n",
        "#\n",
        "# b) A hidrólise enzimática gera ácidos graxos de odor desagradável pela degradação de lipídeos (triacilgliceróis) \n",
        "#    presentes  nas carnes de aves, peixe e carne de outros animais quando estão cru e armazenadas \n",
        "#     inadequadamente (por tempo maior que o  recomentado sem refrigeração em condições que favorece a proliferação \n",
        "#    de microrganismos) que produzem lipases e lipoxioxigenases.  Outras formas de deterioração  microbiana inclui a \n",
        "#    alteração de carboidratos  e proteínas que levam a alterações de textura, perda de valor nutritivo,\n",
        "#    formação de odores desagradáveis e mesmo a produção de toxinas. "
      ],
      "metadata": {
        "id": "Ta6OdFn8sKN2"
      },
      "execution_count": 3,
      "outputs": []
    },
    {
      "cell_type": "markdown",
      "source": [
        "4) Na fermentação de um fungo que tem interesse em ser utilizado como biocida foi encontrado o tempo de geração de 4h e o coeficiente de conversão de substrato em células de YX/S=0.5 g/g com Xo=10g/L e So=240 g/L. Referente a esta situação, calcule a velocidade específica de crescimento e quantos quilogramas de células que pode ser obtido no máximo para cada 10000 litros que se fermenta. "
      ],
      "metadata": {
        "id": "32vu4R2ksKif"
      }
    },
    {
      "cell_type": "code",
      "source": [
        "Yxs=0.5\n",
        "X0 = 10\n",
        "S0= 240\n",
        "S = 0\n",
        "Vol = 10000\n",
        "X = X0 + Yxs*(S0-S); print('X(g/L)=',X)\n",
        "m = X*Vol; print('massa (kg)', m/1000) \n",
        "tg = 4\n",
        "u = 0.693/tg; print('u(h-1)=',u)"
      ],
      "metadata": {
        "colab": {
          "base_uri": "https://localhost:8080/",
          "height": 0
        },
        "id": "AdyFVzZfxx2e",
        "outputId": "362c9b08-3842-4042-fba0-2025abfb1438"
      },
      "execution_count": 4,
      "outputs": [
        {
          "output_type": "stream",
          "name": "stdout",
          "text": [
            "X(g/L)= 130.0\n",
            "massa (kg) 1300.0\n",
            "u(h-1)= 0.17325\n"
          ]
        }
      ]
    },
    {
      "cell_type": "markdown",
      "source": [
        "4) Na fermentação de um fungo que tem interesse em ser utilizado como biocida foi encontrado o tempo de geração de 4h e o coeficiente de conversão de substrato em células de YX/S=0.5 g/g com Xo=10g/L e So=200 g/L. Referente a esta situação, calcule a velocidade específica de crescimento e quantos quilogramas de células que pode ser obtido no máximo para cada 10000 litros que se fermenta."
      ],
      "metadata": {
        "id": "-dVX7h9617JN"
      }
    },
    {
      "cell_type": "code",
      "source": [
        "Yxs=0.5\n",
        "X0 = 10\n",
        "S0= 200\n",
        "S = 0\n",
        "Vol = 10000\n",
        "X = X0 + Yxs*(S0-S); print('X(g/L)=',X)\n",
        "m = X*Vol; print('massa (kg)', m/1000) \n",
        "tg = 4\n",
        "u = 0.693/tg; print('u(h-1)=',u)"
      ],
      "metadata": {
        "id": "1E02nP1K2AgU",
        "colab": {
          "base_uri": "https://localhost:8080/",
          "height": 0
        },
        "outputId": "b6148d18-d1ee-429b-8445-b77841aa0958"
      },
      "execution_count": 5,
      "outputs": [
        {
          "output_type": "stream",
          "name": "stdout",
          "text": [
            "X(g/L)= 110.0\n",
            "massa (kg) 1100.0\n",
            "u(h-1)= 0.17325\n"
          ]
        }
      ]
    },
    {
      "cell_type": "markdown",
      "source": [
        "5) A apertização se não for executada de forma correta pode ocorrer rancidez oxidativa dos alimentos. Explique o que vem a ser apertização e rancidez oxidativa."
      ],
      "metadata": {
        "id": "3kSNzTZ-sP-Q"
      }
    },
    {
      "cell_type": "code",
      "source": [
        "#  A rancidez oxidativa é uma reação química não enzimática entre os lipídeos e oxigênio em alimentos levando \n",
        "#   a deterioração dos alimentos. Pode ocorrer em carnes, chocolates, manteiga entre outros alimentos que como \n",
        "#   resultado desta reação passam a apresentar  um sabor desagradável. A reação pode ocorrer por formações de radicais \n",
        "#  sendo que o aumento da temperatura é um dos fatores que favorece esta reação quando os alimentos são processados \n",
        "#  e há oxigênio disponível no alimento\n",
        "#\n",
        "#   A apertização consiste na esterilização comercial de alimentos acondicionados em embalagens herméticamente \n",
        "#   fechdas como latas de ervilha, milho ou mesmo outras embalagens como vidros e plásticos que sejam \n",
        "#   resistentes ao calor."
      ],
      "metadata": {
        "id": "Jor35hOQzjL8"
      },
      "execution_count": 6,
      "outputs": []
    },
    {
      "cell_type": "markdown",
      "source": [
        "5) Explique o que vem a ser rancidez oxidativa e como pode ser evitada a mesma."
      ],
      "metadata": {
        "id": "QBKod4L82LaU"
      }
    },
    {
      "cell_type": "code",
      "source": [
        "#  A rancidez oxidativa é uma reação química não enzimática entre os lipídeos e oxigênio em alimentos \n",
        "#   levando a deterioração dos alimentos. Pode ocorrer em carnes, chocolates, manteiga entre outros \n",
        "#   alimentos que como resultado desta reação passam a apresentar um sabor desagradável. A reação pode ocorrer \n",
        "#   por formações de radicais sendo que o aumento da temperatura é um dos fatores que \n",
        "#  favorece esta reação quando os alimentos são processados e há oxigênio disponível no alimento\n",
        "#\n",
        "#   A rancidez oxidativa pode ser evitada pelo o uso de aditivos como antioxidantes e redução do teor de oxigênio \n",
        "#   nos alimentos antes do processamento térmico como no caso de carnes enlatadas"
      ],
      "metadata": {
        "id": "7xbsZGFi2ySr"
      },
      "execution_count": 7,
      "outputs": []
    },
    {
      "cell_type": "markdown",
      "source": [
        "6) Considere o interesse em alterar a forma de processar o milho em lata que inicialmente era processado a uma temperatura constante de 110oC por nove minutos para atingir a redução de C. botulinum desejada. Qual deve ser o novo tempo necessário do processo a 1150C que garante a mesma redução da população microbiana? Considere D = 92.1 segundos a 110oC,  Z= 11.10C e que incialmente tinha 2000 esporos/lata."
      ],
      "metadata": {
        "id": "uFr7zel2sUQH"
      }
    },
    {
      "cell_type": "code",
      "source": [
        "import numpy as np\n",
        "N0 = 2000 # esporos/lata\n",
        "T1 = 110 # celsius\n",
        "Z = 11.1\n",
        "t1  = 9 #min\n",
        "D1 = 92.1/60 # min\n",
        "N = N0*10**(-t1/D1); print('N (esporos/lata)=',N)\n",
        "T2 = 115\n",
        "L = 10**((T2-T1)/Z)\n",
        "D2 = D1 / L; print('D2(min-1)=',D2)\n",
        "t2 = D2*(np.log10(N0)-np.log10(N));print('t2(min)=',t2)"
      ],
      "metadata": {
        "colab": {
          "base_uri": "https://localhost:8080/",
          "height": 0
        },
        "id": "CMHqiDIR1KHl",
        "outputId": "e3d734cb-27c1-4606-d238-ef49bebf9e41"
      },
      "execution_count": 8,
      "outputs": [
        {
          "output_type": "stream",
          "name": "stdout",
          "text": [
            "N (esporos/lata)= 0.0027405505255370254\n",
            "D2(min-1)= 0.5440739459544616\n",
            "t2(min)= 3.19001010657339\n"
          ]
        }
      ]
    },
    {
      "cell_type": "markdown",
      "source": [
        "6) Considere o interesse em alterar a forma de processar o milho em lata que inicialmente era processado a uma temperatura constante de 110oC por oito minutos para atingir a redução de C. botulinum desejada. Qual deve ser o novo tempo necessário do processo a 1150C que garante a mesma redução da população microbiana? Considere D = 92.1 segundos a 110oC, Z= 11.10C e que incialmente tinha 1000 esporos/lata."
      ],
      "metadata": {
        "id": "UgA6f1in2WbC"
      }
    },
    {
      "cell_type": "code",
      "source": [
        "N0 = 1000 # esporos/lata\n",
        "T1 = 110 # celsius\n",
        "Z = 11.1\n",
        "t1  = 8 #min\n",
        "D1 = 92.1/60 # min\n",
        "N = N0*10**(-t1/D1); print('N (esporos/lata)=',N)\n",
        "T2 = 115\n",
        "L = 10**((T2-T1)/Z)\n",
        "D2 = D1 / L; print('D2(min-1)=',D2)\n",
        "t2 = D2*(np.log10(N0)-np.log10(N));print('t2(min)=',t2)"
      ],
      "metadata": {
        "id": "GN84Xrn02ctr",
        "colab": {
          "base_uri": "https://localhost:8080/",
          "height": 0
        },
        "outputId": "5c433223-fcf2-4960-de7a-4d7d4487715f"
      },
      "execution_count": 9,
      "outputs": [
        {
          "output_type": "stream",
          "name": "stdout",
          "text": [
            "N (esporos/lata)= 0.00614148811353787\n",
            "D2(min-1)= 0.5440739459544616\n",
            "t2(min)= 2.8355645391763473\n"
          ]
        }
      ]
    },
    {
      "cell_type": "markdown",
      "source": [
        "Formulário:\n",
        "\n",
        "Yx/s = (X-Xo)/(So-S)     u=0.693/tg      X= massa_celulas/volume  S = massa_substrato/volume  \n",
        "\n",
        "t=D(logNo -logN)       N = No.10-t/D        Z = (T2-T1)/(logD1 -logD2)        D1 = D2 10^(T2-T1)/Z\n"
      ],
      "metadata": {
        "id": "GK7Y1kfNsZCe"
      }
    }
  ]
}