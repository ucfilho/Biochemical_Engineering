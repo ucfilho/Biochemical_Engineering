{
  "nbformat": 4,
  "nbformat_minor": 0,
  "metadata": {
    "colab": {
      "name": "Agitacao e Mistura Exame Nacional de Cursos.ipynb",
      "provenance": [],
      "authorship_tag": "ABX9TyMEvS820ikhWyZRu1BPFIHh",
      "include_colab_link": true
    },
    "kernelspec": {
      "name": "python3",
      "display_name": "Python 3"
    },
    "language_info": {
      "name": "python"
    }
  },
  "cells": [
    {
      "cell_type": "markdown",
      "metadata": {
        "id": "view-in-github",
        "colab_type": "text"
      },
      "source": [
        "<a href=\"https://colab.research.google.com/github/ucfilho/Biochemical_Engineering/blob/master/Agitacao_e_Mistura_Exame_Nacional_de_Cursos%20mar%2022%202021.ipynb\" target=\"_parent\"><img src=\"https://colab.research.google.com/assets/colab-badge.svg\" alt=\"Open In Colab\"/></a>"
      ]
    },
    {
      "cell_type": "code",
      "metadata": {
        "colab": {
          "base_uri": "https://localhost:8080/"
        },
        "id": "xo77QQaLU6Ru",
        "outputId": "4e4e7faf-e39f-4cd2-f9cb-a9153e0b494b"
      },
      "source": [
        "Nrps = 50/60\n",
        "Np = 1.7\n",
        "ro = 1800\n",
        "mu = 1.5e-2\n",
        "di = 0.7\n",
        "Re = ro*di**2*Nrps/mu\n",
        "Pot = Np*ro*di**5*Nrps**3\n",
        "print('=====para 50 rpm====')\n",
        "print('Re =',Re)\n",
        "print('Pot =',Pot,'watts')\n",
        "Nrps = 80/60\n",
        "Re = ro*di**2*Nrps/mu\n",
        "Pot = Np*ro*di**5*Nrps**3\n",
        "print('=====para 80 rpm ====')\n",
        "print('Re =',Re)\n",
        "print('Pot =',Pot,'watts')"
      ],
      "execution_count": 3,
      "outputs": [
        {
          "output_type": "stream",
          "text": [
            "=====para 50 rpm====\n",
            "Re = 48999.99999999999\n",
            "Pot = 297.6239583333333 watts\n",
            "=====para 80 rpm ====\n",
            "Re = 78399.99999999999\n",
            "Pot = 1219.0677333333326 watts\n"
          ],
          "name": "stdout"
        }
      ]
    }
  ]
}