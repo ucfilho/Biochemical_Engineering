{
  "nbformat": 4,
  "nbformat_minor": 0,
  "metadata": {
    "colab": {
      "name": "Esteriliza_valor_D_calculo_experimental_maio_30_2022.ipynb",
      "provenance": [],
      "authorship_tag": "ABX9TyO3+/kJHV6vxzky8pg7R+O1",
      "include_colab_link": true
    },
    "kernelspec": {
      "name": "python3",
      "display_name": "Python 3"
    },
    "language_info": {
      "name": "python"
    }
  },
  "cells": [
    {
      "cell_type": "markdown",
      "metadata": {
        "id": "view-in-github",
        "colab_type": "text"
      },
      "source": [
        "<a href=\"https://colab.research.google.com/github/ucfilho/Biochemical_Engineering/blob/master/class_april_ago_2022/Esteriliza_valor_D_calculo_experimental_maio_30_2022.ipynb\" target=\"_parent\"><img src=\"https://colab.research.google.com/assets/colab-badge.svg\" alt=\"Open In Colab\"/></a>"
      ]
    },
    {
      "cell_type": "code",
      "execution_count": 1,
      "metadata": {
        "id": "VIvtVEe4Nxaz"
      },
      "outputs": [],
      "source": [
        "import numpy as np\n",
        "from sklearn import linear_model\n"
      ]
    },
    {
      "cell_type": "code",
      "source": [
        "D= 92.1\n",
        "N0 = 1e6\n",
        "x =np.array([60,120,180,240]).reshape(-1,1)\n",
        "y = np.array([2.33e5,4.97e4,1.11e4,2.48e3]).reshape(-1,1)\n",
        "N= N0*10**(-x/D);print(N)\n",
        "y = np.log10(y)\n",
        "model = linear_model.LinearRegression(fit_intercept=True)\n",
        "model.fit(x, y)\n",
        "print('Valor D=',-1/model.coef_)\n",
        "print('r^2',model.score(x, y))"
      ],
      "metadata": {
        "colab": {
          "base_uri": "https://localhost:8080/"
        },
        "id": "cuTU2lXeN0HL",
        "outputId": "69c3ff55-720e-4773-880f-d4f4c528d141"
      },
      "execution_count": 2,
      "outputs": [
        {
          "output_type": "stream",
          "name": "stdout",
          "text": [
            "[[223117.79123173]\n",
            " [ 49781.54876413]\n",
            " [ 11107.14920435]\n",
            " [  2478.20259736]]\n",
            "Valor D= [[91.32772988]]\n",
            "r^2 0.9999439827422613\n"
          ]
        }
      ]
    }
  ]
}