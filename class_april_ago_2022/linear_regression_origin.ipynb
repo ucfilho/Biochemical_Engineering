{
  "nbformat": 4,
  "nbformat_minor": 0,
  "metadata": {
    "colab": {
      "name": "linear_regression_origin.ipynb",
      "provenance": [],
      "authorship_tag": "ABX9TyMEO1noCWYSi8cKNfd2Mq7V",
      "include_colab_link": true
    },
    "kernelspec": {
      "name": "python3",
      "display_name": "Python 3"
    },
    "language_info": {
      "name": "python"
    }
  },
  "cells": [
    {
      "cell_type": "markdown",
      "metadata": {
        "id": "view-in-github",
        "colab_type": "text"
      },
      "source": [
        "<a href=\"https://colab.research.google.com/github/ucfilho/Biochemical_Engineering/blob/master/class_april_ago_2022/linear_regression_origin.ipynb\" target=\"_parent\"><img src=\"https://colab.research.google.com/assets/colab-badge.svg\" alt=\"Open In Colab\"/></a>"
      ]
    },
    {
      "cell_type": "code",
      "execution_count": 8,
      "metadata": {
        "colab": {
          "base_uri": "https://localhost:8080/"
        },
        "id": "IJoRcnliFBiI",
        "outputId": "4bfcce72-e80f-4d96-8ddb-0a67a74343b3"
      },
      "outputs": [
        {
          "output_type": "stream",
          "name": "stdout",
          "text": [
            "[[2.]]\n"
          ]
        }
      ],
      "source": [
        "import numpy as np\n",
        "from sklearn import linear_model\n",
        "\n",
        "x = np.array([1, 2, 3, 4]).reshape(-1,1)\n",
        "y = np.array([2, 4, 6, 8]).reshape(-1,1)\n",
        "model = linear_model.LinearRegression(fit_intercept=True)\n",
        "model.fit(x, y)\n",
        "print(model.coef_)"
      ]
    }
  ]
}