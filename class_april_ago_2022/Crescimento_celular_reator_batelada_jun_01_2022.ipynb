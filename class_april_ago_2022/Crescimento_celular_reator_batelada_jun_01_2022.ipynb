{
  "nbformat": 4,
  "nbformat_minor": 0,
  "metadata": {
    "colab": {
      "name": "Crescimento_celular_reator_batelada_jun_01_2022.ipynb",
      "provenance": [],
      "authorship_tag": "ABX9TyNKstUBXjd18f2njcYnlEQh",
      "include_colab_link": true
    },
    "kernelspec": {
      "name": "python3",
      "display_name": "Python 3"
    },
    "language_info": {
      "name": "python"
    }
  },
  "cells": [
    {
      "cell_type": "markdown",
      "metadata": {
        "id": "view-in-github",
        "colab_type": "text"
      },
      "source": [
        "<a href=\"https://colab.research.google.com/github/ucfilho/Biochemical_Engineering/blob/master/class_april_ago_2022/Crescimento_celular_reator_batelada_jun_01_2022.ipynb\" target=\"_parent\"><img src=\"https://colab.research.google.com/assets/colab-badge.svg\" alt=\"Open In Colab\"/></a>"
      ]
    },
    {
      "cell_type": "code",
      "metadata": {
        "id": "kStRfPXfGN-g"
      },
      "source": [
        "import numpy as np\n",
        "import matplotlib.pyplot as plt\n",
        "import pandas as pd"
      ],
      "execution_count": 1,
      "outputs": []
    },
    {
      "cell_type": "markdown",
      "metadata": {
        "id": "s-NczbuVDxpB"
      },
      "source": [
        "Para um reator batelada com So = 100 g/L, Xo =10 e Yxs= 0.5, calcule qual o tempo para o qual concentracao de  substrato  se torna 1 g/L. Considere mM = 0.25 h-1, Ks =2 g/L"
      ]
    },
    {
      "cell_type": "code",
      "metadata": {
        "id": "Bhr4BPMFEFmi"
      },
      "source": [
        "Ks = 2\n",
        "mi = 0.25\n",
        "Yxs= 0.5\n",
        "S0 = 100\n",
        "X0 = 10\n",
        "S = 1"
      ],
      "execution_count": 2,
      "outputs": []
    },
    {
      "cell_type": "code",
      "metadata": {
        "colab": {
          "base_uri": "https://localhost:8080/"
        },
        "id": "AmU0pWm7Fvbx",
        "outputId": "caa270a0-f76d-414d-8a96-192582395775"
      },
      "source": [
        "A = (X0+Yxs*(S0+Ks))/(X0+Yxs*S0)\n",
        "B = Yxs*Ks/(X0+Yxs*S0)\n",
        "print(\"A=\",A)\n",
        "print(\"B=\",B)"
      ],
      "execution_count": 3,
      "outputs": [
        {
          "output_type": "stream",
          "name": "stdout",
          "text": [
            "A= 1.0166666666666666\n",
            "B= 0.016666666666666666\n"
          ]
        }
      ]
    },
    {
      "cell_type": "code",
      "source": [
        "arrayS = [100,95, 90, 80, 70, 60, 50, 40, 10,5,2,1,0.5,0.1,0.001]"
      ],
      "metadata": {
        "id": "0UaIln9e2QuL"
      },
      "execution_count": 4,
      "outputs": []
    },
    {
      "cell_type": "code",
      "metadata": {
        "id": "2b9b9LYSGpWy"
      },
      "source": [
        "arrayX =[]\n",
        "arrayT = []\n",
        "for S in arrayS:\n",
        "  X = X0 + Yxs*(S0-S)\n",
        "  t = 1/mi*(A*np.log(X/X0)-B*np.log(S/S0))\n",
        "  arrayX.append(X)\n",
        "  arrayT.append(t)\n"
      ],
      "execution_count": 5,
      "outputs": []
    },
    {
      "cell_type": "code",
      "metadata": {
        "id": "QzytuzAeG6iM"
      },
      "source": [
        "Num = len(arrayS)\n",
        "arrayMI =[]\n",
        "arrayMI.append(0)\n",
        "for i in range(Num-1):\n",
        "  deltaT= arrayT[i+1]-arrayT[i]\n",
        "  X = arrayX[i+1]\n",
        "  X0 = arrayX[i]\n",
        "  MI = np.log(X/X0)*(1/deltaT)\n",
        "  arrayMI.append(MI)\n"
      ],
      "execution_count": 6,
      "outputs": []
    },
    {
      "cell_type": "code",
      "metadata": {
        "id": "R_X7kXZODG6U",
        "colab": {
          "base_uri": "https://localhost:8080/",
          "height": 297
        },
        "outputId": "f3aeb001-c12c-463c-a9cd-c1e071272475"
      },
      "source": [
        "plt.plot(arrayT,arrayMI)\n",
        "plt.xlabel('tempo(h)')\n",
        "plt.ylabel('μ (1/h)')"
      ],
      "execution_count": 7,
      "outputs": [
        {
          "output_type": "execute_result",
          "data": {
            "text/plain": [
              "Text(0, 0.5, 'μ (1/h)')"
            ]
          },
          "metadata": {},
          "execution_count": 7
        },
        {
          "output_type": "display_data",
          "data": {
            "text/plain": [
              "<Figure size 432x288 with 1 Axes>"
            ],
            "image/png": "[encoded data removed]"
          },
          "metadata": {
            "needs_background": "light"
          }
        }
      ]
    },
    {
      "cell_type": "code",
      "source": [
        "plt.plot(arrayT,arrayX)\n",
        "plt.xlabel('tempo(h)')\n",
        "plt.ylabel('X(g/L)')"
      ],
      "metadata": {
        "colab": {
          "base_uri": "https://localhost:8080/",
          "height": 297
        },
        "id": "3sqaGC0s4dBL",
        "outputId": "97add57b-19ff-4dfe-dd0d-2a717497729e"
      },
      "execution_count": 8,
      "outputs": [
        {
          "output_type": "execute_result",
          "data": {
            "text/plain": [
              "Text(0, 0.5, 'X(g/L)')"
            ]
          },
          "metadata": {},
          "execution_count": 8
        },
        {
          "output_type": "display_data",
          "data": {
            "text/plain": [
              "<Figure size 432x288 with 1 Axes>"
            ],
            "image/png": "[encoded data removed]"
          },
          "metadata": {
            "needs_background": "light"
          }
        }
      ]
    },
    {
      "cell_type": "code",
      "source": [
        "plt.plot(arrayT,arrayS)\n",
        "plt.xlabel('tempo (h)')\n",
        "plt.ylabel('S(g/L)')"
      ],
      "metadata": {
        "colab": {
          "base_uri": "https://localhost:8080/",
          "height": 297
        },
        "id": "yrU-67iG5AiF",
        "outputId": "6c1a9351-c599-4a82-9095-0eb993ad13d5"
      },
      "execution_count": 9,
      "outputs": [
        {
          "output_type": "execute_result",
          "data": {
            "text/plain": [
              "Text(0, 0.5, 'S(g/L)')"
            ]
          },
          "metadata": {},
          "execution_count": 9
        },
        {
          "output_type": "display_data",
          "data": {
            "text/plain": [
              "<Figure size 432x288 with 1 Axes>"
            ],
            "image/png": "[encoded data removed]"
          },
          "metadata": {
            "needs_background": "light"
          }
        }
      ]
    },
    {
      "cell_type": "code",
      "source": [
        "df = pd.DataFrame({'t':arrayT, 'S':arrayS,'X':arrayX,'mi':arrayMI})\n",
        "Arq = \"output.xlsx\"\n",
        "df.to_excel(Arq)\n",
        "from google.colab import files\n",
        "files.download(Arq)"
      ],
      "metadata": {
        "colab": {
          "base_uri": "https://localhost:8080/",
          "height": 17
        },
        "id": "g90JucdM56RK",
        "outputId": "e2746757-aaeb-4738-cdec-f38519b7f5ce"
      },
      "execution_count": 10,
      "outputs": [
        {
          "output_type": "display_data",
          "data": {
            "text/plain": [
              "<IPython.core.display.Javascript object>"
            ],
            "application/javascript": [
              "\n",
              "    async function download(id, filename, size) {\n",
              "      if (!google.colab.kernel.accessAllowed) {\n",
              "        return;\n",
              "      }\n",
              "      const div = document.createElement('div');\n",
              "      const label = document.createElement('label');\n",
              "      label.textContent = `Downloading \"${filename}\": `;\n",
              "      div.appendChild(label);\n",
              "      const progress = document.createElement('progress');\n",
              "      progress.max = size;\n",
              "      div.appendChild(progress);\n",
              "      document.body.appendChild(div);\n",
              "\n",
              "      const buffers = [];\n",
              "      let downloaded = 0;\n",
              "\n",
              "      const channel = await google.colab.kernel.comms.open(id);\n",
              "      // Send a message to notify the kernel that we're ready.\n",
              "      channel.send({})\n",
              "\n",
              "      for await (const message of channel.messages) {\n",
              "        // Send a message to notify the kernel that we're ready.\n",
              "        channel.send({})\n",
              "        if (message.buffers) {\n",
              "          for (const buffer of message.buffers) {\n",
              "            buffers.push(buffer);\n",
              "            downloaded += buffer.byteLength;\n",
              "            progress.value = downloaded;\n",
              "          }\n",
              "        }\n",
              "      }\n",
              "      const blob = new Blob(buffers, {type: 'application/binary'});\n",
              "      const a = document.createElement('a');\n",
              "      a.href = window.URL.createObjectURL(blob);\n",
              "      a.download = filename;\n",
              "      div.appendChild(a);\n",
              "      a.click();\n",
              "      div.remove();\n",
              "    }\n",
              "  "
            ]
          },
          "metadata": {}
        },
        {
          "output_type": "display_data",
          "data": {
            "text/plain": [
              "<IPython.core.display.Javascript object>"
            ],
            "application/javascript": [
              "download(\"download_46bb51e0-8c76-4a73-8b9b-59eeaeab3723\", \"output.xlsx\", 5627)"
            ]
          },
          "metadata": {}
        }
      ]
    }
  ]
}