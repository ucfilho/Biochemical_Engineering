{
  "nbformat": 4,
  "nbformat_minor": 0,
  "metadata": {
    "colab": {
      "name": "Esterilizacao_Exercicios_Alimentos_maio_28_2022.ipynb",
      "provenance": [],
      "authorship_tag": "ABX9TyOzr83ZNEi8azUpNRom67V8",
      "include_colab_link": true
    },
    "kernelspec": {
      "name": "python3",
      "display_name": "Python 3"
    },
    "language_info": {
      "name": "python"
    }
  },
  "cells": [
    {
      "cell_type": "markdown",
      "metadata": {
        "id": "view-in-github",
        "colab_type": "text"
      },
      "source": [
        "<a href=\"https://colab.research.google.com/github/ucfilho/Biochemical_Engineering/blob/master/class_april_ago_2022/Esterilizacao_Exercicios_Alimentos_maio_28_2022.ipynb\" target=\"_parent\"><img src=\"https://colab.research.google.com/assets/colab-badge.svg\" alt=\"Open In Colab\"/></a>"
      ]
    },
    {
      "cell_type": "code",
      "execution_count": 1,
      "metadata": {
        "id": "c3xOYAG3w_oa"
      },
      "outputs": [],
      "source": [
        "import numpy as np\n",
        "from numpy import log10 as log"
      ]
    },
    {
      "cell_type": "markdown",
      "source": [
        "1)\tMilho em lata deve ser processado termicamente a uma temperatura constante de 110oC até que uma redução de 99,999% do C. botulinum seja atingida. Qual deve ser o tempo necessário do processo a essa temperatura para atingir o valor de esterilização desejado?  Considere D = 92.1 segundos e que inicialmente tinha 1000 esporos/lata "
      ],
      "metadata": {
        "id": "gfHDDX3B0SnR"
      }
    },
    {
      "cell_type": "code",
      "source": [
        "# reducao = 99,999%\n",
        "# sobra = 100 - 99,999 =0.001%\n",
        "# Ninicio = 1000 esporos/lata \n",
        "# Nfinal = 1000* 0.001/100 = 0.01 esporos/lata\n",
        "# D = 92.1 segundos sinfifica q cada vez q passa este tempo reduz em 10 vezes \n",
        "# t = 0 --> N = 1000 esporos/lata\n",
        "# t = 92.1 s --> N = 100 esporos/lata\n",
        "# t = 184.2 s--> N = 10 esporos/lata\n",
        "# ...\n",
        "# t = 460.5 s --> N = 0.01 esporos/lata\n",
        "# voce pode calcular de forma direta usando a equacao \n",
        "# t = D*(log(N0)-log(N))= 92.1*(lot(1000)-log(0.01))\n",
        "# Note que 0.001%=0.001/100 = 10^(-5) e t = D*5 = 460.5 segundos\n",
        "#      ou seja também é possível fazer o cálculo utilizando o valor da percentagem\n",
        "D = 92.1\n",
        "N0 = 1000; perc = 99.999\n",
        "N = N0*(1-perc/100)\n",
        "t = D*(log(N0)-log(N))\n",
        "print('N=',N)\n",
        "print('t=',t)\n",
        "print('5D=',D*5,'s',D*5/60,'min')"
      ],
      "metadata": {
        "colab": {
          "base_uri": "https://localhost:8080/"
        },
        "id": "tA_T9GuU0Rrq",
        "outputId": "98dee994-6e9b-4083-be8e-ca3deee0519c"
      },
      "execution_count": 11,
      "outputs": [
        {
          "output_type": "stream",
          "name": "stdout",
          "text": [
            "N= 0.010000000000065512\n",
            "t= 460.4999999997379\n",
            "5D= 460.5 s 7.675 min\n"
          ]
        }
      ]
    },
    {
      "cell_type": "markdown",
      "source": [
        "2)\tCaso se queira reduzir o tempo de processo pode-se aumentar a temperatura. Calcule o valor D para uma nova temperatura de 121,1oC  considerando que Z = 11.1 oC"
      ],
      "metadata": {
        "id": "sxsgSA0H5pKn"
      }
    },
    {
      "cell_type": "code",
      "source": [
        "# z = (T1-T2)/(logD2-logD1) ou se preferir \n",
        "#        z = -(T2-T1)/(logD2-logD1) = - (T2-T1)/log(D2/D1)\n",
        "# assim logD2- logD1 = (T1-T2)/z --> logD2 = (T1-T2)/z+logD1\n",
        "# logD2 = 0.96426 --> D2 = 10^(0.9642) = 9.21 segundos\n",
        "D1 = 92.1\n",
        "z = 11.1; T1 =110; T2 = 121.1\n",
        "logD2 = (T1-T2)/z+log(D1)\n",
        "print('logD2=',logD2)\n",
        "print('D2=',10**logD2,'s')"
      ],
      "metadata": {
        "colab": {
          "base_uri": "https://localhost:8080/"
        },
        "id": "GnkRUVNv5rBC",
        "outputId": "f9b5f933-fd0b-435a-8058-b8ee29d9905c"
      },
      "execution_count": 14,
      "outputs": [
        {
          "output_type": "stream",
          "name": "stdout",
          "text": [
            "logD2= 0.9642596301968493\n",
            "D2= 9.21000000000001 s\n"
          ]
        }
      ]
    },
    {
      "cell_type": "markdown",
      "source": [
        "3)\tCalcule o tempo de tratamento térmico para redução de 99,999% do C. botulinum seja atingida para 121,1oC  "
      ],
      "metadata": {
        "id": "8vKdxbOoL3P1"
      }
    },
    {
      "cell_type": "code",
      "source": [
        "D = 9.21\n",
        "N0 = 1000; perc = 99.999\n",
        "N = N0*(1-perc/100)\n",
        "t = D*(log(N0)-log(N))\n",
        "print('N=',N)\n",
        "print('t=',t)\n",
        "print('5D=',D*5,'s =',D*5/60,'min')"
      ],
      "metadata": {
        "colab": {
          "base_uri": "https://localhost:8080/"
        },
        "id": "MyLnnTvtL8ZV",
        "outputId": "a6d8d940-8840-42a9-e61e-bb23fbb8be29"
      },
      "execution_count": 15,
      "outputs": [
        {
          "output_type": "stream",
          "name": "stdout",
          "text": [
            "N= 0.010000000000065512\n",
            "t= 46.04999999997379\n",
            "5D= 46.050000000000004 s = 0.7675000000000001 min\n"
          ]
        }
      ]
    }
  ]
}