{
  "nbformat": 4,
  "nbformat_minor": 0,
  "metadata": {
    "colab": {
      "name": "Untitled80.ipynb",
      "provenance": [],
      "authorship_tag": "ABX9TyPOjBs6Y+JcJeZhQ04S7UUA",
      "include_colab_link": true
    },
    "kernelspec": {
      "name": "python3",
      "display_name": "Python 3"
    }
  },
  "cells": [
    {
      "cell_type": "markdown",
      "metadata": {
        "id": "view-in-github",
        "colab_type": "text"
      },
      "source": [
        "<a href=\"https://colab.research.google.com/github/ucfilho/Biochemical_Engineering/blob/master/Agitacao_Mistura_nov_06_2020.ipynb\" target=\"_parent\"><img src=\"https://colab.research.google.com/assets/colab-badge.svg\" alt=\"Open In Colab\"/></a>"
      ]
    },
    {
      "cell_type": "code",
      "metadata": {
        "id": "PLDp_YPO2r3s"
      },
      "source": [
        "import numpy as np"
      ],
      "execution_count": 3,
      "outputs": []
    },
    {
      "cell_type": "code",
      "metadata": {
        "id": "tb7V6z_b2vZJ",
        "outputId": "4128d2a8-6778-42e5-ffb1-2e2021c1fb1f",
        "colab": {
          "base_uri": "https://localhost:8080/"
        }
      },
      "source": [
        "Vol =100000/1000\n",
        "d = (4*Vol/np.pi)**(1/3); print('d=',d,'metros')\n",
        "di = d/3.0 ; print('di=',di,'metros')\n",
        "ro = 1000\n",
        "Np = 1.27\n",
        "Nrps=80/60\n",
        "mi=1e-3\n",
        "Pot = Np*ro*di**5*Nrps**3; print('Pot=',Pot,'Watts')\n",
        "Re = ro*di**2*Nrps/mi; print('Re =',Re)\n",
        "fs =1.2\n",
        "Pmot = Pot* fs; print('Pmot=',Pmot,'W')\n",
        "Pmot = Pmot/ 745.7 ; print('Pmot=',Pmot,'HP')\n"
      ],
      "execution_count": 6,
      "outputs": [
        {
          "output_type": "stream",
          "text": [
            "d= 5.030795991604358 metros\n",
            "di= 1.6769319972014527 metros\n",
            "Pot= 39920.6117842633 Watts\n",
            "Re = 3749467.8976507373\n",
            "Pmot= 47904.734141115965 W\n",
            "Pmot= 64.24129561635505 HP\n"
          ],
          "name": "stdout"
        }
      ]
    }
  ]
}