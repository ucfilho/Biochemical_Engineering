{
  "nbformat": 4,
  "nbformat_minor": 0,
  "metadata": {
    "colab": {
      "name": "Questoes_Avalia_set_29_2020",
      "provenance": [],
      "collapsed_sections": [],
      "authorship_tag": "ABX9TyP2y9ViR7nGHNs05DfG5R3f",
      "include_colab_link": true
    },
    "kernelspec": {
      "name": "python3",
      "display_name": "Python 3"
    }
  },
  "cells": [
    {
      "cell_type": "markdown",
      "metadata": {
        "id": "view-in-github",
        "colab_type": "text"
      },
      "source": [
        "<a href=\"https://colab.research.google.com/github/ucfilho/Biochemical_Engineering/blob/master/Questoes_Avalia_set_29_2020.ipynb\" target=\"_parent\"><img src=\"https://colab.research.google.com/assets/colab-badge.svg\" alt=\"Open In Colab\"/></a>"
      ]
    },
    {
      "cell_type": "code",
      "metadata": {
        "id": "V_X2JDBz2ZEC"
      },
      "source": [
        "import numpy as np"
      ],
      "execution_count": 1,
      "outputs": []
    },
    {
      "cell_type": "code",
      "metadata": {
        "id": "G8AQ5sqV1xXh",
        "outputId": "65c96310-04ad-4326-e9fc-605663381a29",
        "colab": {
          "base_uri": "https://localhost:8080/",
          "height": 35
        }
      },
      "source": [
        "T=130\n",
        "k=3.73e-4*np.exp(0.085875*T)\n",
        "print(k)"
      ],
      "execution_count": 2,
      "outputs": [
        {
          "output_type": "stream",
          "text": [
            "26.30654747651343\n"
          ],
          "name": "stdout"
        }
      ]
    },
    {
      "cell_type": "code",
      "metadata": {
        "id": "xU062EE12uWA",
        "outputId": "d89c20f3-2464-41cd-a802-8051f93a4091",
        "colab": {
          "base_uri": "https://localhost:8080/",
          "height": 35
        }
      },
      "source": [
        "ro=1000\n",
        "u=0.6\n",
        "mi=0.001\n",
        "d=0.1\n",
        "Re=ro*u*d/mi;print(Re)"
      ],
      "execution_count": 3,
      "outputs": [
        {
          "output_type": "stream",
          "text": [
            "60000.0\n"
          ],
          "name": "stdout"
        }
      ]
    },
    {
      "cell_type": "code",
      "metadata": {
        "id": "BBjlnzjj3r4b",
        "outputId": "62875bb8-bc72-4969-b0f2-d713557aa6a2",
        "colab": {
          "base_uri": "https://localhost:8080/",
          "height": 107
        }
      },
      "source": [
        "A=np.pi*d**2/4\n",
        "N0_N=1e12\n",
        "theta=1/k*np.log(N0_N);print(theta)\n",
        "L=theta*60*u;print(L)\n",
        "Flow=u*A;print(Flow)\n",
        "Fproc=3500/(24*60*60);print(Fproc)\n",
        "N=Fproc/Flow;print(N)"
      ],
      "execution_count": 4,
      "outputs": [
        {
          "output_type": "stream",
          "text": [
            "1.0503476801962557\n",
            "37.8125164870652\n",
            "0.00471238898038469\n",
            "0.04050925925925926\n",
            "8.59633180280299\n"
          ],
          "name": "stdout"
        }
      ]
    },
    {
      "cell_type": "code",
      "metadata": {
        "id": "joGqZGXd5QLk",
        "outputId": "1395f4c9-8e7b-4c67-aa5f-ed4e77cd1d31",
        "colab": {
          "base_uri": "https://localhost:8080/",
          "height": 35
        }
      },
      "source": [
        "p=100*1e3*3500*1e6*1e-12;print(p)\n"
      ],
      "execution_count": 5,
      "outputs": [
        {
          "output_type": "stream",
          "text": [
            "350.0\n"
          ],
          "name": "stdout"
        }
      ]
    },
    {
      "cell_type": "code",
      "metadata": {
        "id": "rXU603rH7BQU"
      },
      "source": [
        "# questao 02"
      ],
      "execution_count": 6,
      "outputs": []
    },
    {
      "cell_type": "code",
      "metadata": {
        "id": "qkreVPfl7EQA",
        "outputId": "0d7f8321-f24b-4ea9-b5bf-2240054b4c66",
        "colab": {
          "base_uri": "https://localhost:8080/",
          "height": 89
        }
      },
      "source": [
        "V=20\n",
        "d=(4*V/np.pi)**(1/3)\n",
        "print(d)\n",
        "di=d/3;print(di)\n",
        "N=60/60\n",
        "mi=1e-3\n",
        "ro=900\n",
        "Np=5\n",
        "pot=Np*ro*di**5*N**3;print(pot)\n",
        "Re=ro*d**2*u/mi;print(Re)"
      ],
      "execution_count": 7,
      "outputs": [
        {
          "output_type": "stream",
          "text": [
            "2.942027343356266\n",
            "0.9806757811187553\n",
            "4081.6876182168285\n",
            "4673983.440090202\n"
          ],
          "name": "stdout"
        }
      ]
    },
    {
      "cell_type": "code",
      "metadata": {
        "id": "m8TrlAh48Gfs",
        "outputId": "41bbe856-30b2-4057-ece3-8ad40a3b39d6",
        "colab": {
          "base_uri": "https://localhost:8080/",
          "height": 53
        }
      },
      "source": [
        "Q=0.8*V/60\n",
        "Na=Q/(N*di**3);print(Na)\n",
        "Pg_P=0.58\n",
        "Pg=Pg_P*pot;print(Pg)"
      ],
      "execution_count": 8,
      "outputs": [
        {
          "output_type": "stream",
          "text": [
            "0.2827433388230814\n",
            "2367.3788185657604\n"
          ],
          "name": "stdout"
        }
      ]
    },
    {
      "cell_type": "code",
      "metadata": {
        "id": "UWbWVCOiblT1",
        "outputId": "cb7fb93e-eccf-48fb-882e-cd1ab9972c8d",
        "colab": {
          "base_uri": "https://localhost:8080/",
          "height": 160
        }
      },
      "source": [
        "# questao 3\n",
        "di=1.4\n",
        "N=50/60\n",
        "ro=1800\n",
        "Np=0.6\n",
        "nq=0.7\n",
        "mi=1.5e-2\n",
        "Re=ro*di**2*N/mi;print('Re=',Re)\n",
        "pot=Np*ro*di**5*N**3;print('Pot=',pot)\n",
        "pg=pot*nq;print('Pg=',pg)\n",
        "T=pg/(2*np.pi*N);print('T=',T)\n",
        "N=80/60\n",
        "\n",
        "pot=Np*ro*di**5*N**3;print('pot=',pot)\n",
        "pg=pot*nq;print('pg=',pg)\n",
        "Re=ro*di**2*N/mi;print('Re=',Re)\n",
        "T=pg/(2*np.pi*N);print('T=',T)"
      ],
      "execution_count": 9,
      "outputs": [
        {
          "output_type": "stream",
          "text": [
            "Re= 195999.99999999997\n",
            "Pot= 3361.3999999999996\n",
            "Pg= 2352.9799999999996\n",
            "T= 449.3860775956414\n",
            "pot= 13768.294399999993\n",
            "pg= 9637.806079999995\n",
            "Re= 313599.99999999994\n",
            "T= 1150.4283586448416\n"
          ],
          "name": "stdout"
        }
      ]
    }
  ]
}