{
  "nbformat": 4,
  "nbformat_minor": 0,
  "metadata": {
    "colab": {
      "provenance": [],
      "authorship_tag": "ABX9TyOfMELbsxPJX5qsaOHnKCwb",
      "include_colab_link": true
    },
    "kernelspec": {
      "name": "python3",
      "display_name": "Python 3"
    },
    "language_info": {
      "name": "python"
    }
  },
  "cells": [
    {
      "cell_type": "markdown",
      "metadata": {
        "id": "view-in-github",
        "colab_type": "text"
      },
      "source": [
        "<a href=\"https://colab.research.google.com/github/ucfilho/Biochemical_Engineering/blob/master/Etanol_milho_maio_25_2023.ipynb\" target=\"_parent\"><img src=\"https://colab.research.google.com/assets/colab-badge.svg\" alt=\"Open In Colab\"/></a>"
      ]
    },
    {
      "cell_type": "markdown",
      "source": [
        "# Exercicios etanol de milho"
      ],
      "metadata": {
        "id": "c7l8CxuaaqG3"
      }
    },
    {
      "cell_type": "markdown",
      "source": [],
      "metadata": {
        "id": "hX_hw-voha6E"
      }
    },
    {
      "cell_type": "markdown",
      "source": [
        "1) Considere a producao de 400 m3 por dia de etanol de milho. Calcule o tamanho das dornas e area plantada. Considere 8 dornas."
      ],
      "metadata": {
        "id": "2yL7I4NIg5Cl"
      }
    },
    {
      "cell_type": "code",
      "execution_count": 21,
      "metadata": {
        "colab": {
          "base_uri": "https://localhost:8080/"
        },
        "id": "K3hye6r9gwrz",
        "outputId": "6cdd90d9-c779-4cfa-99b3-cc9ef058f09b"
      },
      "outputs": [
        {
          "output_type": "stream",
          "name": "stdout",
          "text": [
            "dias/lote: 2.9166666666666665\n",
            "Vol m3/dorna: 812.5\n"
          ]
        }
      ],
      "source": [
        "Prod = 400 # m3/dia\n",
        "Et = 140 # g/L\n",
        "ro = 780 # g/L\n",
        "num = 8 # dornas\n",
        "dia_lote = 70/24; print('dias/lote:',dia_lote)\n",
        "Vol = Prod *ro* dia_lote/(num* Et); print('Vol m3/dorna:',Vol)"
      ]
    },
    {
      "cell_type": "code",
      "source": [
        "Prod = 400 # m3/dia\n",
        "dias_ano =330 # ferias coletiva com parada para manutencao\n",
        "litro_ton = 420\n",
        "ton_ha = 8.5 # na safra\n",
        "Area = Prod*dias_ano*1000/(litro_ton*ton_ha);print('Area ha/ano:',Area)"
      ],
      "metadata": {
        "colab": {
          "base_uri": "https://localhost:8080/"
        },
        "id": "6rEti2wlmo1b",
        "outputId": "2bcd5317-23e8-4ae8-82b6-f007657297e4"
      },
      "execution_count": 22,
      "outputs": [
        {
          "output_type": "stream",
          "name": "stdout",
          "text": [
            "Area ha/ano: 36974.78991596639\n"
          ]
        }
      ]
    },
    {
      "cell_type": "markdown",
      "source": [
        "2) Considere a producao de 400 m3 por dia de etanol de milho. Calcule a quantidade de racao gerada (DDGS por dia) e  a quantidade de biodisel que pode ser gerado do oleo de milho. Considere que um litro de oleo gera entre 800 e 850 mL de biodiesel e a densidade do oleo de milho é 918 g/L. "
      ],
      "metadata": {
        "id": "pyjjXJCtnpGC"
      }
    },
    {
      "cell_type": "code",
      "source": [
        "Prod = 400 # m3/dia\n",
        "litro_ton = 420\n",
        "DDGS = 303 # kg/ton milho\n",
        "Oleo_ton = 18 # kg/ton\n",
        "ro = 0.918 # oleo ton/m3\n",
        "biod_oleo = 0.85 # litro biodiesel/litro oleo\n",
        "DDGS_mes = Prod* DDGS/(litro_ton)*30; print('DDGS ton/mes:',DDGS_mes)\n",
        "Oleo_mes = Prod * Oleo_ton /(litro_ton*ro) * 30 ; print('Oleo m3/mes:',Oleo_mes)\n",
        "diesel_mes = Oleo_mes*biod_oleo ; print('Diesel m3/mes',diesel_mes)"
      ],
      "metadata": {
        "colab": {
          "base_uri": "https://localhost:8080/"
        },
        "id": "uZkLqs_bnl5E",
        "outputId": "e4825900-9330-4052-c433-0deade244db3"
      },
      "execution_count": 23,
      "outputs": [
        {
          "output_type": "stream",
          "name": "stdout",
          "text": [
            "DDGS ton/mes: 8657.142857142857\n",
            "Oleo m3/mes: 560.2240896358544\n",
            "Diesel m3/mes 476.1904761904762\n"
          ]
        }
      ]
    },
    {
      "cell_type": "markdown",
      "source": [
        "3) Considerando a producao de 400 m3/dia de etanol de milho, calcule a quantidade de milho que deve ser processada para garantir esta producao."
      ],
      "metadata": {
        "id": "SI48cSODZ9t3"
      }
    },
    {
      "cell_type": "code",
      "source": [
        "Prod = 400 # m3/dia\n",
        "litro_ton = 420\n",
        "m3_ton = litro_ton/1000\n",
        "Milho_dia = Prod/m3_ton;print('milho ton/dia:',Milho_dia)"
      ],
      "metadata": {
        "colab": {
          "base_uri": "https://localhost:8080/"
        },
        "id": "KCy15jyvZ8c4",
        "outputId": "4a9ebcbe-aa56-4296-d3b5-47f0442c9b94"
      },
      "execution_count": 24,
      "outputs": [
        {
          "output_type": "stream",
          "name": "stdout",
          "text": [
            "milho ton/dia: 952.3809523809524\n"
          ]
        }
      ]
    },
    {
      "cell_type": "markdown",
      "source": [
        "4) Explique o que é DDGS no contexto do milho."
      ],
      "metadata": {
        "id": "OZK-FKp5patt"
      }
    },
    {
      "cell_type": "code",
      "source": [
        "# DDGS são os grãos destilados de milho com solúveis seco. Trata-se de um coproduto da produção de etanol de milho\n",
        "#  utilizado como insumo na fabricação de rações animais onde atua como fonte de proteína e energia para formulação\n",
        "#  da ração. É produzido na quantidade aproximada de 303 kg por tonelada de milho processada sendo que o teor \n",
        "#  proteína varia com a tecnologia de produção do mesmo"
      ],
      "metadata": {
        "id": "KmgB1kBrpkwT"
      },
      "execution_count": null,
      "outputs": []
    }
  ]
}