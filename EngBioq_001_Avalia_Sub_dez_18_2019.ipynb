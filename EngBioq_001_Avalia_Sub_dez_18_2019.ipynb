{
  "nbformat": 4,
  "nbformat_minor": 0,
  "metadata": {
    "colab": {
      "name": "EngBioq_001_Avalia_Sub_dez_18_2019.ipynb",
      "provenance": [],
      "include_colab_link": true
    },
    "kernelspec": {
      "name": "python3",
      "display_name": "Python 3"
    }
  },
  "cells": [
    {
      "cell_type": "markdown",
      "metadata": {
        "id": "view-in-github",
        "colab_type": "text"
      },
      "source": [
        "<a href=\"https://colab.research.google.com/github/ucfilho/Biochemical_Engineering/blob/master/EngBioq_001_Avalia_Sub_dez_18_2019.ipynb\" target=\"_parent\"><img src=\"https://colab.research.google.com/assets/colab-badge.svg\" alt=\"Open In Colab\"/></a>"
      ]
    },
    {
      "cell_type": "code",
      "metadata": {
        "id": "O82Pr0r9fGuH",
        "colab_type": "code",
        "colab": {}
      },
      "source": [
        "import numpy as np\n",
        "import math\n",
        "pi=np.pi\n",
        "ln=np.log"
      ],
      "execution_count": 0,
      "outputs": []
    },
    {
      "cell_type": "markdown",
      "metadata": {
        "id": "-NLjpjys4mKX",
        "colab_type": "text"
      },
      "source": [
        "Questão 1 Determinado micro-organismo considerado como referência em um tratamento térmico de meio de cultura tem\n",
        "k igual 10 min-1 a 120 °C. Considerando a viscosidade do meio de 0,0028 kg/m.s, densidade e 1060 kg/m3 e o meio tem inicialmente tem 1000 cél/m3,\n",
        "pede-se:\n",
        "a) Discuta qual o menor número de tubos você recomenda garantir a sobrevida 20D para 1800 m 3 /dia\n",
        "de meio tratado\n",
        "c) com base na probabilidade de falha discuta se o meio tratado encontra-se estéril ou se nas fermentações existe apenas redução\n",
        "de microrganismos nos itens anteriores (situação que ocorre por exemplo na produção de etanol)."
      ]
    },
    {
      "cell_type": "code",
      "metadata": {
        "id": "nhl8z9Ad4rfj",
        "colab_type": "code",
        "colab": {
          "base_uri": "https://localhost:8080/",
          "height": 126
        },
        "outputId": "a57cee4a-35c2-492a-d60c-c020ddca9739"
      },
      "source": [
        "k=10  # min-1\n",
        "No=1000 # cel/m3\n",
        "U=0.6 # m/s\n",
        "d=0.3 # m\n",
        "N_N0=1e-20\n",
        "Vol=1800 # m3\n",
        "Vazao_Proc=1800/(24*60*60) # m3/s\n",
        "Area=pi*d**2/4\n",
        "Vazao=pi*d**2/4\n",
        "Num= Vazao_Proc/Vazao;print(\"Num equipamentos %.2f\"%Num);print(\"Num equipamentos %d\"%math.ceil(Num))\n",
        "theta=-ln(N_N0)/k;print(\"theta= %.2f min\"%theta)\n",
        "Total=No*Vol*1e6 # total cel conversao vol p ml\n",
        "prob=100*Total*N_N0; print(\"prob= %.2e\"%prob)\n",
        "print('===================================================')\n",
        "print('o meio pode ser considerado estéril pois só é previsto duas falhas-aprox- em cada um milhao de dias ')\n"
      ],
      "execution_count": 23,
      "outputs": [
        {
          "output_type": "stream",
          "text": [
            "Num equipamentos 0.29\n",
            "Num equipamentos 1\n",
            "theta= 4.61 min\n",
            "prob= 1.80e-06\n",
            "===================================================\n",
            "o meio pode ser considerado estéril pois só é previsto duas falhas-aprox- em cada um milhao de dias \n"
          ],
          "name": "stdout"
        }
      ]
    },
    {
      "cell_type": "markdown",
      "metadata": {
        "id": "2E67k4Pee5vh",
        "colab_type": "text"
      },
      "source": [
        "Questão 2 Referente a um projeto que discute a necessidade de agitação para um conjunto de doze fermentadores bateladas de\n",
        "300 m^3 de uma empresa calcule as dimensões (eixo,defletores, diâmetros, potência e torque do motor) que atenda ao projeto.\n",
        "Nos cálculos utilize fator de serviço do motor de 1,4, viscosidade 0,001 Pa.s e densidade do meio de 1000 kg/m3. Discuta os\n",
        "seguintes aspectos nos cálculos projeto:\n",
        "a) Se é possível atender um tempo de mistura inferior a 5 min e ao mesmo tempo o gasto energético inferior a 1 HP/m3\n",
        "b) Qual o menor número de fermentadores de volume maior que os de 300 m3 que pode ser utilizado para substituir os doze\n",
        "fermentadores citados mantendo a funcionalidade que se precisa"
      ]
    },
    {
      "cell_type": "code",
      "metadata": {
        "id": "Hwe4kGYTeqrM",
        "colab_type": "code",
        "colab": {
          "base_uri": "https://localhost:8080/",
          "height": 563
        },
        "outputId": "8c197328-6678-419d-fe3c-b30967726daa"
      },
      "source": [
        "Vol=300; # m3\n",
        "ro=1000 # kg/m3\n",
        "Np=1.27 # 4PBT45\n",
        "Nq=0.80 # 4PBT45\n",
        "fs=1.4 # fator de servico\n",
        "# Letra a:\n",
        "D=(4*Vol/pi)**(1/3);print(\"D= %.2f m\"%D)\n",
        "Di=D/3;print(\"Di= %.2f m\"%Di)\n",
        "for N in (0.4,0.6,0.8,1.0,1.2,1.5):\n",
        "  Pot=Np*ro*Di**5*N**3\n",
        "  Pot_Vol=Pot/Vol/745.7 # Pot/Vol em HP/m3\n",
        "  Q=Nq*N*Di**3\n",
        "  tm=3*Vol/Q/60 # Tempo de mistura em minutos\n",
        "  RPM=N*60\n",
        "  print(\"N=%.2f rps Pot=%.2f W tm= %.2f min Pot/Vol=%.2f W\"%(N,Pot,tm,Pot_Vol))\n",
        "# Letra b:\n",
        "print('================================')\n",
        "for N in (0.2,0.4,0.6):\n",
        "  for Vol in (300, 800,36000):\n",
        "    D=(4*Vol/pi)**(1/3)\n",
        "    Di=D/3\n",
        "    Pot=Np*ro*Di**5*N**3\n",
        "    Pot_Vol=Pot/Vol/745.7 # Pot/Vol em HP/m3\n",
        "    Q=Nq*N*Di**3\n",
        "    tm=3*Vol/Q/60 # Tempo de mistura em minutos\n",
        "    RPM=N*60\n",
        "    print(\"N=%.2f rps Vol= %0.2f m3 Pot=%.2f W tm= %.2f min Pot/Vol=%.2f HP/m3 D= %.2f m Di= %.2fm\"%(N,Vol,Pot,tm,Pot_Vol,D,Di))\n",
        "print('========item a=================')\n",
        "Vol=300;print(\"Vol= %.2f m3\"%Vol) # m3\n",
        "N=1.0 # rps\n",
        "D=(4*Vol/pi)**(1/3);print(\"D= %.2f m\"%D)\n",
        "Di=D/3;print(\"Di= %.2f m\"%Di)\n",
        "Pot=Np*ro*Di**5*N**3\n",
        "Pot_Vol=Pot/Vol/745.7 # Pot/Vol em HP/m3\n",
        "Torque=Pot/(2*pi*N)\n",
        "I=1750/(N*60)\n",
        "TorqMot=Torque/(I*fs)\n",
        "print(\"N=%.2f rps Pot=%.2f kW tm= %.2f min Pot/Vol=%.2f HP/m3 TorqMot= %.2f N.m\"%(N,Pot/1000,tm,Pot_Vol,TorqMot))\n",
        "print('=======item b================')\n",
        "Vol=36000;print(\"Vol= %.2f m3\"%Vol) # m3\n",
        "N=0.40 # rps\n",
        "D=(4*Vol/pi)**(1/3);print(\"D= %.2f m\"%D)\n",
        "Di=D/3;print(\"Di= %.2f m\"%Di)\n",
        "Pot=Np*ro*Di**5*N**3\n",
        "Pot_Vol=Pot/Vol/745.7 # Pot/Vol em HP/m3\n",
        "Torque=Pot/(2*pi*N)\n",
        "I=1750/(N*60)\n",
        "TorqMot=Torque/(I*fs)\n",
        "print(\"N=%.2f rps Pot=%.2f kW tm= %.2f min Pot/Vol=%.2f HP/m3 TorqMot= %.2f N.m\"%(N,Pot/1000,tm,Pot_Vol,TorqMot))\n",
        "print('======= comentarios ================')\n",
        "print('No item b note q um unico reator de 36000 m3 atende (este valor nao e realistico mas atente)')"
      ],
      "execution_count": 3,
      "outputs": [
        {
          "output_type": "stream",
          "text": [
            "D= 7.26 m\n",
            "Di= 2.42 m\n",
            "N=0.40 rps Pot=6726.10 W tm= 3.31 min Pot/Vol=0.03 W\n",
            "N=0.60 rps Pot=22700.57 W tm= 2.21 min Pot/Vol=0.10 W\n",
            "N=0.80 rps Pot=53808.77 W tm= 1.66 min Pot/Vol=0.24 W\n",
            "N=1.00 rps Pot=105095.25 W tm= 1.33 min Pot/Vol=0.47 W\n",
            "N=1.20 rps Pot=181604.58 W tm= 1.10 min Pot/Vol=0.81 W\n",
            "N=1.50 rps Pot=354696.45 W tm= 0.88 min Pot/Vol=1.59 W\n",
            "================================\n",
            "N=0.20 rps Vol= 300.00 m3 Pot=840.76 W tm= 6.63 min Pot/Vol=0.00 HP/m3 D= 7.26 m Di= 2.42m\n",
            "N=0.20 rps Vol= 800.00 m3 Pot=4311.43 W tm= 6.63 min Pot/Vol=0.01 HP/m3 D= 10.06 m Di= 3.35m\n",
            "N=0.20 rps Vol= 36000.00 m3 Pot=2454568.37 W tm= 6.63 min Pot/Vol=0.09 HP/m3 D= 35.79 m Di= 11.93m\n",
            "N=0.40 rps Vol= 300.00 m3 Pot=6726.10 W tm= 3.31 min Pot/Vol=0.03 HP/m3 D= 7.26 m Di= 2.42m\n",
            "N=0.40 rps Vol= 800.00 m3 Pot=34491.41 W tm= 3.31 min Pot/Vol=0.06 HP/m3 D= 10.06 m Di= 3.35m\n",
            "N=0.40 rps Vol= 36000.00 m3 Pot=19636546.95 W tm= 3.31 min Pot/Vol=0.73 HP/m3 D= 35.79 m Di= 11.93m\n",
            "N=0.60 rps Vol= 300.00 m3 Pot=22700.57 W tm= 2.21 min Pot/Vol=0.10 HP/m3 D= 7.26 m Di= 2.42m\n",
            "N=0.60 rps Vol= 800.00 m3 Pot=116408.50 W tm= 2.21 min Pot/Vol=0.20 HP/m3 D= 10.06 m Di= 3.35m\n",
            "N=0.60 rps Vol= 36000.00 m3 Pot=66273345.96 W tm= 2.21 min Pot/Vol=2.47 HP/m3 D= 35.79 m Di= 11.93m\n",
            "========item a=================\n",
            "Vol= 300.00 m3\n",
            "D= 7.26 m\n",
            "Di= 2.42 m\n",
            "N=1.00 rps Pot=105.10 kW tm= 2.21 min Pot/Vol=0.47 HP/m3 TorqMot= 409.63 N.m\n",
            "=======item b================\n",
            "Vol= 36000.00 m3\n",
            "D= 35.79 m\n",
            "Di= 11.93 m\n",
            "N=0.40 rps Pot=19636.55 kW tm= 2.21 min Pot/Vol=0.73 HP/m3 TorqMot= 76536.82 N.m\n",
            "======= comentarios ================\n",
            "No item b note q um unico reator de 36000 m3 atende (este valor nao e realistico mas atente)\n"
          ],
          "name": "stdout"
        }
      ]
    },
    {
      "cell_type": "markdown",
      "metadata": {
        "id": "OG2hxZM6JwwC",
        "colab_type": "text"
      },
      "source": [
        "Questão 3 Os referentes a agitação e mistura. pede-se: a) Os agitadores hidrofoil, PBT, RT6 são de uso comum em fermentações compare estes agitadores em siuações de uso, gasto de energia e indicações nas quais cada um destes deve ser utilizado\n",
        "em comparação oom os outros. b) Sabendo que estes agitadores também podem ser utilizados para bombeamento discuta se você\n",
        "escolheria do RT6 ou PBT para esta finalidade."
      ]
    },
    {
      "cell_type": "markdown",
      "metadata": {
        "id": "fRaDg746J_Xv",
        "colab_type": "text"
      },
      "source": [
        "### a) hidrofoil e PBT (por exemplo 4PBT45) tem uso quando não precisa aeração sendo que o PBT é mais robusto (tem vida útil maior) porém consumo energético superior ao hidrofoil. O RT6 é usado em situações com aeração e tem o consumo energético maior que os anteriores (o número de potência indica este consumo).Assim o hidrofoil e PBT são usados em fermentadores e outros reatores quando não precisa de troca gasosa e o RT6 em reatores e fermentadores que se precisa de troca gasosa\n",
        "### b) O RT6 não serve para esta finalidade pois tem movimentação radial do fluido assim escolheria o PBT que tem movimentação axial do fluido"
      ]
    },
    {
      "cell_type": "markdown",
      "metadata": {
        "id": "NdsT2vVZLm3S",
        "colab_type": "text"
      },
      "source": [
        "Questão 4 Considerando a situação de interesse em iniciar um novo negócio pela produção de cachaça artesanal premium a\n",
        "partir de uma área que planeja vender 250.000 garrafas de 670 mL de cachaça calcule: a) qual o volume de alambique; b)quantas\n",
        "dornas e qual o volume e dimensões (altura de diâmetro) das dornas de fermentação idênticas que deverá ser adquirida pela\n",
        "empresa; c) qual a área plantada. Considere que: a) a empresa terá dornas de aço inox abertas dentro de um galpão coberto\n",
        "sendo que o projeto contempla 20 fermentações por mês em cada dorna e que pela altura do galpão e por limitações estruturais\n",
        "de apoio das dornas em uma plataforma que as dornas estão apoiadas tem-se que as dornas não poderão ter mais que 15 hL\n",
        "cada uma tendo altura o dobro do diâmetro; b) a empresa terá um único alambique e que o mesmo deve ser usado ao fim de cada\n",
        "lote sendo que o mesmo deve ser cheio até 75% de seu volume total (há a necessidade de não ocupar todo alambique por conta\n",
        "da expansão do líquido e formação de vapores)"
      ]
    },
    {
      "cell_type": "code",
      "metadata": {
        "id": "bRtgIcNyJ9E3",
        "colab_type": "code",
        "colab": {
          "base_uri": "https://localhost:8080/",
          "height": 163
        },
        "outputId": "5750c3c9-b2dd-482c-c174-f38bfbca748c"
      },
      "source": [
        "Garrafas=250000\n",
        "Vol_Garrafa=0.67 # litros\n",
        "Vol=Garrafas*Vol_Garrafa;print('Vol cachaca %.2f litros por ano'%Vol)\n",
        "Lotes=20 # lotes/mes\n",
        "Safra=220 # dias\n",
        "Mosto=6.83 # hL por hL cachaca\n",
        "Vol_Dorna=15*100 # litros de mosto\n",
        "Meses=Safra/30; print(\"Meses ativo %.2f \"% Meses)\n",
        "Meses=math.floor(Safra/30); print(\"Meses ativo %d \"% Meses)\n",
        "Lotes=Lotes*Meses; print(\"Lotes totais %d\"%Lotes)\n",
        "Vol_Total_Dorna=Mosto*Vol/Lotes;print('Volume total de dornas %.2f litros'%Vol_Total_Dorna)\n",
        "Num=Vol_Total_Dorna/Vol_Dorna;print('Número de dornas %.2f '%Num)\n",
        "Num=math.ceil(Vol_Total_Dorna/Vol_Dorna);print('Número de dornas %d '%Num)\n",
        "Vol_Alambique=Vol_Total_Dorna/0.75;print('Vol alambique %.2f litros'%Vol_Alambique)\n",
        "\n"
      ],
      "execution_count": 38,
      "outputs": [
        {
          "output_type": "stream",
          "text": [
            "Vol cachaca 167500.00 litros por ano\n",
            "Meses ativo 7.33 \n",
            "Meses ativo 7 \n",
            "Lotes totais 140\n",
            "Volume total de dornas 8171.61 litros\n",
            "Número de dornas 5.45 \n",
            "Número de dornas 6 \n",
            "Vol alambique 10895.48 litros\n"
          ],
          "name": "stdout"
        }
      ]
    },
    {
      "cell_type": "markdown",
      "metadata": {
        "id": "V-p64acLPkvz",
        "colab_type": "text"
      },
      "source": [
        "Questão 5\n",
        "Considerando uma empresa que produz etanol em processo batelada em seis dornas de 600 m3 . calcule qual a ampliação da área\n",
        "plantada que a empresa deve arrendar caso construa duas novas dornas maiores que as anteriores. Considere que s novas dornas\n",
        "são de 800 m3 . Referente a esta indústria discuta como que tipo de modificações devem ser feitas para estas dornas passarem a\n",
        "funcionar de forma contínua no lugar de batelada alimentada."
      ]
    },
    {
      "cell_type": "code",
      "metadata": {
        "id": "pf1afJqRPj_H",
        "colab_type": "code",
        "colab": {
          "base_uri": "https://localhost:8080/",
          "height": 108
        },
        "outputId": "b7c753f7-8396-477b-bac0-a6327a2e37a4"
      },
      "source": [
        "Vol_Dorna=600 # m3\n",
        "Lotes=2 # lotes/dia\n",
        "Safra=220 # dias\n",
        "Conc_et=85 # g/l\n",
        "Ro= 780 # g/l\n",
        "Num=6 # numero de dornas\n",
        "Ton_Area=80 # ton/ha\n",
        "Rend= 82.3 # litros/ton\n",
        "Vol_Dorna=Vol_Dorna*1000 # litros\n",
        "Area_01= Vol_Dorna*Num*Lotes*Conc_et*Safra/(Ro*Rend*Ton_Area);print('Area %.2f ha/safra'%Area_01)\n",
        "# dados ampliacao\n",
        "Vol_Dorna=800 # m3\n",
        "Num=2 # numero de dornas\n",
        "Vol_Dorna=Vol_Dorna*1000 # litros\n",
        "Area_02= Vol_Dorna*Num*Lotes*Conc_et*Safra/(Ro*Rend*Ton_Area);print('Area complementar %.2f ha/safra'%Area_02)\n",
        "print('======================================================')\n",
        "print('Para passar para continuo serao feitas as modificoes de deixar uma unica centrifuga para todo conjunto')\n",
        "print('também será necessário ligar as dornas em série e adaptar as bombas para nova vazão de trabalho')"
      ],
      "execution_count": 43,
      "outputs": [
        {
          "output_type": "stream",
          "text": [
            "Area 26217.40 ha/safra\n",
            "Area complementar 11652.18 ha/safra\n",
            "======================================================\n",
            "Para passar para continuo serao feitas as modificoes de deixar uma unica centrifuga para todo conjunto\n",
            "também será necessário ligar as dornas em série e adaptar as bombas para nova vazão de trabalho\n"
          ],
          "name": "stdout"
        }
      ]
    },
    {
      "cell_type": "markdown",
      "metadata": {
        "id": "5NFC768TTc1_",
        "colab_type": "text"
      },
      "source": [
        "Questão 6\n",
        "Considerando a produção de cerveja em uma fábria de 100 dornas de 4400 hL, estime a quantidade de toneladas de malte que a\n",
        "fábrica deve receber mensalmente, a quantidade de cerveja gerada por ano e o consumo de água diário."
      ]
    },
    {
      "cell_type": "code",
      "metadata": {
        "id": "ipA9XjLaUMBk",
        "colab_type": "code",
        "colab": {
          "base_uri": "https://localhost:8080/",
          "height": 72
        },
        "outputId": "9e382212-a09b-412b-e0fb-f68edce860bc"
      },
      "source": [
        "Num=100 # dornas\n",
        "Lote=7+1 # dias processo mas tempo adicional\n",
        "Vol_Dorna=4400 # hL\n",
        "Vol_Dorna=Vol_Dorna*100 # litros\n",
        "Cerveja=Num*Vol_Dorna/Lote # litros por dia de cerveja\n",
        "Malte=14 # kg/hL\n",
        "Agua= 3.3 # litro/litro\n",
        "Malte=Malte/100 # kg/L\n",
        "Malte=Malte*Cerveja/1000 # ton/dia\n",
        "Agua=Cerveja*Agua/1000 # m3/dia\n",
        "print('Cerveja %.2f litros/dia'%Cerveja)\n",
        "print('Mate %.2f ton/dia'%Malte)\n",
        "print('Agua %.2f m3/dia'%Agua)"
      ],
      "execution_count": 48,
      "outputs": [
        {
          "output_type": "stream",
          "text": [
            "Cerveja 5500000.00 litros/dia\n",
            "Mate 770.00 ton/dia\n",
            "Agua 18150.00 m3/dia\n"
          ],
          "name": "stdout"
        }
      ]
    }
  ]
}