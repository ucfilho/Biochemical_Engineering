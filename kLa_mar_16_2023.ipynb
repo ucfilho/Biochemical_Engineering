{
  "nbformat": 4,
  "nbformat_minor": 0,
  "metadata": {
    "colab": {
      "provenance": [],
      "authorship_tag": "ABX9TyPa+28sqiF3jz866xcCZE/d",
      "include_colab_link": true
    },
    "kernelspec": {
      "name": "python3",
      "display_name": "Python 3"
    },
    "language_info": {
      "name": "python"
    }
  },
  "cells": [
    {
      "cell_type": "markdown",
      "metadata": {
        "id": "view-in-github",
        "colab_type": "text"
      },
      "source": [
        "<a href=\"https://colab.research.google.com/github/ucfilho/Biochemical_Engineering/blob/master/kLa_mar_16_2023.ipynb\" target=\"_parent\"><img src=\"https://colab.research.google.com/assets/colab-badge.svg\" alt=\"Open In Colab\"/></a>"
      ]
    },
    {
      "cell_type": "code",
      "source": [
        "import numpy as np\n",
        "from sklearn import linear_model"
      ],
      "metadata": {
        "id": "cVmj2xLyi7tE"
      },
      "execution_count": 12,
      "outputs": []
    },
    {
      "cell_type": "code",
      "source": [
        "# Em um reator de cultivo de células animais em um ensaio para determinação de kLa\n",
        "# foi encontrados os resultados de 34.5, 50.8 , 77.8 e 90.5% de saturação de oxigênio\n",
        "# para os tempos de 5, 10, 20 e 30 segundos. Calcule kLa."
      ],
      "metadata": {
        "id": "mxBUt8pfoq8z"
      },
      "execution_count": null,
      "outputs": []
    },
    {
      "cell_type": "code",
      "execution_count": 13,
      "metadata": {
        "id": "FjMkD2E3iV1k"
      },
      "outputs": [],
      "source": [
        "t = [5,10,20,30]\n",
        "C_CL =[34.9,50.8,77.8,90.5]\n",
        "x = np.array(t).reshape(-1,1)\n",
        "y = np.log(1-np.array(C_CL)/100).reshape(-1,1)"
      ]
    },
    {
      "cell_type": "code",
      "source": [
        "model = linear_model.LinearRegression(fit_intercept=True)\n",
        "model.fit(x,y)\n",
        "print(model.coef_)"
      ],
      "metadata": {
        "colab": {
          "base_uri": "https://localhost:8080/"
        },
        "id": "dEzffr88jPNa",
        "outputId": "df102e1b-126f-49f7-87d4-9ae41d24d864"
      },
      "execution_count": 14,
      "outputs": [
        {
          "output_type": "stream",
          "name": "stdout",
          "text": [
            "[[-0.07796035]]\n"
          ]
        }
      ]
    },
    {
      "cell_type": "code",
      "source": [
        "y"
      ],
      "metadata": {
        "colab": {
          "base_uri": "https://localhost:8080/"
        },
        "id": "chmJWPIVlZx6",
        "outputId": "a07ff8b5-a7f5-4a3a-a175-ad60dcd5f094"
      },
      "execution_count": 16,
      "outputs": [
        {
          "output_type": "execute_result",
          "data": {
            "text/plain": [
              "array([[-0.42924564],\n",
              "       [-0.70927656],\n",
              "       [-1.5050779 ],\n",
              "       [-2.35387839]])"
            ]
          },
          "metadata": {},
          "execution_count": 16
        }
      ]
    }
  ]
}