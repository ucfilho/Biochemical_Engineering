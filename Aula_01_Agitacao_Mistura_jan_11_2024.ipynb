{
  "nbformat": 4,
  "nbformat_minor": 0,
  "metadata": {
    "colab": {
      "provenance": [],
      "include_colab_link": true
    },
    "kernelspec": {
      "name": "python3",
      "display_name": "Python 3"
    },
    "language_info": {
      "name": "python"
    }
  },
  "cells": [
    {
      "cell_type": "markdown",
      "metadata": {
        "id": "view-in-github",
        "colab_type": "text"
      },
      "source": [
        "<a href=\"https://colab.research.google.com/github/ucfilho/Biochemical_Engineering/blob/master/Aula_01_Agitacao_Mistura_jan_11_2024.ipynb\" target=\"_parent\"><img src=\"https://colab.research.google.com/assets/colab-badge.svg\" alt=\"Open In Colab\"/></a>"
      ]
    },
    {
      "cell_type": "code",
      "execution_count": null,
      "metadata": {
        "colab": {
          "base_uri": "https://localhost:8080/"
        },
        "id": "nBUBVQ1R3U-b",
        "outputId": "253414c8-941a-486b-fb14-80d1be788f8d"
      },
      "outputs": [
        {
          "output_type": "stream",
          "name": "stdout",
          "text": [
            "d= 9.141565568532423\n",
            "di= 3.047188522844141\n",
            "w = 0.9141565568532423\n"
          ]
        }
      ],
      "source": [
        "Vol = 600 # volume em m3\n",
        "pi = 3.14159\n",
        "d = (4*Vol/pi)**(1/3)\n",
        "di = d/3\n",
        "w = d/10\n",
        "print('d=',d)\n",
        "print('di=',di)\n",
        "print('w =', w)"
      ]
    },
    {
      "cell_type": "code",
      "source": [
        "# lista de volumes\n",
        "Vol = [100,200,300,500,600]\n",
        "Volumes = []\n",
        "diametros = []\n",
        "for Vi in Vol:\n",
        "  di = (4*Vi/pi)**(1/3)\n",
        "  Volumes.append(Vi)\n",
        "  diametros.append(di)"
      ],
      "metadata": {
        "id": "_GwJWq_843ms"
      },
      "execution_count": null,
      "outputs": []
    },
    {
      "cell_type": "code",
      "source": [
        "print(diametros)"
      ],
      "metadata": {
        "colab": {
          "base_uri": "https://localhost:8080/"
        },
        "id": "Bpaw1xrI6gSG",
        "outputId": "c5d43d36-d271-4bfe-fb67-9cd69c2376a6"
      },
      "execution_count": null,
      "outputs": [
        {
          "output_type": "stream",
          "name": "stdout",
          "text": [
            "[5.030797408049018, 6.338407552157526, 7.255665400062321, 8.602542560367294, 9.141565568532423]\n"
          ]
        }
      ]
    }
  ]
}